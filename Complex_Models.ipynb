{
 "cells": [
  {
   "cell_type": "markdown",
   "metadata": {},
   "source": [
    "# Complex Models\n",
    "\n",
    "Now we want to find our final model by combining those parameters which gave us good results.\n",
    "\n",
    "## Table of Contents\n",
    "1. [Gather Data](#data) <br>\n",
    "    1. [Image Size 128x128](#128) <br>\n",
    "    2. [Image Size 256x256](#256) <br>\n",
    "    3. [Zoomed Images](#zoom) <br>\n",
    "2. [Models](#models) <br>\n",
    "    1. [Model 1](#mod1) <br>\n",
    "    2. [Model 2](#mod2) <br>\n",
    "    3. [Model 3](#mod3) <br>\n",
    "    4. [Model 4](#mod4) <br>\n",
    "    5. [Model 5](#mod5) <br>\n",
    "    6. [Model 6](#mod6) <br>\n",
    "    7. [Model 7](#mod7) <br>\n",
    "    8. [Model 8](#mod8) <br>\n",
    "    9. [Model 9](#mod9) <br>\n",
    "    10. [Model 10](#mod10) <br>"
   ]
  },
  {
   "cell_type": "code",
   "execution_count": 39,
   "metadata": {},
   "outputs": [],
   "source": [
    "import os\n",
    "import numpy as np\n",
    "import matplotlib.pyplot as plt\n",
    "%matplotlib inline\n",
    "from keras.preprocessing.image import ImageDataGenerator\n",
    "from keras import models, layers\n",
    "import metric_functions as mf\n",
    "from keras.layers import Dropout\n",
    "from keras.callbacks import EarlyStopping\n",
    "import tensorflow as tf"
   ]
  },
  {
   "cell_type": "markdown",
   "metadata": {},
   "source": [
    "# Gather Data <a id='data'></a>"
   ]
  },
  {
   "cell_type": "code",
   "execution_count": 4,
   "metadata": {},
   "outputs": [],
   "source": [
    "train_folder = os.path.join('train')\n",
    "train_pneum = os.path.join(train_folder, 'PNEUMONIA')\n",
    "train_norm = os.path.join(train_folder, 'NORMAL')\n",
    "\n",
    "test_folder = os.path.join('test')\n",
    "test_pneum = os.path.join(test_folder, 'PNEUMONIA')\n",
    "test_norm = os.path.join(test_folder, 'NORMAL')\n",
    "\n",
    "val_folder = os.path.join('val')\n",
    "val_pneum = os.path.join(val_folder, 'PNEUMONIA')\n",
    "val_norm = os.path.join(val_folder, 'NORMAL')"
   ]
  },
  {
   "cell_type": "code",
   "execution_count": 5,
   "metadata": {
    "scrolled": false
   },
   "outputs": [
    {
     "name": "stdout",
     "output_type": "stream",
     "text": [
      "There are 3108 pneumonia images in the train set\n",
      "There are 1080 normal images in the train set\n",
      "There are 390 pneumonia images in the test set\n",
      "There are 234 normal images in the test set\n",
      "There are 777 pneumonia images in the val set\n",
      "There are 271 normal images in the val set\n"
     ]
    }
   ],
   "source": [
    "print('There are', len(os.listdir(train_pneum)), 'pneumonia images in the train set')\n",
    "print('There are', len(os.listdir(train_norm)), 'normal images in the train set')\n",
    "print('There are', len(os.listdir(test_pneum)), 'pneumonia images in the test set')\n",
    "print('There are', len(os.listdir(test_norm)), 'normal images in the test set')\n",
    "print('There are', len(os.listdir(val_pneum)), 'pneumonia images in the val set')\n",
    "print('There are', len(os.listdir(val_norm)), 'normal images in the val set')"
   ]
  },
  {
   "cell_type": "markdown",
   "metadata": {},
   "source": [
    "## Image Size 128x128 <a id='128'></a>"
   ]
  },
  {
   "cell_type": "code",
   "execution_count": 6,
   "metadata": {},
   "outputs": [
    {
     "name": "stdout",
     "output_type": "stream",
     "text": [
      "Found 4186 images belonging to 2 classes.\n",
      "Found 624 images belonging to 2 classes.\n",
      "Found 1046 images belonging to 2 classes.\n"
     ]
    }
   ],
   "source": [
    "train_generator_128 = ImageDataGenerator(rescale=1./255,\n",
    "                                          width_shift_range=0.1,\n",
    "                                          height_shift_range=0.1,\n",
    "                                          shear_range=15,\n",
    "                                          zoom_range=[.9, .9]).flow_from_directory(train_folder, target_size=(128, 128), color_mode = 'grayscale', batch_size = 4188)\n",
    "test_generator_128 = ImageDataGenerator(rescale=1./255).flow_from_directory(test_folder, target_size=(128, 128), color_mode = 'grayscale', batch_size = 624)\n",
    "val_generator_128 = ImageDataGenerator(rescale=1./255).flow_from_directory(val_folder, target_size=(128, 128), color_mode = 'grayscale', batch_size = 1048)"
   ]
  },
  {
   "cell_type": "code",
   "execution_count": 7,
   "metadata": {},
   "outputs": [
    {
     "name": "stdout",
     "output_type": "stream",
     "text": [
      "train_images shape: (4186, 128, 128, 1)\n",
      "train_labels shape: (4186, 2)\n",
      "test_images shape: (624, 128, 128, 1)\n",
      "test_labels shape: (624, 2)\n",
      "val_images shape: (1046, 128, 128, 1)\n",
      "val_labels shape: (1046, 2)\n"
     ]
    }
   ],
   "source": [
    "train_images_128, train_labels_128 = next(train_generator_128)\n",
    "test_images_128, test_labels_128 = next(test_generator_128)\n",
    "val_images_128, val_labels_128 = next(val_generator_128)\n",
    "train_y_128 = np.reshape(train_labels_128[:,1], (4186,1))\n",
    "test_y_128 = np.reshape(test_labels_128[:,1], (624,1))\n",
    "val_y_128 = np.reshape(val_labels_128[:,1], (1046,1))\n",
    "print (\"train_images shape: \" + str(train_images_128.shape))\n",
    "print (\"train_labels shape: \" + str(train_labels_128.shape))\n",
    "print (\"test_images shape: \" + str(test_images_128.shape))\n",
    "print (\"test_labels shape: \" + str(test_labels_128.shape))\n",
    "print (\"val_images shape: \" + str(val_images_128.shape))\n",
    "print (\"val_labels shape: \" + str(val_labels_128.shape))"
   ]
  },
  {
   "cell_type": "markdown",
   "metadata": {},
   "source": [
    "## Image Size 256x256 <a id='256'></a>"
   ]
  },
  {
   "cell_type": "code",
   "execution_count": 8,
   "metadata": {},
   "outputs": [
    {
     "name": "stdout",
     "output_type": "stream",
     "text": [
      "Found 4186 images belonging to 2 classes.\n",
      "Found 624 images belonging to 2 classes.\n",
      "Found 1046 images belonging to 2 classes.\n"
     ]
    }
   ],
   "source": [
    "train_generator_256 = ImageDataGenerator(rescale=1./255,\n",
    "                                          width_shift_range=0.1,\n",
    "                                          height_shift_range=0.1,\n",
    "                                          shear_range=15,\n",
    "                                          zoom_range=[.9, .9]).flow_from_directory(train_folder, target_size=(256, 256), color_mode = 'grayscale', batch_size = 4188)\n",
    "test_generator_256 = ImageDataGenerator(rescale=1./255).flow_from_directory(test_folder, target_size=(256, 256), color_mode = 'grayscale', batch_size = 624)\n",
    "val_generator_256 = ImageDataGenerator(rescale=1./255).flow_from_directory(val_folder, target_size=(256, 256), color_mode = 'grayscale', batch_size = 1048)"
   ]
  },
  {
   "cell_type": "code",
   "execution_count": 9,
   "metadata": {
    "scrolled": false
   },
   "outputs": [
    {
     "name": "stdout",
     "output_type": "stream",
     "text": [
      "train_images shape: (4186, 256, 256, 1)\n",
      "train_labels shape: (4186, 2)\n",
      "test_images shape: (624, 256, 256, 1)\n",
      "test_labels shape: (624, 2)\n",
      "val_images shape: (1046, 256, 256, 1)\n",
      "val_labels shape: (1046, 2)\n"
     ]
    }
   ],
   "source": [
    "train_images_256, train_labels_256 = next(train_generator_256)\n",
    "test_images_256, test_labels_256 = next(test_generator_256)\n",
    "val_images_256, val_labels_256 = next(val_generator_256)\n",
    "train_y_256 = np.reshape(train_labels_256[:,1], (4186,1))\n",
    "test_y_256 = np.reshape(test_labels_256[:,1], (624,1))\n",
    "val_y_256 = np.reshape(val_labels_256[:,1], (1046,1))\n",
    "print (\"train_images shape: \" + str(train_images_256.shape))\n",
    "print (\"train_labels shape: \" + str(train_labels_256.shape))\n",
    "print (\"test_images shape: \" + str(test_images_256.shape))\n",
    "print (\"test_labels shape: \" + str(test_labels_256.shape))\n",
    "print (\"val_images shape: \" + str(val_images_256.shape))\n",
    "print (\"val_labels shape: \" + str(val_labels_256.shape))"
   ]
  },
  {
   "cell_type": "code",
   "execution_count": 10,
   "metadata": {},
   "outputs": [],
   "source": [
    "class_labels = list(train_generator_256.class_indices.keys())"
   ]
  },
  {
   "cell_type": "markdown",
   "metadata": {},
   "source": [
    "## Zoomed Images <a id='zoom'></a>"
   ]
  },
  {
   "cell_type": "code",
   "execution_count": 26,
   "metadata": {},
   "outputs": [
    {
     "name": "stdout",
     "output_type": "stream",
     "text": [
      "Found 4186 images belonging to 2 classes.\n",
      "Found 624 images belonging to 2 classes.\n",
      "Found 1046 images belonging to 2 classes.\n"
     ]
    }
   ],
   "source": [
    "train_generator_128_zoom = ImageDataGenerator(rescale=1./255,\n",
    "                                          width_shift_range=0.1,\n",
    "                                          height_shift_range=0.1,\n",
    "                                          shear_range=15,\n",
    "                                          zoom_range=[.9, .9]).flow_from_directory(train_folder, target_size=(128, 128), color_mode = 'grayscale', batch_size = 4188)\n",
    "test_generator_128_zoom = ImageDataGenerator(rescale=1./255, zoom_range=[.9, .9]).flow_from_directory(test_folder, target_size=(128, 128), color_mode = 'grayscale', batch_size = 624)\n",
    "val_generator_128_zoom = ImageDataGenerator(rescale=1./255, zoom_range=[.9, .9]).flow_from_directory(val_folder, target_size=(128, 128), color_mode = 'grayscale', batch_size = 1048)"
   ]
  },
  {
   "cell_type": "code",
   "execution_count": 27,
   "metadata": {},
   "outputs": [
    {
     "name": "stdout",
     "output_type": "stream",
     "text": [
      "train_images shape: (4186, 128, 128, 1)\n",
      "train_labels shape: (4186, 2)\n",
      "test_images shape: (624, 128, 128, 1)\n",
      "test_labels shape: (624, 2)\n",
      "val_images shape: (1046, 128, 128, 1)\n",
      "val_labels shape: (1046, 2)\n"
     ]
    }
   ],
   "source": [
    "train_images_128_zoom, train_labels_128_zoom = next(train_generator_128_zoom)\n",
    "test_images_128_zoom, test_labels_128_zoom = next(test_generator_128_zoom)\n",
    "val_images_128_zoom, val_labels_128_zoom = next(val_generator_128_zoom)\n",
    "train_y_128_zoom = np.reshape(train_labels_128_zoom[:,1], (4186,1))\n",
    "test_y_128_zoom = np.reshape(test_labels_128_zoom[:,1], (624,1))\n",
    "val_y_128_zoom = np.reshape(val_labels_128_zoom[:,1], (1046,1))\n",
    "print (\"train_images shape: \" + str(train_images_128_zoom.shape))\n",
    "print (\"train_labels shape: \" + str(train_labels_128_zoom.shape))\n",
    "print (\"test_images shape: \" + str(test_images_128_zoom.shape))\n",
    "print (\"test_labels shape: \" + str(test_labels_128_zoom.shape))\n",
    "print (\"val_images shape: \" + str(val_images_128_zoom.shape))\n",
    "print (\"val_labels shape: \" + str(val_labels_128_zoom.shape))"
   ]
  },
  {
   "cell_type": "markdown",
   "metadata": {},
   "source": [
    "# Models <a id='models'></a>\n",
    "\n",
    "## Model 1 <a id='mod1'></a>\n",
    "* 6x6 and 5x5 layer\n",
    "* 256x256 images\n",
    "* Baseline filters\n",
    "* Dropout before flatten\n",
    "* Shift, Shear and Zoom on training set"
   ]
  },
  {
   "cell_type": "code",
   "execution_count": 11,
   "metadata": {},
   "outputs": [],
   "source": [
    "model_1_256_6_sing = models.Sequential()\n",
    "model_1_256_6_sing.add(layers.Conv2D(32, (3, 3), activation='relu', input_shape=(256, 256, 1)))\n",
    "model_1_256_6_sing.add(layers.MaxPooling2D((2, 2)))\n",
    "\n",
    "model_1_256_6_sing.add(layers.Conv2D(32, (6, 6), activation='relu'))\n",
    "model_1_256_6_sing.add(layers.MaxPooling2D((2, 2)))\n",
    "\n",
    "model_1_256_6_sing.add(layers.Conv2D(64, (5, 5), activation='relu'))\n",
    "model_1_256_6_sing.add(layers.MaxPooling2D((2, 2)))\n",
    "\n",
    "model_1_256_6_sing.add(layers.Conv2D(64, (4, 4), activation='relu'))\n",
    "model_1_256_6_sing.add(layers.MaxPooling2D((2, 2)))\n",
    "\n",
    "model_1_256_6_sing.add(layers.Conv2D(128, (3, 3), activation='relu'))\n",
    "model_1_256_6_sing.add(layers.MaxPooling2D((2, 2)))\n",
    "\n",
    "model_1_256_6_sing.add(Dropout(.3))\n",
    "model_1_256_6_sing.add(layers.Flatten())\n",
    "model_1_256_6_sing.add(layers.Dense(64, activation='relu'))\n",
    "model_1_256_6_sing.add(layers.Dense(1, activation='sigmoid'))\n",
    "\n",
    "model_1_256_6_sing.compile(loss='binary_crossentropy', optimizer=\"sgd\", metrics=['acc'])"
   ]
  },
  {
   "cell_type": "code",
   "execution_count": 12,
   "metadata": {
    "scrolled": true
   },
   "outputs": [
    {
     "name": "stdout",
     "output_type": "stream",
     "text": [
      "Train on 4186 samples, validate on 1046 samples\n",
      "Epoch 1/50\n",
      "4186/4186 [==============================] - 14s 3ms/step - loss: 0.6162 - acc: 0.7394 - val_loss: 0.5800 - val_acc: 0.7419\n",
      "Epoch 2/50\n",
      "4186/4186 [==============================] - 12s 3ms/step - loss: 0.5719 - acc: 0.7422 - val_loss: 0.5760 - val_acc: 0.7419\n",
      "Epoch 3/50\n",
      "4186/4186 [==============================] - 12s 3ms/step - loss: 0.5716 - acc: 0.7422 - val_loss: 0.5723 - val_acc: 0.7419\n",
      "Epoch 4/50\n",
      "4186/4186 [==============================] - 12s 3ms/step - loss: 0.5703 - acc: 0.7422 - val_loss: 0.5688 - val_acc: 0.7419\n",
      "Epoch 5/50\n",
      "4186/4186 [==============================] - 11s 3ms/step - loss: 0.5662 - acc: 0.7422 - val_loss: 0.5648 - val_acc: 0.7419\n",
      "Epoch 6/50\n",
      "4186/4186 [==============================] - 12s 3ms/step - loss: 0.5626 - acc: 0.7422 - val_loss: 0.5587 - val_acc: 0.7419\n",
      "Epoch 7/50\n",
      "4186/4186 [==============================] - 12s 3ms/step - loss: 0.5562 - acc: 0.7422 - val_loss: 0.5335 - val_acc: 0.7419\n",
      "Epoch 8/50\n",
      "4186/4186 [==============================] - 12s 3ms/step - loss: 0.5394 - acc: 0.7441 - val_loss: 0.4905 - val_acc: 0.7419\n",
      "Epoch 9/50\n",
      "4186/4186 [==============================] - 12s 3ms/step - loss: 0.5133 - acc: 0.7542 - val_loss: 0.4488 - val_acc: 0.8786\n",
      "Epoch 10/50\n",
      "4186/4186 [==============================] - 12s 3ms/step - loss: 0.4941 - acc: 0.7711 - val_loss: 0.4281 - val_acc: 0.8776\n",
      "Epoch 11/50\n",
      "4186/4186 [==============================] - 12s 3ms/step - loss: 0.4430 - acc: 0.8041 - val_loss: 0.3007 - val_acc: 0.8853\n",
      "Epoch 12/50\n",
      "4186/4186 [==============================] - 13s 3ms/step - loss: 0.4079 - acc: 0.8144 - val_loss: 0.2771 - val_acc: 0.9006\n",
      "Epoch 13/50\n",
      "4186/4186 [==============================] - 13s 3ms/step - loss: 0.3700 - acc: 0.8368 - val_loss: 0.2387 - val_acc: 0.9120\n",
      "Epoch 14/50\n",
      "4186/4186 [==============================] - 12s 3ms/step - loss: 0.3391 - acc: 0.8574 - val_loss: 0.2153 - val_acc: 0.9254\n",
      "Epoch 15/50\n",
      "4186/4186 [==============================] - 12s 3ms/step - loss: 0.3012 - acc: 0.8720 - val_loss: 0.2028 - val_acc: 0.9254\n",
      "Epoch 16/50\n",
      "4186/4186 [==============================] - 12s 3ms/step - loss: 0.2791 - acc: 0.8825 - val_loss: 0.1913 - val_acc: 0.9207\n",
      "Epoch 17/50\n",
      "4186/4186 [==============================] - 12s 3ms/step - loss: 0.2674 - acc: 0.8868 - val_loss: 0.1881 - val_acc: 0.9235\n",
      "Epoch 18/50\n",
      "4186/4186 [==============================] - 12s 3ms/step - loss: 0.2499 - acc: 0.9013 - val_loss: 0.1865 - val_acc: 0.9226\n",
      "Epoch 19/50\n",
      "4186/4186 [==============================] - 12s 3ms/step - loss: 0.2418 - acc: 0.8987 - val_loss: 0.1816 - val_acc: 0.9226\n",
      "Epoch 20/50\n",
      "4186/4186 [==============================] - 12s 3ms/step - loss: 0.2345 - acc: 0.9025 - val_loss: 0.2138 - val_acc: 0.9034\n",
      "Epoch 21/50\n",
      "4186/4186 [==============================] - 12s 3ms/step - loss: 0.2169 - acc: 0.9114 - val_loss: 0.3165 - val_acc: 0.8786\n",
      "Epoch 22/50\n",
      "4186/4186 [==============================] - 12s 3ms/step - loss: 0.2180 - acc: 0.9083 - val_loss: 0.1911 - val_acc: 0.9159\n",
      "Epoch 23/50\n",
      "4186/4186 [==============================] - 12s 3ms/step - loss: 0.1969 - acc: 0.9245 - val_loss: 0.1813 - val_acc: 0.9187\n",
      "Epoch 24/50\n",
      "4186/4186 [==============================] - 12s 3ms/step - loss: 0.2028 - acc: 0.9154 - val_loss: 0.1727 - val_acc: 0.9254\n",
      "Epoch 25/50\n",
      "4186/4186 [==============================] - 12s 3ms/step - loss: 0.1934 - acc: 0.9231 - val_loss: 0.1655 - val_acc: 0.9359\n",
      "Epoch 26/50\n",
      "4186/4186 [==============================] - 12s 3ms/step - loss: 0.1803 - acc: 0.9288 - val_loss: 0.1591 - val_acc: 0.9417\n",
      "Epoch 27/50\n",
      "4186/4186 [==============================] - 12s 3ms/step - loss: 0.1793 - acc: 0.9267 - val_loss: 0.1664 - val_acc: 0.9398\n",
      "Epoch 28/50\n",
      "4186/4186 [==============================] - 12s 3ms/step - loss: 0.1755 - acc: 0.9341 - val_loss: 0.1619 - val_acc: 0.9446\n",
      "Epoch 29/50\n",
      "4186/4186 [==============================] - 12s 3ms/step - loss: 0.1704 - acc: 0.9324 - val_loss: 0.1558 - val_acc: 0.9446\n",
      "Epoch 30/50\n",
      "4186/4186 [==============================] - 12s 3ms/step - loss: 0.1597 - acc: 0.9381 - val_loss: 0.1918 - val_acc: 0.9159\n",
      "Epoch 31/50\n",
      "4186/4186 [==============================] - 12s 3ms/step - loss: 0.1529 - acc: 0.9419 - val_loss: 0.1677 - val_acc: 0.9331\n",
      "Epoch 32/50\n",
      "4186/4186 [==============================] - 12s 3ms/step - loss: 0.1544 - acc: 0.9381 - val_loss: 0.1457 - val_acc: 0.9522\n",
      "Epoch 33/50\n",
      "4186/4186 [==============================] - 12s 3ms/step - loss: 0.1486 - acc: 0.9415 - val_loss: 0.1671 - val_acc: 0.9350\n",
      "Epoch 34/50\n",
      "4186/4186 [==============================] - 12s 3ms/step - loss: 0.1447 - acc: 0.9412 - val_loss: 0.1551 - val_acc: 0.9474\n",
      "Epoch 35/50\n",
      "4186/4186 [==============================] - 12s 3ms/step - loss: 0.1456 - acc: 0.9439 - val_loss: 0.1519 - val_acc: 0.9474\n",
      "Epoch 36/50\n",
      "4186/4186 [==============================] - 12s 3ms/step - loss: 0.1355 - acc: 0.9465 - val_loss: 0.1574 - val_acc: 0.9388\n",
      "Epoch 37/50\n",
      "4186/4186 [==============================] - 12s 3ms/step - loss: 0.1337 - acc: 0.9477 - val_loss: 0.1535 - val_acc: 0.9359\n",
      "CPU times: user 3min 40s, sys: 1min 17s, total: 4min 57s\n",
      "Wall time: 7min 20s\n"
     ]
    }
   ],
   "source": [
    "%%time\n",
    "early_stopping = [EarlyStopping(monitor = 'val_loss', patience = 5)]\n",
    "history_1_256_6_sing = model_1_256_6_sing.fit(train_images_256,\n",
    "                                              train_y_256,\n",
    "                                              epochs=50,\n",
    "                                              batch_size=50,\n",
    "                                              validation_data=(val_images_256, val_y_256),\n",
    "                                              callbacks=early_stopping)"
   ]
  },
  {
   "cell_type": "code",
   "execution_count": 40,
   "metadata": {
    "scrolled": true
   },
   "outputs": [
    {
     "name": "stdout",
     "output_type": "stream",
     "text": [
      "Accuracy \n",
      " Train: 0.957, Test: 0.824\n",
      "Loss \n",
      " Train: 0.113, Test: 0.543 \n",
      "\n"
     ]
    },
    {
     "data": {
      "image/png": "[encoded data removed]",
      "text/plain": [
       "<Figure size 432x288 with 2 Axes>"
      ]
     },
     "metadata": {
      "needs_background": "light"
     },
     "output_type": "display_data"
    },
    {
     "name": "stdout",
     "output_type": "stream",
     "text": [
      "\n",
      "\n",
      "Confusion Matrix, without normalization\n"
     ]
    },
    {
     "data": {
      "image/png": "[encoded data removed]",
      "text/plain": [
       "<Figure size 432x288 with 2 Axes>"
      ]
     },
     "metadata": {
      "needs_background": "light"
     },
     "output_type": "display_data"
    },
    {
     "name": "stdout",
     "output_type": "stream",
     "text": [
      "\n",
      "\n",
      "              precision    recall  f1-score   support\n",
      "\n",
      "      NORMAL       0.91      0.59      0.72       234\n",
      "   PNEUMONIA       0.80      0.96      0.87       390\n",
      "\n",
      "    accuracy                           0.82       624\n",
      "   macro avg       0.85      0.78      0.79       624\n",
      "weighted avg       0.84      0.82      0.81       624\n",
      "\n"
     ]
    }
   ],
   "source": [
    "print(mf.evaluate_test(model_1_256_6_sing, history_1_256_6_sing, class_labels, train_images_256, test_images_256, train_y_256, test_y_256))"
   ]
  },
  {
   "cell_type": "markdown",
   "metadata": {},
   "source": [
    "## Model 2 <a id='mod2'></a>\n",
    "\n",
    "Next, we'll try Model 1 with double the filters.\n",
    "\n",
    "* 6x6 and 5x5 layer\n",
    "* 256x256 images\n",
    "* Double filters\n",
    "* Dropout before flatten\n",
    "* Shift, Shear and Zoom on training set\n",
    "\n",
    "We are unable to run this model without an OOM error on our current hardware."
   ]
  },
  {
   "cell_type": "code",
   "execution_count": 24,
   "metadata": {},
   "outputs": [],
   "source": [
    "model_2_256_6_doub = models.Sequential()\n",
    "model_2_256_6_doub.add(layers.Conv2D(64, (3, 3), activation='relu', input_shape=(256, 256, 1)))\n",
    "model_2_256_6_doub.add(layers.MaxPooling2D((2, 2)))\n",
    "\n",
    "model_2_256_6_doub.add(layers.Conv2D(64, (6, 6), activation='relu'))\n",
    "model_2_256_6_doub.add(layers.MaxPooling2D((2, 2)))\n",
    "\n",
    "model_2_256_6_doub.add(layers.Conv2D(128, (5, 5), activation='relu'))\n",
    "model_2_256_6_doub.add(layers.MaxPooling2D((2, 2)))\n",
    "\n",
    "model_2_256_6_doub.add(layers.Conv2D(256, (4, 4), activation='relu'))\n",
    "model_2_256_6_doub.add(layers.MaxPooling2D((2, 2)))\n",
    "\n",
    "model_2_256_6_doub.add(layers.Conv2D(256, (3, 3), activation='relu'))\n",
    "model_2_256_6_doub.add(layers.MaxPooling2D((2, 2)))\n",
    "\n",
    "model_2_256_6_doub.add(Dropout(.3))\n",
    "model_2_256_6_doub.add(layers.Flatten())\n",
    "model_2_256_6_doub.add(layers.Dense(64, activation='relu'))\n",
    "model_2_256_6_doub.add(layers.Dense(1, activation='sigmoid'))\n",
    "\n",
    "model_2_256_6_doub.compile(loss='binary_crossentropy', optimizer=\"sgd\", metrics=['acc'])"
   ]
  },
  {
   "cell_type": "code",
   "execution_count": null,
   "metadata": {},
   "outputs": [],
   "source": [
    "%%time\n",
    "early_stopping = [EarlyStopping(monitor = 'val_loss', patience = 10)]\n",
    "history_2_256_6_doub = model_2_256_6_doub.fit(train_images_256,\n",
    "                                                 train_y_256,\n",
    "                                                 epochs=30,\n",
    "                                                 batch_size=50,\n",
    "                                                 validation_data=(val_images_256, val_y_256),\n",
    "                                             callbacks=early_stopping)"
   ]
  },
  {
   "cell_type": "markdown",
   "metadata": {},
   "source": [
    "## Model 3 <a id='mod3'></a>\n",
    "\n",
    "Since we were unable to run Model 2, we will try the same parameters with smaller images.\n",
    "\n",
    "* 6x6 and 5x5 layer\n",
    "* 128x128 images\n",
    "* Double filters\n",
    "* Dropout before flatten\n",
    "* Shift, Shear and Zoom on training set"
   ]
  },
  {
   "cell_type": "code",
   "execution_count": 14,
   "metadata": {},
   "outputs": [],
   "source": [
    "model_3_128_6_doub = models.Sequential()\n",
    "model_3_128_6_doub.add(layers.Conv2D(64, (3, 3), activation='relu', input_shape=(128, 128, 1)))\n",
    "model_3_128_6_doub.add(layers.MaxPooling2D((2, 2)))\n",
    "\n",
    "model_3_128_6_doub.add(layers.Conv2D(64, (6, 6), activation='relu'))\n",
    "model_3_128_6_doub.add(layers.MaxPooling2D((2, 2)))\n",
    "\n",
    "model_3_128_6_doub.add(layers.Conv2D(128, (5, 5), activation='relu'))\n",
    "model_3_128_6_doub.add(layers.MaxPooling2D((2, 2)))\n",
    "\n",
    "model_3_128_6_doub.add(layers.Conv2D(256, (4, 4), activation='relu'))\n",
    "model_3_128_6_doub.add(layers.MaxPooling2D((2, 2)))\n",
    "\n",
    "model_3_128_6_doub.add(layers.Conv2D(256, (3, 3), activation='relu'))\n",
    "model_3_128_6_doub.add(layers.MaxPooling2D((2, 2)))\n",
    "\n",
    "model_3_128_6_doub.add(Dropout(.3))\n",
    "model_3_128_6_doub.add(layers.Flatten())\n",
    "model_3_128_6_doub.add(layers.Dense(64, activation='relu'))\n",
    "model_3_128_6_doub.add(layers.Dense(1, activation='sigmoid'))\n",
    "\n",
    "model_3_128_6_doub.compile(loss='binary_crossentropy', optimizer=\"sgd\", metrics=['acc'])"
   ]
  },
  {
   "cell_type": "code",
   "execution_count": 15,
   "metadata": {
    "scrolled": true
   },
   "outputs": [
    {
     "name": "stdout",
     "output_type": "stream",
     "text": [
      "Train on 4186 samples, validate on 1046 samples\n",
      "Epoch 1/50\n",
      "4186/4186 [==============================] - 8s 2ms/step - loss: 0.6073 - acc: 0.7367 - val_loss: 0.5748 - val_acc: 0.7419\n",
      "Epoch 2/50\n",
      "4186/4186 [==============================] - 7s 2ms/step - loss: 0.5680 - acc: 0.7422 - val_loss: 0.5695 - val_acc: 0.7419\n",
      "Epoch 3/50\n",
      "4186/4186 [==============================] - 7s 2ms/step - loss: 0.5646 - acc: 0.7422 - val_loss: 0.5652 - val_acc: 0.7419\n",
      "Epoch 4/50\n",
      "4186/4186 [==============================] - 7s 2ms/step - loss: 0.5618 - acc: 0.7422 - val_loss: 0.5586 - val_acc: 0.7419\n",
      "Epoch 5/50\n",
      "4186/4186 [==============================] - 7s 2ms/step - loss: 0.5550 - acc: 0.7422 - val_loss: 0.5489 - val_acc: 0.7419\n",
      "Epoch 6/50\n",
      "4186/4186 [==============================] - 7s 2ms/step - loss: 0.5422 - acc: 0.7422 - val_loss: 0.5291 - val_acc: 0.7419\n",
      "Epoch 7/50\n",
      "4186/4186 [==============================] - 7s 2ms/step - loss: 0.5306 - acc: 0.7461 - val_loss: 0.5019 - val_acc: 0.7419\n",
      "Epoch 8/50\n",
      "4186/4186 [==============================] - 7s 2ms/step - loss: 0.5104 - acc: 0.7549 - val_loss: 0.6071 - val_acc: 0.7419\n",
      "Epoch 9/50\n",
      "4186/4186 [==============================] - 7s 2ms/step - loss: 0.4923 - acc: 0.7692 - val_loss: 0.5281 - val_acc: 0.7447\n",
      "Epoch 10/50\n",
      "4186/4186 [==============================] - 7s 2ms/step - loss: 0.4664 - acc: 0.7857 - val_loss: 0.4038 - val_acc: 0.8432\n",
      "Epoch 11/50\n",
      "4186/4186 [==============================] - 7s 2ms/step - loss: 0.4457 - acc: 0.7953 - val_loss: 0.3909 - val_acc: 0.8375\n",
      "Epoch 12/50\n",
      "4186/4186 [==============================] - 7s 2ms/step - loss: 0.4221 - acc: 0.8098 - val_loss: 0.4153 - val_acc: 0.8136\n",
      "Epoch 13/50\n",
      "4186/4186 [==============================] - 7s 2ms/step - loss: 0.4058 - acc: 0.8175 - val_loss: 0.3585 - val_acc: 0.8423\n",
      "Epoch 14/50\n",
      "4186/4186 [==============================] - 7s 2ms/step - loss: 0.3926 - acc: 0.8192 - val_loss: 0.3885 - val_acc: 0.8279\n",
      "Epoch 15/50\n",
      "4186/4186 [==============================] - 7s 2ms/step - loss: 0.3857 - acc: 0.8285 - val_loss: 0.3182 - val_acc: 0.8662\n",
      "Epoch 16/50\n",
      "4186/4186 [==============================] - 7s 2ms/step - loss: 0.3575 - acc: 0.8447 - val_loss: 0.3245 - val_acc: 0.8719\n",
      "Epoch 17/50\n",
      "4186/4186 [==============================] - 7s 2ms/step - loss: 0.3417 - acc: 0.8505 - val_loss: 0.3608 - val_acc: 0.8480\n",
      "Epoch 18/50\n",
      "4186/4186 [==============================] - 7s 2ms/step - loss: 0.3436 - acc: 0.8533 - val_loss: 0.2811 - val_acc: 0.8929\n",
      "Epoch 19/50\n",
      "4186/4186 [==============================] - 7s 2ms/step - loss: 0.3274 - acc: 0.8579 - val_loss: 0.2814 - val_acc: 0.8939\n",
      "Epoch 20/50\n",
      "4186/4186 [==============================] - 7s 2ms/step - loss: 0.2998 - acc: 0.8765 - val_loss: 0.2522 - val_acc: 0.8891\n",
      "Epoch 21/50\n",
      "4186/4186 [==============================] - 7s 2ms/step - loss: 0.2928 - acc: 0.8748 - val_loss: 0.2440 - val_acc: 0.9015\n",
      "Epoch 22/50\n",
      "4186/4186 [==============================] - 7s 2ms/step - loss: 0.2743 - acc: 0.8846 - val_loss: 0.2727 - val_acc: 0.8967\n",
      "Epoch 23/50\n",
      "4186/4186 [==============================] - 7s 2ms/step - loss: 0.2767 - acc: 0.8865 - val_loss: 0.2320 - val_acc: 0.9054\n",
      "Epoch 24/50\n",
      "4186/4186 [==============================] - 7s 2ms/step - loss: 0.2487 - acc: 0.8973 - val_loss: 0.3141 - val_acc: 0.8757\n",
      "Epoch 25/50\n",
      "4186/4186 [==============================] - 7s 2ms/step - loss: 0.2517 - acc: 0.8992 - val_loss: 0.2224 - val_acc: 0.9034\n",
      "Epoch 26/50\n",
      "4186/4186 [==============================] - 7s 2ms/step - loss: 0.2403 - acc: 0.9042 - val_loss: 0.2206 - val_acc: 0.9073\n",
      "Epoch 27/50\n",
      "4186/4186 [==============================] - 7s 2ms/step - loss: 0.2222 - acc: 0.9073 - val_loss: 0.1971 - val_acc: 0.9159\n",
      "Epoch 28/50\n",
      "4186/4186 [==============================] - 7s 2ms/step - loss: 0.2201 - acc: 0.9102 - val_loss: 0.2131 - val_acc: 0.9111\n",
      "Epoch 29/50\n",
      "4186/4186 [==============================] - 7s 2ms/step - loss: 0.2156 - acc: 0.9121 - val_loss: 0.1885 - val_acc: 0.9226\n",
      "Epoch 30/50\n",
      "4186/4186 [==============================] - 7s 2ms/step - loss: 0.2062 - acc: 0.9154 - val_loss: 0.2296 - val_acc: 0.9063\n",
      "Epoch 31/50\n",
      "4186/4186 [==============================] - 7s 2ms/step - loss: 0.1948 - acc: 0.9243 - val_loss: 0.1865 - val_acc: 0.9273\n",
      "Epoch 32/50\n",
      "4186/4186 [==============================] - 7s 2ms/step - loss: 0.1747 - acc: 0.9348 - val_loss: 0.1797 - val_acc: 0.9226\n",
      "Epoch 33/50\n",
      "4186/4186 [==============================] - 7s 2ms/step - loss: 0.1856 - acc: 0.9271 - val_loss: 0.1800 - val_acc: 0.9245\n",
      "Epoch 34/50\n",
      "4186/4186 [==============================] - 7s 2ms/step - loss: 0.1774 - acc: 0.9288 - val_loss: 0.1693 - val_acc: 0.9302\n",
      "Epoch 35/50\n",
      "4186/4186 [==============================] - 7s 2ms/step - loss: 0.1611 - acc: 0.9396 - val_loss: 0.1720 - val_acc: 0.9283\n",
      "Epoch 36/50\n",
      "4186/4186 [==============================] - 7s 2ms/step - loss: 0.1582 - acc: 0.9360 - val_loss: 0.2586 - val_acc: 0.9044\n",
      "Epoch 37/50\n",
      "4186/4186 [==============================] - 7s 2ms/step - loss: 0.1458 - acc: 0.9422 - val_loss: 0.1619 - val_acc: 0.9321\n",
      "Epoch 38/50\n",
      "4186/4186 [==============================] - 7s 2ms/step - loss: 0.1423 - acc: 0.9441 - val_loss: 0.1679 - val_acc: 0.9321\n",
      "Epoch 39/50\n",
      "4186/4186 [==============================] - 7s 2ms/step - loss: 0.1399 - acc: 0.9515 - val_loss: 0.1685 - val_acc: 0.9340\n",
      "Epoch 40/50\n",
      "4186/4186 [==============================] - 7s 2ms/step - loss: 0.1407 - acc: 0.9441 - val_loss: 0.1558 - val_acc: 0.9350\n",
      "Epoch 41/50\n",
      "4186/4186 [==============================] - 7s 2ms/step - loss: 0.1336 - acc: 0.9503 - val_loss: 0.2568 - val_acc: 0.9015\n",
      "Epoch 42/50\n",
      "4186/4186 [==============================] - 7s 2ms/step - loss: 0.1395 - acc: 0.9486 - val_loss: 0.1599 - val_acc: 0.9398\n",
      "Epoch 43/50\n",
      "4186/4186 [==============================] - 7s 2ms/step - loss: 0.1291 - acc: 0.9498 - val_loss: 0.1666 - val_acc: 0.9340\n",
      "Epoch 44/50\n",
      "4186/4186 [==============================] - 7s 2ms/step - loss: 0.1164 - acc: 0.9556 - val_loss: 0.1624 - val_acc: 0.9340\n",
      "Epoch 45/50\n",
      "4186/4186 [==============================] - 7s 2ms/step - loss: 0.1248 - acc: 0.9534 - val_loss: 0.1605 - val_acc: 0.9359\n",
      "CPU times: user 2min 43s, sys: 55.4 s, total: 3min 39s\n",
      "Wall time: 5min 11s\n"
     ]
    }
   ],
   "source": [
    "%%time\n",
    "early_stopping = [EarlyStopping(monitor = 'val_loss', patience = 5)]\n",
    "history_3_128_6_doub = model_3_128_6_doub.fit(train_images_128,\n",
    "                                                 train_y_128,\n",
    "                                                 epochs=50,\n",
    "                                                 batch_size=50,\n",
    "                                                 validation_data=(val_images_128, val_y_128),\n",
    "                                             callbacks=early_stopping)"
   ]
  },
  {
   "cell_type": "code",
   "execution_count": 41,
   "metadata": {
    "scrolled": true
   },
   "outputs": [
    {
     "name": "stdout",
     "output_type": "stream",
     "text": [
      "Accuracy \n",
      " Train: 0.961, Test: 0.862\n",
      "Loss \n",
      " Train: 0.112, Test: 0.363 \n",
      "\n"
     ]
    },
    {
     "data": {
      "image/png": "[encoded data removed]",
      "text/plain": [
       "<Figure size 432x288 with 2 Axes>"
      ]
     },
     "metadata": {
      "needs_background": "light"
     },
     "output_type": "display_data"
    },
    {
     "name": "stdout",
     "output_type": "stream",
     "text": [
      "\n",
      "\n",
      "Confusion Matrix, without normalization\n"
     ]
    },
    {
     "data": {
      "image/png": "[encoded data removed]",
      "text/plain": [
       "<Figure size 432x288 with 2 Axes>"
      ]
     },
     "metadata": {
      "needs_background": "light"
     },
     "output_type": "display_data"
    },
    {
     "name": "stdout",
     "output_type": "stream",
     "text": [
      "\n",
      "\n",
      "              precision    recall  f1-score   support\n",
      "\n",
      "      NORMAL       0.90      0.71      0.79       234\n",
      "   PNEUMONIA       0.85      0.95      0.90       390\n",
      "\n",
      "    accuracy                           0.86       624\n",
      "   macro avg       0.87      0.83      0.85       624\n",
      "weighted avg       0.87      0.86      0.86       624\n",
      "\n"
     ]
    }
   ],
   "source": [
    "print(mf.evaluate_test(model_3_128_6_doub, history_3_128_6_doub, class_labels, train_images_128, test_images_128, train_y_128, test_y_128))"
   ]
  },
  {
   "cell_type": "markdown",
   "metadata": {},
   "source": [
    "## Model 4 <a id='mod4'></a>\n",
    "\n",
    "This model is the same as Model 3, with doubled filters. This is four times the baseline filters.\n",
    "\n",
    "* 6x6 and 5x5 layer\n",
    "* 128x128 images\n",
    "* Quad filters\n",
    "* Dropout before flatten\n",
    "* Shift, Shear and Zoom on training set"
   ]
  },
  {
   "cell_type": "code",
   "execution_count": 17,
   "metadata": {},
   "outputs": [],
   "source": [
    "model_4_128_6_quad = models.Sequential()\n",
    "model_4_128_6_quad.add(layers.Conv2D(128, (3, 3), activation='relu', input_shape=(128, 128, 1)))\n",
    "model_4_128_6_quad.add(layers.MaxPooling2D((2, 2)))\n",
    "\n",
    "model_4_128_6_quad.add(layers.Conv2D(128, (6, 6), activation='relu'))\n",
    "model_4_128_6_quad.add(layers.MaxPooling2D((2, 2)))\n",
    "\n",
    "model_4_128_6_quad.add(layers.Conv2D(256, (5, 5), activation='relu'))\n",
    "model_4_128_6_quad.add(layers.MaxPooling2D((2, 2)))\n",
    "\n",
    "model_4_128_6_quad.add(layers.Conv2D(512, (4, 4), activation='relu'))\n",
    "model_4_128_6_quad.add(layers.MaxPooling2D((2, 2)))\n",
    "\n",
    "model_4_128_6_quad.add(layers.Conv2D(512, (3, 3), activation='relu'))\n",
    "model_4_128_6_quad.add(layers.MaxPooling2D((2, 2)))\n",
    "\n",
    "model_4_128_6_quad.add(Dropout(.3))\n",
    "model_4_128_6_quad.add(layers.Flatten())\n",
    "model_4_128_6_quad.add(layers.Dense(64, activation='relu'))\n",
    "model_4_128_6_quad.add(layers.Dense(1, activation='sigmoid'))\n",
    "\n",
    "model_4_128_6_quad.compile(loss='binary_crossentropy', optimizer=\"sgd\", metrics=['acc'])"
   ]
  },
  {
   "cell_type": "code",
   "execution_count": 18,
   "metadata": {
    "scrolled": true
   },
   "outputs": [
    {
     "name": "stdout",
     "output_type": "stream",
     "text": [
      "Train on 4186 samples, validate on 1046 samples\n",
      "Epoch 1/100\n",
      "4186/4186 [==============================] - 18s 4ms/step - loss: 0.5957 - acc: 0.7422 - val_loss: 0.5750 - val_acc: 0.7419\n",
      "Epoch 2/100\n",
      "4186/4186 [==============================] - 16s 4ms/step - loss: 0.5689 - acc: 0.7422 - val_loss: 0.5727 - val_acc: 0.7419\n",
      "Epoch 3/100\n",
      "4186/4186 [==============================] - 16s 4ms/step - loss: 0.5677 - acc: 0.7422 - val_loss: 0.5694 - val_acc: 0.7419\n",
      "Epoch 4/100\n",
      "4186/4186 [==============================] - 16s 4ms/step - loss: 0.5641 - acc: 0.7422 - val_loss: 0.5648 - val_acc: 0.7419\n",
      "Epoch 5/100\n",
      "4186/4186 [==============================] - 16s 4ms/step - loss: 0.5594 - acc: 0.7422 - val_loss: 0.5663 - val_acc: 0.7419\n",
      "Epoch 6/100\n",
      "4186/4186 [==============================] - 16s 4ms/step - loss: 0.5508 - acc: 0.7427 - val_loss: 0.5581 - val_acc: 0.7419\n",
      "Epoch 7/100\n",
      "4186/4186 [==============================] - 16s 4ms/step - loss: 0.5427 - acc: 0.7430 - val_loss: 0.5237 - val_acc: 0.7419\n",
      "Epoch 8/100\n",
      "4186/4186 [==============================] - 16s 4ms/step - loss: 0.5277 - acc: 0.7432 - val_loss: 0.5074 - val_acc: 0.7419\n",
      "Epoch 9/100\n",
      "4186/4186 [==============================] - 16s 4ms/step - loss: 0.5039 - acc: 0.7539 - val_loss: 0.7057 - val_acc: 0.5000\n",
      "Epoch 10/100\n",
      "4186/4186 [==============================] - 16s 4ms/step - loss: 0.4893 - acc: 0.7678 - val_loss: 0.4518 - val_acc: 0.8375\n",
      "Epoch 11/100\n",
      "4186/4186 [==============================] - 16s 4ms/step - loss: 0.4531 - acc: 0.7871 - val_loss: 0.3913 - val_acc: 0.8442\n",
      "Epoch 12/100\n",
      "4186/4186 [==============================] - 16s 4ms/step - loss: 0.4339 - acc: 0.7955 - val_loss: 0.4355 - val_acc: 0.7906\n",
      "Epoch 13/100\n",
      "4186/4186 [==============================] - 16s 4ms/step - loss: 0.3937 - acc: 0.8225 - val_loss: 0.3724 - val_acc: 0.8480\n",
      "Epoch 14/100\n",
      "4186/4186 [==============================] - 16s 4ms/step - loss: 0.3956 - acc: 0.8208 - val_loss: 0.3257 - val_acc: 0.8595\n",
      "Epoch 15/100\n",
      "4186/4186 [==============================] - 16s 4ms/step - loss: 0.3783 - acc: 0.8311 - val_loss: 0.3421 - val_acc: 0.8642\n",
      "Epoch 16/100\n",
      "4186/4186 [==============================] - 17s 4ms/step - loss: 0.3470 - acc: 0.8505 - val_loss: 0.3100 - val_acc: 0.8690\n",
      "Epoch 17/100\n",
      "4186/4186 [==============================] - 17s 4ms/step - loss: 0.3488 - acc: 0.8533 - val_loss: 0.3169 - val_acc: 0.8671\n",
      "Epoch 18/100\n",
      "4186/4186 [==============================] - 17s 4ms/step - loss: 0.3270 - acc: 0.8583 - val_loss: 0.3175 - val_acc: 0.8843\n",
      "Epoch 19/100\n",
      "4186/4186 [==============================] - 17s 4ms/step - loss: 0.3212 - acc: 0.8586 - val_loss: 0.3086 - val_acc: 0.8671\n",
      "Epoch 20/100\n",
      "4186/4186 [==============================] - 16s 4ms/step - loss: 0.3046 - acc: 0.8715 - val_loss: 0.2720 - val_acc: 0.8977\n",
      "Epoch 21/100\n",
      "4186/4186 [==============================] - 16s 4ms/step - loss: 0.2883 - acc: 0.8813 - val_loss: 0.2660 - val_acc: 0.8824\n",
      "Epoch 22/100\n",
      "4186/4186 [==============================] - 16s 4ms/step - loss: 0.2795 - acc: 0.8822 - val_loss: 0.3041 - val_acc: 0.8709\n",
      "Epoch 23/100\n",
      "4186/4186 [==============================] - 16s 4ms/step - loss: 0.2702 - acc: 0.8844 - val_loss: 0.2551 - val_acc: 0.9015\n",
      "Epoch 24/100\n",
      "4186/4186 [==============================] - 17s 4ms/step - loss: 0.2630 - acc: 0.8956 - val_loss: 0.3719 - val_acc: 0.8614\n",
      "Epoch 25/100\n",
      "4186/4186 [==============================] - 16s 4ms/step - loss: 0.2623 - acc: 0.8944 - val_loss: 0.2277 - val_acc: 0.9063\n",
      "Epoch 26/100\n",
      "4186/4186 [==============================] - 16s 4ms/step - loss: 0.2424 - acc: 0.9018 - val_loss: 0.2307 - val_acc: 0.9006\n",
      "Epoch 27/100\n",
      "4186/4186 [==============================] - 16s 4ms/step - loss: 0.2401 - acc: 0.9032 - val_loss: 0.2017 - val_acc: 0.9168\n",
      "Epoch 28/100\n",
      "4186/4186 [==============================] - 16s 4ms/step - loss: 0.2205 - acc: 0.9087 - val_loss: 0.2112 - val_acc: 0.9120\n",
      "Epoch 29/100\n",
      "4186/4186 [==============================] - 16s 4ms/step - loss: 0.2084 - acc: 0.9173 - val_loss: 0.2659 - val_acc: 0.8958\n",
      "Epoch 30/100\n",
      "4186/4186 [==============================] - 16s 4ms/step - loss: 0.2062 - acc: 0.9173 - val_loss: 0.2049 - val_acc: 0.9168\n",
      "Epoch 31/100\n",
      "4186/4186 [==============================] - 16s 4ms/step - loss: 0.2025 - acc: 0.9200 - val_loss: 0.1878 - val_acc: 0.9178\n",
      "Epoch 32/100\n",
      "4186/4186 [==============================] - 16s 4ms/step - loss: 0.1960 - acc: 0.9243 - val_loss: 0.2392 - val_acc: 0.9073\n",
      "Epoch 33/100\n",
      "4186/4186 [==============================] - 16s 4ms/step - loss: 0.1761 - acc: 0.9319 - val_loss: 0.2322 - val_acc: 0.9092\n",
      "Epoch 34/100\n",
      "4186/4186 [==============================] - 16s 4ms/step - loss: 0.1755 - acc: 0.9317 - val_loss: 0.1888 - val_acc: 0.9235\n",
      "Epoch 35/100\n",
      "4186/4186 [==============================] - 16s 4ms/step - loss: 0.1720 - acc: 0.9324 - val_loss: 0.1739 - val_acc: 0.9312\n",
      "Epoch 36/100\n",
      "4186/4186 [==============================] - 16s 4ms/step - loss: 0.1533 - acc: 0.9398 - val_loss: 0.1702 - val_acc: 0.9340\n",
      "Epoch 37/100\n",
      "4186/4186 [==============================] - 16s 4ms/step - loss: 0.1597 - acc: 0.9369 - val_loss: 0.1550 - val_acc: 0.9407\n",
      "Epoch 38/100\n",
      "4186/4186 [==============================] - 16s 4ms/step - loss: 0.1468 - acc: 0.9465 - val_loss: 0.1578 - val_acc: 0.9369\n",
      "Epoch 39/100\n",
      "4186/4186 [==============================] - 16s 4ms/step - loss: 0.1482 - acc: 0.9439 - val_loss: 0.2058 - val_acc: 0.9187\n",
      "Epoch 40/100\n",
      "4186/4186 [==============================] - 16s 4ms/step - loss: 0.1419 - acc: 0.9441 - val_loss: 0.1683 - val_acc: 0.9331\n",
      "Epoch 41/100\n",
      "4186/4186 [==============================] - 16s 4ms/step - loss: 0.1382 - acc: 0.9482 - val_loss: 0.2315 - val_acc: 0.9034\n",
      "Epoch 42/100\n",
      "4186/4186 [==============================] - 16s 4ms/step - loss: 0.1306 - acc: 0.9544 - val_loss: 0.2157 - val_acc: 0.9168\n",
      "CPU times: user 5min 23s, sys: 2min 4s, total: 7min 28s\n",
      "Wall time: 11min 14s\n"
     ]
    }
   ],
   "source": [
    "%%time\n",
    "early_stopping = [EarlyStopping(monitor = 'val_loss', patience = 5)]\n",
    "history_4_128_6_quad = model_4_128_6_quad.fit(train_images_128,\n",
    "                                                 train_y_128,\n",
    "                                                 epochs=100,\n",
    "                                                 batch_size=50,\n",
    "                                                 validation_data=(val_images_128, val_y_128),\n",
    "                                             callbacks=early_stopping)"
   ]
  },
  {
   "cell_type": "code",
   "execution_count": 42,
   "metadata": {
    "scrolled": true
   },
   "outputs": [
    {
     "name": "stdout",
     "output_type": "stream",
     "text": [
      "Accuracy \n",
      " Train: 0.938, Test: 0.872\n",
      "Loss \n",
      " Train: 0.158, Test: 0.321 \n",
      "\n"
     ]
    },
    {
     "data": {
      "image/png": "[encoded data removed]",
      "text/plain": [
       "<Figure size 432x288 with 2 Axes>"
      ]
     },
     "metadata": {
      "needs_background": "light"
     },
     "output_type": "display_data"
    },
    {
     "name": "stdout",
     "output_type": "stream",
     "text": [
      "\n",
      "\n",
      "Confusion Matrix, without normalization\n"
     ]
    },
    {
     "data": {
      "image/png": "[encoded data removed]",
      "text/plain": [
       "<Figure size 432x288 with 2 Axes>"
      ]
     },
     "metadata": {
      "needs_background": "light"
     },
     "output_type": "display_data"
    },
    {
     "name": "stdout",
     "output_type": "stream",
     "text": [
      "\n",
      "\n",
      "              precision    recall  f1-score   support\n",
      "\n",
      "      NORMAL       0.85      0.80      0.82       234\n",
      "   PNEUMONIA       0.88      0.92      0.90       390\n",
      "\n",
      "    accuracy                           0.87       624\n",
      "   macro avg       0.87      0.86      0.86       624\n",
      "weighted avg       0.87      0.87      0.87       624\n",
      "\n"
     ]
    }
   ],
   "source": [
    "print(mf.evaluate_test(model_4_128_6_quad, history_4_128_6_quad, class_labels, train_images_128, test_images_128, train_y_128, test_y_128))"
   ]
  },
  {
   "cell_type": "markdown",
   "metadata": {},
   "source": [
    "## Model 5\n",
    "\n",
    "This model is the same as Model 4, with doubled filters. This is eight times the baseline filters.\n",
    "\n",
    "* 6x6 and 5x5 layer\n",
    "* 128x128 images\n",
    "* Oct layers\n",
    "* Dropout before flatten\n",
    "* Shift, Shear and Zoom on training set\n",
    "\n",
    "We are unable to run this model without an OOM error on our current hardware."
   ]
  },
  {
   "cell_type": "code",
   "execution_count": 20,
   "metadata": {},
   "outputs": [],
   "source": [
    "model_5_128_6_oct = models.Sequential()\n",
    "model_5_128_6_oct.add(layers.Conv2D(256, (3, 3), activation='relu', input_shape=(128, 128, 1)))\n",
    "model_5_128_6_oct.add(layers.MaxPooling2D((2, 2)))\n",
    "\n",
    "model_5_128_6_oct.add(layers.Conv2D(256, (6, 6), activation='relu'))\n",
    "model_5_128_6_oct.add(layers.MaxPooling2D((2, 2)))\n",
    "\n",
    "model_5_128_6_oct.add(layers.Conv2D(256, (5, 5), activation='relu'))\n",
    "model_5_128_6_oct.add(layers.MaxPooling2D((2, 2)))\n",
    "\n",
    "model_5_128_6_oct.add(layers.Conv2D(512, (4, 4), activation='relu'))\n",
    "model_5_128_6_oct.add(layers.MaxPooling2D((2, 2)))\n",
    "\n",
    "model_5_128_6_oct.add(layers.Conv2D(1024, (3, 3), activation='relu'))\n",
    "model_5_128_6_oct.add(layers.MaxPooling2D((2, 2)))\n",
    "\n",
    "model_5_128_6_oct.add(Dropout(.3))\n",
    "model_5_128_6_oct.add(layers.Flatten())\n",
    "model_5_128_6_oct.add(layers.Dense(64, activation='relu'))\n",
    "model_5_128_6_oct.add(layers.Dense(1, activation='sigmoid'))\n",
    "\n",
    "model_5_128_6_oct.compile(loss='binary_crossentropy', optimizer=\"sgd\", metrics=['acc'])"
   ]
  },
  {
   "cell_type": "code",
   "execution_count": null,
   "metadata": {},
   "outputs": [],
   "source": [
    "%%time\n",
    "early_stopping = [EarlyStopping(monitor = 'val_loss', patience = 5)]\n",
    "history_5_128_6_oct = model_5_128_6_oct.fit(train_images_128,\n",
    "                                                 train_y_128,\n",
    "                                                 epochs=100,\n",
    "                                                 batch_size=50,\n",
    "                                                 validation_data=(val_images_128, val_y_128),\n",
    "                                             callbacks=early_stopping)"
   ]
  },
  {
   "cell_type": "markdown",
   "metadata": {},
   "source": [
    "## Model 6 <a id='mod6'></a>\n",
    "\n",
    "Next, we'll see if we can double the filters and image size by reducing the number of layers.\n",
    "\n",
    "* 5x5 layer\n",
    "* 256x256 images\n",
    "* Double filters\n",
    "* Dropout before flatten\n",
    "* Shift, Shear and Zoom on training set\n",
    "\n",
    "This wasn't enough to allow us to run this model without an OOM error on our current hardware."
   ]
  },
  {
   "cell_type": "code",
   "execution_count": 9,
   "metadata": {},
   "outputs": [],
   "source": [
    "model_6_256_5_doub = models.Sequential()\n",
    "model_6_256_5_doub.add(layers.Conv2D(64, (3, 3), activation='relu', input_shape=(256, 256, 1)))\n",
    "model_6_256_5_doub.add(layers.MaxPooling2D((2, 2)))\n",
    "\n",
    "model_6_256_5_doub.add(layers.Conv2D(64, (5, 5), activation='relu'))\n",
    "model_6_256_5_doub.add(layers.MaxPooling2D((2, 2)))\n",
    "\n",
    "model_6_256_5_doub.add(layers.Conv2D(128, (4, 4), activation='relu'))\n",
    "model_6_256_5_doub.add(layers.MaxPooling2D((2, 2)))\n",
    "\n",
    "model_6_256_5_doub.add(layers.Conv2D(128, (3, 3), activation='relu'))\n",
    "model_6_256_5_doub.add(layers.MaxPooling2D((2, 2)))\n",
    "\n",
    "model_6_256_5_doub.add(Dropout(.3))\n",
    "model_6_256_5_doub.add(layers.Flatten())\n",
    "model_6_256_5_doub.add(layers.Dense(64, activation='relu'))\n",
    "model_6_256_5_doub.add(layers.Dense(1, activation='sigmoid'))\n",
    "\n",
    "model_6_256_5_doub.compile(loss='binary_crossentropy', optimizer=\"sgd\", metrics=['acc'])"
   ]
  },
  {
   "cell_type": "code",
   "execution_count": null,
   "metadata": {},
   "outputs": [],
   "source": [
    "%%time\n",
    "early_stopping = [EarlyStopping(monitor = 'val_loss', patience = 5)]\n",
    "history_6_256_5_doub = model_6_256_5_doub.fit(train_images_256,\n",
    "                                                 train_y_256,\n",
    "                                                 epochs=100,\n",
    "                                                 batch_size=50,\n",
    "                                                 validation_data=(val_images_256, val_y_256),\n",
    "                                             callbacks=early_stopping)"
   ]
  },
  {
   "cell_type": "markdown",
   "metadata": {},
   "source": [
    "## Model 7 <a id='mod7'></a>\n",
    "\n",
    "Since we cannot run Model 6, we'll try the same parameters with smaller images. This is the same as Model 4, without the 6x6 layer.\n",
    "\n",
    "* 5x5 layer\n",
    "* 128x128 images\n",
    "* Quad filters\n",
    "* Dropout before flatten\n",
    "* Shift, Shear and Zoom on training set"
   ]
  },
  {
   "cell_type": "code",
   "execution_count": 22,
   "metadata": {},
   "outputs": [],
   "source": [
    "model_7_128_5_quad = models.Sequential()\n",
    "model_7_128_5_quad.add(layers.Conv2D(128, (3, 3), activation='relu', input_shape=(128, 128, 1)))\n",
    "model_7_128_5_quad.add(layers.MaxPooling2D((2, 2)))\n",
    "\n",
    "model_7_128_5_quad.add(layers.Conv2D(128, (5, 5), activation='relu'))\n",
    "model_7_128_5_quad.add(layers.MaxPooling2D((2, 2)))\n",
    "\n",
    "model_7_128_5_quad.add(layers.Conv2D(256, (4, 4), activation='relu'))\n",
    "model_7_128_5_quad.add(layers.MaxPooling2D((2, 2)))\n",
    "\n",
    "model_7_128_5_quad.add(layers.Conv2D(256, (3, 3), activation='relu'))\n",
    "model_7_128_5_quad.add(layers.MaxPooling2D((2, 2)))\n",
    "\n",
    "model_7_128_5_quad.add(Dropout(.3))\n",
    "model_7_128_5_quad.add(layers.Flatten())\n",
    "model_7_128_5_quad.add(layers.Dense(64, activation='relu'))\n",
    "model_7_128_5_quad.add(layers.Dense(1, activation='sigmoid'))\n",
    "\n",
    "model_7_128_5_quad.compile(loss='binary_crossentropy', optimizer=\"sgd\", metrics=['acc'])"
   ]
  },
  {
   "cell_type": "code",
   "execution_count": 24,
   "metadata": {
    "scrolled": true
   },
   "outputs": [
    {
     "name": "stdout",
     "output_type": "stream",
     "text": [
      "Train on 4186 samples, validate on 1046 samples\n",
      "Epoch 1/100\n",
      "4186/4186 [==============================] - 16s 4ms/step - loss: 0.5886 - acc: 0.7410 - val_loss: 0.5761 - val_acc: 0.7419\n",
      "Epoch 2/100\n",
      "4186/4186 [==============================] - 14s 3ms/step - loss: 0.5673 - acc: 0.7422 - val_loss: 0.5675 - val_acc: 0.7419\n",
      "Epoch 3/100\n",
      "4186/4186 [==============================] - 14s 3ms/step - loss: 0.5623 - acc: 0.7422 - val_loss: 0.5570 - val_acc: 0.7419\n",
      "Epoch 4/100\n",
      "4186/4186 [==============================] - 14s 3ms/step - loss: 0.5492 - acc: 0.7422 - val_loss: 0.5365 - val_acc: 0.7419\n",
      "Epoch 5/100\n",
      "4186/4186 [==============================] - 14s 3ms/step - loss: 0.5386 - acc: 0.7434 - val_loss: 0.5098 - val_acc: 0.7419\n",
      "Epoch 6/100\n",
      "4186/4186 [==============================] - 14s 3ms/step - loss: 0.5205 - acc: 0.7506 - val_loss: 0.5402 - val_acc: 0.8222\n",
      "Epoch 7/100\n",
      "4186/4186 [==============================] - 14s 3ms/step - loss: 0.4983 - acc: 0.7726 - val_loss: 0.4601 - val_acc: 0.8499\n",
      "Epoch 8/100\n",
      "4186/4186 [==============================] - 14s 3ms/step - loss: 0.4825 - acc: 0.7733 - val_loss: 0.4186 - val_acc: 0.7887\n",
      "Epoch 9/100\n",
      "4186/4186 [==============================] - 14s 3ms/step - loss: 0.4402 - acc: 0.7998 - val_loss: 0.3688 - val_acc: 0.8203\n",
      "Epoch 10/100\n",
      "4186/4186 [==============================] - 14s 3ms/step - loss: 0.4259 - acc: 0.8070 - val_loss: 0.3200 - val_acc: 0.8690\n",
      "Epoch 11/100\n",
      "4186/4186 [==============================] - 14s 3ms/step - loss: 0.3958 - acc: 0.8211 - val_loss: 0.2988 - val_acc: 0.8776\n",
      "Epoch 12/100\n",
      "4186/4186 [==============================] - 14s 3ms/step - loss: 0.3659 - acc: 0.8378 - val_loss: 0.3029 - val_acc: 0.8815\n",
      "Epoch 13/100\n",
      "4186/4186 [==============================] - 14s 3ms/step - loss: 0.3590 - acc: 0.8442 - val_loss: 0.2717 - val_acc: 0.8948\n",
      "Epoch 14/100\n",
      "4186/4186 [==============================] - 14s 3ms/step - loss: 0.3358 - acc: 0.8521 - val_loss: 0.2833 - val_acc: 0.8881\n",
      "Epoch 15/100\n",
      "4186/4186 [==============================] - 14s 3ms/step - loss: 0.3184 - acc: 0.8634 - val_loss: 0.2342 - val_acc: 0.8929\n",
      "Epoch 16/100\n",
      "4186/4186 [==============================] - 14s 3ms/step - loss: 0.3066 - acc: 0.8645 - val_loss: 0.2173 - val_acc: 0.9149\n",
      "Epoch 17/100\n",
      "4186/4186 [==============================] - 14s 3ms/step - loss: 0.2912 - acc: 0.8796 - val_loss: 0.2045 - val_acc: 0.9187\n",
      "Epoch 18/100\n",
      "4186/4186 [==============================] - 14s 3ms/step - loss: 0.2768 - acc: 0.8815 - val_loss: 0.2134 - val_acc: 0.9044\n",
      "Epoch 19/100\n",
      "4186/4186 [==============================] - 14s 3ms/step - loss: 0.2703 - acc: 0.8889 - val_loss: 0.1941 - val_acc: 0.9159\n",
      "Epoch 20/100\n",
      "4186/4186 [==============================] - 14s 3ms/step - loss: 0.2547 - acc: 0.8932 - val_loss: 0.2163 - val_acc: 0.9130\n",
      "Epoch 21/100\n",
      "4186/4186 [==============================] - 14s 3ms/step - loss: 0.2494 - acc: 0.8966 - val_loss: 0.1807 - val_acc: 0.9216\n",
      "Epoch 22/100\n",
      "4186/4186 [==============================] - 14s 3ms/step - loss: 0.2379 - acc: 0.9052 - val_loss: 0.1801 - val_acc: 0.9216\n",
      "Epoch 23/100\n",
      "4186/4186 [==============================] - 14s 3ms/step - loss: 0.2311 - acc: 0.9080 - val_loss: 0.1679 - val_acc: 0.9302\n",
      "Epoch 24/100\n",
      "4186/4186 [==============================] - 14s 3ms/step - loss: 0.2233 - acc: 0.9128 - val_loss: 0.1671 - val_acc: 0.9283\n",
      "Epoch 25/100\n",
      "4186/4186 [==============================] - 14s 3ms/step - loss: 0.2168 - acc: 0.9164 - val_loss: 0.1556 - val_acc: 0.9359\n",
      "Epoch 26/100\n",
      "4186/4186 [==============================] - 14s 3ms/step - loss: 0.2081 - acc: 0.9159 - val_loss: 0.1690 - val_acc: 0.9283\n",
      "Epoch 27/100\n",
      "4186/4186 [==============================] - 14s 3ms/step - loss: 0.1942 - acc: 0.9233 - val_loss: 0.1576 - val_acc: 0.9359\n",
      "Epoch 28/100\n",
      "4186/4186 [==============================] - 14s 3ms/step - loss: 0.1959 - acc: 0.9236 - val_loss: 0.1698 - val_acc: 0.9283\n",
      "Epoch 29/100\n",
      "4186/4186 [==============================] - 14s 3ms/step - loss: 0.1909 - acc: 0.9238 - val_loss: 0.1944 - val_acc: 0.9159\n",
      "Epoch 30/100\n",
      "4186/4186 [==============================] - 14s 3ms/step - loss: 0.1769 - acc: 0.9305 - val_loss: 0.1610 - val_acc: 0.9340\n",
      "CPU times: user 3min 15s, sys: 1min 18s, total: 4min 33s\n",
      "Wall time: 6min 59s\n"
     ]
    }
   ],
   "source": [
    "%%time\n",
    "early_stopping = [EarlyStopping(monitor = 'val_loss', patience = 5)]\n",
    "history_7_128_5_quad = model_7_128_5_quad.fit(train_images_128,\n",
    "                                                 train_y_128,\n",
    "                                                 epochs=100,\n",
    "                                                 batch_size=50,\n",
    "                                                 validation_data=(val_images_128, val_y_128),\n",
    "                                             callbacks=early_stopping)"
   ]
  },
  {
   "cell_type": "code",
   "execution_count": 43,
   "metadata": {
    "scrolled": true
   },
   "outputs": [
    {
     "name": "stdout",
     "output_type": "stream",
     "text": [
      "Accuracy \n",
      " Train: 0.932, Test: 0.793\n",
      "Loss \n",
      " Train: 0.175, Test: 0.630 \n",
      "\n"
     ]
    },
    {
     "data": {
      "image/png": "[encoded data removed]",
      "text/plain": [
       "<Figure size 432x288 with 2 Axes>"
      ]
     },
     "metadata": {
      "needs_background": "light"
     },
     "output_type": "display_data"
    },
    {
     "name": "stdout",
     "output_type": "stream",
     "text": [
      "\n",
      "\n",
      "Confusion Matrix, without normalization\n"
     ]
    },
    {
     "data": {
      "image/png": "[encoded data removed]",
      "text/plain": [
       "<Figure size 432x288 with 2 Axes>"
      ]
     },
     "metadata": {
      "needs_background": "light"
     },
     "output_type": "display_data"
    },
    {
     "name": "stdout",
     "output_type": "stream",
     "text": [
      "\n",
      "\n",
      "              precision    recall  f1-score   support\n",
      "\n",
      "      NORMAL       0.94      0.48      0.63       234\n",
      "   PNEUMONIA       0.76      0.98      0.86       390\n",
      "\n",
      "    accuracy                           0.79       624\n",
      "   macro avg       0.85      0.73      0.75       624\n",
      "weighted avg       0.83      0.79      0.77       624\n",
      "\n"
     ]
    }
   ],
   "source": [
    "print(mf.evaluate_test(model_7_128_5_quad, history_7_128_5_quad, class_labels, train_images_128, test_images_128, train_y_128, test_y_128))"
   ]
  },
  {
   "cell_type": "markdown",
   "metadata": {},
   "source": [
    "## Model 8 <a id='mod8'></a>\n",
    "\n",
    "Our accuracy is much lower for Model 7, which only has a 5x5 layer. Here we add the 6x6 layer back and begin adding other parameters to the mix. This is the same as Model 4, our best model so far, with zoomed images for all sets.\n",
    "\n",
    "* 6x6 and 5x5 layer\n",
    "* 128x128 images\n",
    "* Quad filters\n",
    "* Dropout before flatten\n",
    "* Shift and Shear on training set\n",
    "* Zoom on all sets"
   ]
  },
  {
   "cell_type": "code",
   "execution_count": 30,
   "metadata": {},
   "outputs": [],
   "source": [
    "model_8_128_6_quad_zoom = models.Sequential()\n",
    "model_8_128_6_quad_zoom.add(layers.Conv2D(128, (3, 3), activation='relu', input_shape=(128, 128, 1)))\n",
    "model_8_128_6_quad_zoom.add(layers.MaxPooling2D((2, 2)))\n",
    "\n",
    "model_8_128_6_quad_zoom.add(layers.Conv2D(128, (6, 6), activation='relu'))\n",
    "model_8_128_6_quad_zoom.add(layers.MaxPooling2D((2, 2)))\n",
    "\n",
    "model_8_128_6_quad_zoom.add(layers.Conv2D(256, (5, 5), activation='relu'))\n",
    "model_8_128_6_quad_zoom.add(layers.MaxPooling2D((2, 2)))\n",
    "\n",
    "model_8_128_6_quad_zoom.add(layers.Conv2D(512, (4, 4), activation='relu'))\n",
    "model_8_128_6_quad_zoom.add(layers.MaxPooling2D((2, 2)))\n",
    "\n",
    "model_8_128_6_quad_zoom.add(layers.Conv2D(512, (3, 3), activation='relu'))\n",
    "model_8_128_6_quad_zoom.add(layers.MaxPooling2D((2, 2)))\n",
    "\n",
    "model_8_128_6_quad_zoom.add(Dropout(.3))\n",
    "model_8_128_6_quad_zoom.add(layers.Flatten())\n",
    "model_8_128_6_quad_zoom.add(layers.Dense(64, activation='relu'))\n",
    "model_8_128_6_quad_zoom.add(layers.Dense(1, activation='sigmoid'))\n",
    "\n",
    "model_8_128_6_quad_zoom.compile(loss='binary_crossentropy', optimizer=\"sgd\", metrics=['acc'])"
   ]
  },
  {
   "cell_type": "code",
   "execution_count": 31,
   "metadata": {},
   "outputs": [
    {
     "name": "stdout",
     "output_type": "stream",
     "text": [
      "Train on 4186 samples, validate on 1046 samples\n",
      "Epoch 1/100\n",
      "4186/4186 [==============================] - 17s 4ms/step - loss: 0.6026 - acc: 0.7401 - val_loss: 0.5745 - val_acc: 0.7419\n",
      "Epoch 2/100\n",
      "4186/4186 [==============================] - 16s 4ms/step - loss: 0.5691 - acc: 0.7422 - val_loss: 0.5728 - val_acc: 0.7419\n",
      "Epoch 3/100\n",
      "4186/4186 [==============================] - 16s 4ms/step - loss: 0.5659 - acc: 0.7422 - val_loss: 0.5673 - val_acc: 0.7419\n",
      "Epoch 4/100\n",
      "4186/4186 [==============================] - 15s 4ms/step - loss: 0.5638 - acc: 0.7422 - val_loss: 0.5640 - val_acc: 0.7419\n",
      "Epoch 5/100\n",
      "4186/4186 [==============================] - 16s 4ms/step - loss: 0.5599 - acc: 0.7422 - val_loss: 0.5637 - val_acc: 0.7419\n",
      "Epoch 6/100\n",
      "4186/4186 [==============================] - 16s 4ms/step - loss: 0.5508 - acc: 0.7422 - val_loss: 0.5404 - val_acc: 0.7419\n",
      "Epoch 7/100\n",
      "4186/4186 [==============================] - 16s 4ms/step - loss: 0.5385 - acc: 0.7434 - val_loss: 0.5189 - val_acc: 0.7419\n",
      "Epoch 8/100\n",
      "4186/4186 [==============================] - 16s 4ms/step - loss: 0.5197 - acc: 0.7537 - val_loss: 0.5443 - val_acc: 0.7419\n",
      "Epoch 9/100\n",
      "4186/4186 [==============================] - 16s 4ms/step - loss: 0.5057 - acc: 0.7642 - val_loss: 0.4957 - val_acc: 0.7447\n",
      "Epoch 10/100\n",
      "4186/4186 [==============================] - 16s 4ms/step - loss: 0.4887 - acc: 0.7688 - val_loss: 0.4693 - val_acc: 0.8394\n",
      "Epoch 11/100\n",
      "4186/4186 [==============================] - 16s 4ms/step - loss: 0.4619 - acc: 0.7850 - val_loss: 0.4249 - val_acc: 0.8184\n",
      "Epoch 12/100\n",
      "4186/4186 [==============================] - 16s 4ms/step - loss: 0.4320 - acc: 0.8010 - val_loss: 0.4530 - val_acc: 0.7983\n",
      "Epoch 13/100\n",
      "4186/4186 [==============================] - 16s 4ms/step - loss: 0.4218 - acc: 0.8034 - val_loss: 0.3499 - val_acc: 0.8652\n",
      "Epoch 14/100\n",
      "4186/4186 [==============================] - 16s 4ms/step - loss: 0.4008 - acc: 0.8132 - val_loss: 0.4194 - val_acc: 0.8117\n",
      "Epoch 15/100\n",
      "4186/4186 [==============================] - 16s 4ms/step - loss: 0.3805 - acc: 0.8273 - val_loss: 0.3626 - val_acc: 0.8623\n",
      "Epoch 16/100\n",
      "4186/4186 [==============================] - 16s 4ms/step - loss: 0.3704 - acc: 0.8321 - val_loss: 0.4763 - val_acc: 0.7897\n",
      "Epoch 17/100\n",
      "4186/4186 [==============================] - 16s 4ms/step - loss: 0.3459 - acc: 0.8497 - val_loss: 0.2768 - val_acc: 0.8862\n",
      "Epoch 18/100\n",
      "4186/4186 [==============================] - 16s 4ms/step - loss: 0.3338 - acc: 0.8483 - val_loss: 0.2969 - val_acc: 0.8700\n",
      "Epoch 19/100\n",
      "4186/4186 [==============================] - 16s 4ms/step - loss: 0.3124 - acc: 0.8626 - val_loss: 0.2689 - val_acc: 0.8987\n",
      "Epoch 20/100\n",
      "4186/4186 [==============================] - 16s 4ms/step - loss: 0.3083 - acc: 0.8660 - val_loss: 0.2266 - val_acc: 0.9101\n",
      "Epoch 21/100\n",
      "4186/4186 [==============================] - 16s 4ms/step - loss: 0.2944 - acc: 0.8734 - val_loss: 0.3182 - val_acc: 0.8652\n",
      "Epoch 22/100\n",
      "4186/4186 [==============================] - 16s 4ms/step - loss: 0.2764 - acc: 0.8829 - val_loss: 0.2058 - val_acc: 0.9168\n",
      "Epoch 23/100\n",
      "4186/4186 [==============================] - 16s 4ms/step - loss: 0.2643 - acc: 0.8903 - val_loss: 0.3235 - val_acc: 0.8614\n",
      "Epoch 24/100\n",
      "4186/4186 [==============================] - 16s 4ms/step - loss: 0.2625 - acc: 0.8889 - val_loss: 0.2013 - val_acc: 0.9216\n",
      "Epoch 25/100\n",
      "4186/4186 [==============================] - 16s 4ms/step - loss: 0.2380 - acc: 0.9064 - val_loss: 0.2405 - val_acc: 0.9101\n",
      "Epoch 26/100\n",
      "4186/4186 [==============================] - 16s 4ms/step - loss: 0.2309 - acc: 0.9073 - val_loss: 0.1758 - val_acc: 0.9293\n",
      "Epoch 27/100\n",
      "4186/4186 [==============================] - 16s 4ms/step - loss: 0.2291 - acc: 0.9059 - val_loss: 0.2036 - val_acc: 0.9216\n",
      "Epoch 28/100\n",
      "4186/4186 [==============================] - 16s 4ms/step - loss: 0.2098 - acc: 0.9147 - val_loss: 0.1648 - val_acc: 0.9331\n",
      "Epoch 29/100\n",
      "4186/4186 [==============================] - 16s 4ms/step - loss: 0.1969 - acc: 0.9243 - val_loss: 0.2678 - val_acc: 0.8977\n",
      "Epoch 30/100\n",
      "4186/4186 [==============================] - 16s 4ms/step - loss: 0.1879 - acc: 0.9279 - val_loss: 0.2592 - val_acc: 0.9006\n",
      "Epoch 31/100\n",
      "4186/4186 [==============================] - 16s 4ms/step - loss: 0.1941 - acc: 0.9209 - val_loss: 0.1557 - val_acc: 0.9407\n",
      "Epoch 32/100\n",
      "4186/4186 [==============================] - 16s 4ms/step - loss: 0.1832 - acc: 0.9274 - val_loss: 0.1584 - val_acc: 0.9474\n",
      "Epoch 33/100\n",
      "4186/4186 [==============================] - 16s 4ms/step - loss: 0.1646 - acc: 0.9376 - val_loss: 0.1540 - val_acc: 0.9436\n",
      "Epoch 34/100\n",
      "4186/4186 [==============================] - 16s 4ms/step - loss: 0.1588 - acc: 0.9376 - val_loss: 0.1792 - val_acc: 0.9369\n",
      "Epoch 35/100\n",
      "4186/4186 [==============================] - 16s 4ms/step - loss: 0.1664 - acc: 0.9319 - val_loss: 0.1659 - val_acc: 0.9331\n",
      "Epoch 36/100\n",
      "4186/4186 [==============================] - 16s 4ms/step - loss: 0.1573 - acc: 0.9405 - val_loss: 0.1472 - val_acc: 0.9446\n",
      "Epoch 37/100\n",
      "4186/4186 [==============================] - 16s 4ms/step - loss: 0.1499 - acc: 0.9441 - val_loss: 0.1545 - val_acc: 0.9455\n",
      "Epoch 38/100\n",
      "4186/4186 [==============================] - 16s 4ms/step - loss: 0.1472 - acc: 0.9436 - val_loss: 0.1313 - val_acc: 0.9512\n",
      "Epoch 39/100\n",
      "4186/4186 [==============================] - 16s 4ms/step - loss: 0.1389 - acc: 0.9489 - val_loss: 0.1790 - val_acc: 0.9350\n",
      "Epoch 40/100\n",
      "4186/4186 [==============================] - 16s 4ms/step - loss: 0.1485 - acc: 0.9429 - val_loss: 0.1239 - val_acc: 0.9560\n",
      "Epoch 41/100\n",
      "4186/4186 [==============================] - 16s 4ms/step - loss: 0.1337 - acc: 0.9513 - val_loss: 0.1259 - val_acc: 0.9551\n",
      "Epoch 42/100\n",
      "4186/4186 [==============================] - 16s 4ms/step - loss: 0.1288 - acc: 0.9477 - val_loss: 0.1651 - val_acc: 0.9455\n",
      "Epoch 43/100\n",
      "4186/4186 [==============================] - 16s 4ms/step - loss: 0.1337 - acc: 0.9460 - val_loss: 0.1865 - val_acc: 0.9359\n",
      "Epoch 44/100\n",
      "4186/4186 [==============================] - 16s 4ms/step - loss: 0.1263 - acc: 0.9520 - val_loss: 0.3811 - val_acc: 0.8748\n",
      "Epoch 45/100\n",
      "4186/4186 [==============================] - 16s 4ms/step - loss: 0.1111 - acc: 0.9613 - val_loss: 0.1326 - val_acc: 0.9512\n",
      "CPU times: user 5min 37s, sys: 2min 10s, total: 7min 48s\n",
      "Wall time: 11min 46s\n"
     ]
    }
   ],
   "source": [
    "%%time\n",
    "early_stopping = [EarlyStopping(monitor = 'val_loss', patience = 5)]\n",
    "history_8_128_6_quad_zoom = model_8_128_6_quad_zoom.fit(train_images_128_zoom,\n",
    "                                                 train_y_128_zoom,\n",
    "                                                 epochs=100,\n",
    "                                                 batch_size=50,\n",
    "                                                 validation_data=(val_images_128_zoom, val_y_128_zoom),\n",
    "                                             callbacks=early_stopping)"
   ]
  },
  {
   "cell_type": "code",
   "execution_count": 44,
   "metadata": {
    "scrolled": true
   },
   "outputs": [
    {
     "name": "stdout",
     "output_type": "stream",
     "text": [
      "Accuracy \n",
      " Train: 0.970, Test: 0.776\n",
      "Loss \n",
      " Train: 0.093, Test: 0.745 \n",
      "\n"
     ]
    },
    {
     "data": {
      "image/png": "[encoded data removed]",
      "text/plain": [
       "<Figure size 432x288 with 2 Axes>"
      ]
     },
     "metadata": {
      "needs_background": "light"
     },
     "output_type": "display_data"
    },
    {
     "name": "stdout",
     "output_type": "stream",
     "text": [
      "\n",
      "\n",
      "Confusion Matrix, without normalization\n"
     ]
    },
    {
     "data": {
      "image/png": "[encoded data removed]",
      "text/plain": [
       "<Figure size 432x288 with 2 Axes>"
      ]
     },
     "metadata": {
      "needs_background": "light"
     },
     "output_type": "display_data"
    },
    {
     "name": "stdout",
     "output_type": "stream",
     "text": [
      "\n",
      "\n",
      "              precision    recall  f1-score   support\n",
      "\n",
      "      NORMAL       0.97      0.41      0.58       234\n",
      "   PNEUMONIA       0.74      0.99      0.85       390\n",
      "\n",
      "    accuracy                           0.78       624\n",
      "   macro avg       0.85      0.70      0.71       624\n",
      "weighted avg       0.83      0.78      0.75       624\n",
      "\n"
     ]
    }
   ],
   "source": [
    "print(mf.evaluate_test(model_8_128_6_quad_zoom, history_8_128_6_quad_zoom, class_labels, train_images_128_zoom, test_images_128_zoom, train_y_128_zoom, test_y_128_zoom))"
   ]
  },
  {
   "cell_type": "markdown",
   "metadata": {},
   "source": [
    "## Model 9 <a id='mod9'></a>\n",
    "\n",
    "Now we'd like to try a model with more training, by increasing patience and adding a second dropout layer. All other parameters match Model 4, our best so far.\n",
    "\n",
    "* 6x6 and 5x5 layer\n",
    "* 128x128 images\n",
    "* Quad filters\n",
    "* Double Dropout\n",
    "* Shift, Shear and Zoom on training set\n",
    "* Increased patience (10)"
   ]
  },
  {
   "cell_type": "code",
   "execution_count": 33,
   "metadata": {},
   "outputs": [],
   "source": [
    "model_9_128_6_quad_drop = models.Sequential()\n",
    "model_9_128_6_quad_drop.add(layers.Conv2D(128, (3, 3), activation='relu', input_shape=(128, 128, 1)))\n",
    "model_9_128_6_quad_drop.add(layers.MaxPooling2D((2, 2)))\n",
    "\n",
    "model_9_128_6_quad_drop.add(layers.Conv2D(128, (6, 6), activation='relu'))\n",
    "model_9_128_6_quad_drop.add(layers.MaxPooling2D((2, 2)))\n",
    "\n",
    "model_9_128_6_quad_drop.add(layers.Conv2D(256, (5, 5), activation='relu'))\n",
    "model_9_128_6_quad_drop.add(layers.MaxPooling2D((2, 2)))\n",
    "\n",
    "model_9_128_6_quad_drop.add(layers.Conv2D(512, (4, 4), activation='relu'))\n",
    "model_9_128_6_quad_drop.add(layers.MaxPooling2D((2, 2)))\n",
    "\n",
    "model_9_128_6_quad_drop.add(layers.Conv2D(512, (3, 3), activation='relu'))\n",
    "model_9_128_6_quad_drop.add(layers.MaxPooling2D((2, 2)))\n",
    "\n",
    "model_9_128_6_quad_drop.add(Dropout(.3))\n",
    "model_9_128_6_quad_drop.add(layers.Flatten())\n",
    "model_9_128_6_quad_drop.add(layers.Dense(64, activation='relu'))\n",
    "model_9_128_6_quad_drop.add(Dropout(.3))\n",
    "model_9_128_6_quad_drop.add(layers.Dense(1, activation='sigmoid'))\n",
    "\n",
    "model_9_128_6_quad_drop.compile(loss='binary_crossentropy', optimizer=\"sgd\", metrics=['acc'])"
   ]
  },
  {
   "cell_type": "code",
   "execution_count": 34,
   "metadata": {
    "scrolled": true
   },
   "outputs": [
    {
     "name": "stdout",
     "output_type": "stream",
     "text": [
      "Train on 4186 samples, validate on 1046 samples\n",
      "Epoch 1/100\n",
      "4186/4186 [==============================] - 16s 4ms/step - loss: 0.6158 - acc: 0.7413 - val_loss: 0.5769 - val_acc: 0.7419\n",
      "Epoch 2/100\n",
      "4186/4186 [==============================] - 16s 4ms/step - loss: 0.5700 - acc: 0.7422 - val_loss: 0.5729 - val_acc: 0.7419\n",
      "Epoch 3/100\n",
      "4186/4186 [==============================] - 16s 4ms/step - loss: 0.5699 - acc: 0.7422 - val_loss: 0.5709 - val_acc: 0.7419\n",
      "Epoch 4/100\n",
      "4186/4186 [==============================] - 16s 4ms/step - loss: 0.5649 - acc: 0.7422 - val_loss: 0.5684 - val_acc: 0.7419\n",
      "Epoch 5/100\n",
      "4186/4186 [==============================] - 16s 4ms/step - loss: 0.5652 - acc: 0.7422 - val_loss: 0.5598 - val_acc: 0.7419\n",
      "Epoch 6/100\n",
      "4186/4186 [==============================] - 16s 4ms/step - loss: 0.5577 - acc: 0.7422 - val_loss: 0.5523 - val_acc: 0.7419\n",
      "Epoch 7/100\n",
      "4186/4186 [==============================] - 16s 4ms/step - loss: 0.5485 - acc: 0.7425 - val_loss: 0.5293 - val_acc: 0.7419\n",
      "Epoch 8/100\n",
      "4186/4186 [==============================] - 16s 4ms/step - loss: 0.5365 - acc: 0.7425 - val_loss: 0.5703 - val_acc: 0.8317\n",
      "Epoch 9/100\n",
      "4186/4186 [==============================] - 16s 4ms/step - loss: 0.5098 - acc: 0.7482 - val_loss: 0.4657 - val_acc: 0.7581\n",
      "Epoch 10/100\n",
      "4186/4186 [==============================] - 16s 4ms/step - loss: 0.4916 - acc: 0.7659 - val_loss: 0.4313 - val_acc: 0.8117\n",
      "Epoch 11/100\n",
      "4186/4186 [==============================] - 16s 4ms/step - loss: 0.4746 - acc: 0.7886 - val_loss: 0.4285 - val_acc: 0.7925\n",
      "Epoch 12/100\n",
      "4186/4186 [==============================] - 16s 4ms/step - loss: 0.4515 - acc: 0.7936 - val_loss: 0.6074 - val_acc: 0.6138\n",
      "Epoch 13/100\n",
      "4186/4186 [==============================] - 16s 4ms/step - loss: 0.4157 - acc: 0.8156 - val_loss: 0.3546 - val_acc: 0.8537\n",
      "Epoch 14/100\n",
      "4186/4186 [==============================] - 16s 4ms/step - loss: 0.4163 - acc: 0.8113 - val_loss: 0.3533 - val_acc: 0.8537\n",
      "Epoch 15/100\n",
      "4186/4186 [==============================] - 16s 4ms/step - loss: 0.3903 - acc: 0.8218 - val_loss: 0.3906 - val_acc: 0.8289\n",
      "Epoch 16/100\n",
      "4186/4186 [==============================] - 16s 4ms/step - loss: 0.3754 - acc: 0.8376 - val_loss: 0.3447 - val_acc: 0.8576\n",
      "Epoch 17/100\n",
      "4186/4186 [==============================] - 16s 4ms/step - loss: 0.3604 - acc: 0.8430 - val_loss: 0.3035 - val_acc: 0.8824\n",
      "Epoch 18/100\n",
      "4186/4186 [==============================] - 16s 4ms/step - loss: 0.3403 - acc: 0.8569 - val_loss: 0.2878 - val_acc: 0.8805\n",
      "Epoch 19/100\n",
      "4186/4186 [==============================] - 16s 4ms/step - loss: 0.3323 - acc: 0.8562 - val_loss: 0.3549 - val_acc: 0.8585\n",
      "Epoch 20/100\n",
      "4186/4186 [==============================] - 16s 4ms/step - loss: 0.3192 - acc: 0.8705 - val_loss: 0.3420 - val_acc: 0.8642\n",
      "Epoch 21/100\n",
      "4186/4186 [==============================] - 16s 4ms/step - loss: 0.3081 - acc: 0.8720 - val_loss: 0.2641 - val_acc: 0.8948\n",
      "Epoch 22/100\n",
      "4186/4186 [==============================] - 16s 4ms/step - loss: 0.3013 - acc: 0.8767 - val_loss: 0.2597 - val_acc: 0.8939\n",
      "Epoch 23/100\n",
      "4186/4186 [==============================] - 16s 4ms/step - loss: 0.2922 - acc: 0.8810 - val_loss: 0.3062 - val_acc: 0.8767\n",
      "Epoch 24/100\n",
      "4186/4186 [==============================] - 16s 4ms/step - loss: 0.2826 - acc: 0.8868 - val_loss: 0.2374 - val_acc: 0.9034\n",
      "Epoch 25/100\n",
      "4186/4186 [==============================] - 16s 4ms/step - loss: 0.2780 - acc: 0.8849 - val_loss: 0.2341 - val_acc: 0.9044\n",
      "Epoch 26/100\n",
      "4186/4186 [==============================] - 16s 4ms/step - loss: 0.2637 - acc: 0.8899 - val_loss: 0.2528 - val_acc: 0.9025\n",
      "Epoch 27/100\n",
      "4186/4186 [==============================] - 16s 4ms/step - loss: 0.2621 - acc: 0.8949 - val_loss: 0.2188 - val_acc: 0.9140\n",
      "Epoch 28/100\n",
      "4186/4186 [==============================] - 16s 4ms/step - loss: 0.2493 - acc: 0.8985 - val_loss: 0.2323 - val_acc: 0.9034\n",
      "Epoch 29/100\n",
      "4186/4186 [==============================] - 16s 4ms/step - loss: 0.2446 - acc: 0.9011 - val_loss: 0.2038 - val_acc: 0.9149\n",
      "Epoch 30/100\n",
      "4186/4186 [==============================] - 16s 4ms/step - loss: 0.2277 - acc: 0.9071 - val_loss: 0.2224 - val_acc: 0.9073\n",
      "Epoch 31/100\n",
      "4186/4186 [==============================] - 16s 4ms/step - loss: 0.2240 - acc: 0.9099 - val_loss: 0.1953 - val_acc: 0.9159\n",
      "Epoch 32/100\n",
      "4186/4186 [==============================] - 16s 4ms/step - loss: 0.2180 - acc: 0.9133 - val_loss: 0.2229 - val_acc: 0.9073\n",
      "Epoch 33/100\n",
      "4186/4186 [==============================] - 16s 4ms/step - loss: 0.1989 - acc: 0.9221 - val_loss: 0.1796 - val_acc: 0.9254\n",
      "Epoch 34/100\n",
      "4186/4186 [==============================] - 16s 4ms/step - loss: 0.1938 - acc: 0.9233 - val_loss: 0.1967 - val_acc: 0.9159\n",
      "Epoch 35/100\n",
      "4186/4186 [==============================] - 16s 4ms/step - loss: 0.1836 - acc: 0.9300 - val_loss: 0.2349 - val_acc: 0.9140\n",
      "Epoch 36/100\n",
      "4186/4186 [==============================] - 16s 4ms/step - loss: 0.1870 - acc: 0.9288 - val_loss: 0.1829 - val_acc: 0.9273\n",
      "Epoch 37/100\n",
      "4186/4186 [==============================] - 16s 4ms/step - loss: 0.1754 - acc: 0.9295 - val_loss: 0.1891 - val_acc: 0.9207\n",
      "Epoch 38/100\n",
      "4186/4186 [==============================] - 16s 4ms/step - loss: 0.1733 - acc: 0.9317 - val_loss: 0.2091 - val_acc: 0.9082\n",
      "Epoch 39/100\n",
      "4186/4186 [==============================] - 16s 4ms/step - loss: 0.1637 - acc: 0.9388 - val_loss: 0.1678 - val_acc: 0.9312\n",
      "Epoch 40/100\n",
      "4186/4186 [==============================] - 16s 4ms/step - loss: 0.1541 - acc: 0.9422 - val_loss: 0.1809 - val_acc: 0.9254\n",
      "Epoch 41/100\n",
      "4186/4186 [==============================] - 16s 4ms/step - loss: 0.1557 - acc: 0.9398 - val_loss: 0.1607 - val_acc: 0.9340\n",
      "Epoch 42/100\n",
      "4186/4186 [==============================] - 16s 4ms/step - loss: 0.1500 - acc: 0.9436 - val_loss: 0.1586 - val_acc: 0.9331\n",
      "Epoch 43/100\n",
      "4186/4186 [==============================] - 16s 4ms/step - loss: 0.1428 - acc: 0.9489 - val_loss: 0.1571 - val_acc: 0.9350\n",
      "Epoch 44/100\n",
      "4186/4186 [==============================] - 16s 4ms/step - loss: 0.1404 - acc: 0.9503 - val_loss: 0.1551 - val_acc: 0.9446\n",
      "Epoch 45/100\n",
      "4186/4186 [==============================] - 16s 4ms/step - loss: 0.1389 - acc: 0.9501 - val_loss: 0.1504 - val_acc: 0.9398\n",
      "Epoch 46/100\n",
      "4186/4186 [==============================] - 16s 4ms/step - loss: 0.1260 - acc: 0.9560 - val_loss: 0.1470 - val_acc: 0.9417\n",
      "Epoch 47/100\n",
      "4186/4186 [==============================] - 16s 4ms/step - loss: 0.1268 - acc: 0.9525 - val_loss: 0.1583 - val_acc: 0.9388\n",
      "Epoch 48/100\n",
      "4186/4186 [==============================] - 16s 4ms/step - loss: 0.1226 - acc: 0.9539 - val_loss: 0.1428 - val_acc: 0.9407\n",
      "Epoch 49/100\n",
      "4186/4186 [==============================] - 16s 4ms/step - loss: 0.1215 - acc: 0.9541 - val_loss: 0.1475 - val_acc: 0.9379\n",
      "Epoch 50/100\n",
      "4186/4186 [==============================] - 16s 4ms/step - loss: 0.1128 - acc: 0.9591 - val_loss: 0.1565 - val_acc: 0.9369\n",
      "Epoch 51/100\n",
      "4186/4186 [==============================] - 16s 4ms/step - loss: 0.1181 - acc: 0.9575 - val_loss: 0.1377 - val_acc: 0.9455\n",
      "Epoch 52/100\n",
      "4186/4186 [==============================] - 16s 4ms/step - loss: 0.1148 - acc: 0.9584 - val_loss: 0.1368 - val_acc: 0.9426\n",
      "Epoch 53/100\n",
      "4186/4186 [==============================] - 16s 4ms/step - loss: 0.1043 - acc: 0.9611 - val_loss: 0.1302 - val_acc: 0.9493\n",
      "Epoch 54/100\n",
      "4186/4186 [==============================] - 16s 4ms/step - loss: 0.1083 - acc: 0.9620 - val_loss: 0.1346 - val_acc: 0.9493\n",
      "Epoch 55/100\n",
      "4186/4186 [==============================] - 16s 4ms/step - loss: 0.1079 - acc: 0.9599 - val_loss: 0.1685 - val_acc: 0.9398\n",
      "Epoch 56/100\n",
      "4186/4186 [==============================] - 16s 4ms/step - loss: 0.1091 - acc: 0.9618 - val_loss: 0.1327 - val_acc: 0.9493\n",
      "Epoch 57/100\n",
      "4186/4186 [==============================] - 16s 4ms/step - loss: 0.1014 - acc: 0.9613 - val_loss: 0.1293 - val_acc: 0.9474\n",
      "Epoch 58/100\n",
      "4186/4186 [==============================] - 16s 4ms/step - loss: 0.0942 - acc: 0.9658 - val_loss: 0.1319 - val_acc: 0.9484\n",
      "Epoch 59/100\n",
      "4186/4186 [==============================] - 16s 4ms/step - loss: 0.0922 - acc: 0.9673 - val_loss: 0.1311 - val_acc: 0.9522\n",
      "Epoch 60/100\n",
      "4186/4186 [==============================] - 16s 4ms/step - loss: 0.0916 - acc: 0.9668 - val_loss: 0.1307 - val_acc: 0.9417\n",
      "Epoch 61/100\n",
      "4186/4186 [==============================] - 16s 4ms/step - loss: 0.0937 - acc: 0.9644 - val_loss: 0.1299 - val_acc: 0.9455\n",
      "Epoch 62/100\n",
      "4186/4186 [==============================] - 16s 4ms/step - loss: 0.0947 - acc: 0.9634 - val_loss: 0.1259 - val_acc: 0.9484\n",
      "Epoch 63/100\n",
      "4186/4186 [==============================] - 16s 4ms/step - loss: 0.0863 - acc: 0.9694 - val_loss: 0.1397 - val_acc: 0.9417\n",
      "Epoch 64/100\n",
      "4186/4186 [==============================] - 16s 4ms/step - loss: 0.0818 - acc: 0.9689 - val_loss: 0.1286 - val_acc: 0.9522\n",
      "Epoch 65/100\n",
      "4186/4186 [==============================] - 16s 4ms/step - loss: 0.0869 - acc: 0.9661 - val_loss: 0.1265 - val_acc: 0.9465\n",
      "Epoch 66/100\n",
      "4186/4186 [==============================] - 16s 4ms/step - loss: 0.0760 - acc: 0.9735 - val_loss: 0.1441 - val_acc: 0.9465\n",
      "Epoch 67/100\n",
      "4186/4186 [==============================] - 16s 4ms/step - loss: 0.0797 - acc: 0.9697 - val_loss: 0.1339 - val_acc: 0.9474\n",
      "Epoch 68/100\n",
      "4186/4186 [==============================] - 16s 4ms/step - loss: 0.0797 - acc: 0.9682 - val_loss: 0.1227 - val_acc: 0.9493\n",
      "Epoch 69/100\n",
      "4186/4186 [==============================] - 16s 4ms/step - loss: 0.0754 - acc: 0.9725 - val_loss: 0.1245 - val_acc: 0.9541\n",
      "Epoch 70/100\n",
      "4186/4186 [==============================] - 16s 4ms/step - loss: 0.0752 - acc: 0.9713 - val_loss: 0.1109 - val_acc: 0.9541\n",
      "Epoch 71/100\n",
      "4186/4186 [==============================] - 16s 4ms/step - loss: 0.0748 - acc: 0.9732 - val_loss: 0.1217 - val_acc: 0.9474\n",
      "Epoch 72/100\n",
      "4186/4186 [==============================] - 16s 4ms/step - loss: 0.0683 - acc: 0.9754 - val_loss: 0.1054 - val_acc: 0.9551\n",
      "Epoch 73/100\n",
      "4186/4186 [==============================] - 16s 4ms/step - loss: 0.0632 - acc: 0.9761 - val_loss: 0.1490 - val_acc: 0.9436\n",
      "Epoch 74/100\n",
      "4186/4186 [==============================] - 16s 4ms/step - loss: 0.0616 - acc: 0.9797 - val_loss: 0.1229 - val_acc: 0.9522\n",
      "Epoch 75/100\n",
      "4186/4186 [==============================] - 16s 4ms/step - loss: 0.0607 - acc: 0.9783 - val_loss: 0.1394 - val_acc: 0.9446\n",
      "Epoch 76/100\n",
      "4186/4186 [==============================] - 16s 4ms/step - loss: 0.0613 - acc: 0.9799 - val_loss: 0.1228 - val_acc: 0.9493\n",
      "Epoch 77/100\n",
      "4186/4186 [==============================] - 16s 4ms/step - loss: 0.0596 - acc: 0.9797 - val_loss: 0.1182 - val_acc: 0.9541\n",
      "Epoch 78/100\n",
      "4186/4186 [==============================] - 16s 4ms/step - loss: 0.0521 - acc: 0.9814 - val_loss: 0.1249 - val_acc: 0.9512\n",
      "Epoch 79/100\n",
      "4186/4186 [==============================] - 16s 4ms/step - loss: 0.0585 - acc: 0.9787 - val_loss: 0.1195 - val_acc: 0.9579\n",
      "Epoch 80/100\n",
      "4186/4186 [==============================] - 16s 4ms/step - loss: 0.0656 - acc: 0.9759 - val_loss: 0.1078 - val_acc: 0.9637\n",
      "Epoch 81/100\n",
      "4186/4186 [==============================] - 16s 4ms/step - loss: 0.0476 - acc: 0.9818 - val_loss: 0.2967 - val_acc: 0.9226\n",
      "Epoch 82/100\n",
      "4186/4186 [==============================] - 16s 4ms/step - loss: 0.0577 - acc: 0.9783 - val_loss: 0.1225 - val_acc: 0.9512\n",
      "CPU times: user 10min 12s, sys: 3min 56s, total: 14min 9s\n",
      "Wall time: 21min 20s\n"
     ]
    }
   ],
   "source": [
    "%%time\n",
    "early_stopping = [EarlyStopping(monitor = 'val_loss', patience = 10)]\n",
    "history_9_128_6_quad_drop = model_9_128_6_quad_drop.fit(train_images_128,\n",
    "                                                 train_y_128,\n",
    "                                                 epochs=100,\n",
    "                                                 batch_size=50,\n",
    "                                                 validation_data=(val_images_128, val_y_128),\n",
    "                                             callbacks=early_stopping)"
   ]
  },
  {
   "cell_type": "code",
   "execution_count": 45,
   "metadata": {
    "scrolled": true
   },
   "outputs": [
    {
     "name": "stdout",
     "output_type": "stream",
     "text": [
      "Accuracy \n",
      " Train: 0.984, Test: 0.861\n",
      "Loss \n",
      " Train: 0.043, Test: 0.500 \n",
      "\n"
     ]
    },
    {
     "data": {
      "image/png": "[encoded data removed]",
      "text/plain": [
       "<Figure size 432x288 with 2 Axes>"
      ]
     },
     "metadata": {
      "needs_background": "light"
     },
     "output_type": "display_data"
    },
    {
     "name": "stdout",
     "output_type": "stream",
     "text": [
      "\n",
      "\n",
      "Confusion Matrix, without normalization\n"
     ]
    },
    {
     "data": {
      "image/png": "[encoded data removed]",
      "text/plain": [
       "<Figure size 432x288 with 2 Axes>"
      ]
     },
     "metadata": {
      "needs_background": "light"
     },
     "output_type": "display_data"
    },
    {
     "name": "stdout",
     "output_type": "stream",
     "text": [
      "\n",
      "\n",
      "              precision    recall  f1-score   support\n",
      "\n",
      "      NORMAL       0.94      0.67      0.78       234\n",
      "   PNEUMONIA       0.83      0.97      0.90       390\n",
      "\n",
      "    accuracy                           0.86       624\n",
      "   macro avg       0.89      0.82      0.84       624\n",
      "weighted avg       0.87      0.86      0.85       624\n",
      "\n"
     ]
    }
   ],
   "source": [
    "print(mf.evaluate_test(model_9_128_6_quad_drop, history_9_128_6_quad_drop, class_labels, train_images_128, test_images_128, train_y_128, test_y_128))"
   ]
  },
  {
   "cell_type": "markdown",
   "metadata": {},
   "source": [
    "## Model 10 <a id='mod10'></a>\n",
    "\n",
    "This model will be the same as Model 9, but with normal patience for early stopping.\n",
    "\n",
    "* 6x6 and 5x5 layer\n",
    "* 128x128 images\n",
    "* Quad layers\n",
    "* Double Dropout\n",
    "* Shift, Shear and Zoom on training set"
   ]
  },
  {
   "cell_type": "code",
   "execution_count": 36,
   "metadata": {},
   "outputs": [],
   "source": [
    "model_10_128_6_quad_drop = models.Sequential()\n",
    "model_10_128_6_quad_drop.add(layers.Conv2D(128, (3, 3), activation='relu', input_shape=(128, 128, 1)))\n",
    "model_10_128_6_quad_drop.add(layers.MaxPooling2D((2, 2)))\n",
    "\n",
    "model_10_128_6_quad_drop.add(layers.Conv2D(128, (6, 6), activation='relu'))\n",
    "model_10_128_6_quad_drop.add(layers.MaxPooling2D((2, 2)))\n",
    "\n",
    "model_10_128_6_quad_drop.add(layers.Conv2D(256, (5, 5), activation='relu'))\n",
    "model_10_128_6_quad_drop.add(layers.MaxPooling2D((2, 2)))\n",
    "\n",
    "model_10_128_6_quad_drop.add(layers.Conv2D(512, (4, 4), activation='relu'))\n",
    "model_10_128_6_quad_drop.add(layers.MaxPooling2D((2, 2)))\n",
    "\n",
    "model_10_128_6_quad_drop.add(layers.Conv2D(512, (3, 3), activation='relu'))\n",
    "model_10_128_6_quad_drop.add(layers.MaxPooling2D((2, 2)))\n",
    "\n",
    "model_10_128_6_quad_drop.add(Dropout(.3))\n",
    "model_10_128_6_quad_drop.add(layers.Flatten())\n",
    "model_10_128_6_quad_drop.add(layers.Dense(64, activation='relu'))\n",
    "model_10_128_6_quad_drop.add(Dropout(.3))\n",
    "model_10_128_6_quad_drop.add(layers.Dense(1, activation='sigmoid'))\n",
    "\n",
    "model_10_128_6_quad_drop.compile(loss='binary_crossentropy', optimizer=\"sgd\", metrics=['acc'])"
   ]
  },
  {
   "cell_type": "code",
   "execution_count": 37,
   "metadata": {
    "scrolled": true
   },
   "outputs": [
    {
     "name": "stdout",
     "output_type": "stream",
     "text": [
      "Train on 4186 samples, validate on 1046 samples\n",
      "Epoch 1/100\n",
      "4186/4186 [==============================] - 16s 4ms/step - loss: 0.6106 - acc: 0.7348 - val_loss: 0.5777 - val_acc: 0.7419\n",
      "Epoch 2/100\n",
      "4186/4186 [==============================] - 16s 4ms/step - loss: 0.5724 - acc: 0.7422 - val_loss: 0.5718 - val_acc: 0.7419\n",
      "Epoch 3/100\n",
      "4186/4186 [==============================] - 16s 4ms/step - loss: 0.5703 - acc: 0.7422 - val_loss: 0.5703 - val_acc: 0.7419\n",
      "Epoch 4/100\n",
      "4186/4186 [==============================] - 16s 4ms/step - loss: 0.5666 - acc: 0.7422 - val_loss: 0.5669 - val_acc: 0.7419\n",
      "Epoch 5/100\n",
      "4186/4186 [==============================] - 16s 4ms/step - loss: 0.5658 - acc: 0.7422 - val_loss: 0.5591 - val_acc: 0.7419\n",
      "Epoch 6/100\n",
      "4186/4186 [==============================] - 16s 4ms/step - loss: 0.5546 - acc: 0.7422 - val_loss: 0.5475 - val_acc: 0.7419\n",
      "Epoch 7/100\n",
      "4186/4186 [==============================] - 16s 4ms/step - loss: 0.5479 - acc: 0.7422 - val_loss: 0.5486 - val_acc: 0.7419\n",
      "Epoch 8/100\n",
      "4186/4186 [==============================] - 16s 4ms/step - loss: 0.5312 - acc: 0.7446 - val_loss: 0.5104 - val_acc: 0.7438\n",
      "Epoch 9/100\n",
      "4186/4186 [==============================] - 16s 4ms/step - loss: 0.5179 - acc: 0.7501 - val_loss: 0.4922 - val_acc: 0.8317\n",
      "Epoch 10/100\n",
      "4186/4186 [==============================] - 16s 4ms/step - loss: 0.5019 - acc: 0.7645 - val_loss: 0.5583 - val_acc: 0.8002\n",
      "Epoch 11/100\n",
      "4186/4186 [==============================] - 16s 4ms/step - loss: 0.4782 - acc: 0.7680 - val_loss: 0.5973 - val_acc: 0.6463\n",
      "Epoch 12/100\n",
      "4186/4186 [==============================] - 16s 4ms/step - loss: 0.4466 - acc: 0.7893 - val_loss: 0.3923 - val_acc: 0.8480\n",
      "Epoch 13/100\n",
      "4186/4186 [==============================] - 16s 4ms/step - loss: 0.4347 - acc: 0.7996 - val_loss: 0.3889 - val_acc: 0.8394\n",
      "Epoch 14/100\n",
      "4186/4186 [==============================] - 16s 4ms/step - loss: 0.4084 - acc: 0.8144 - val_loss: 0.4090 - val_acc: 0.8250\n",
      "Epoch 15/100\n",
      "4186/4186 [==============================] - 16s 4ms/step - loss: 0.3790 - acc: 0.8270 - val_loss: 0.3934 - val_acc: 0.8375\n",
      "Epoch 16/100\n",
      "4186/4186 [==============================] - 16s 4ms/step - loss: 0.3783 - acc: 0.8280 - val_loss: 0.3308 - val_acc: 0.8671\n",
      "Epoch 17/100\n",
      "4186/4186 [==============================] - 16s 4ms/step - loss: 0.3578 - acc: 0.8392 - val_loss: 0.3279 - val_acc: 0.8671\n",
      "Epoch 18/100\n",
      "4186/4186 [==============================] - 16s 4ms/step - loss: 0.3432 - acc: 0.8497 - val_loss: 0.3591 - val_acc: 0.8509\n",
      "Epoch 19/100\n",
      "4186/4186 [==============================] - 16s 4ms/step - loss: 0.3268 - acc: 0.8657 - val_loss: 0.3707 - val_acc: 0.8413\n",
      "Epoch 20/100\n",
      "4186/4186 [==============================] - 16s 4ms/step - loss: 0.3293 - acc: 0.8612 - val_loss: 0.2957 - val_acc: 0.8728\n",
      "Epoch 21/100\n",
      "4186/4186 [==============================] - 16s 4ms/step - loss: 0.3035 - acc: 0.8667 - val_loss: 0.2661 - val_acc: 0.8901\n",
      "Epoch 22/100\n",
      "4186/4186 [==============================] - 16s 4ms/step - loss: 0.3128 - acc: 0.8698 - val_loss: 0.3198 - val_acc: 0.8738\n",
      "Epoch 23/100\n",
      "4186/4186 [==============================] - 16s 4ms/step - loss: 0.2854 - acc: 0.8794 - val_loss: 0.2686 - val_acc: 0.8805\n",
      "Epoch 24/100\n",
      "4186/4186 [==============================] - 16s 4ms/step - loss: 0.2900 - acc: 0.8779 - val_loss: 0.2875 - val_acc: 0.8815\n",
      "Epoch 25/100\n",
      "4186/4186 [==============================] - 16s 4ms/step - loss: 0.2714 - acc: 0.8908 - val_loss: 0.2453 - val_acc: 0.9006\n",
      "Epoch 26/100\n",
      "4186/4186 [==============================] - 16s 4ms/step - loss: 0.2711 - acc: 0.8834 - val_loss: 0.2787 - val_acc: 0.8824\n",
      "Epoch 27/100\n",
      "4186/4186 [==============================] - 16s 4ms/step - loss: 0.2678 - acc: 0.8937 - val_loss: 0.2293 - val_acc: 0.9034\n",
      "Epoch 28/100\n",
      "4186/4186 [==============================] - 16s 4ms/step - loss: 0.2545 - acc: 0.8994 - val_loss: 0.2388 - val_acc: 0.9044\n",
      "Epoch 29/100\n",
      "4186/4186 [==============================] - 16s 4ms/step - loss: 0.2463 - acc: 0.9035 - val_loss: 0.2233 - val_acc: 0.9073\n",
      "Epoch 30/100\n",
      "4186/4186 [==============================] - 16s 4ms/step - loss: 0.2338 - acc: 0.9071 - val_loss: 0.2119 - val_acc: 0.9082\n",
      "Epoch 31/100\n",
      "4186/4186 [==============================] - 16s 4ms/step - loss: 0.2267 - acc: 0.9075 - val_loss: 0.2075 - val_acc: 0.9082\n",
      "Epoch 32/100\n",
      "4186/4186 [==============================] - 16s 4ms/step - loss: 0.2207 - acc: 0.9145 - val_loss: 0.1901 - val_acc: 0.9254\n",
      "Epoch 33/100\n",
      "4186/4186 [==============================] - 16s 4ms/step - loss: 0.2114 - acc: 0.9166 - val_loss: 0.2048 - val_acc: 0.9197\n",
      "Epoch 34/100\n",
      "4186/4186 [==============================] - 16s 4ms/step - loss: 0.2070 - acc: 0.9188 - val_loss: 0.1785 - val_acc: 0.9264\n",
      "Epoch 35/100\n",
      "4186/4186 [==============================] - 16s 4ms/step - loss: 0.1919 - acc: 0.9245 - val_loss: 0.1845 - val_acc: 0.9302\n",
      "Epoch 36/100\n",
      "4186/4186 [==============================] - 16s 4ms/step - loss: 0.1940 - acc: 0.9236 - val_loss: 0.1861 - val_acc: 0.9197\n",
      "Epoch 37/100\n",
      "4186/4186 [==============================] - 16s 4ms/step - loss: 0.1843 - acc: 0.9298 - val_loss: 0.2486 - val_acc: 0.9101\n",
      "Epoch 38/100\n",
      "4186/4186 [==============================] - 16s 4ms/step - loss: 0.1812 - acc: 0.9290 - val_loss: 0.1738 - val_acc: 0.9340\n",
      "Epoch 39/100\n",
      "4186/4186 [==============================] - 16s 4ms/step - loss: 0.1705 - acc: 0.9355 - val_loss: 0.1779 - val_acc: 0.9254\n",
      "Epoch 40/100\n",
      "4186/4186 [==============================] - 16s 4ms/step - loss: 0.1650 - acc: 0.9396 - val_loss: 0.1587 - val_acc: 0.9417\n",
      "Epoch 41/100\n",
      "4186/4186 [==============================] - 16s 4ms/step - loss: 0.1600 - acc: 0.9376 - val_loss: 0.1566 - val_acc: 0.9379\n",
      "Epoch 42/100\n",
      "4186/4186 [==============================] - 16s 4ms/step - loss: 0.1519 - acc: 0.9429 - val_loss: 0.1546 - val_acc: 0.9369\n",
      "Epoch 43/100\n",
      "4186/4186 [==============================] - 16s 4ms/step - loss: 0.1485 - acc: 0.9465 - val_loss: 0.1663 - val_acc: 0.9331\n",
      "Epoch 44/100\n",
      "4186/4186 [==============================] - 16s 4ms/step - loss: 0.1473 - acc: 0.9436 - val_loss: 0.3121 - val_acc: 0.8633\n",
      "Epoch 45/100\n",
      "4186/4186 [==============================] - 16s 4ms/step - loss: 0.1371 - acc: 0.9503 - val_loss: 0.1537 - val_acc: 0.9359\n",
      "Epoch 46/100\n",
      "4186/4186 [==============================] - 16s 4ms/step - loss: 0.1337 - acc: 0.9515 - val_loss: 0.1568 - val_acc: 0.9398\n",
      "Epoch 47/100\n",
      "4186/4186 [==============================] - 16s 4ms/step - loss: 0.1365 - acc: 0.9494 - val_loss: 0.1497 - val_acc: 0.9398\n",
      "Epoch 48/100\n",
      "4186/4186 [==============================] - 16s 4ms/step - loss: 0.1260 - acc: 0.9527 - val_loss: 0.1678 - val_acc: 0.9379\n",
      "Epoch 49/100\n",
      "4186/4186 [==============================] - 16s 4ms/step - loss: 0.1288 - acc: 0.9537 - val_loss: 0.1427 - val_acc: 0.9436\n",
      "Epoch 50/100\n",
      "4186/4186 [==============================] - 16s 4ms/step - loss: 0.1198 - acc: 0.9558 - val_loss: 0.1480 - val_acc: 0.9436\n",
      "Epoch 51/100\n",
      "4186/4186 [==============================] - 16s 4ms/step - loss: 0.1179 - acc: 0.9580 - val_loss: 0.1366 - val_acc: 0.9426\n",
      "Epoch 52/100\n",
      "4186/4186 [==============================] - 16s 4ms/step - loss: 0.1121 - acc: 0.9587 - val_loss: 0.1751 - val_acc: 0.9350\n",
      "Epoch 53/100\n",
      "4186/4186 [==============================] - 16s 4ms/step - loss: 0.1070 - acc: 0.9603 - val_loss: 0.1357 - val_acc: 0.9436\n",
      "Epoch 54/100\n",
      "4186/4186 [==============================] - 16s 4ms/step - loss: 0.1100 - acc: 0.9565 - val_loss: 0.1228 - val_acc: 0.9493\n",
      "Epoch 55/100\n",
      "4186/4186 [==============================] - 16s 4ms/step - loss: 0.1031 - acc: 0.9651 - val_loss: 0.1275 - val_acc: 0.9532\n",
      "Epoch 56/100\n",
      "4186/4186 [==============================] - 16s 4ms/step - loss: 0.0954 - acc: 0.9680 - val_loss: 0.1481 - val_acc: 0.9503\n",
      "Epoch 57/100\n",
      "4186/4186 [==============================] - 16s 4ms/step - loss: 0.1017 - acc: 0.9623 - val_loss: 0.1372 - val_acc: 0.9398\n",
      "Epoch 58/100\n",
      "4186/4186 [==============================] - 16s 4ms/step - loss: 0.0895 - acc: 0.9675 - val_loss: 0.1203 - val_acc: 0.9532\n",
      "Epoch 59/100\n",
      "4186/4186 [==============================] - 16s 4ms/step - loss: 0.0926 - acc: 0.9656 - val_loss: 0.1294 - val_acc: 0.9512\n",
      "Epoch 60/100\n",
      "4186/4186 [==============================] - 16s 4ms/step - loss: 0.0868 - acc: 0.9687 - val_loss: 0.1311 - val_acc: 0.9503\n",
      "Epoch 61/100\n",
      "4186/4186 [==============================] - 16s 4ms/step - loss: 0.0954 - acc: 0.9627 - val_loss: 0.1365 - val_acc: 0.9436\n",
      "Epoch 62/100\n",
      "4186/4186 [==============================] - 16s 4ms/step - loss: 0.0850 - acc: 0.9680 - val_loss: 0.1707 - val_acc: 0.9407\n",
      "Epoch 63/100\n",
      "4186/4186 [==============================] - 16s 4ms/step - loss: 0.0851 - acc: 0.9644 - val_loss: 0.1170 - val_acc: 0.9493\n",
      "Epoch 64/100\n",
      "4186/4186 [==============================] - 16s 4ms/step - loss: 0.0810 - acc: 0.9687 - val_loss: 0.1288 - val_acc: 0.9474\n",
      "Epoch 65/100\n",
      "4186/4186 [==============================] - 16s 4ms/step - loss: 0.0861 - acc: 0.9689 - val_loss: 0.1197 - val_acc: 0.9512\n",
      "Epoch 66/100\n",
      "4186/4186 [==============================] - 16s 4ms/step - loss: 0.0743 - acc: 0.9740 - val_loss: 0.1289 - val_acc: 0.9493\n",
      "Epoch 67/100\n",
      "4186/4186 [==============================] - 15s 4ms/step - loss: 0.0798 - acc: 0.9701 - val_loss: 0.1188 - val_acc: 0.9541\n",
      "Epoch 68/100\n",
      "4186/4186 [==============================] - 15s 4ms/step - loss: 0.0814 - acc: 0.9675 - val_loss: 0.1235 - val_acc: 0.9512\n",
      "CPU times: user 8min 29s, sys: 3min 16s, total: 11min 46s\n",
      "Wall time: 17min 44s\n"
     ]
    }
   ],
   "source": [
    "%%time\n",
    "early_stopping = [EarlyStopping(monitor = 'val_loss', patience = 5)]\n",
    "history_10_128_6_quad_drop = model_10_128_6_quad_drop.fit(train_images_128,\n",
    "                                                 train_y_128,\n",
    "                                                 epochs=100,\n",
    "                                                 batch_size=50,\n",
    "                                                 validation_data=(val_images_128, val_y_128),\n",
    "                                             callbacks=early_stopping)"
   ]
  },
  {
   "cell_type": "code",
   "execution_count": 46,
   "metadata": {
    "scrolled": true
   },
   "outputs": [
    {
     "name": "stdout",
     "output_type": "stream",
     "text": [
      "Accuracy \n",
      " Train: 0.980, Test: 0.861\n",
      "Loss \n",
      " Train: 0.053, Test: 0.581 \n",
      "\n"
     ]
    },
    {
     "data": {
      "image/png": "[encoded data removed]",
      "text/plain": [
       "<Figure size 432x288 with 2 Axes>"
      ]
     },
     "metadata": {
      "needs_background": "light"
     },
     "output_type": "display_data"
    },
    {
     "name": "stdout",
     "output_type": "stream",
     "text": [
      "\n",
      "\n",
      "Confusion Matrix, without normalization\n"
     ]
    },
    {
     "data": {
      "image/png": "[encoded data removed]",
      "text/plain": [
       "<Figure size 432x288 with 2 Axes>"
      ]
     },
     "metadata": {
      "needs_background": "light"
     },
     "output_type": "display_data"
    },
    {
     "name": "stdout",
     "output_type": "stream",
     "text": [
      "\n",
      "\n",
      "              precision    recall  f1-score   support\n",
      "\n",
      "      NORMAL       0.97      0.65      0.78       234\n",
      "   PNEUMONIA       0.82      0.99      0.90       390\n",
      "\n",
      "    accuracy                           0.86       624\n",
      "   macro avg       0.90      0.82      0.84       624\n",
      "weighted avg       0.88      0.86      0.85       624\n",
      "\n"
     ]
    }
   ],
   "source": [
    "print(mf.evaluate_test(model_10_128_6_quad_drop, history_10_128_6_quad_drop, class_labels, train_images_128, test_images_128, train_y_128, test_y_128))"
   ]
  }
 ],
 "metadata": {
  "kernelspec": {
   "display_name": "Python 3",
   "language": "python",
   "name": "python3"
  },
  "language_info": {
   "codemirror_mode": {
    "name": "ipython",
    "version": 3
   },
   "file_extension": ".py",
   "mimetype": "text/x-python",
   "name": "python",
   "nbconvert_exporter": "python",
   "pygments_lexer": "ipython3",
   "version": "3.7.4"
  }
 },
 "nbformat": 4,
 "nbformat_minor": 4
}
