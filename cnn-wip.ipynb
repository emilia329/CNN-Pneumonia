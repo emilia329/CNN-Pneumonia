{
 "cells": [
  {
   "cell_type": "markdown",
   "metadata": {},
   "source": [
    "# EDA\n",
    "\n",
    "## Import Data and Libraries"
   ]
  },
  {
   "cell_type": "code",
   "execution_count": 16,
   "metadata": {},
   "outputs": [],
   "source": [
    "import os\n",
    "import numpy as np\n",
    "import matplotlib.pyplot as plt"
   ]
  },
  {
   "cell_type": "markdown",
   "metadata": {},
   "source": [
    "## Viewing Images\n",
    "\n",
    "In this project, we are working with images of chest X-rays which we are classifying into two categories: pneumonia or normal. First, let's look at the difference between these.\n",
    "\n",
    "#### Normal:\n",
    "<table style=\"border-collapse: collapse;\">\n",
    "    <tr>\n",
    "        <td style=\"border: none;\"><img src=\"Images/normal1.jpeg\" alt=\"normal1\" width=\"450px\"/></td>\n",
    "        <td style=\"border: none;\"><img src=\"Images/normal2.jpeg\" alt=\"normal2\" width=\"400px\"/></td>\n",
    "        <td style=\"border: none;\"><img src=\"Images/normal3.jpeg\" alt=\"normal3\" width=\"400px\"/></td>\n",
    "    </tr>\n",
    "</table>\n",
    "\n",
    "#### Pneumonia:\n",
    "<table style=\"border-collapse: collapse;\">\n",
    "    <tr>\n",
    "        <td style=\"border: none;\"><img src=\"Images/pneumonia1\" alt=\"pneumonia1\" width=\"450px\"/></td>\n",
    "        <td style=\"border: none;\"><img src=\"Images/pneumonia2\" alt=\"pneumonia2\" width=\"400px\"/></td>\n",
    "        <td style=\"border: none;\"><img src=\"Images/pneumonia3\" alt=\"pneumonia3\" width=\"400px\"/></td>\n",
    "    </tr>\n",
    "</table>\n",
    "\n",
    "From <a href=\"https://www.radiologyinfo.org/en/info.cfm?pg=pneumonia\">Radiology.org</a>: <br> _Pneumonia is an infection that causes inflammation in one or both of the lungs. It can be caused by a virus, bacteria, fungi or other germs. The infection is usually acquired when a person breathes in air carrying germs._\n",
    "\n",
    "When radiologists look at these images, they look for white spots called infiltrates that identify an infection, as well as abscesses or fluids that could be caused by pneumonia. We find it a bit difficult to tell the difference between these due to not being trained radiologists, but we can definitely say some x-rays (such as the leftmost pneumonia picture above) look more \"cloudy\" than others.\n",
    "\n",
    "## Class Distribution\n",
    "\n",
    "Before we start modeling, we want to check for class imbalance. Our data is split into 3 directories, each holding the images needed for our test, train, and validation sets. We'll add up the number of files in these directories to get the count of data points in each class."
   ]
  },
  {
   "cell_type": "code",
   "execution_count": 20,
   "metadata": {},
   "outputs": [
    {
     "data": {
      "image/png": "[encoded data removed]",
      "text/plain": [
       "<Figure size 432x288 with 1 Axes>"
      ]
     },
     "metadata": {
      "needs_background": "light"
     },
     "output_type": "display_data"
    }
   ],
   "source": [
    "n_count = len(os.listdir('chest_xray/test/NORMAL')) + len(os.listdir('chest_xray/train/NORMAL')) + len(os.listdir('chest_xray/val/NORMAL'))\n",
    "p_count = len(os.listdir('chest_xray/test/PNEUMONIA')) + len(os.listdir('chest_xray/train/PNEUMONIA')) + len(os.listdir('chest_xray/val/PNEUMONIA'))\n",
    "\n",
    "objects = (f'Normal: {n_count}', f'Pneumonia: {p_count}')\n",
    "y_pos = np.arange(len(objects))\n",
    "\n",
    "plt.bar(y_pos, [n_count,p_count], align='center', alpha=0.5)\n",
    "plt.xticks(y_pos, objects)\n",
    "plt.ylabel('Count')\n",
    "plt.title('Data Points')\n",
    "\n",
    "plt.show()"
   ]
  },
  {
   "cell_type": "markdown",
   "metadata": {},
   "source": [
    "We can see we have a 27:73 split. This isn't a huge imbalance, but definitely something to keep in mind when evaluating our models, as our null accuracy is 73%. This is the accuracy we could achieve by always predicting the most frequent class."
   ]
  }
 ],
 "metadata": {
  "kernelspec": {
   "display_name": "Python 3",
   "language": "python",
   "name": "python3"
  },
  "language_info": {
   "codemirror_mode": {
    "name": "ipython",
    "version": 3
   },
   "file_extension": ".py",
   "mimetype": "text/x-python",
   "name": "python",
   "nbconvert_exporter": "python",
   "pygments_lexer": "ipython3",
   "version": "3.7.4"
  }
 },
 "nbformat": 4,
 "nbformat_minor": 2
}
