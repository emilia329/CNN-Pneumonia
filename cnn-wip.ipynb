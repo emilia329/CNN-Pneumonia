{
 "cells": [
  {
   "cell_type": "markdown",
   "metadata": {},
   "source": [
    "# EDA\n",
    "\n",
    "## Import Libraries"
   ]
  },
  {
   "cell_type": "code",
   "execution_count": 115,
   "metadata": {},
   "outputs": [],
   "source": [
    "import os\n",
    "import numpy as np\n",
    "import matplotlib.pyplot as plt\n",
    "from keras.preprocessing.image import ImageDataGenerator\n",
    "from keras import models, layers\n",
    "from sklearn import metrics\n",
    "from matplotlib import pyplot\n",
    "import itertools\n",
    "import seaborn as sns"
   ]
  },
  {
   "cell_type": "markdown",
   "metadata": {},
   "source": [
    "## Viewing Images\n",
    "\n",
    "In this project, we are working with images of chest X-rays which we are classifying into two categories: pneumonia or normal. First, let's look at the difference between these.\n",
    "\n",
    "#### Normal:\n",
    "<table style=\"border-collapse: collapse;\">\n",
    "    <tr>\n",
    "        <td style=\"border: none;\"><img src=\"Images/normal1.jpeg\" alt=\"normal1\" width=\"450px\"/></td>\n",
    "        <td style=\"border: none;\"><img src=\"Images/normal2.jpeg\" alt=\"normal2\" width=\"400px\"/></td>\n",
    "        <td style=\"border: none;\"><img src=\"Images/normal3.jpeg\" alt=\"normal3\" width=\"400px\"/></td>\n",
    "    </tr>\n",
    "</table>\n",
    "\n",
    "#### Pneumonia:\n",
    "<table style=\"border-collapse: collapse;\">\n",
    "    <tr>\n",
    "        <td style=\"border: none;\"><img src=\"Images/pneumonia1.jpeg\" alt=\"pneumonia1\" width=\"450px\"/></td>\n",
    "        <td style=\"border: none;\"><img src=\"Images/pneumonia2.jpeg\" alt=\"pneumonia2\" width=\"400px\"/></td>\n",
    "        <td style=\"border: none;\"><img src=\"Images/pneumonia3.jpeg\" alt=\"pneumonia3\" width=\"400px\"/></td>\n",
    "    </tr>\n",
    "</table>\n",
    "\n",
    "From <a href=\"https://www.radiologyinfo.org/en/info.cfm?pg=pneumonia\">Radiology.org</a>: <br> _Pneumonia is an infection that causes inflammation in one or both of the lungs. It can be caused by a virus, bacteria, fungi or other germs. The infection is usually acquired when a person breathes in air carrying germs._\n",
    "\n",
    "When radiologists look at these images, they look for white spots called infiltrates that identify an infection, as well as abscesses or fluids that could be caused by pneumonia. We find it a bit difficult to tell the difference between these due to not being trained radiologists, but we can definitely say some x-rays (such as the leftmost pneumonia picture above) look more \"cloudy\" than others.\n",
    "\n",
    "Further reviewing our data, we can see that:\n",
    "* Every image is grayscale, only containing color data in the gray channel (as opposed to RGB alpha channels).\n",
    "* Each image has a different pixel dimension, many with non-square aspect ratios. \n",
    "* Most images have tick marks on the left and right edges.\n",
    "* Many images contain other text near the edges.\n",
    "* Some images show the patient rotated at an angle.\n",
    "\n",
    "<img src=\"Images/tp_512_prob.png\" alt=\"image_problems\" width=\"450px\"/>\n",
    "\n",
    "To remedy any issues caused by this, we will change parameters of ImageDataGenerator while creating our models.\n",
    "\n",
    "## Class Distribution\n",
    "\n",
    "Before we start modeling, we want to check for class imbalance. Our data is split into 3 directories, each holding the images needed for our test, train, and validation sets. We'll add up the number of files in these directories to get the count of data points in each class."
   ]
  },
  {
   "cell_type": "code",
   "execution_count": 2,
   "metadata": {},
   "outputs": [
    {
     "data": {
      "image/png": "[encoded data removed]",
      "text/plain": [
       "<Figure size 432x288 with 1 Axes>"
      ]
     },
     "metadata": {
      "needs_background": "light"
     },
     "output_type": "display_data"
    }
   ],
   "source": [
    "n_count = len(os.listdir('chest_xray/test/NORMAL')) + len(os.listdir('chest_xray/train/NORMAL')) + len(os.listdir('chest_xray/val/NORMAL'))\n",
    "p_count = len(os.listdir('chest_xray/test/PNEUMONIA')) + len(os.listdir('chest_xray/train/PNEUMONIA')) + len(os.listdir('chest_xray/val/PNEUMONIA'))\n",
    "\n",
    "objects = (f'Normal: {n_count}', f'Pneumonia: {p_count}')\n",
    "y_pos = np.arange(len(objects))\n",
    "\n",
    "plt.bar(y_pos, [n_count,p_count], align='center', alpha=0.5)\n",
    "plt.xticks(y_pos, objects)\n",
    "plt.ylabel('Count')\n",
    "plt.title('Data Points')\n",
    "\n",
    "plt.show()"
   ]
  },
  {
   "cell_type": "markdown",
   "metadata": {},
   "source": [
    "We can see we have a 27:73 split. This isn't a huge imbalance, but definitely something to keep in mind when evaluating our models, as our null accuracy is 73%. This is the accuracy we could achieve by always predicting the most frequent class.\n",
    "\n",
    "# Modeling\n",
    "\n",
    "## Gather Image Data\n",
    "\n",
    "First, we get the image data from our folders."
   ]
  },
  {
   "cell_type": "code",
   "execution_count": 3,
   "metadata": {},
   "outputs": [
    {
     "name": "stdout",
     "output_type": "stream",
     "text": [
      "Found 5216 images belonging to 2 classes.\n",
      "Found 624 images belonging to 2 classes.\n",
      "Found 16 images belonging to 2 classes.\n"
     ]
    }
   ],
   "source": [
    "base_gen = ImageDataGenerator(rescale=1./255)\n",
    "\n",
    "train_generator = base_gen.flow_from_directory('chest_xray/train/', target_size=(64, 64), batch_size = 5218)\n",
    "test_generator = base_gen.flow_from_directory('chest_xray/test/', target_size=(64, 64), batch_size = 624)\n",
    "val_generator = base_gen.flow_from_directory('chest_xray/val/', target_size=(64, 64), batch_size = 18)"
   ]
  },
  {
   "cell_type": "markdown",
   "metadata": {},
   "source": [
    "Next, we'll make a list of matrices per image from this data."
   ]
  },
  {
   "cell_type": "code",
   "execution_count": 11,
   "metadata": {},
   "outputs": [],
   "source": [
    "train_images, train_labels = next(train_generator)\n",
    "test_images, test_labels = next(test_generator)\n",
    "val_images, val_labels = next(val_generator)"
   ]
  },
  {
   "cell_type": "code",
   "execution_count": 19,
   "metadata": {},
   "outputs": [],
   "source": [
    "class_labels = list(train_generator.class_indices.keys())"
   ]
  },
  {
   "cell_type": "code",
   "execution_count": 20,
   "metadata": {},
   "outputs": [
    {
     "name": "stdout",
     "output_type": "stream",
     "text": [
      "train_images shape: (5216, 64, 64, 3)\n",
      "train_labels shape: (5216, 2)\n",
      "test_images shape: (624, 64, 64, 3)\n",
      "test_labels shape: (624, 2)\n",
      "val_images shape: (16, 64, 64, 3)\n",
      "val_labels shape: (16, 2)\n"
     ]
    }
   ],
   "source": [
    "print (\"train_images shape: \" + str(train_images.shape))\n",
    "print (\"train_labels shape: \" + str(train_labels.shape))\n",
    "print (\"test_images shape: \" + str(test_images.shape))\n",
    "print (\"test_labels shape: \" + str(test_labels.shape))\n",
    "print (\"val_images shape: \" + str(val_images.shape))\n",
    "print (\"val_labels shape: \" + str(val_labels.shape))"
   ]
  },
  {
   "cell_type": "code",
   "execution_count": 180,
   "metadata": {},
   "outputs": [
    {
     "data": {
      "text/plain": [
       "array([[1., 0.],\n",
       "       [1., 0.],\n",
       "       [0., 1.],\n",
       "       ...,\n",
       "       [0., 1.],\n",
       "       [1., 0.],\n",
       "       [0., 1.]], dtype=float32)"
      ]
     },
     "execution_count": 180,
     "metadata": {},
     "output_type": "execute_result"
    }
   ],
   "source": [
    "train_labels"
   ]
  },
  {
   "cell_type": "code",
   "execution_count": 179,
   "metadata": {},
   "outputs": [
    {
     "data": {
      "text/plain": [
       "{'NORMAL': 0, 'PNEUMONIA': 1}"
      ]
     },
     "execution_count": 179,
     "metadata": {},
     "output_type": "execute_result"
    }
   ],
   "source": [
    "train_generator.class_indices"
   ]
  },
  {
   "cell_type": "markdown",
   "metadata": {},
   "source": [
    "Our label arrays have 2 columns, one for True and one for False. We only need one of these as having two is redundant.\n",
    "\n",
    "We see that the second index is for pneumonia. This means if there is a 0 in this column the picture is clasified as normal, and 1 if it's classified as pneumonia. Let's keep this second column as our labels."
   ]
  },
  {
   "cell_type": "code",
   "execution_count": 181,
   "metadata": {},
   "outputs": [],
   "source": [
    "train_y = np.reshape(train_labels[:,1], (5216,1))\n",
    "test_y = np.reshape(test_labels[:,1], (624,1))\n",
    "val_y = np.reshape(val_labels[:,1], (16,1))"
   ]
  },
  {
   "cell_type": "code",
   "execution_count": 182,
   "metadata": {},
   "outputs": [
    {
     "data": {
      "text/plain": [
       "array([[0.],\n",
       "       [0.],\n",
       "       [1.],\n",
       "       ...,\n",
       "       [1.],\n",
       "       [0.],\n",
       "       [1.]], dtype=float32)"
      ]
     },
     "execution_count": 182,
     "metadata": {},
     "output_type": "execute_result"
    }
   ],
   "source": [
    "train_y"
   ]
  },
  {
   "cell_type": "markdown",
   "metadata": {},
   "source": [
    "## Baseline Model"
   ]
  },
  {
   "cell_type": "code",
   "execution_count": 22,
   "metadata": {},
   "outputs": [],
   "source": [
    "model_1 = models.Sequential()\n",
    "model_1.add(layers.Conv2D(32, (3, 3), activation='relu', input_shape=(64, 64, 3)))\n",
    "model_1.add(layers.MaxPooling2D((2, 2)))\n",
    "\n",
    "model_1.add(layers.Conv2D(32, (4, 4), activation='relu'))\n",
    "model_1.add(layers.MaxPooling2D((2, 2)))\n",
    "\n",
    "model_1.add(layers.Conv2D(64, (3, 3), activation='relu'))\n",
    "model_1.add(layers.MaxPooling2D((2, 2)))\n",
    "\n",
    "model_1.add(layers.Flatten())\n",
    "model_1.add(layers.Dense(64, activation='relu'))\n",
    "model_1.add(layers.Dense(1, activation='sigmoid'))\n",
    "\n",
    "model_1.compile(loss='binary_crossentropy', optimizer=\"sgd\", metrics=['acc'])"
   ]
  },
  {
   "cell_type": "code",
   "execution_count": 23,
   "metadata": {
    "scrolled": true
   },
   "outputs": [
    {
     "name": "stdout",
     "output_type": "stream",
     "text": [
      "Train on 5216 samples, validate on 16 samples\n",
      "Epoch 1/30\n",
      "5216/5216 [==============================] - 13s 2ms/step - loss: 0.5761 - acc: 0.7337 - val_loss: 0.7584 - val_acc: 0.5000\n",
      "Epoch 2/30\n",
      "5216/5216 [==============================] - 13s 3ms/step - loss: 0.5241 - acc: 0.7448 - val_loss: 1.0450 - val_acc: 0.5000\n",
      "Epoch 3/30\n",
      "5216/5216 [==============================] - 14s 3ms/step - loss: 0.4612 - acc: 0.7876 - val_loss: 0.9883 - val_acc: 0.5625\n",
      "Epoch 4/30\n",
      "5216/5216 [==============================] - 13s 3ms/step - loss: 0.3803 - acc: 0.8378 - val_loss: 0.7974 - val_acc: 0.6250\n",
      "Epoch 5/30\n",
      "5216/5216 [==============================] - 14s 3ms/step - loss: 0.3014 - acc: 0.8763 - val_loss: 0.5713 - val_acc: 0.6875\n",
      "Epoch 6/30\n",
      "5216/5216 [==============================] - 12s 2ms/step - loss: 0.2511 - acc: 0.8986 - val_loss: 0.9012 - val_acc: 0.6250\n",
      "Epoch 7/30\n",
      "5216/5216 [==============================] - 14s 3ms/step - loss: 0.2145 - acc: 0.9132 - val_loss: 0.4228 - val_acc: 0.8750\n",
      "Epoch 8/30\n",
      "5216/5216 [==============================] - 13s 3ms/step - loss: 0.1818 - acc: 0.9285 - val_loss: 0.3981 - val_acc: 0.8125\n",
      "Epoch 9/30\n",
      "5216/5216 [==============================] - 15s 3ms/step - loss: 0.1670 - acc: 0.9358 - val_loss: 0.4719 - val_acc: 0.7500\n",
      "Epoch 10/30\n",
      "5216/5216 [==============================] - 14s 3ms/step - loss: 0.1495 - acc: 0.9410 - val_loss: 0.5816 - val_acc: 0.6875\n",
      "Epoch 11/30\n",
      "5216/5216 [==============================] - 15s 3ms/step - loss: 0.1478 - acc: 0.9431 - val_loss: 0.3372 - val_acc: 0.8750\n",
      "Epoch 12/30\n",
      "5216/5216 [==============================] - 15s 3ms/step - loss: 0.1420 - acc: 0.9450 - val_loss: 0.6038 - val_acc: 0.7500\n",
      "Epoch 13/30\n",
      "5216/5216 [==============================] - 14s 3ms/step - loss: 0.1334 - acc: 0.9479 - val_loss: 0.3321 - val_acc: 0.8750\n",
      "Epoch 14/30\n",
      "5216/5216 [==============================] - 13s 3ms/step - loss: 0.1335 - acc: 0.9471 - val_loss: 0.3763 - val_acc: 0.7500\n",
      "Epoch 15/30\n",
      "5216/5216 [==============================] - 15s 3ms/step - loss: 0.1284 - acc: 0.9511 - val_loss: 0.5509 - val_acc: 0.6875\n",
      "Epoch 16/30\n",
      "5216/5216 [==============================] - 15s 3ms/step - loss: 0.1239 - acc: 0.9523 - val_loss: 0.3751 - val_acc: 0.7500\n",
      "Epoch 17/30\n",
      "5216/5216 [==============================] - 15s 3ms/step - loss: 0.1160 - acc: 0.9555 - val_loss: 0.5856 - val_acc: 0.7500\n",
      "Epoch 18/30\n",
      "5216/5216 [==============================] - 14s 3ms/step - loss: 0.1115 - acc: 0.9592 - val_loss: 0.2813 - val_acc: 0.8750\n",
      "Epoch 19/30\n",
      "5216/5216 [==============================] - 14s 3ms/step - loss: 0.1153 - acc: 0.9567 - val_loss: 0.9355 - val_acc: 0.5625\n",
      "Epoch 20/30\n",
      "5216/5216 [==============================] - 15s 3ms/step - loss: 0.1114 - acc: 0.9576 - val_loss: 0.3360 - val_acc: 0.7500\n",
      "Epoch 21/30\n",
      "5216/5216 [==============================] - 15s 3ms/step - loss: 0.1078 - acc: 0.9574 - val_loss: 0.3111 - val_acc: 0.8125\n",
      "Epoch 22/30\n",
      "5216/5216 [==============================] - 13s 3ms/step - loss: 0.1063 - acc: 0.9592 - val_loss: 0.4709 - val_acc: 0.7500\n",
      "Epoch 23/30\n",
      "5216/5216 [==============================] - 13s 2ms/step - loss: 0.1057 - acc: 0.9574 - val_loss: 0.9901 - val_acc: 0.5625\n",
      "Epoch 24/30\n",
      "5216/5216 [==============================] - 12s 2ms/step - loss: 0.1039 - acc: 0.9582 - val_loss: 0.3765 - val_acc: 0.7500\n",
      "Epoch 25/30\n",
      "5216/5216 [==============================] - 12s 2ms/step - loss: 0.0988 - acc: 0.9636 - val_loss: 0.3128 - val_acc: 0.7500\n",
      "Epoch 26/30\n",
      "5216/5216 [==============================] - 13s 2ms/step - loss: 0.0982 - acc: 0.9636 - val_loss: 0.2246 - val_acc: 0.9375\n",
      "Epoch 27/30\n",
      "5216/5216 [==============================] - 13s 3ms/step - loss: 0.0982 - acc: 0.9609 - val_loss: 0.4168 - val_acc: 0.7500\n",
      "Epoch 28/30\n",
      "5216/5216 [==============================] - 14s 3ms/step - loss: 0.0948 - acc: 0.9634 - val_loss: 0.2831 - val_acc: 0.8750\n",
      "Epoch 29/30\n",
      "5216/5216 [==============================] - 13s 2ms/step - loss: 0.0893 - acc: 0.9678 - val_loss: 0.7390 - val_acc: 0.6250\n",
      "Epoch 30/30\n",
      "5216/5216 [==============================] - 15s 3ms/step - loss: 0.0908 - acc: 0.9653 - val_loss: 0.2598 - val_acc: 0.8750\n",
      "CPU times: user 30min 41s, sys: 14min 47s, total: 45min 29s\n",
      "Wall time: 6min 54s\n"
     ]
    }
   ],
   "source": [
    "%%time\n",
    "history_1 = model_1.fit(train_images,\n",
    "                    train_y,\n",
    "                    epochs=30,\n",
    "                    batch_size=50,\n",
    "                    validation_data=(val_images, val_y))"
   ]
  },
  {
   "cell_type": "markdown",
   "metadata": {},
   "source": [
    "## Evaluating Model"
   ]
  },
  {
   "cell_type": "code",
   "execution_count": 183,
   "metadata": {},
   "outputs": [],
   "source": [
    "def plot_confusion_matrix(cm, classes, normalize=False, title='Confusion Matrix', cmap=plt.cm.Blues):\n",
    "    \"\"\"\n",
    "    This function prints and plots the confusion matrix.\n",
    "    Normalization can be applied by setting `normalize=True`.\n",
    "    \"\"\"\n",
    "    if normalize:\n",
    "        cm = cm.astype('float') / cm.sum(axis=1)[:, np.newaxis]\n",
    "        print(\"Normalized confusion matrix\")\n",
    "    else:\n",
    "        print('Confusion Matrix, without normalization')\n",
    "\n",
    "    plt.imshow(cm, interpolation='nearest', cmap=cmap)\n",
    "    plt.title(title, weight='bold')\n",
    "    plt.colorbar()\n",
    "    tick_marks = np.arange(len(classes))\n",
    "    plt.xticks(tick_marks, classes, rotation=45)\n",
    "    plt.yticks(tick_marks, classes)\n",
    "\n",
    "    fmt = '.2f' if normalize else 'd'\n",
    "    thresh = cm.max() / 2.\n",
    "    for i, j in itertools.product(range(cm.shape[0]), range(cm.shape[1])):\n",
    "        if i == 0:\n",
    "            plt.text(j-0.1, i+0.3, format(cm[i, j], fmt), color=\"white\" if cm[i, j] > thresh else \"black\")\n",
    "        if i == 1:\n",
    "            plt.text(j-0.1, i-0.2, format(cm[i, j], fmt), color=\"white\" if cm[i, j] > thresh else \"black\")\n",
    "\n",
    "    plt.tight_layout()\n",
    "    plt.ylabel('True Label', weight='bold')\n",
    "    plt.xlabel('Predicted Label', weight='bold')\n",
    "    plt.show()"
   ]
  },
  {
   "cell_type": "code",
   "execution_count": 177,
   "metadata": {},
   "outputs": [],
   "source": [
    "def evaluate_test(model, history, class_labels, train_X, test_X, test_y, train_y):\n",
    "    \"\"\"Return evaluation metrics for given model on given train and test sets.\"\"\"\n",
    "    train_loss, train_acc = model_1.evaluate(train_X, train_y, verbose=0)\n",
    "    test_loss, test_acc = model_1.evaluate(test_X, test_y, verbose=0)\n",
    "    print('Accuracy \\n Train: %.3f, Test: %.3f' % (train_acc, test_acc))\n",
    "    print('Loss \\n Train: %.3f, Test: %.3f' % (train_loss, test_loss))\n",
    "    # plot loss during training\n",
    "    pyplot.subplot(211)\n",
    "    pyplot.title('Loss')\n",
    "    pyplot.plot(history_1.history['loss'], label='train')\n",
    "    pyplot.plot(history_1.history['val_loss'], label='test')\n",
    "    pyplot.legend()\n",
    "    # plot accuracy during training\n",
    "    pyplot.subplot(212)\n",
    "    pyplot.title('Accuracy')\n",
    "    pyplot.plot(history_1.history['acc'], label='train')\n",
    "    pyplot.plot(history_1.history['val_acc'], label='test')\n",
    "    pyplot.legend()\n",
    "    pyplot.show()\n",
    "    # predict probabilities for test set\n",
    "    yhat_probs = model_1.predict(test_X, verbose=0)\n",
    "    # predict crisp classes for test set\n",
    "    yhat_classes = model_1.predict_classes(test_X, verbose=0)\n",
    "    # reduce to 1d array\n",
    "    yhat_probs = yhat_probs[:, 0]\n",
    "    yhat_classes = yhat_classes[:, 0]\n",
    "    # calculate metrics\n",
    "    report = metrics.classification_report(test_y, yhat_classes, target_names=class_labels)\n",
    "    confusion_matrix = metrics.confusion_matrix(test_y, yhat_classes)\n",
    "    plot_confusion_matrix(confusion_matrix, class_labels, cmap=plt.cm.Blues)\n",
    "    return report"
   ]
  },
  {
   "cell_type": "code",
   "execution_count": 178,
   "metadata": {},
   "outputs": [
    {
     "name": "stdout",
     "output_type": "stream",
     "text": [
      "Accuracy \n",
      " Train: 0.966, Test: 0.780\n",
      "Loss \n",
      " Train: 0.090, Test: 0.672\n"
     ]
    },
    {
     "data": {
      "image/png": "[encoded data removed]",
      "text/plain": [
       "<Figure size 432x288 with 2 Axes>"
      ]
     },
     "metadata": {},
     "output_type": "display_data"
    },
    {
     "name": "stdout",
     "output_type": "stream",
     "text": [
      "Confusion Matrix, without normalization\n"
     ]
    },
    {
     "data": {
      "image/png": "[encoded data removed]",
      "text/plain": [
       "<Figure size 432x288 with 2 Axes>"
      ]
     },
     "metadata": {},
     "output_type": "display_data"
    },
    {
     "name": "stdout",
     "output_type": "stream",
     "text": [
      "              precision    recall  f1-score   support\n",
      "\n",
      "      NORMAL       0.91      0.46      0.61       234\n",
      "   PNEUMONIA       0.75      0.97      0.85       390\n",
      "\n",
      "    accuracy                           0.78       624\n",
      "   macro avg       0.83      0.72      0.73       624\n",
      "weighted avg       0.81      0.78      0.76       624\n",
      "\n"
     ]
    }
   ],
   "source": [
    "print(evaluate_test(model_1, history_1, class_labels, train_images, test_images, test_y, train_y))"
   ]
  },
  {
   "cell_type": "code",
   "execution_count": null,
   "metadata": {},
   "outputs": [],
   "source": []
  }
 ],
 "metadata": {
  "kernelspec": {
   "display_name": "Python 3",
   "language": "python",
   "name": "python3"
  },
  "language_info": {
   "codemirror_mode": {
    "name": "ipython",
    "version": 3
   },
   "file_extension": ".py",
   "mimetype": "text/x-python",
   "name": "python",
   "nbconvert_exporter": "python",
   "pygments_lexer": "ipython3",
   "version": "3.7.4"
  }
 },
 "nbformat": 4,
 "nbformat_minor": 2
}
