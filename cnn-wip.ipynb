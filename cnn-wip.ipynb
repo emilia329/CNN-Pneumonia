{
 "cells": [
  {
   "cell_type": "markdown",
   "metadata": {},
   "source": [
    "# EDA\n",
    "\n",
    "## Import Libraries"
   ]
  },
  {
   "cell_type": "code",
   "execution_count": 28,
   "metadata": {},
   "outputs": [],
   "source": [
    "import os\n",
    "import numpy as np\n",
    "import matplotlib.pyplot as plt\n",
    "from keras.preprocessing.image import ImageDataGenerator\n",
    "from keras import models, layers\n",
    "from sklearn import metrics"
   ]
  },
  {
   "cell_type": "markdown",
   "metadata": {},
   "source": [
    "## Viewing Images\n",
    "\n",
    "In this project, we are working with images of chest X-rays which we are classifying into two categories: pneumonia or normal. First, let's look at the difference between these.\n",
    "\n",
    "#### Normal:\n",
    "<table style=\"border-collapse: collapse;\">\n",
    "    <tr>\n",
    "        <td style=\"border: none;\"><img src=\"Images/normal1.jpeg\" alt=\"normal1\" width=\"450px\"/></td>\n",
    "        <td style=\"border: none;\"><img src=\"Images/normal2.jpeg\" alt=\"normal2\" width=\"400px\"/></td>\n",
    "        <td style=\"border: none;\"><img src=\"Images/normal3.jpeg\" alt=\"normal3\" width=\"400px\"/></td>\n",
    "    </tr>\n",
    "</table>\n",
    "\n",
    "#### Pneumonia:\n",
    "<table style=\"border-collapse: collapse;\">\n",
    "    <tr>\n",
    "        <td style=\"border: none;\"><img src=\"Images/pneumonia1.jpeg\" alt=\"pneumonia1\" width=\"450px\"/></td>\n",
    "        <td style=\"border: none;\"><img src=\"Images/pneumonia2.jpeg\" alt=\"pneumonia2\" width=\"400px\"/></td>\n",
    "        <td style=\"border: none;\"><img src=\"Images/pneumonia3.jpeg\" alt=\"pneumonia3\" width=\"400px\"/></td>\n",
    "    </tr>\n",
    "</table>\n",
    "\n",
    "From <a href=\"https://www.radiologyinfo.org/en/info.cfm?pg=pneumonia\">Radiology.org</a>: <br> _Pneumonia is an infection that causes inflammation in one or both of the lungs. It can be caused by a virus, bacteria, fungi or other germs. The infection is usually acquired when a person breathes in air carrying germs._\n",
    "\n",
    "When radiologists look at these images, they look for white spots called infiltrates that identify an infection, as well as abscesses or fluids that could be caused by pneumonia. We find it a bit difficult to tell the difference between these due to not being trained radiologists, but we can definitely say some x-rays (such as the leftmost pneumonia picture above) look more \"cloudy\" than others.\n",
    "\n",
    "Further reviewing our data, we can see that:\n",
    "* Every image is grayscale, only containing color data in the gray channel (as opposed to RGB alpha channels).\n",
    "* Each image has a different pixel dimension, many with non-square aspect ratios. \n",
    "* Most images have tick marks on the left and right edges.\n",
    "* Many images contain other text near the edges.\n",
    "* Some images show the patient rotated at an angle.\n",
    "\n",
    "<img src=\"Images/tp_512_prob.png\" alt=\"image_problems\" width=\"450px\"/>\n",
    "\n",
    "To remedy any issues caused by this, we will change parameters of ImageDataGenerator while creating our models.\n",
    "\n",
    "## Class Distribution\n",
    "\n",
    "Before we start modeling, we want to check for class imbalance. Our data is split into 3 directories, each holding the images needed for our test, train, and validation sets. We'll add up the number of files in these directories to get the count of data points in each class."
   ]
  },
  {
   "cell_type": "code",
   "execution_count": 2,
   "metadata": {},
   "outputs": [
    {
     "data": {
      "image/png": "[encoded data removed]",
      "text/plain": [
       "<Figure size 432x288 with 1 Axes>"
      ]
     },
     "metadata": {
      "needs_background": "light"
     },
     "output_type": "display_data"
    }
   ],
   "source": [
    "n_count = len(os.listdir('chest_xray/test/NORMAL')) + len(os.listdir('chest_xray/train/NORMAL')) + len(os.listdir('chest_xray/val/NORMAL'))\n",
    "p_count = len(os.listdir('chest_xray/test/PNEUMONIA')) + len(os.listdir('chest_xray/train/PNEUMONIA')) + len(os.listdir('chest_xray/val/PNEUMONIA'))\n",
    "\n",
    "objects = (f'Normal: {n_count}', f'Pneumonia: {p_count}')\n",
    "y_pos = np.arange(len(objects))\n",
    "\n",
    "plt.bar(y_pos, [n_count,p_count], align='center', alpha=0.5)\n",
    "plt.xticks(y_pos, objects)\n",
    "plt.ylabel('Count')\n",
    "plt.title('Data Points')\n",
    "\n",
    "plt.show()"
   ]
  },
  {
   "cell_type": "markdown",
   "metadata": {},
   "source": [
    "We can see we have a 27:73 split. This isn't a huge imbalance, but definitely something to keep in mind when evaluating our models, as our null accuracy is 73%. This is the accuracy we could achieve by always predicting the most frequent class.\n",
    "\n",
    "# Modeling\n",
    "\n",
    "## Gather Image Data\n",
    "\n",
    "First, we get the image data from our folders."
   ]
  },
  {
   "cell_type": "code",
   "execution_count": 6,
   "metadata": {},
   "outputs": [
    {
     "name": "stdout",
     "output_type": "stream",
     "text": [
      "Found 5216 images belonging to 2 classes.\n",
      "Found 624 images belonging to 2 classes.\n",
      "Found 16 images belonging to 2 classes.\n"
     ]
    }
   ],
   "source": [
    "train_generator = ImageDataGenerator(rescale=1./255).flow_from_directory('chest_xray/train/', target_size=(64, 64), batch_size = 5218)\n",
    "\n",
    "test_generator = ImageDataGenerator(rescale=1./255).flow_from_directory('chest_xray/test/', target_size=(64, 64), batch_size = 624)\n",
    "\n",
    "val_generator = ImageDataGenerator(rescale=1./255).flow_from_directory('chest_xray/val/', target_size=(64, 64), batch_size = 18)"
   ]
  },
  {
   "cell_type": "markdown",
   "metadata": {},
   "source": [
    "Next, we'll make a list of matrices per image from this data."
   ]
  },
  {
   "cell_type": "code",
   "execution_count": 7,
   "metadata": {},
   "outputs": [],
   "source": [
    "train_images, train_labels = next(train_generator)\n",
    "test_images, test_labels = next(test_generator)\n",
    "val_images, val_labels = next(val_generator)"
   ]
  },
  {
   "cell_type": "code",
   "execution_count": 27,
   "metadata": {},
   "outputs": [],
   "source": [
    "class_labels = list(train_generator.class_indices.keys())"
   ]
  },
  {
   "cell_type": "code",
   "execution_count": 8,
   "metadata": {},
   "outputs": [
    {
     "name": "stdout",
     "output_type": "stream",
     "text": [
      "train_images shape: (5216, 64, 64, 3)\n",
      "train_labels shape: (5216, 2)\n",
      "test_images shape: (624, 64, 64, 3)\n",
      "test_labels shape: (624, 2)\n",
      "val_images shape: (16, 64, 64, 3)\n",
      "val_labels shape: (16, 2)\n"
     ]
    }
   ],
   "source": [
    "print (\"train_images shape: \" + str(train_images.shape))\n",
    "print (\"train_labels shape: \" + str(train_labels.shape))\n",
    "print (\"test_images shape: \" + str(test_images.shape))\n",
    "print (\"test_labels shape: \" + str(test_labels.shape))\n",
    "print (\"val_images shape: \" + str(val_images.shape))\n",
    "print (\"val_labels shape: \" + str(val_labels.shape))"
   ]
  },
  {
   "cell_type": "code",
   "execution_count": 17,
   "metadata": {},
   "outputs": [
    {
     "data": {
      "text/plain": [
       "array([[0., 1.],\n",
       "       [0., 1.],\n",
       "       [0., 1.],\n",
       "       ...,\n",
       "       [1., 0.],\n",
       "       [0., 1.],\n",
       "       [0., 1.]], dtype=float32)"
      ]
     },
     "execution_count": 17,
     "metadata": {},
     "output_type": "execute_result"
    }
   ],
   "source": [
    "train_labels"
   ]
  },
  {
   "cell_type": "markdown",
   "metadata": {},
   "source": [
    "Our label arrays have 2 columns, one for True and one for False. We only need one of these as having two is redundant."
   ]
  },
  {
   "cell_type": "code",
   "execution_count": 18,
   "metadata": {},
   "outputs": [],
   "source": [
    "train_y = np.reshape(train_labels[:,0], (5216,1))\n",
    "test_y = np.reshape(test_labels[:,0], (624,1))\n",
    "val_y = np.reshape(val_labels[:,0], (16,1))"
   ]
  },
  {
   "cell_type": "markdown",
   "metadata": {},
   "source": [
    "## Baseline Model"
   ]
  },
  {
   "cell_type": "code",
   "execution_count": 14,
   "metadata": {},
   "outputs": [],
   "source": [
    "model_1 = models.Sequential()\n",
    "model_1.add(layers.Conv2D(32, (3, 3), activation='relu', input_shape=(64, 64, 3)))\n",
    "model_1.add(layers.MaxPooling2D((2, 2)))\n",
    "\n",
    "model_1.add(layers.Conv2D(32, (4, 4), activation='relu'))\n",
    "model_1.add(layers.MaxPooling2D((2, 2)))\n",
    "\n",
    "model_1.add(layers.Conv2D(64, (3, 3), activation='relu'))\n",
    "model_1.add(layers.MaxPooling2D((2, 2)))\n",
    "\n",
    "model_1.add(layers.Flatten())\n",
    "model_1.add(layers.Dense(64, activation='relu'))\n",
    "model_1.add(layers.Dense(1, activation='sigmoid'))\n",
    "\n",
    "model_1.compile(loss='binary_crossentropy', optimizer=\"sgd\", metrics=['acc'])"
   ]
  },
  {
   "cell_type": "code",
   "execution_count": 19,
   "metadata": {
    "scrolled": true
   },
   "outputs": [
    {
     "name": "stdout",
     "output_type": "stream",
     "text": [
      "Train on 5216 samples, validate on 16 samples\n",
      "Epoch 1/30\n",
      "5216/5216 [==============================] - 9s 2ms/step - loss: 0.5675 - acc: 0.7429 - val_loss: 0.9412 - val_acc: 0.5000\n",
      "Epoch 2/30\n",
      "5216/5216 [==============================] - 10s 2ms/step - loss: 0.5255 - acc: 0.7454 - val_loss: 0.7597 - val_acc: 0.5000\n",
      "Epoch 3/30\n",
      "5216/5216 [==============================] - 9s 2ms/step - loss: 0.4708 - acc: 0.7795 - val_loss: 1.0091 - val_acc: 0.5625\n",
      "Epoch 4/30\n",
      "5216/5216 [==============================] - 10s 2ms/step - loss: 0.3971 - acc: 0.8234 - val_loss: 0.6720 - val_acc: 0.6250\n",
      "Epoch 5/30\n",
      "5216/5216 [==============================] - 10s 2ms/step - loss: 0.3352 - acc: 0.8608 - val_loss: 0.7418 - val_acc: 0.6250\n",
      "Epoch 6/30\n",
      "5216/5216 [==============================] - 10s 2ms/step - loss: 0.2493 - acc: 0.8974 - val_loss: 0.8306 - val_acc: 0.6250\n",
      "Epoch 7/30\n",
      "5216/5216 [==============================] - 10s 2ms/step - loss: 0.2152 - acc: 0.9132 - val_loss: 0.7312 - val_acc: 0.5625\n",
      "Epoch 8/30\n",
      "5216/5216 [==============================] - 9s 2ms/step - loss: 0.1904 - acc: 0.9210 - val_loss: 0.5216 - val_acc: 0.8125\n",
      "Epoch 9/30\n",
      "5216/5216 [==============================] - 9s 2ms/step - loss: 0.1649 - acc: 0.9316 - val_loss: 0.4045 - val_acc: 0.8125\n",
      "Epoch 10/30\n",
      "5216/5216 [==============================] - 9s 2ms/step - loss: 0.1565 - acc: 0.9360 - val_loss: 0.6282 - val_acc: 0.6875\n",
      "Epoch 11/30\n",
      "5216/5216 [==============================] - 10s 2ms/step - loss: 0.1475 - acc: 0.9431 - val_loss: 0.4394 - val_acc: 0.7500\n",
      "Epoch 12/30\n",
      "5216/5216 [==============================] - 10s 2ms/step - loss: 0.1371 - acc: 0.9456 - val_loss: 0.3193 - val_acc: 0.8750\n",
      "Epoch 13/30\n",
      "5216/5216 [==============================] - 10s 2ms/step - loss: 0.1374 - acc: 0.9479 - val_loss: 0.3130 - val_acc: 0.8750\n",
      "Epoch 14/30\n",
      "5216/5216 [==============================] - 10s 2ms/step - loss: 0.1280 - acc: 0.9488 - val_loss: 0.5199 - val_acc: 0.7500\n",
      "Epoch 15/30\n",
      "5216/5216 [==============================] - 10s 2ms/step - loss: 0.1219 - acc: 0.9496 - val_loss: 0.3923 - val_acc: 0.8125\n",
      "Epoch 16/30\n",
      "5216/5216 [==============================] - 10s 2ms/step - loss: 0.1243 - acc: 0.9523 - val_loss: 0.3477 - val_acc: 0.8125\n",
      "Epoch 17/30\n",
      "5216/5216 [==============================] - 10s 2ms/step - loss: 0.1176 - acc: 0.9525 - val_loss: 0.2795 - val_acc: 0.8750\n",
      "Epoch 18/30\n",
      "5216/5216 [==============================] - 11s 2ms/step - loss: 0.1144 - acc: 0.9561 - val_loss: 0.6614 - val_acc: 0.6875\n",
      "Epoch 19/30\n",
      "5216/5216 [==============================] - 10s 2ms/step - loss: 0.1110 - acc: 0.9569 - val_loss: 0.6043 - val_acc: 0.7500\n",
      "Epoch 20/30\n",
      "5216/5216 [==============================] - 10s 2ms/step - loss: 0.1049 - acc: 0.9592 - val_loss: 0.2699 - val_acc: 0.8125\n",
      "Epoch 21/30\n",
      "5216/5216 [==============================] - 10s 2ms/step - loss: 0.1042 - acc: 0.9588 - val_loss: 0.2509 - val_acc: 0.9375\n",
      "Epoch 22/30\n",
      "5216/5216 [==============================] - 11s 2ms/step - loss: 0.0996 - acc: 0.9615 - val_loss: 0.2699 - val_acc: 0.8125\n",
      "Epoch 23/30\n",
      "5216/5216 [==============================] - 10s 2ms/step - loss: 0.0986 - acc: 0.9617 - val_loss: 0.6303 - val_acc: 0.6875\n",
      "Epoch 24/30\n",
      "5216/5216 [==============================] - 9s 2ms/step - loss: 0.0962 - acc: 0.9611 - val_loss: 1.3049 - val_acc: 0.5625\n",
      "Epoch 25/30\n",
      "5216/5216 [==============================] - 10s 2ms/step - loss: 0.0968 - acc: 0.9632 - val_loss: 0.2433 - val_acc: 0.9375\n",
      "Epoch 26/30\n",
      "5216/5216 [==============================] - 10s 2ms/step - loss: 0.0934 - acc: 0.9632 - val_loss: 0.4798 - val_acc: 0.7500\n",
      "Epoch 27/30\n",
      "5216/5216 [==============================] - 10s 2ms/step - loss: 0.0889 - acc: 0.9666 - val_loss: 0.2645 - val_acc: 0.8750\n",
      "Epoch 28/30\n",
      "5216/5216 [==============================] - 10s 2ms/step - loss: 0.0861 - acc: 0.9666 - val_loss: 1.2694 - val_acc: 0.5625\n",
      "Epoch 29/30\n",
      "5216/5216 [==============================] - 10s 2ms/step - loss: 0.0856 - acc: 0.9668 - val_loss: 0.2555 - val_acc: 0.8750\n",
      "Epoch 30/30\n",
      "5216/5216 [==============================] - 9s 2ms/step - loss: 0.0819 - acc: 0.9707 - val_loss: 0.4943 - val_acc: 0.6875\n",
      "CPU times: user 26min 19s, sys: 13min 3s, total: 39min 23s\n",
      "Wall time: 4min 55s\n"
     ]
    }
   ],
   "source": [
    "%%time\n",
    "history_1 = model_1.fit(train_images,\n",
    "                    train_y,\n",
    "                    epochs=30,\n",
    "                    batch_size=50,\n",
    "                    validation_data=(val_images, val_y))"
   ]
  },
  {
   "cell_type": "markdown",
   "metadata": {},
   "source": [
    "## Evaluating Model"
   ]
  },
  {
   "cell_type": "code",
   "execution_count": 33,
   "metadata": {},
   "outputs": [],
   "source": [
    "test_steps_per_epoch = np.math.ceil(test_generator.samples / test_generator.batch_size)\n",
    "predictions = model_1.predict_generator(test_generator, steps=test_steps_per_epoch)\n",
    "predicted_classes = np.argmax(predictions, axis=1)"
   ]
  },
  {
   "cell_type": "code",
   "execution_count": 36,
   "metadata": {},
   "outputs": [
    {
     "data": {
      "text/plain": [
       "array([0, 0, 0, 0, 0, 0, 0, 0, 0, 0, 0, 0, 0, 0, 0, 0, 0, 0, 0, 0, 0, 0,\n",
       "       0, 0, 0, 0, 0, 0, 0, 0, 0, 0, 0, 0, 0, 0, 0, 0, 0, 0, 0, 0, 0, 0,\n",
       "       0, 0, 0, 0, 0, 0, 0, 0, 0, 0, 0, 0, 0, 0, 0, 0, 0, 0, 0, 0, 0, 0,\n",
       "       0, 0, 0, 0, 0, 0, 0, 0, 0, 0, 0, 0, 0, 0, 0, 0, 0, 0, 0, 0, 0, 0,\n",
       "       0, 0, 0, 0, 0, 0, 0, 0, 0, 0, 0, 0, 0, 0, 0, 0, 0, 0, 0, 0, 0, 0,\n",
       "       0, 0, 0, 0, 0, 0, 0, 0, 0, 0, 0, 0, 0, 0, 0, 0, 0, 0, 0, 0, 0, 0,\n",
       "       0, 0, 0, 0, 0, 0, 0, 0, 0, 0, 0, 0, 0, 0, 0, 0, 0, 0, 0, 0, 0, 0,\n",
       "       0, 0, 0, 0, 0, 0, 0, 0, 0, 0, 0, 0, 0, 0, 0, 0, 0, 0, 0, 0, 0, 0,\n",
       "       0, 0, 0, 0, 0, 0, 0, 0, 0, 0, 0, 0, 0, 0, 0, 0, 0, 0, 0, 0, 0, 0,\n",
       "       0, 0, 0, 0, 0, 0, 0, 0, 0, 0, 0, 0, 0, 0, 0, 0, 0, 0, 0, 0, 0, 0,\n",
       "       0, 0, 0, 0, 0, 0, 0, 0, 0, 0, 0, 0, 0, 0, 0, 0, 0, 0, 0, 0, 0, 0,\n",
       "       0, 0, 0, 0, 0, 0, 0, 0, 0, 0, 0, 0, 0, 0, 0, 0, 0, 0, 0, 0, 0, 0,\n",
       "       0, 0, 0, 0, 0, 0, 0, 0, 0, 0, 0, 0, 0, 0, 0, 0, 0, 0, 0, 0, 0, 0,\n",
       "       0, 0, 0, 0, 0, 0, 0, 0, 0, 0, 0, 0, 0, 0, 0, 0, 0, 0, 0, 0, 0, 0,\n",
       "       0, 0, 0, 0, 0, 0, 0, 0, 0, 0, 0, 0, 0, 0, 0, 0, 0, 0, 0, 0, 0, 0,\n",
       "       0, 0, 0, 0, 0, 0, 0, 0, 0, 0, 0, 0, 0, 0, 0, 0, 0, 0, 0, 0, 0, 0,\n",
       "       0, 0, 0, 0, 0, 0, 0, 0, 0, 0, 0, 0, 0, 0, 0, 0, 0, 0, 0, 0, 0, 0,\n",
       "       0, 0, 0, 0, 0, 0, 0, 0, 0, 0, 0, 0, 0, 0, 0, 0, 0, 0, 0, 0, 0, 0,\n",
       "       0, 0, 0, 0, 0, 0, 0, 0, 0, 0, 0, 0, 0, 0, 0, 0, 0, 0, 0, 0, 0, 0,\n",
       "       0, 0, 0, 0, 0, 0, 0, 0, 0, 0, 0, 0, 0, 0, 0, 0, 0, 0, 0, 0, 0, 0,\n",
       "       0, 0, 0, 0, 0, 0, 0, 0, 0, 0, 0, 0, 0, 0, 0, 0, 0, 0, 0, 0, 0, 0,\n",
       "       0, 0, 0, 0, 0, 0, 0, 0, 0, 0, 0, 0, 0, 0, 0, 0, 0, 0, 0, 0, 0, 0,\n",
       "       0, 0, 0, 0, 0, 0, 0, 0, 0, 0, 0, 0, 0, 0, 0, 0, 0, 0, 0, 0, 0, 0,\n",
       "       0, 0, 0, 0, 0, 0, 0, 0, 0, 0, 0, 0, 0, 0, 0, 0, 0, 0, 0, 0, 0, 0,\n",
       "       0, 0, 0, 0, 0, 0, 0, 0, 0, 0, 0, 0, 0, 0, 0, 0, 0, 0, 0, 0, 0, 0,\n",
       "       0, 0, 0, 0, 0, 0, 0, 0, 0, 0, 0, 0, 0, 0, 0, 0, 0, 0, 0, 0, 0, 0,\n",
       "       0, 0, 0, 0, 0, 0, 0, 0, 0, 0, 0, 0, 0, 0, 0, 0, 0, 0, 0, 0, 0, 0,\n",
       "       0, 0, 0, 0, 0, 0, 0, 0, 0, 0, 0, 0, 0, 0, 0, 0, 0, 0, 0, 0, 0, 0,\n",
       "       0, 0, 0, 0, 0, 0, 0, 0])"
      ]
     },
     "execution_count": 36,
     "metadata": {},
     "output_type": "execute_result"
    }
   ],
   "source": [
    "predicted_classes"
   ]
  },
  {
   "cell_type": "code",
   "execution_count": 23,
   "metadata": {},
   "outputs": [
    {
     "name": "stdout",
     "output_type": "stream",
     "text": [
      "624/624 [==============================] - 0s 362us/step\n",
      "['loss', 'acc'] [0.9883719927225357, 0.7275640964508057]\n"
     ]
    }
   ],
   "source": [
    "results_test_1 = model_1.evaluate(test_images, test_y)\n",
    "print(model_1.metrics_names, results_test_1)"
   ]
  },
  {
   "cell_type": "code",
   "execution_count": 40,
   "metadata": {},
   "outputs": [
    {
     "name": "stdout",
     "output_type": "stream",
     "text": [
      "              precision    recall  f1-score   support\n",
      "\n",
      "      NORMAL       0.62      1.00      0.77       390\n",
      "   PNEUMONIA       0.00      0.00      0.00       234\n",
      "\n",
      "    accuracy                           0.62       624\n",
      "   macro avg       0.31      0.50      0.38       624\n",
      "weighted avg       0.39      0.62      0.48       624\n",
      "\n"
     ]
    },
    {
     "name": "stderr",
     "output_type": "stream",
     "text": [
      "/Users/GabbaFlabba/opt/anaconda3/lib/python3.7/site-packages/sklearn/metrics/classification.py:1437: UndefinedMetricWarning: Precision and F-score are ill-defined and being set to 0.0 in labels with no predicted samples.\n",
      "  'precision', 'predicted', average, warn_for)\n"
     ]
    }
   ],
   "source": [
    "report = metrics.classification_report(test_y, predicted_classes, target_names=class_labels)\n",
    "print(report)    "
   ]
  },
  {
   "cell_type": "code",
   "execution_count": 43,
   "metadata": {},
   "outputs": [
    {
     "name": "stdout",
     "output_type": "stream",
     "text": [
      "[[390   0]\n",
      " [234   0]]\n"
     ]
    }
   ],
   "source": [
    "confusion_matrix = metrics.confusion_matrix(test_y, predicted_classes)\n",
    "print(confusion_matrix)    "
   ]
  },
  {
   "cell_type": "code",
   "execution_count": null,
   "metadata": {},
   "outputs": [],
   "source": [
    "def evaluate_test(model, test_X, test_y):\n",
    "    results = model.evaluate(test_X, test_y)\n",
    "    print('Loss:', results[0])\n",
    "    print('Accuracy:', results[1])"
   ]
  },
  {
   "cell_type": "code",
   "execution_count": null,
   "metadata": {},
   "outputs": [],
   "source": []
  }
 ],
 "metadata": {
  "kernelspec": {
   "display_name": "Python 3",
   "language": "python",
   "name": "python3"
  },
  "language_info": {
   "codemirror_mode": {
    "name": "ipython",
    "version": 3
   },
   "file_extension": ".py",
   "mimetype": "text/x-python",
   "name": "python",
   "nbconvert_exporter": "python",
   "pygments_lexer": "ipython3",
   "version": "3.7.4"
  }
 },
 "nbformat": 4,
 "nbformat_minor": 2
}
