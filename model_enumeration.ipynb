{
 "cells": [
  {
   "cell_type": "markdown",
   "metadata": {},
   "source": [
    "# Things to Tune\n",
    "* Resolution (64 x 64)\n",
    "* Number of layers\n",
    "* Units per layer\n",
    "* Convolution size (4x4)\n",
    "* Color vs. grayscale\n",
    "* Dropout\n",
    "* Data Augmentation"
   ]
  },
  {
   "cell_type": "markdown",
   "metadata": {},
   "source": [
    "### Data Generation\n",
    "* Resample Size\n",
    "* Color vs. grayscale\n",
    "* Data Augmentation"
   ]
  },
  {
   "cell_type": "code",
   "execution_count": 2,
   "metadata": {
    "scrolled": false
   },
   "outputs": [
    {
     "name": "stdout",
     "output_type": "stream",
     "text": [
      "\u001b[33mWARNING: The directory '/.cache/pip/http' or its parent directory is not owned by the current user and the cache has been disabled. Please check the permissions and owner of that directory. If executing pip with sudo, you may want sudo's -H flag.\u001b[0m\n",
      "\u001b[33mWARNING: The directory '/.cache/pip' or its parent directory is not owned by the current user and caching wheels has been disabled. check the permissions and owner of that directory. If executing pip with sudo, you may want sudo's -H flag.\u001b[0m\n",
      "Collecting Pillow\n",
      "\u001b[?25l  Downloading https://files.pythonhosted.org/packages/e0/50/8e78e6f62ffa50d6ca95c281d5a2819bef66d023ac1b723e253de5bda9c5/Pillow-7.1.2-cp36-cp36m-manylinux1_x86_64.whl (2.1MB)\n",
      "\u001b[K     |████████████████████████████████| 2.1MB 1.2MB/s eta 0:00:01\n",
      "\u001b[?25hInstalling collected packages: Pillow\n",
      "Successfully installed Pillow-7.1.2\n",
      "\u001b[33mWARNING: You are using pip version 19.3.1; however, version 20.1 is available.\n",
      "You should consider upgrading via the 'pip install --upgrade pip' command.\u001b[0m\n",
      "Note: you may need to restart the kernel to use updated packages.\n"
     ]
    }
   ],
   "source": [
    "# run then restart kernel\n",
    "pip install Pillow --user"
   ]
  },
  {
   "cell_type": "code",
   "execution_count": 2,
   "metadata": {
    "scrolled": true
   },
   "outputs": [
    {
     "name": "stdout",
     "output_type": "stream",
     "text": [
      "\u001b[33mWARNING: The directory '/.cache/pip/http' or its parent directory is not owned by the current user and the cache has been disabled. Please check the permissions and owner of that directory. If executing pip with sudo, you may want sudo's -H flag.\u001b[0m\n",
      "\u001b[33mWARNING: The directory '/.cache/pip' or its parent directory is not owned by the current user and caching wheels has been disabled. check the permissions and owner of that directory. If executing pip with sudo, you may want sudo's -H flag.\u001b[0m\n",
      "Collecting Keras\n",
      "\u001b[?25l  Downloading https://files.pythonhosted.org/packages/ad/fd/6bfe87920d7f4fd475acd28500a42482b6b84479832bdc0fe9e589a60ceb/Keras-2.3.1-py2.py3-none-any.whl (377kB)\n",
      "\u001b[K     |████████████████████████████████| 378kB 1.0MB/s eta 0:00:01\n",
      "\u001b[?25hRequirement already satisfied: six>=1.9.0 in /usr/local/lib/python3.6/dist-packages (from Keras) (1.13.0)\n",
      "Collecting pyyaml\n",
      "\u001b[?25l  Downloading https://files.pythonhosted.org/packages/64/c2/b80047c7ac2478f9501676c988a5411ed5572f35d1beff9cae07d321512c/PyYAML-5.3.1.tar.gz (269kB)\n",
      "\u001b[K     |████████████████████████████████| 276kB 1.6MB/s eta 0:00:01\n",
      "\u001b[?25hRequirement already satisfied: numpy>=1.9.1 in /usr/local/lib/python3.6/dist-packages (from Keras) (1.18.1)\n",
      "Requirement already satisfied: keras-applications>=1.0.6 in /usr/local/lib/python3.6/dist-packages (from Keras) (1.0.8)\n",
      "Requirement already satisfied: keras-preprocessing>=1.0.5 in /usr/local/lib/python3.6/dist-packages (from Keras) (1.1.0)\n",
      "Requirement already satisfied: scipy>=0.14 in /usr/local/lib/python3.6/dist-packages (from Keras) (1.4.1)\n",
      "Requirement already satisfied: h5py in /usr/local/lib/python3.6/dist-packages (from Keras) (2.10.0)\n",
      "Building wheels for collected packages: pyyaml\n",
      "\u001b[33m  WARNING: Building wheel for pyyaml failed: [Errno 13] Permission denied: '/.cache'\u001b[0m\n",
      "Failed to build pyyaml\n",
      "Installing collected packages: pyyaml, Keras\n",
      "    Running setup.py install for pyyaml ... \u001b[?25ldone\n",
      "\u001b[?25hSuccessfully installed Keras-2.3.1 pyyaml-5.3.1\n",
      "\u001b[33mWARNING: You are using pip version 19.3.1; however, version 20.1 is available.\n",
      "You should consider upgrading via the 'pip install --upgrade pip' command.\u001b[0m\n",
      "Note: you may need to restart the kernel to use updated packages.\n"
     ]
    }
   ],
   "source": [
    "# run, no need to restart?\n",
    "pip install Keras --user"
   ]
  },
  {
   "cell_type": "code",
   "execution_count": 29,
   "metadata": {
    "scrolled": true
   },
   "outputs": [],
   "source": [
    "import os\n",
    "import time\n",
    "import matplotlib.pyplot as plt\n",
    "import scipy\n",
    "import numpy as np\n",
    "from PIL import Image\n",
    "from scipy import ndimage\n",
    "from keras.preprocessing.image import ImageDataGenerator, array_to_img, img_to_array, load_img\n",
    "from keras import models, layers\n",
    "from keras.layers import Dropout\n",
    "from keras.callbacks import EarlyStopping\n",
    "import matplotlib.pyplot as plt\n",
    "import tensorflow as tf\n",
    "%matplotlib inline\n",
    "\n",
    "np.random.seed(123)"
   ]
  },
  {
   "cell_type": "code",
   "execution_count": 4,
   "metadata": {},
   "outputs": [
    {
     "ename": "AttributeError",
     "evalue": "module 'tensorflow' has no attribute 'GPUOptions'",
     "output_type": "error",
     "traceback": [
      "\u001b[0;31m---------------------------------------------------------------------------\u001b[0m",
      "\u001b[0;31mAttributeError\u001b[0m                            Traceback (most recent call last)",
      "\u001b[0;32m<ipython-input-4-afe32e62987c>\u001b[0m in \u001b[0;36m<module>\u001b[0;34m\u001b[0m\n\u001b[1;32m      1\u001b[0m \u001b[0;31m# memory management\u001b[0m\u001b[0;34m\u001b[0m\u001b[0;34m\u001b[0m\u001b[0;34m\u001b[0m\u001b[0m\n\u001b[0;32m----> 2\u001b[0;31m \u001b[0mgpu_options\u001b[0m \u001b[0;34m=\u001b[0m \u001b[0mtf\u001b[0m\u001b[0;34m.\u001b[0m\u001b[0mGPUOptions\u001b[0m\u001b[0;34m(\u001b[0m\u001b[0mper_process_gpu_memory_fraction\u001b[0m\u001b[0;34m=\u001b[0m\u001b[0;36m0.9\u001b[0m\u001b[0;34m)\u001b[0m\u001b[0;34m\u001b[0m\u001b[0;34m\u001b[0m\u001b[0m\n\u001b[0m",
      "\u001b[0;31mAttributeError\u001b[0m: module 'tensorflow' has no attribute 'GPUOptions'"
     ]
    }
   ],
   "source": [
    "# memory management, didn't get working yet, only needed for desktop training\n",
    "gpu_options = tf.GPUOptions(per_process_gpu_memory_fraction=0.9)"
   ]
  },
  {
   "cell_type": "code",
   "execution_count": 13,
   "metadata": {},
   "outputs": [],
   "source": [
    "train_folder = os.path.join('train')\n",
    "train_pneum = os.path.join(train_folder, 'PNEUMONIA')\n",
    "train_norm = os.path.join(train_folder, 'NORMAL')\n",
    "\n",
    "test_folder = os.path.join('test')\n",
    "test_pneum = os.path.join(test_folder, 'PNEUMONIA')\n",
    "test_norm = os.path.join(test_folder, 'NORMAL')\n",
    "\n",
    "val_folder = os.path.join('val')\n",
    "val_pneum = os.path.join(val_folder, 'PNEUMONIA')\n",
    "val_norm = os.path.join(val_folder, 'NORMAL')"
   ]
  },
  {
   "cell_type": "code",
   "execution_count": 14,
   "metadata": {
    "scrolled": false
   },
   "outputs": [
    {
     "name": "stdout",
     "output_type": "stream",
     "text": [
      "There are 3876 pneumonia images in the train set\n",
      "There are 1342 normal images in the train set\n",
      "There are 390 pneumonia images in the test set\n",
      "There are 234 normal images in the test set\n",
      "There are 9 pneumonia images in the val set\n",
      "There are 9 normal images in the val set\n"
     ]
    }
   ],
   "source": [
    "print('There are', len(os.listdir(train_pneum)), 'pneumonia images in the train set')\n",
    "print('There are', len(os.listdir(train_norm)), 'normal images in the train set')\n",
    "print('There are', len(os.listdir(test_pneum)), 'pneumonia images in the test set')\n",
    "print('There are', len(os.listdir(test_norm)), 'normal images in the test set')\n",
    "print('There are', len(os.listdir(val_pneum)), 'pneumonia images in the val set')\n",
    "print('There are', len(os.listdir(val_norm)), 'normal images in the val set')"
   ]
  },
  {
   "cell_type": "markdown",
   "metadata": {},
   "source": [
    "# Model 1 (64x64)"
   ]
  },
  {
   "cell_type": "code",
   "execution_count": 15,
   "metadata": {},
   "outputs": [
    {
     "name": "stdout",
     "output_type": "stream",
     "text": [
      "Found 5216 images belonging to 2 classes.\n",
      "Found 624 images belonging to 2 classes.\n",
      "Found 16 images belonging to 2 classes.\n"
     ]
    }
   ],
   "source": [
    "train_generator = ImageDataGenerator(rescale=1./255).flow_from_directory(train_folder, target_size=(64, 64), batch_size = 5218)\n",
    "\n",
    "test_generator = ImageDataGenerator(rescale=1./255).flow_from_directory(test_folder, target_size=(64, 64), batch_size = 624)\n",
    "\n",
    "val_generator = ImageDataGenerator(rescale=1./255).flow_from_directory(val_folder, target_size=(64, 64), batch_size = 18)"
   ]
  },
  {
   "cell_type": "code",
   "execution_count": 16,
   "metadata": {},
   "outputs": [],
   "source": [
    "train_images, train_labels = next(train_generator)\n",
    "test_images, test_labels = next(test_generator)\n",
    "val_images, val_labels = next(val_generator)"
   ]
  },
  {
   "cell_type": "code",
   "execution_count": 17,
   "metadata": {
    "scrolled": true
   },
   "outputs": [
    {
     "name": "stdout",
     "output_type": "stream",
     "text": [
      "train_images shape: (5216, 64, 64, 3)\n",
      "train_labels shape: (5216, 2)\n",
      "test_images shape: (624, 64, 64, 3)\n",
      "test_labels shape: (624, 2)\n",
      "val_images shape: (16, 64, 64, 3)\n",
      "val_labels shape: (16, 2)\n"
     ]
    }
   ],
   "source": [
    "print (\"train_images shape: \" + str(train_images.shape))\n",
    "print (\"train_labels shape: \" + str(train_labels.shape))\n",
    "print (\"test_images shape: \" + str(test_images.shape))\n",
    "print (\"test_labels shape: \" + str(test_labels.shape))\n",
    "print (\"val_images shape: \" + str(val_images.shape))\n",
    "print (\"val_labels shape: \" + str(val_labels.shape))"
   ]
  },
  {
   "cell_type": "code",
   "execution_count": 18,
   "metadata": {},
   "outputs": [],
   "source": [
    "train_y = np.reshape(train_labels[:,0], (5216,1))\n",
    "test_y = np.reshape(test_labels[:,0], (624,1))\n",
    "val_y = np.reshape(val_labels[:,0], (16,1))"
   ]
  },
  {
   "cell_type": "code",
   "execution_count": 11,
   "metadata": {},
   "outputs": [],
   "source": [
    "model_1 = models.Sequential()\n",
    "model_1.add(layers.Conv2D(32, (3, 3), activation='relu', input_shape=(64, 64, 3)))\n",
    "model_1.add(layers.MaxPooling2D((2, 2)))\n",
    "\n",
    "model_1.add(layers.Conv2D(32, (4, 4), activation='relu'))\n",
    "model_1.add(layers.MaxPooling2D((2, 2)))\n",
    "\n",
    "model_1.add(layers.Conv2D(64, (3, 3), activation='relu'))\n",
    "model_1.add(layers.MaxPooling2D((2, 2)))\n",
    "\n",
    "model_1.add(layers.Flatten())\n",
    "model_1.add(layers.Dense(64, activation='relu'))\n",
    "model_1.add(layers.Dense(1, activation='sigmoid'))\n",
    "\n",
    "model_1.compile(loss='binary_crossentropy', optimizer=\"sgd\", metrics=['acc'])"
   ]
  },
  {
   "cell_type": "code",
   "execution_count": 12,
   "metadata": {
    "scrolled": true
   },
   "outputs": [
    {
     "name": "stdout",
     "output_type": "stream",
     "text": [
      "Train on 5216 samples, validate on 16 samples\n",
      "Epoch 1/30\n",
      "5216/5216 [==============================] - 2s 434us/step - loss: 0.5722 - acc: 0.7395 - val_loss: 0.7536 - val_acc: 0.5000\n",
      "Epoch 2/30\n",
      "5216/5216 [==============================] - 1s 205us/step - loss: 0.5332 - acc: 0.7437 - val_loss: 1.1023 - val_acc: 0.5000\n",
      "Epoch 3/30\n",
      "5216/5216 [==============================] - 1s 203us/step - loss: 0.4813 - acc: 0.7657 - val_loss: 0.6880 - val_acc: 0.6250\n",
      "Epoch 4/30\n",
      "5216/5216 [==============================] - 1s 208us/step - loss: 0.4153 - acc: 0.8140 - val_loss: 0.9815 - val_acc: 0.5625\n",
      "Epoch 5/30\n",
      "5216/5216 [==============================] - 1s 208us/step - loss: 0.3299 - acc: 0.8627 - val_loss: 0.5643 - val_acc: 0.7500\n",
      "Epoch 6/30\n",
      "5216/5216 [==============================] - 1s 202us/step - loss: 0.2664 - acc: 0.8890 - val_loss: 0.8118 - val_acc: 0.6250\n",
      "Epoch 7/30\n",
      "5216/5216 [==============================] - 1s 206us/step - loss: 0.2280 - acc: 0.9072 - val_loss: 0.9544 - val_acc: 0.5625\n",
      "Epoch 8/30\n",
      "5216/5216 [==============================] - 1s 205us/step - loss: 0.1882 - acc: 0.9283 - val_loss: 0.9356 - val_acc: 0.5625\n",
      "Epoch 9/30\n",
      "5216/5216 [==============================] - 1s 202us/step - loss: 0.1749 - acc: 0.9321 - val_loss: 0.3832 - val_acc: 0.8750\n",
      "Epoch 10/30\n",
      "5216/5216 [==============================] - 1s 204us/step - loss: 0.1580 - acc: 0.9371 - val_loss: 0.8497 - val_acc: 0.5625\n",
      "Epoch 11/30\n",
      "5216/5216 [==============================] - 1s 207us/step - loss: 0.1562 - acc: 0.9383 - val_loss: 0.4230 - val_acc: 0.8750\n",
      "Epoch 12/30\n",
      "5216/5216 [==============================] - 1s 205us/step - loss: 0.1467 - acc: 0.9415 - val_loss: 0.3519 - val_acc: 0.8750\n",
      "Epoch 13/30\n",
      "5216/5216 [==============================] - 1s 203us/step - loss: 0.1398 - acc: 0.9459 - val_loss: 0.3226 - val_acc: 0.8750\n",
      "Epoch 14/30\n",
      "5216/5216 [==============================] - 1s 206us/step - loss: 0.1344 - acc: 0.9479 - val_loss: 0.4501 - val_acc: 0.7500\n",
      "Epoch 15/30\n",
      "5216/5216 [==============================] - 1s 204us/step - loss: 0.1265 - acc: 0.9517 - val_loss: 0.7576 - val_acc: 0.6250\n",
      "Epoch 16/30\n",
      "5216/5216 [==============================] - 1s 205us/step - loss: 0.1289 - acc: 0.9502 - val_loss: 0.3457 - val_acc: 0.8125\n",
      "Epoch 17/30\n",
      "5216/5216 [==============================] - 1s 203us/step - loss: 0.1197 - acc: 0.9517 - val_loss: 0.5019 - val_acc: 0.7500\n",
      "Epoch 18/30\n",
      "5216/5216 [==============================] - 1s 204us/step - loss: 0.1140 - acc: 0.9532 - val_loss: 0.2922 - val_acc: 0.8750\n",
      "Epoch 19/30\n",
      "5216/5216 [==============================] - 1s 209us/step - loss: 0.1167 - acc: 0.9559 - val_loss: 0.3464 - val_acc: 0.8125\n",
      "Epoch 20/30\n",
      "5216/5216 [==============================] - 1s 208us/step - loss: 0.1102 - acc: 0.9584 - val_loss: 0.4502 - val_acc: 0.7500\n",
      "Epoch 21/30\n",
      "5216/5216 [==============================] - 1s 203us/step - loss: 0.1028 - acc: 0.9595 - val_loss: 0.5113 - val_acc: 0.7500\n",
      "Epoch 22/30\n",
      "5216/5216 [==============================] - 1s 205us/step - loss: 0.1017 - acc: 0.9632 - val_loss: 0.3887 - val_acc: 0.7500\n",
      "Epoch 23/30\n",
      "5216/5216 [==============================] - 1s 203us/step - loss: 0.0999 - acc: 0.9620 - val_loss: 0.5074 - val_acc: 0.7500\n",
      "Epoch 24/30\n",
      "5216/5216 [==============================] - 1s 204us/step - loss: 0.0994 - acc: 0.9630 - val_loss: 0.5152 - val_acc: 0.7500\n",
      "Epoch 25/30\n",
      "5216/5216 [==============================] - 1s 207us/step - loss: 0.0942 - acc: 0.9655 - val_loss: 0.8671 - val_acc: 0.5625\n",
      "Epoch 26/30\n",
      "5216/5216 [==============================] - 1s 204us/step - loss: 0.0892 - acc: 0.9691 - val_loss: 0.2519 - val_acc: 0.8750\n",
      "Epoch 27/30\n",
      "5216/5216 [==============================] - 1s 204us/step - loss: 0.0901 - acc: 0.9664 - val_loss: 0.6765 - val_acc: 0.6875\n",
      "Epoch 28/30\n",
      "5216/5216 [==============================] - 1s 203us/step - loss: 0.0854 - acc: 0.9659 - val_loss: 1.6029 - val_acc: 0.5625\n",
      "Epoch 29/30\n",
      "5216/5216 [==============================] - 1s 202us/step - loss: 0.0823 - acc: 0.9703 - val_loss: 0.4814 - val_acc: 0.7500\n",
      "Epoch 30/30\n",
      "5216/5216 [==============================] - 1s 207us/step - loss: 0.0849 - acc: 0.9689 - val_loss: 0.3792 - val_acc: 0.7500\n",
      "CPU times: user 27.1 s, sys: 4.97 s, total: 32.1 s\n",
      "Wall time: 33.6 s\n"
     ]
    }
   ],
   "source": [
    "%%time\n",
    "history_1 = model_1.fit(train_images,\n",
    "                    train_y,\n",
    "                    epochs=30,\n",
    "                    batch_size=50,\n",
    "                    validation_data=(val_images, val_y))"
   ]
  },
  {
   "cell_type": "code",
   "execution_count": 13,
   "metadata": {
    "scrolled": false
   },
   "outputs": [
    {
     "name": "stdout",
     "output_type": "stream",
     "text": [
      "624/624 [==============================] - 0s 175us/step\n"
     ]
    }
   ],
   "source": [
    "results_test_1 = model_1.evaluate(test_images, test_y)"
   ]
  },
  {
   "cell_type": "code",
   "execution_count": 14,
   "metadata": {
    "scrolled": true
   },
   "outputs": [
    {
     "data": {
      "text/plain": [
       "[0.9626823526162368, 0.7387820482254028]"
      ]
     },
     "execution_count": 14,
     "metadata": {},
     "output_type": "execute_result"
    }
   ],
   "source": [
    "results_test_1"
   ]
  },
  {
   "cell_type": "code",
   "execution_count": 14,
   "metadata": {},
   "outputs": [],
   "source": [
    "def evaluate_test(model, test_X, test_y):\n",
    "    results = model.evaluate(test_X, test_y)\n",
    "    print('Loss:', results[0])\n",
    "    print('Accuracy:', results[1])"
   ]
  },
  {
   "cell_type": "code",
   "execution_count": 17,
   "metadata": {
    "scrolled": false
   },
   "outputs": [
    {
     "name": "stdout",
     "output_type": "stream",
     "text": [
      "Final epoch loss: 0.08488311319921932\n",
      "Final epoch accuracy: 0.9689417\n"
     ]
    },
    {
     "data": {
      "image/png": "[encoded data removed]",
      "text/plain": [
       "<Figure size 864x576 with 1 Axes>"
      ]
     },
     "metadata": {
      "needs_background": "light"
     },
     "output_type": "display_data"
    }
   ],
   "source": [
    "plot_history(history_1)"
   ]
  },
  {
   "cell_type": "markdown",
   "metadata": {},
   "source": [
    "# Stop Here LOL"
   ]
  },
  {
   "cell_type": "markdown",
   "metadata": {},
   "source": [
    "## 64x64, Baseline, 100 Epochs"
   ]
  },
  {
   "cell_type": "code",
   "execution_count": 56,
   "metadata": {},
   "outputs": [],
   "source": [
    "model_100 = models.Sequential()\n",
    "model_100.add(layers.Conv2D(32, (3, 3), activation='relu', input_shape=(64, 64, 3)))\n",
    "model_100.add(layers.MaxPooling2D((2, 2)))\n",
    "\n",
    "model_100.add(layers.Conv2D(32, (4, 4), activation='relu'))\n",
    "model_100.add(layers.MaxPooling2D((2, 2)))\n",
    "\n",
    "model_100.add(layers.Conv2D(64, (3, 3), activation='relu'))\n",
    "model_100.add(layers.MaxPooling2D((2, 2)))\n",
    "\n",
    "model_100.add(layers.Flatten())\n",
    "model_100.add(layers.Dense(64, activation='relu'))\n",
    "model_100.add(layers.Dense(1, activation='sigmoid'))\n",
    "\n",
    "model_100.compile(loss='binary_crossentropy', optimizer=\"sgd\", metrics=['acc'])"
   ]
  },
  {
   "cell_type": "code",
   "execution_count": 57,
   "metadata": {
    "scrolled": true
   },
   "outputs": [
    {
     "name": "stdout",
     "output_type": "stream",
     "text": [
      "Train on 5216 samples, validate on 16 samples\n",
      "Epoch 1/100\n",
      "5216/5216 [==============================] - 1s 229us/step - loss: 0.5775 - acc: 0.7427 - val_loss: 0.8101 - val_acc: 0.5000\n",
      "Epoch 2/100\n",
      "5216/5216 [==============================] - 1s 203us/step - loss: 0.5371 - acc: 0.7429 - val_loss: 0.8238 - val_acc: 0.5000\n",
      "Epoch 3/100\n",
      "5216/5216 [==============================] - 1s 200us/step - loss: 0.4679 - acc: 0.7747 - val_loss: 0.6513 - val_acc: 0.5625\n",
      "Epoch 4/100\n",
      "5216/5216 [==============================] - 1s 205us/step - loss: 0.3751 - acc: 0.8351 - val_loss: 0.6841 - val_acc: 0.6875\n",
      "Epoch 5/100\n",
      "5216/5216 [==============================] - 1s 205us/step - loss: 0.2982 - acc: 0.8746 - val_loss: 1.0028 - val_acc: 0.5625\n",
      "Epoch 6/100\n",
      "5216/5216 [==============================] - 1s 202us/step - loss: 0.2328 - acc: 0.9066 - val_loss: 0.4509 - val_acc: 0.8125\n",
      "Epoch 7/100\n",
      "5216/5216 [==============================] - 1s 202us/step - loss: 0.2013 - acc: 0.9176 - val_loss: 0.5422 - val_acc: 0.7500\n",
      "Epoch 8/100\n",
      "5216/5216 [==============================] - 1s 202us/step - loss: 0.1709 - acc: 0.9317 - val_loss: 0.8925 - val_acc: 0.5625\n",
      "Epoch 9/100\n",
      "5216/5216 [==============================] - 1s 201us/step - loss: 0.1611 - acc: 0.9390 - val_loss: 0.7126 - val_acc: 0.6250\n",
      "Epoch 10/100\n",
      "5216/5216 [==============================] - 1s 199us/step - loss: 0.1531 - acc: 0.9415 - val_loss: 0.4713 - val_acc: 0.7500\n",
      "Epoch 11/100\n",
      "5216/5216 [==============================] - 1s 205us/step - loss: 0.1455 - acc: 0.9406 - val_loss: 0.3673 - val_acc: 0.8125\n",
      "Epoch 12/100\n",
      "5216/5216 [==============================] - 1s 202us/step - loss: 0.1346 - acc: 0.9459 - val_loss: 0.5177 - val_acc: 0.6875\n",
      "Epoch 13/100\n",
      "5216/5216 [==============================] - 1s 201us/step - loss: 0.1412 - acc: 0.9436 - val_loss: 0.4499 - val_acc: 0.7500\n",
      "Epoch 14/100\n",
      "5216/5216 [==============================] - 1s 204us/step - loss: 0.1263 - acc: 0.9517 - val_loss: 0.4581 - val_acc: 0.6875\n",
      "Epoch 15/100\n",
      "5216/5216 [==============================] - 1s 210us/step - loss: 0.1190 - acc: 0.9548 - val_loss: 0.5060 - val_acc: 0.6875\n",
      "Epoch 16/100\n",
      "5216/5216 [==============================] - 1s 203us/step - loss: 0.1221 - acc: 0.9526 - val_loss: 0.6145 - val_acc: 0.7500\n",
      "Epoch 17/100\n",
      "5216/5216 [==============================] - 1s 200us/step - loss: 0.1113 - acc: 0.9561 - val_loss: 0.7282 - val_acc: 0.6250\n",
      "Epoch 18/100\n",
      "5216/5216 [==============================] - 1s 203us/step - loss: 0.1100 - acc: 0.9561 - val_loss: 2.1619 - val_acc: 0.5625\n",
      "Epoch 19/100\n",
      "5216/5216 [==============================] - 1s 204us/step - loss: 0.1152 - acc: 0.9567 - val_loss: 0.6242 - val_acc: 0.7500\n",
      "Epoch 20/100\n",
      "5216/5216 [==============================] - 1s 201us/step - loss: 0.1053 - acc: 0.9607 - val_loss: 0.3026 - val_acc: 0.8750\n",
      "Epoch 21/100\n",
      "5216/5216 [==============================] - 1s 203us/step - loss: 0.1052 - acc: 0.9609 - val_loss: 0.5440 - val_acc: 0.7500\n",
      "Epoch 22/100\n",
      "5216/5216 [==============================] - 1s 202us/step - loss: 0.1037 - acc: 0.9607 - val_loss: 0.3178 - val_acc: 0.8750\n",
      "Epoch 23/100\n",
      "5216/5216 [==============================] - 1s 202us/step - loss: 0.1028 - acc: 0.9607 - val_loss: 1.3066 - val_acc: 0.5625\n",
      "Epoch 24/100\n",
      "5216/5216 [==============================] - 1s 199us/step - loss: 0.1011 - acc: 0.9617 - val_loss: 0.3439 - val_acc: 0.8125\n",
      "Epoch 25/100\n",
      "5216/5216 [==============================] - 1s 202us/step - loss: 0.0922 - acc: 0.9643 - val_loss: 0.4221 - val_acc: 0.7500\n",
      "Epoch 26/100\n",
      "5216/5216 [==============================] - 1s 203us/step - loss: 0.0915 - acc: 0.9657 - val_loss: 0.6031 - val_acc: 0.7500\n",
      "Epoch 27/100\n",
      "5216/5216 [==============================] - 1s 209us/step - loss: 0.0933 - acc: 0.9634 - val_loss: 0.4510 - val_acc: 0.7500\n",
      "Epoch 28/100\n",
      "5216/5216 [==============================] - 1s 220us/step - loss: 0.0883 - acc: 0.9651 - val_loss: 0.3339 - val_acc: 0.6875\n",
      "Epoch 29/100\n",
      "5216/5216 [==============================] - 1s 216us/step - loss: 0.0898 - acc: 0.9643 - val_loss: 0.7701 - val_acc: 0.6250\n",
      "Epoch 30/100\n",
      "5216/5216 [==============================] - 1s 208us/step - loss: 0.0877 - acc: 0.9678 - val_loss: 0.7512 - val_acc: 0.6875\n",
      "Epoch 31/100\n",
      "5216/5216 [==============================] - 1s 211us/step - loss: 0.0885 - acc: 0.9663 - val_loss: 0.3489 - val_acc: 0.8125\n",
      "Epoch 32/100\n",
      "5216/5216 [==============================] - 1s 213us/step - loss: 0.0828 - acc: 0.9682 - val_loss: 0.7537 - val_acc: 0.6875\n",
      "Epoch 33/100\n",
      "5216/5216 [==============================] - 1s 212us/step - loss: 0.0829 - acc: 0.9678 - val_loss: 0.4776 - val_acc: 0.7500\n",
      "Epoch 34/100\n",
      "5216/5216 [==============================] - 1s 212us/step - loss: 0.0834 - acc: 0.9691 - val_loss: 0.8028 - val_acc: 0.6875\n",
      "Epoch 35/100\n",
      "5216/5216 [==============================] - 1s 208us/step - loss: 0.0782 - acc: 0.9686 - val_loss: 0.6591 - val_acc: 0.6875\n",
      "Epoch 36/100\n",
      "5216/5216 [==============================] - 1s 205us/step - loss: 0.0761 - acc: 0.9693 - val_loss: 0.2152 - val_acc: 0.9375\n",
      "Epoch 37/100\n",
      "5216/5216 [==============================] - 1s 212us/step - loss: 0.0752 - acc: 0.9699 - val_loss: 1.1393 - val_acc: 0.5625\n",
      "Epoch 38/100\n",
      "5216/5216 [==============================] - 1s 212us/step - loss: 0.0747 - acc: 0.9701 - val_loss: 0.2258 - val_acc: 0.8750\n",
      "Epoch 39/100\n",
      "5216/5216 [==============================] - 1s 212us/step - loss: 0.0720 - acc: 0.9745 - val_loss: 0.6010 - val_acc: 0.6875\n",
      "Epoch 40/100\n",
      "5216/5216 [==============================] - 1s 201us/step - loss: 0.0697 - acc: 0.9734 - val_loss: 0.4579 - val_acc: 0.6875\n",
      "Epoch 41/100\n",
      "5216/5216 [==============================] - 1s 202us/step - loss: 0.0704 - acc: 0.9749 - val_loss: 0.4351 - val_acc: 0.6875\n",
      "Epoch 42/100\n",
      "5216/5216 [==============================] - 1s 206us/step - loss: 0.0730 - acc: 0.9757 - val_loss: 0.1820 - val_acc: 0.9375\n",
      "Epoch 43/100\n",
      "5216/5216 [==============================] - 1s 201us/step - loss: 0.0720 - acc: 0.9732 - val_loss: 0.6497 - val_acc: 0.6875\n",
      "Epoch 44/100\n",
      "5216/5216 [==============================] - 1s 205us/step - loss: 0.0677 - acc: 0.9757 - val_loss: 0.2934 - val_acc: 0.8750\n",
      "Epoch 45/100\n",
      "5216/5216 [==============================] - 1s 200us/step - loss: 0.0701 - acc: 0.9730 - val_loss: 0.5416 - val_acc: 0.6875\n",
      "Epoch 46/100\n",
      "5216/5216 [==============================] - 1s 201us/step - loss: 0.0636 - acc: 0.9755 - val_loss: 0.6970 - val_acc: 0.6250\n",
      "Epoch 47/100\n",
      "5216/5216 [==============================] - 1s 204us/step - loss: 0.0644 - acc: 0.9758 - val_loss: 0.5692 - val_acc: 0.6875\n",
      "Epoch 48/100\n",
      "5216/5216 [==============================] - 1s 204us/step - loss: 0.0627 - acc: 0.9764 - val_loss: 0.3452 - val_acc: 0.8125\n",
      "Epoch 49/100\n",
      "5216/5216 [==============================] - 1s 201us/step - loss: 0.0626 - acc: 0.9758 - val_loss: 0.3256 - val_acc: 0.7500\n",
      "Epoch 50/100\n",
      "5216/5216 [==============================] - 1s 207us/step - loss: 0.0611 - acc: 0.9755 - val_loss: 0.3357 - val_acc: 0.7500\n",
      "Epoch 51/100\n",
      "5216/5216 [==============================] - 1s 205us/step - loss: 0.0612 - acc: 0.9776 - val_loss: 0.3353 - val_acc: 0.7500\n",
      "Epoch 52/100\n",
      "5216/5216 [==============================] - 1s 201us/step - loss: 0.0577 - acc: 0.9780 - val_loss: 0.3941 - val_acc: 0.6875\n",
      "Epoch 53/100\n",
      "5216/5216 [==============================] - 1s 201us/step - loss: 0.0586 - acc: 0.9793 - val_loss: 0.9007 - val_acc: 0.6250\n",
      "Epoch 54/100\n",
      "5216/5216 [==============================] - 1s 204us/step - loss: 0.0574 - acc: 0.9793 - val_loss: 0.4503 - val_acc: 0.6875\n",
      "Epoch 55/100\n",
      "5216/5216 [==============================] - 1s 204us/step - loss: 0.0583 - acc: 0.9799 - val_loss: 0.1626 - val_acc: 1.0000\n",
      "Epoch 56/100\n",
      "5216/5216 [==============================] - 1s 206us/step - loss: 0.0577 - acc: 0.9797 - val_loss: 1.5004 - val_acc: 0.5625\n",
      "Epoch 57/100\n",
      "5216/5216 [==============================] - 1s 203us/step - loss: 0.0540 - acc: 0.9791 - val_loss: 0.3774 - val_acc: 0.8125\n",
      "Epoch 58/100\n",
      "5216/5216 [==============================] - 1s 204us/step - loss: 0.0506 - acc: 0.9808 - val_loss: 0.2844 - val_acc: 0.7500\n",
      "Epoch 59/100\n",
      "5216/5216 [==============================] - 1s 204us/step - loss: 0.0535 - acc: 0.9791 - val_loss: 0.3499 - val_acc: 0.7500\n",
      "Epoch 60/100\n",
      "5216/5216 [==============================] - 1s 201us/step - loss: 0.0540 - acc: 0.9806 - val_loss: 0.8810 - val_acc: 0.6875\n",
      "Epoch 61/100\n",
      "5216/5216 [==============================] - 1s 203us/step - loss: 0.0516 - acc: 0.9804 - val_loss: 0.7801 - val_acc: 0.6875\n",
      "Epoch 62/100\n",
      "5216/5216 [==============================] - 1s 207us/step - loss: 0.0534 - acc: 0.9793 - val_loss: 0.1450 - val_acc: 0.9375\n",
      "Epoch 63/100\n",
      "5216/5216 [==============================] - 1s 203us/step - loss: 0.0493 - acc: 0.9831 - val_loss: 0.1544 - val_acc: 1.0000\n",
      "Epoch 64/100\n",
      "5216/5216 [==============================] - 1s 202us/step - loss: 0.0483 - acc: 0.9818 - val_loss: 0.3526 - val_acc: 0.7500\n",
      "Epoch 65/100\n",
      "5216/5216 [==============================] - 1s 205us/step - loss: 0.0488 - acc: 0.9820 - val_loss: 0.8127 - val_acc: 0.6875\n",
      "Epoch 66/100\n",
      "5216/5216 [==============================] - 1s 206us/step - loss: 0.0475 - acc: 0.9827 - val_loss: 0.1142 - val_acc: 1.0000\n",
      "Epoch 67/100\n",
      "5216/5216 [==============================] - 1s 201us/step - loss: 0.0498 - acc: 0.9789 - val_loss: 0.2542 - val_acc: 0.7500\n",
      "Epoch 68/100\n",
      "5216/5216 [==============================] - 1s 203us/step - loss: 0.0509 - acc: 0.9812 - val_loss: 1.2601 - val_acc: 0.5625\n",
      "Epoch 69/100\n",
      "5216/5216 [==============================] - 1s 202us/step - loss: 0.0477 - acc: 0.9829 - val_loss: 0.5762 - val_acc: 0.7500\n",
      "Epoch 70/100\n",
      "5216/5216 [==============================] - 1s 204us/step - loss: 0.0434 - acc: 0.9850 - val_loss: 0.3072 - val_acc: 0.8125\n",
      "Epoch 71/100\n",
      "5216/5216 [==============================] - 1s 200us/step - loss: 0.0428 - acc: 0.9835 - val_loss: 0.3863 - val_acc: 0.7500\n",
      "Epoch 72/100\n",
      "5216/5216 [==============================] - 1s 208us/step - loss: 0.0418 - acc: 0.9837 - val_loss: 0.4841 - val_acc: 0.7500\n",
      "Epoch 73/100\n",
      "5216/5216 [==============================] - 1s 207us/step - loss: 0.0421 - acc: 0.9841 - val_loss: 0.6016 - val_acc: 0.7500\n",
      "Epoch 74/100\n",
      "5216/5216 [==============================] - 1s 206us/step - loss: 0.0422 - acc: 0.9843 - val_loss: 0.7933 - val_acc: 0.6875\n",
      "Epoch 75/100\n",
      "5216/5216 [==============================] - 1s 205us/step - loss: 0.0419 - acc: 0.9854 - val_loss: 1.3787 - val_acc: 0.5625\n",
      "Epoch 76/100\n",
      "5216/5216 [==============================] - 1s 221us/step - loss: 0.0424 - acc: 0.9850 - val_loss: 0.3311 - val_acc: 0.8125\n",
      "Epoch 77/100\n",
      "5216/5216 [==============================] - 1s 209us/step - loss: 0.0411 - acc: 0.9850 - val_loss: 0.1262 - val_acc: 1.0000\n",
      "Epoch 78/100\n",
      "5216/5216 [==============================] - 1s 208us/step - loss: 0.0411 - acc: 0.9856 - val_loss: 0.1788 - val_acc: 0.8125\n",
      "Epoch 79/100\n",
      "5216/5216 [==============================] - 1s 206us/step - loss: 0.0382 - acc: 0.9856 - val_loss: 0.4662 - val_acc: 0.8125\n",
      "Epoch 80/100\n",
      "5216/5216 [==============================] - 1s 211us/step - loss: 0.0401 - acc: 0.9850 - val_loss: 0.3925 - val_acc: 0.8125\n",
      "Epoch 81/100\n",
      "5216/5216 [==============================] - 1s 207us/step - loss: 0.0372 - acc: 0.9868 - val_loss: 0.2877 - val_acc: 0.8125\n",
      "Epoch 82/100\n",
      "5216/5216 [==============================] - 1s 207us/step - loss: 0.0365 - acc: 0.9862 - val_loss: 1.2645 - val_acc: 0.6250\n",
      "Epoch 83/100\n",
      "5216/5216 [==============================] - 1s 206us/step - loss: 0.0364 - acc: 0.9868 - val_loss: 0.3955 - val_acc: 0.8125\n",
      "Epoch 84/100\n",
      "5216/5216 [==============================] - 1s 206us/step - loss: 0.0363 - acc: 0.9860 - val_loss: 0.4370 - val_acc: 0.8125\n",
      "Epoch 85/100\n",
      "5216/5216 [==============================] - 1s 206us/step - loss: 0.0355 - acc: 0.9864 - val_loss: 0.7086 - val_acc: 0.7500\n",
      "Epoch 86/100\n",
      "5216/5216 [==============================] - 1s 208us/step - loss: 0.0384 - acc: 0.9849 - val_loss: 0.5183 - val_acc: 0.8125\n",
      "Epoch 87/100\n",
      "5216/5216 [==============================] - 1s 206us/step - loss: 0.0365 - acc: 0.9864 - val_loss: 0.3551 - val_acc: 0.8125\n",
      "Epoch 88/100\n",
      "5216/5216 [==============================] - 1s 209us/step - loss: 0.0308 - acc: 0.9891 - val_loss: 0.5151 - val_acc: 0.8125\n",
      "Epoch 89/100\n",
      "5216/5216 [==============================] - 1s 206us/step - loss: 0.0344 - acc: 0.9868 - val_loss: 0.2475 - val_acc: 0.8750\n",
      "Epoch 90/100\n",
      "5216/5216 [==============================] - 1s 209us/step - loss: 0.0325 - acc: 0.9885 - val_loss: 0.4363 - val_acc: 0.8125\n",
      "Epoch 91/100\n",
      "5216/5216 [==============================] - 1s 209us/step - loss: 0.0318 - acc: 0.9879 - val_loss: 0.3513 - val_acc: 0.8125\n",
      "Epoch 92/100\n",
      "5216/5216 [==============================] - 1s 208us/step - loss: 0.0316 - acc: 0.9887 - val_loss: 0.4533 - val_acc: 0.8125\n",
      "Epoch 93/100\n",
      "5216/5216 [==============================] - 1s 210us/step - loss: 0.0308 - acc: 0.9896 - val_loss: 0.3230 - val_acc: 0.8125\n",
      "Epoch 94/100\n",
      "5216/5216 [==============================] - 1s 208us/step - loss: 0.0277 - acc: 0.9910 - val_loss: 0.4570 - val_acc: 0.8125\n",
      "Epoch 95/100\n",
      "5216/5216 [==============================] - 1s 207us/step - loss: 0.0300 - acc: 0.9889 - val_loss: 0.3932 - val_acc: 0.8125\n",
      "Epoch 96/100\n",
      "5216/5216 [==============================] - 1s 206us/step - loss: 0.0447 - acc: 0.9827 - val_loss: 1.2065 - val_acc: 0.7500\n",
      "Epoch 97/100\n",
      "5216/5216 [==============================] - 1s 208us/step - loss: 0.0313 - acc: 0.9883 - val_loss: 0.6468 - val_acc: 0.8125\n",
      "Epoch 98/100\n",
      "5216/5216 [==============================] - 1s 206us/step - loss: 0.0272 - acc: 0.9906 - val_loss: 0.1055 - val_acc: 1.0000\n",
      "Epoch 99/100\n",
      "5216/5216 [==============================] - 1s 210us/step - loss: 0.0293 - acc: 0.9879 - val_loss: 0.7318 - val_acc: 0.8125\n",
      "Epoch 100/100\n",
      "5216/5216 [==============================] - 1s 205us/step - loss: 0.0327 - acc: 0.9875 - val_loss: 0.5776 - val_acc: 0.8125\n",
      "CPU times: user 1min 27s, sys: 15.4 s, total: 1min 42s\n",
      "Wall time: 1min 47s\n"
     ]
    }
   ],
   "source": [
    "%%time\n",
    "history_100 = model_100.fit(train_images,\n",
    "                    train_y,\n",
    "                    epochs=100,\n",
    "                    batch_size=50,\n",
    "                    validation_data=(val_images, val_y))"
   ]
  },
  {
   "cell_type": "code",
   "execution_count": 58,
   "metadata": {},
   "outputs": [
    {
     "name": "stdout",
     "output_type": "stream",
     "text": [
      "624/624 [==============================] - 0s 119us/step\n"
     ]
    },
    {
     "data": {
      "text/plain": [
       "[1.2591797755314753, 0.7596153616905212]"
      ]
     },
     "execution_count": 58,
     "metadata": {},
     "output_type": "execute_result"
    }
   ],
   "source": [
    "results_test_100 = model_100.evaluate(test_images, test_y)\n",
    "results_test_100"
   ]
  },
  {
   "cell_type": "code",
   "execution_count": 59,
   "metadata": {
    "scrolled": true
   },
   "outputs": [
    {
     "name": "stdout",
     "output_type": "stream",
     "text": [
      "Final epoch loss: 0.03272779743328899\n",
      "Final epoch accuracy: 0.98753834\n"
     ]
    },
    {
     "data": {
      "image/png": "[encoded data removed]",
      "text/plain": [
       "<Figure size 864x576 with 1 Axes>"
      ]
     },
     "metadata": {
      "needs_background": "light"
     },
     "output_type": "display_data"
    }
   ],
   "source": [
    "# go to bottom and run the cell that defines plot_history()\n",
    "plot_history(history_100)"
   ]
  },
  {
   "cell_type": "markdown",
   "metadata": {},
   "source": [
    "## 64x64, Baseline, Dropout"
   ]
  },
  {
   "cell_type": "code",
   "execution_count": 26,
   "metadata": {},
   "outputs": [],
   "source": [
    "model_1d = models.Sequential()\n",
    "\n",
    "model_1d.add(Dropout(.3, input_shape=(64, 64, 3)))\n",
    "\n",
    "model_1d.add(layers.Conv2D(32, (3, 3), activation='relu'))\n",
    "model_1d.add(layers.MaxPooling2D((2, 2)))\n",
    "\n",
    "model_1d.add(layers.Conv2D(32, (4, 4), activation='relu'))\n",
    "model_1d.add(layers.MaxPooling2D((2, 2)))\n",
    "\n",
    "model_1d.add(layers.Conv2D(64, (3, 3), activation='relu'))\n",
    "model_1d.add(layers.MaxPooling2D((2, 2)))\n",
    "\n",
    "model_1d.add(layers.Flatten())\n",
    "model_1d.add(layers.Dense(64, activation='relu'))\n",
    "model_1d.add(layers.Dense(1, activation='sigmoid'))\n",
    "\n",
    "model_1d.compile(loss='binary_crossentropy', optimizer=\"sgd\", metrics=['acc'])"
   ]
  },
  {
   "cell_type": "code",
   "execution_count": 27,
   "metadata": {
    "scrolled": true
   },
   "outputs": [
    {
     "name": "stdout",
     "output_type": "stream",
     "text": [
      "Train on 5216 samples, validate on 16 samples\n",
      "Epoch 1/30\n",
      "5216/5216 [==============================] - 1s 248us/step - loss: 0.5561 - acc: 0.7377 - val_loss: 0.7079 - val_acc: 0.5000\n",
      "Epoch 2/30\n",
      "5216/5216 [==============================] - 1s 215us/step - loss: 0.4982 - acc: 0.7644 - val_loss: 0.6897 - val_acc: 0.5625\n",
      "Epoch 3/30\n",
      "5216/5216 [==============================] - 1s 216us/step - loss: 0.4345 - acc: 0.8043 - val_loss: 0.8575 - val_acc: 0.5625\n",
      "Epoch 4/30\n",
      "5216/5216 [==============================] - 1s 216us/step - loss: 0.3601 - acc: 0.8439 - val_loss: 0.6499 - val_acc: 0.6250\n",
      "Epoch 5/30\n",
      "5216/5216 [==============================] - 1s 217us/step - loss: 0.2938 - acc: 0.8731 - val_loss: 0.6162 - val_acc: 0.5625\n",
      "Epoch 6/30\n",
      "5216/5216 [==============================] - 1s 216us/step - loss: 0.2553 - acc: 0.8924 - val_loss: 0.9248 - val_acc: 0.5625\n",
      "Epoch 7/30\n",
      "5216/5216 [==============================] - 1s 220us/step - loss: 0.2239 - acc: 0.9091 - val_loss: 0.5713 - val_acc: 0.6875\n",
      "Epoch 8/30\n",
      "5216/5216 [==============================] - 1s 221us/step - loss: 0.2026 - acc: 0.9208 - val_loss: 0.5621 - val_acc: 0.6875\n",
      "Epoch 9/30\n",
      "5216/5216 [==============================] - 1s 216us/step - loss: 0.1925 - acc: 0.9206 - val_loss: 0.5478 - val_acc: 0.6875\n",
      "Epoch 10/30\n",
      "5216/5216 [==============================] - 1s 215us/step - loss: 0.1749 - acc: 0.9306 - val_loss: 0.5980 - val_acc: 0.5625\n",
      "Epoch 11/30\n",
      "5216/5216 [==============================] - 1s 216us/step - loss: 0.1733 - acc: 0.9296 - val_loss: 0.4213 - val_acc: 0.8750\n",
      "Epoch 12/30\n",
      "5216/5216 [==============================] - 1s 216us/step - loss: 0.1648 - acc: 0.9344 - val_loss: 0.4014 - val_acc: 0.8750\n",
      "Epoch 13/30\n",
      "5216/5216 [==============================] - 1s 219us/step - loss: 0.1602 - acc: 0.9358 - val_loss: 0.3801 - val_acc: 0.8750\n",
      "Epoch 14/30\n",
      "5216/5216 [==============================] - 1s 218us/step - loss: 0.1540 - acc: 0.9400 - val_loss: 0.7457 - val_acc: 0.5625\n",
      "Epoch 15/30\n",
      "5216/5216 [==============================] - 1s 217us/step - loss: 0.1469 - acc: 0.9390 - val_loss: 0.3533 - val_acc: 0.8750\n",
      "Epoch 16/30\n",
      "5216/5216 [==============================] - 1s 217us/step - loss: 0.1426 - acc: 0.9446 - val_loss: 0.3957 - val_acc: 0.8125\n",
      "Epoch 17/30\n",
      "5216/5216 [==============================] - 1s 218us/step - loss: 0.1388 - acc: 0.9438 - val_loss: 0.8527 - val_acc: 0.5625\n",
      "Epoch 18/30\n",
      "5216/5216 [==============================] - 1s 217us/step - loss: 0.1369 - acc: 0.9465 - val_loss: 0.3333 - val_acc: 0.9375\n",
      "Epoch 19/30\n",
      "5216/5216 [==============================] - 1s 215us/step - loss: 0.1330 - acc: 0.9477 - val_loss: 0.3184 - val_acc: 0.8750\n",
      "Epoch 20/30\n",
      "5216/5216 [==============================] - 1s 217us/step - loss: 0.1309 - acc: 0.9482 - val_loss: 0.5042 - val_acc: 0.6875\n",
      "Epoch 21/30\n",
      "5216/5216 [==============================] - 1s 213us/step - loss: 0.1267 - acc: 0.9496 - val_loss: 0.3096 - val_acc: 0.8750\n",
      "Epoch 22/30\n",
      "5216/5216 [==============================] - 1s 218us/step - loss: 0.1245 - acc: 0.9523 - val_loss: 0.3605 - val_acc: 0.8125\n",
      "Epoch 23/30\n",
      "5216/5216 [==============================] - 1s 213us/step - loss: 0.1191 - acc: 0.9532 - val_loss: 0.4692 - val_acc: 0.6875\n",
      "Epoch 24/30\n",
      "5216/5216 [==============================] - 1s 220us/step - loss: 0.1182 - acc: 0.9567 - val_loss: 0.4588 - val_acc: 0.6875\n",
      "Epoch 25/30\n",
      "5216/5216 [==============================] - 1s 217us/step - loss: 0.1157 - acc: 0.9525 - val_loss: 0.3776 - val_acc: 0.7500\n",
      "Epoch 26/30\n",
      "5216/5216 [==============================] - 1s 223us/step - loss: 0.1198 - acc: 0.9555 - val_loss: 0.2688 - val_acc: 0.8750\n",
      "Epoch 27/30\n",
      "5216/5216 [==============================] - 1s 219us/step - loss: 0.1121 - acc: 0.9571 - val_loss: 0.5167 - val_acc: 0.6875\n",
      "Epoch 28/30\n",
      "5216/5216 [==============================] - 1s 218us/step - loss: 0.1119 - acc: 0.9563 - val_loss: 0.5452 - val_acc: 0.6875\n",
      "Epoch 29/30\n",
      "5216/5216 [==============================] - 1s 215us/step - loss: 0.1097 - acc: 0.9607 - val_loss: 0.3062 - val_acc: 0.8750\n",
      "Epoch 30/30\n",
      "5216/5216 [==============================] - 1s 222us/step - loss: 0.1070 - acc: 0.9605 - val_loss: 0.5210 - val_acc: 0.6875\n",
      "CPU times: user 27.6 s, sys: 5.01 s, total: 32.6 s\n",
      "Wall time: 34.5 s\n"
     ]
    }
   ],
   "source": [
    "%%time\n",
    "history_1_d = model_1d.fit(train_images,\n",
    "                    train_y,\n",
    "                    epochs=30,\n",
    "                    batch_size=50,\n",
    "                    validation_data=(val_images, val_y))"
   ]
  },
  {
   "cell_type": "code",
   "execution_count": 28,
   "metadata": {},
   "outputs": [
    {
     "name": "stdout",
     "output_type": "stream",
     "text": [
      "624/624 [==============================] - 0s 146us/step\n"
     ]
    },
    {
     "data": {
      "text/plain": [
       "[0.8363092205463312, 0.7147436141967773]"
      ]
     },
     "execution_count": 28,
     "metadata": {},
     "output_type": "execute_result"
    }
   ],
   "source": [
    "results_test_1d = model_1d.evaluate(test_images, test_y)\n",
    "results_test_1d"
   ]
  },
  {
   "cell_type": "markdown",
   "metadata": {},
   "source": [
    "## 64x64, Baseline, Dropout, 100 Epochs"
   ]
  },
  {
   "cell_type": "code",
   "execution_count": 20,
   "metadata": {},
   "outputs": [],
   "source": [
    "model_100d = models.Sequential()\n",
    "\n",
    "model_100d.add(Dropout(.3, input_shape=(64, 64, 3)))\n",
    "\n",
    "model_100d.add(layers.Conv2D(32, (3, 3), activation='relu'))\n",
    "model_100d.add(layers.MaxPooling2D((2, 2)))\n",
    "\n",
    "model_100d.add(layers.Conv2D(32, (4, 4), activation='relu'))\n",
    "model_100d.add(layers.MaxPooling2D((2, 2)))\n",
    "\n",
    "model_100d.add(layers.Conv2D(64, (3, 3), activation='relu'))\n",
    "model_100d.add(layers.MaxPooling2D((2, 2)))\n",
    "\n",
    "model_100d.add(layers.Flatten())\n",
    "model_100d.add(layers.Dense(64, activation='relu'))\n",
    "model_100d.add(layers.Dense(1, activation='sigmoid'))\n",
    "\n",
    "model_100d.compile(loss='binary_crossentropy', optimizer=\"sgd\", metrics=['acc'])"
   ]
  },
  {
   "cell_type": "code",
   "execution_count": 22,
   "metadata": {},
   "outputs": [
    {
     "name": "stdout",
     "output_type": "stream",
     "text": [
      "Train on 5216 samples, validate on 16 samples\n",
      "Epoch 1/100\n",
      "5216/5216 [==============================] - 2s 467us/step - loss: 0.5602 - acc: 0.7379 - val_loss: 0.7049 - val_acc: 0.5000\n",
      "Epoch 2/100\n",
      "5216/5216 [==============================] - 1s 218us/step - loss: 0.4959 - acc: 0.7542 - val_loss: 0.9159 - val_acc: 0.5000\n",
      "Epoch 3/100\n",
      "5216/5216 [==============================] - 1s 230us/step - loss: 0.4162 - acc: 0.8064 - val_loss: 0.6785 - val_acc: 0.6250\n",
      "Epoch 4/100\n",
      "5216/5216 [==============================] - 1s 224us/step - loss: 0.3283 - acc: 0.8535 - val_loss: 0.7683 - val_acc: 0.6250\n",
      "Epoch 5/100\n",
      "5216/5216 [==============================] - 1s 220us/step - loss: 0.2626 - acc: 0.8947 - val_loss: 0.7157 - val_acc: 0.6250\n",
      "Epoch 6/100\n",
      "5216/5216 [==============================] - 1s 216us/step - loss: 0.2203 - acc: 0.9099 - val_loss: 0.6260 - val_acc: 0.6250\n",
      "Epoch 7/100\n",
      "5216/5216 [==============================] - 1s 214us/step - loss: 0.2023 - acc: 0.9164 - val_loss: 0.7353 - val_acc: 0.5625\n",
      "Epoch 8/100\n",
      "5216/5216 [==============================] - 1s 216us/step - loss: 0.1787 - acc: 0.9273 - val_loss: 0.7297 - val_acc: 0.5625\n",
      "Epoch 9/100\n",
      "5216/5216 [==============================] - 1s 219us/step - loss: 0.1690 - acc: 0.9327 - val_loss: 0.4051 - val_acc: 0.8125\n",
      "Epoch 10/100\n",
      "5216/5216 [==============================] - 1s 220us/step - loss: 0.1561 - acc: 0.9379 - val_loss: 0.7182 - val_acc: 0.5625\n",
      "Epoch 11/100\n",
      "5216/5216 [==============================] - 1s 218us/step - loss: 0.1577 - acc: 0.9371 - val_loss: 0.4727 - val_acc: 0.8750\n",
      "Epoch 12/100\n",
      "5216/5216 [==============================] - 1s 218us/step - loss: 0.1479 - acc: 0.9419 - val_loss: 0.3811 - val_acc: 0.8125\n",
      "Epoch 13/100\n",
      "5216/5216 [==============================] - 1s 220us/step - loss: 0.1437 - acc: 0.9413 - val_loss: 0.3360 - val_acc: 0.8750\n",
      "Epoch 14/100\n",
      "5216/5216 [==============================] - 1s 218us/step - loss: 0.1403 - acc: 0.9459 - val_loss: 0.4946 - val_acc: 0.6875\n",
      "Epoch 15/100\n",
      "5216/5216 [==============================] - 1s 219us/step - loss: 0.1331 - acc: 0.9509 - val_loss: 0.5908 - val_acc: 0.6875\n",
      "Epoch 16/100\n",
      "5216/5216 [==============================] - 1s 222us/step - loss: 0.1353 - acc: 0.9473 - val_loss: 0.3963 - val_acc: 0.8125\n",
      "Epoch 17/100\n",
      "5216/5216 [==============================] - 1s 216us/step - loss: 0.1273 - acc: 0.9519 - val_loss: 0.4536 - val_acc: 0.6875\n",
      "Epoch 18/100\n",
      "5216/5216 [==============================] - 1s 217us/step - loss: 0.1208 - acc: 0.9540 - val_loss: 0.3307 - val_acc: 0.8750\n",
      "Epoch 19/100\n",
      "5216/5216 [==============================] - 1s 218us/step - loss: 0.1249 - acc: 0.9542 - val_loss: 0.3644 - val_acc: 0.7500\n",
      "Epoch 20/100\n",
      "5216/5216 [==============================] - 1s 216us/step - loss: 0.1241 - acc: 0.9511 - val_loss: 0.5371 - val_acc: 0.6875\n",
      "Epoch 21/100\n",
      "5216/5216 [==============================] - 1s 216us/step - loss: 0.1146 - acc: 0.9578 - val_loss: 0.5579 - val_acc: 0.6875\n",
      "Epoch 22/100\n",
      "5216/5216 [==============================] - 1s 221us/step - loss: 0.1165 - acc: 0.9538 - val_loss: 0.2981 - val_acc: 0.8750\n",
      "Epoch 23/100\n",
      "5216/5216 [==============================] - 1s 217us/step - loss: 0.1145 - acc: 0.9588 - val_loss: 0.3866 - val_acc: 0.6875\n",
      "Epoch 24/100\n",
      "5216/5216 [==============================] - 1s 221us/step - loss: 0.1140 - acc: 0.9576 - val_loss: 0.6015 - val_acc: 0.6875\n",
      "Epoch 25/100\n",
      "5216/5216 [==============================] - 1s 216us/step - loss: 0.1096 - acc: 0.9588 - val_loss: 0.6675 - val_acc: 0.6875\n",
      "Epoch 26/100\n",
      "5216/5216 [==============================] - 1s 221us/step - loss: 0.1058 - acc: 0.9615 - val_loss: 0.2579 - val_acc: 0.8750\n",
      "Epoch 27/100\n",
      "5216/5216 [==============================] - 1s 217us/step - loss: 0.1075 - acc: 0.9590 - val_loss: 0.4774 - val_acc: 0.6875\n",
      "Epoch 28/100\n",
      "5216/5216 [==============================] - 1s 220us/step - loss: 0.1018 - acc: 0.9609 - val_loss: 0.8560 - val_acc: 0.6250\n",
      "Epoch 29/100\n",
      "5216/5216 [==============================] - 1s 220us/step - loss: 0.1010 - acc: 0.9647 - val_loss: 0.3746 - val_acc: 0.7500\n",
      "Epoch 30/100\n",
      "5216/5216 [==============================] - 1s 218us/step - loss: 0.0996 - acc: 0.9634 - val_loss: 0.3351 - val_acc: 0.7500\n",
      "Epoch 31/100\n",
      "5216/5216 [==============================] - 1s 218us/step - loss: 0.0945 - acc: 0.9663 - val_loss: 0.2291 - val_acc: 0.9375\n",
      "Epoch 32/100\n",
      "5216/5216 [==============================] - 1s 220us/step - loss: 0.0967 - acc: 0.9661 - val_loss: 0.2705 - val_acc: 0.9375\n",
      "Epoch 33/100\n",
      "5216/5216 [==============================] - 1s 219us/step - loss: 0.0920 - acc: 0.9643 - val_loss: 0.2138 - val_acc: 1.0000\n",
      "Epoch 34/100\n",
      "5216/5216 [==============================] - 1s 217us/step - loss: 0.0942 - acc: 0.9651 - val_loss: 0.2770 - val_acc: 0.9375\n",
      "Epoch 35/100\n",
      "5216/5216 [==============================] - 1s 223us/step - loss: 0.0920 - acc: 0.9649 - val_loss: 0.4139 - val_acc: 0.6875\n",
      "Epoch 36/100\n",
      "5216/5216 [==============================] - 1s 221us/step - loss: 0.0904 - acc: 0.9666 - val_loss: 0.2109 - val_acc: 1.0000\n",
      "Epoch 37/100\n",
      "5216/5216 [==============================] - 1s 221us/step - loss: 0.0881 - acc: 0.9657 - val_loss: 0.2216 - val_acc: 0.9375\n",
      "Epoch 38/100\n",
      "5216/5216 [==============================] - 1s 216us/step - loss: 0.0922 - acc: 0.9659 - val_loss: 0.2553 - val_acc: 0.8750\n",
      "Epoch 39/100\n",
      "5216/5216 [==============================] - 1s 217us/step - loss: 0.0877 - acc: 0.9655 - val_loss: 0.2825 - val_acc: 0.8125\n",
      "Epoch 40/100\n",
      "5216/5216 [==============================] - 1s 216us/step - loss: 0.0875 - acc: 0.9676 - val_loss: 0.1933 - val_acc: 1.0000\n",
      "Epoch 41/100\n",
      "5216/5216 [==============================] - 1s 218us/step - loss: 0.0921 - acc: 0.9653 - val_loss: 0.2189 - val_acc: 1.0000\n",
      "Epoch 42/100\n",
      "5216/5216 [==============================] - 1s 218us/step - loss: 0.0824 - acc: 0.9689 - val_loss: 0.2189 - val_acc: 1.0000\n",
      "Epoch 43/100\n",
      "5216/5216 [==============================] - 1s 218us/step - loss: 0.0869 - acc: 0.9678 - val_loss: 0.2930 - val_acc: 0.7500\n",
      "Epoch 44/100\n",
      "5216/5216 [==============================] - 1s 221us/step - loss: 0.0823 - acc: 0.9709 - val_loss: 0.2486 - val_acc: 0.8125\n",
      "Epoch 45/100\n",
      "5216/5216 [==============================] - 1s 220us/step - loss: 0.0847 - acc: 0.9703 - val_loss: 0.2157 - val_acc: 1.0000\n",
      "Epoch 46/100\n",
      "5216/5216 [==============================] - 1s 224us/step - loss: 0.0774 - acc: 0.9728 - val_loss: 0.2643 - val_acc: 0.8125\n",
      "Epoch 47/100\n",
      "5216/5216 [==============================] - 1s 220us/step - loss: 0.0814 - acc: 0.9697 - val_loss: 0.2223 - val_acc: 1.0000\n",
      "Epoch 48/100\n",
      "5216/5216 [==============================] - 1s 221us/step - loss: 0.0756 - acc: 0.9735 - val_loss: 0.2884 - val_acc: 0.8125\n",
      "Epoch 49/100\n",
      "5216/5216 [==============================] - 1s 220us/step - loss: 0.0772 - acc: 0.9703 - val_loss: 0.6679 - val_acc: 0.6875\n",
      "Epoch 50/100\n",
      "5216/5216 [==============================] - 1s 218us/step - loss: 0.0780 - acc: 0.9703 - val_loss: 0.2596 - val_acc: 0.8125\n",
      "Epoch 51/100\n",
      "5216/5216 [==============================] - 1s 219us/step - loss: 0.0719 - acc: 0.9753 - val_loss: 0.3582 - val_acc: 0.7500\n",
      "Epoch 52/100\n",
      "5216/5216 [==============================] - 1s 219us/step - loss: 0.0796 - acc: 0.9722 - val_loss: 0.4027 - val_acc: 0.7500\n",
      "Epoch 53/100\n",
      "5216/5216 [==============================] - 1s 219us/step - loss: 0.0746 - acc: 0.9703 - val_loss: 0.1603 - val_acc: 1.0000\n",
      "Epoch 54/100\n",
      "5216/5216 [==============================] - 1s 218us/step - loss: 0.0733 - acc: 0.9712 - val_loss: 0.3774 - val_acc: 0.6875\n",
      "Epoch 55/100\n",
      "5216/5216 [==============================] - 1s 218us/step - loss: 0.0729 - acc: 0.9732 - val_loss: 0.1670 - val_acc: 1.0000\n",
      "Epoch 56/100\n",
      "5216/5216 [==============================] - 1s 221us/step - loss: 0.0701 - acc: 0.9743 - val_loss: 0.2893 - val_acc: 0.8125\n",
      "Epoch 57/100\n",
      "5216/5216 [==============================] - 1s 215us/step - loss: 0.0706 - acc: 0.9732 - val_loss: 0.3115 - val_acc: 0.7500\n",
      "Epoch 58/100\n",
      "5216/5216 [==============================] - 1s 220us/step - loss: 0.0720 - acc: 0.9751 - val_loss: 0.2796 - val_acc: 0.8750\n",
      "Epoch 59/100\n",
      "5216/5216 [==============================] - 1s 218us/step - loss: 0.0714 - acc: 0.9745 - val_loss: 0.2036 - val_acc: 0.9375\n",
      "Epoch 60/100\n",
      "5216/5216 [==============================] - 1s 220us/step - loss: 0.0721 - acc: 0.9760 - val_loss: 0.2358 - val_acc: 0.8750\n",
      "Epoch 61/100\n",
      "5216/5216 [==============================] - 1s 213us/step - loss: 0.0677 - acc: 0.9755 - val_loss: 0.1977 - val_acc: 0.8750\n",
      "Epoch 62/100\n",
      "5216/5216 [==============================] - 1s 211us/step - loss: 0.0672 - acc: 0.9739 - val_loss: 0.9097 - val_acc: 0.6250\n",
      "Epoch 63/100\n",
      "5216/5216 [==============================] - 1s 218us/step - loss: 0.0706 - acc: 0.9735 - val_loss: 0.2487 - val_acc: 0.8125\n",
      "Epoch 64/100\n",
      "5216/5216 [==============================] - 1s 210us/step - loss: 0.0715 - acc: 0.9751 - val_loss: 0.1433 - val_acc: 1.0000\n",
      "Epoch 65/100\n",
      "5216/5216 [==============================] - 1s 214us/step - loss: 0.0730 - acc: 0.9714 - val_loss: 0.1910 - val_acc: 0.9375\n",
      "Epoch 66/100\n",
      "5216/5216 [==============================] - 1s 216us/step - loss: 0.0635 - acc: 0.9770 - val_loss: 0.1461 - val_acc: 1.0000\n",
      "Epoch 67/100\n",
      "5216/5216 [==============================] - 1s 218us/step - loss: 0.0675 - acc: 0.9741 - val_loss: 0.1588 - val_acc: 1.0000\n",
      "Epoch 68/100\n",
      "5216/5216 [==============================] - 1s 216us/step - loss: 0.0629 - acc: 0.9766 - val_loss: 0.1741 - val_acc: 0.9375\n",
      "Epoch 69/100\n",
      "5216/5216 [==============================] - 1s 212us/step - loss: 0.0663 - acc: 0.9732 - val_loss: 0.2345 - val_acc: 0.8750\n",
      "Epoch 70/100\n",
      "5216/5216 [==============================] - 1s 215us/step - loss: 0.0625 - acc: 0.9768 - val_loss: 0.1874 - val_acc: 0.9375\n",
      "Epoch 71/100\n",
      "5216/5216 [==============================] - 1s 213us/step - loss: 0.0649 - acc: 0.9749 - val_loss: 0.1543 - val_acc: 1.0000\n",
      "Epoch 72/100\n",
      "5216/5216 [==============================] - 1s 220us/step - loss: 0.0654 - acc: 0.9760 - val_loss: 0.2060 - val_acc: 0.9375\n",
      "Epoch 73/100\n",
      "5216/5216 [==============================] - 1s 217us/step - loss: 0.0644 - acc: 0.9764 - val_loss: 0.2350 - val_acc: 0.8750\n",
      "Epoch 74/100\n",
      "5216/5216 [==============================] - 1s 221us/step - loss: 0.0636 - acc: 0.9774 - val_loss: 0.1642 - val_acc: 1.0000\n",
      "Epoch 75/100\n",
      "5216/5216 [==============================] - 1s 220us/step - loss: 0.0588 - acc: 0.9793 - val_loss: 0.1825 - val_acc: 0.9375\n",
      "Epoch 76/100\n",
      "5216/5216 [==============================] - 1s 221us/step - loss: 0.0602 - acc: 0.9770 - val_loss: 0.1810 - val_acc: 0.9375\n",
      "Epoch 77/100\n",
      "5216/5216 [==============================] - 1s 218us/step - loss: 0.0626 - acc: 0.9783 - val_loss: 0.2553 - val_acc: 0.8125\n",
      "Epoch 78/100\n",
      "5216/5216 [==============================] - 1s 218us/step - loss: 0.0608 - acc: 0.9776 - val_loss: 0.2764 - val_acc: 0.8125\n",
      "Epoch 79/100\n",
      "5216/5216 [==============================] - 1s 224us/step - loss: 0.0601 - acc: 0.9799 - val_loss: 0.2039 - val_acc: 0.9375\n",
      "Epoch 80/100\n",
      "5216/5216 [==============================] - 1s 220us/step - loss: 0.0601 - acc: 0.9772 - val_loss: 0.1654 - val_acc: 1.0000\n",
      "Epoch 81/100\n",
      "5216/5216 [==============================] - 1s 217us/step - loss: 0.0558 - acc: 0.9780 - val_loss: 0.2321 - val_acc: 0.8750\n",
      "Epoch 82/100\n",
      "5216/5216 [==============================] - 1s 218us/step - loss: 0.0585 - acc: 0.9776 - val_loss: 0.1674 - val_acc: 1.0000\n",
      "Epoch 83/100\n",
      "5216/5216 [==============================] - 1s 229us/step - loss: 0.0571 - acc: 0.9806 - val_loss: 0.1742 - val_acc: 0.9375\n",
      "Epoch 84/100\n",
      "5216/5216 [==============================] - 1s 222us/step - loss: 0.0543 - acc: 0.9806 - val_loss: 0.1961 - val_acc: 0.9375\n",
      "Epoch 85/100\n",
      "5216/5216 [==============================] - 1s 215us/step - loss: 0.0524 - acc: 0.9810 - val_loss: 0.2041 - val_acc: 0.8750\n",
      "Epoch 86/100\n",
      "5216/5216 [==============================] - 1s 230us/step - loss: 0.0565 - acc: 0.9787 - val_loss: 0.2111 - val_acc: 0.8750\n",
      "Epoch 87/100\n",
      "5216/5216 [==============================] - 1s 219us/step - loss: 0.0533 - acc: 0.9806 - val_loss: 0.2322 - val_acc: 0.8125\n",
      "Epoch 88/100\n",
      "5216/5216 [==============================] - 1s 216us/step - loss: 0.0558 - acc: 0.9785 - val_loss: 0.1408 - val_acc: 1.0000\n",
      "Epoch 89/100\n",
      "5216/5216 [==============================] - 1s 220us/step - loss: 0.0542 - acc: 0.9780 - val_loss: 0.2286 - val_acc: 0.8750\n",
      "Epoch 90/100\n",
      "5216/5216 [==============================] - 1s 225us/step - loss: 0.0545 - acc: 0.9803 - val_loss: 0.1568 - val_acc: 1.0000\n",
      "Epoch 91/100\n",
      "5216/5216 [==============================] - 1s 226us/step - loss: 0.0537 - acc: 0.9781 - val_loss: 0.1581 - val_acc: 1.0000\n",
      "Epoch 92/100\n",
      "5216/5216 [==============================] - 1s 222us/step - loss: 0.0530 - acc: 0.9804 - val_loss: 0.3140 - val_acc: 0.8125\n",
      "Epoch 93/100\n",
      "5216/5216 [==============================] - 1s 225us/step - loss: 0.0500 - acc: 0.9803 - val_loss: 0.4204 - val_acc: 0.8125\n",
      "Epoch 94/100\n",
      "5216/5216 [==============================] - 1s 218us/step - loss: 0.0533 - acc: 0.9787 - val_loss: 0.3085 - val_acc: 0.8125\n",
      "Epoch 95/100\n",
      "5216/5216 [==============================] - 1s 218us/step - loss: 0.0522 - acc: 0.9797 - val_loss: 0.1608 - val_acc: 0.9375\n",
      "Epoch 96/100\n",
      "5216/5216 [==============================] - 1s 223us/step - loss: 0.0509 - acc: 0.9810 - val_loss: 0.2132 - val_acc: 0.8750\n",
      "Epoch 97/100\n",
      "5216/5216 [==============================] - 1s 225us/step - loss: 0.0504 - acc: 0.9803 - val_loss: 0.2923 - val_acc: 0.8125\n",
      "Epoch 98/100\n",
      "5216/5216 [==============================] - 1s 223us/step - loss: 0.0496 - acc: 0.9810 - val_loss: 0.3351 - val_acc: 0.8125\n",
      "Epoch 99/100\n",
      "5216/5216 [==============================] - 1s 221us/step - loss: 0.0491 - acc: 0.9835 - val_loss: 0.2413 - val_acc: 0.8125\n",
      "Epoch 100/100\n",
      "5216/5216 [==============================] - 1s 218us/step - loss: 0.0485 - acc: 0.9814 - val_loss: 0.2046 - val_acc: 0.8750\n",
      "CPU times: user 1min 32s, sys: 16.2 s, total: 1min 48s\n",
      "Wall time: 1min 56s\n"
     ]
    }
   ],
   "source": [
    "%%time\n",
    "history_100_d = model_100d.fit(train_images,\n",
    "                    train_y,\n",
    "                    epochs=100,\n",
    "                    batch_size=50,\n",
    "                    validation_data=(val_images, val_y))"
   ]
  },
  {
   "cell_type": "code",
   "execution_count": 23,
   "metadata": {
    "scrolled": true
   },
   "outputs": [
    {
     "name": "stdout",
     "output_type": "stream",
     "text": [
      "624/624 [==============================] - 0s 183us/step\n"
     ]
    },
    {
     "data": {
      "text/plain": [
       "[0.6903790632883707, 0.7644230723381042]"
      ]
     },
     "execution_count": 23,
     "metadata": {},
     "output_type": "execute_result"
    }
   ],
   "source": [
    "results_test_100d = model_100d.evaluate(test_images, test_y)\n",
    "results_test_100d"
   ]
  },
  {
   "cell_type": "markdown",
   "metadata": {},
   "source": [
    "## 64x64, Baseline, Dropout, 200 Epochs, Early Stopping"
   ]
  },
  {
   "cell_type": "code",
   "execution_count": 30,
   "metadata": {},
   "outputs": [],
   "source": [
    "model_200de = models.Sequential()\n",
    "\n",
    "model_200de.add(Dropout(.3, input_shape=(64, 64, 3)))\n",
    "\n",
    "model_200de.add(layers.Conv2D(32, (3, 3), activation='relu'))\n",
    "model_200de.add(layers.MaxPooling2D((2, 2)))\n",
    "\n",
    "model_200de.add(layers.Conv2D(32, (4, 4), activation='relu'))\n",
    "model_200de.add(layers.MaxPooling2D((2, 2)))\n",
    "\n",
    "model_200de.add(layers.Conv2D(64, (3, 3), activation='relu'))\n",
    "model_200de.add(layers.MaxPooling2D((2, 2)))\n",
    "\n",
    "model_200de.add(layers.Flatten())\n",
    "model_200de.add(layers.Dense(64, activation='relu'))\n",
    "model_200de.add(layers.Dense(1, activation='sigmoid'))\n",
    "\n",
    "model_200de.compile(loss='binary_crossentropy', optimizer=\"sgd\", metrics=['acc'])"
   ]
  },
  {
   "cell_type": "code",
   "execution_count": 33,
   "metadata": {
    "scrolled": true
   },
   "outputs": [
    {
     "name": "stdout",
     "output_type": "stream",
     "text": [
      "Train on 5216 samples, validate on 16 samples\n",
      "Epoch 1/200\n",
      "5216/5216 [==============================] - 1s 208us/step - loss: 0.3559 - acc: 0.8461 - val_loss: 0.6718 - val_acc: 0.6250\n",
      "Epoch 2/200\n",
      "5216/5216 [==============================] - 1s 209us/step - loss: 0.2869 - acc: 0.8800 - val_loss: 1.1230 - val_acc: 0.5625\n",
      "Epoch 3/200\n",
      "5216/5216 [==============================] - 1s 209us/step - loss: 0.2544 - acc: 0.8905 - val_loss: 0.5228 - val_acc: 0.7500\n",
      "Epoch 4/200\n",
      "5216/5216 [==============================] - 1s 211us/step - loss: 0.2232 - acc: 0.9062 - val_loss: 0.6761 - val_acc: 0.5000\n",
      "Epoch 5/200\n",
      "5216/5216 [==============================] - 1s 210us/step - loss: 0.2037 - acc: 0.9126 - val_loss: 0.4747 - val_acc: 0.8125\n",
      "Epoch 6/200\n",
      "5216/5216 [==============================] - 1s 212us/step - loss: 0.1826 - acc: 0.9262 - val_loss: 0.4010 - val_acc: 0.8750\n",
      "Epoch 7/200\n",
      "5216/5216 [==============================] - 1s 209us/step - loss: 0.1817 - acc: 0.9264 - val_loss: 0.5374 - val_acc: 0.6250\n",
      "Epoch 8/200\n",
      "5216/5216 [==============================] - 1s 208us/step - loss: 0.1721 - acc: 0.9310 - val_loss: 0.4647 - val_acc: 0.7500\n",
      "Epoch 9/200\n",
      "5216/5216 [==============================] - 1s 210us/step - loss: 0.1635 - acc: 0.9350 - val_loss: 0.5692 - val_acc: 0.5625\n",
      "Epoch 10/200\n",
      "5216/5216 [==============================] - 1s 211us/step - loss: 0.1642 - acc: 0.9350 - val_loss: 0.3687 - val_acc: 0.8125\n",
      "Epoch 11/200\n",
      "5216/5216 [==============================] - 1s 213us/step - loss: 0.1527 - acc: 0.9388 - val_loss: 0.3511 - val_acc: 0.8750\n",
      "Epoch 12/200\n",
      "5216/5216 [==============================] - 1s 210us/step - loss: 0.1495 - acc: 0.9417 - val_loss: 1.2032 - val_acc: 0.5625\n",
      "Epoch 13/200\n",
      "5216/5216 [==============================] - 1s 210us/step - loss: 0.1458 - acc: 0.9425 - val_loss: 0.3922 - val_acc: 0.7500\n",
      "Epoch 14/200\n",
      "5216/5216 [==============================] - 1s 210us/step - loss: 0.1453 - acc: 0.9473 - val_loss: 0.3253 - val_acc: 0.9375\n",
      "Epoch 15/200\n",
      "5216/5216 [==============================] - 1s 210us/step - loss: 0.1475 - acc: 0.9400 - val_loss: 0.3230 - val_acc: 0.8750\n",
      "Epoch 16/200\n",
      "5216/5216 [==============================] - 1s 208us/step - loss: 0.1380 - acc: 0.9448 - val_loss: 0.3128 - val_acc: 0.9375\n",
      "Epoch 17/200\n",
      "5216/5216 [==============================] - 1s 208us/step - loss: 0.1338 - acc: 0.9526 - val_loss: 0.3922 - val_acc: 0.6875\n",
      "Epoch 18/200\n",
      "5216/5216 [==============================] - 1s 213us/step - loss: 0.1312 - acc: 0.9488 - val_loss: 0.4590 - val_acc: 0.7500\n",
      "Epoch 19/200\n",
      "5216/5216 [==============================] - 1s 209us/step - loss: 0.1311 - acc: 0.9486 - val_loss: 0.4647 - val_acc: 0.7500\n",
      "Epoch 20/200\n",
      "5216/5216 [==============================] - 1s 224us/step - loss: 0.1274 - acc: 0.9500 - val_loss: 0.5875 - val_acc: 0.6250\n",
      "Epoch 21/200\n",
      "5216/5216 [==============================] - 1s 220us/step - loss: 0.1222 - acc: 0.9549 - val_loss: 0.3965 - val_acc: 0.7500\n",
      "Epoch 22/200\n",
      "5216/5216 [==============================] - 1s 211us/step - loss: 0.1199 - acc: 0.9528 - val_loss: 0.3671 - val_acc: 0.8750\n",
      "Epoch 23/200\n",
      "5216/5216 [==============================] - 1s 213us/step - loss: 0.1205 - acc: 0.9555 - val_loss: 0.5639 - val_acc: 0.6875\n",
      "Epoch 24/200\n",
      "5216/5216 [==============================] - 1s 210us/step - loss: 0.1160 - acc: 0.9574 - val_loss: 0.3896 - val_acc: 0.7500\n",
      "Epoch 25/200\n",
      "5216/5216 [==============================] - 1s 212us/step - loss: 0.1139 - acc: 0.9553 - val_loss: 0.4524 - val_acc: 0.6875\n",
      "Epoch 26/200\n",
      "5216/5216 [==============================] - 1s 209us/step - loss: 0.1093 - acc: 0.9563 - val_loss: 0.4368 - val_acc: 0.6875\n",
      "CPU times: user 23 s, sys: 4.18 s, total: 27.1 s\n",
      "Wall time: 28.7 s\n"
     ]
    }
   ],
   "source": [
    "%%time\n",
    "early_stopping = [EarlyStopping(monitor='val_loss', patience = 10)]\n",
    "history_200_de = model_200de.fit(train_images,\n",
    "                    train_y,\n",
    "                    epochs=200,\n",
    "                    batch_size=50,\n",
    "                    validation_data=(val_images, val_y),\n",
    "                    callbacks = early_stopping)"
   ]
  },
  {
   "cell_type": "markdown",
   "metadata": {},
   "source": [
    "## Model 2, 64x64, Double Filters"
   ]
  },
  {
   "cell_type": "code",
   "execution_count": 18,
   "metadata": {},
   "outputs": [],
   "source": [
    "model_2 = models.Sequential()\n",
    "model_2.add(layers.Conv2D(32, (3, 3), activation='relu', input_shape=(64, 64, 3)))\n",
    "model_2.add(layers.MaxPooling2D((2, 2)))\n",
    "\n",
    "model_2.add(layers.Conv2D(64, (4, 4), activation='relu'))\n",
    "model_2.add(layers.MaxPooling2D((2, 2)))\n",
    "\n",
    "model_2.add(layers.Conv2D(128, (3, 3), activation='relu'))\n",
    "model_2.add(layers.MaxPooling2D((2, 2)))\n",
    "\n",
    "model_2.add(layers.Flatten())\n",
    "model_2.add(layers.Dense(64, activation='relu'))\n",
    "model_2.add(layers.Dense(1, activation='sigmoid'))\n",
    "\n",
    "model_2.compile(loss='binary_crossentropy', optimizer=\"sgd\", metrics=['acc'])"
   ]
  },
  {
   "cell_type": "code",
   "execution_count": 19,
   "metadata": {
    "scrolled": true
   },
   "outputs": [
    {
     "name": "stdout",
     "output_type": "stream",
     "text": [
      "Train on 5216 samples, validate on 16 samples\n",
      "Epoch 1/30\n",
      "5216/5216 [==============================] - 2s 317us/step - loss: 0.5655 - acc: 0.7421 - val_loss: 0.9347 - val_acc: 0.5000\n",
      "Epoch 2/30\n",
      "5216/5216 [==============================] - 1s 273us/step - loss: 0.5070 - acc: 0.7496 - val_loss: 1.2324 - val_acc: 0.5000\n",
      "Epoch 3/30\n",
      "5216/5216 [==============================] - 1s 270us/step - loss: 0.4574 - acc: 0.7970 - val_loss: 0.8712 - val_acc: 0.5625\n",
      "Epoch 4/30\n",
      "5216/5216 [==============================] - 1s 262us/step - loss: 0.3625 - acc: 0.8445 - val_loss: 1.1172 - val_acc: 0.5625\n",
      "Epoch 5/30\n",
      "5216/5216 [==============================] - 1s 271us/step - loss: 0.2871 - acc: 0.8804 - val_loss: 0.4926 - val_acc: 0.8125\n",
      "Epoch 6/30\n",
      "5216/5216 [==============================] - 1s 275us/step - loss: 0.2386 - acc: 0.9016 - val_loss: 0.5915 - val_acc: 0.7500\n",
      "Epoch 7/30\n",
      "5216/5216 [==============================] - 1s 264us/step - loss: 0.1994 - acc: 0.9220 - val_loss: 0.4401 - val_acc: 0.8125\n",
      "Epoch 8/30\n",
      "5216/5216 [==============================] - 1s 265us/step - loss: 0.1793 - acc: 0.9273 - val_loss: 0.7917 - val_acc: 0.5625\n",
      "Epoch 9/30\n",
      "5216/5216 [==============================] - 1s 264us/step - loss: 0.1619 - acc: 0.9339 - val_loss: 0.3807 - val_acc: 0.8125\n",
      "Epoch 10/30\n",
      "5216/5216 [==============================] - 1s 263us/step - loss: 0.1529 - acc: 0.9367 - val_loss: 0.5136 - val_acc: 0.7500\n",
      "Epoch 11/30\n",
      "5216/5216 [==============================] - 1s 273us/step - loss: 0.1431 - acc: 0.9454 - val_loss: 1.0711 - val_acc: 0.5625\n",
      "Epoch 12/30\n",
      "5216/5216 [==============================] - 1s 276us/step - loss: 0.1325 - acc: 0.9498 - val_loss: 0.3313 - val_acc: 0.8750\n",
      "Epoch 13/30\n",
      "5216/5216 [==============================] - 1s 274us/step - loss: 0.1354 - acc: 0.9469 - val_loss: 0.6659 - val_acc: 0.6250\n",
      "Epoch 14/30\n",
      "5216/5216 [==============================] - 1s 279us/step - loss: 0.1340 - acc: 0.9469 - val_loss: 1.4229 - val_acc: 0.5625\n",
      "Epoch 15/30\n",
      "5216/5216 [==============================] - 1s 267us/step - loss: 0.1239 - acc: 0.9511 - val_loss: 0.5968 - val_acc: 0.6875\n",
      "Epoch 16/30\n",
      "5216/5216 [==============================] - 1s 262us/step - loss: 0.1175 - acc: 0.9571 - val_loss: 0.5517 - val_acc: 0.7500\n",
      "Epoch 17/30\n",
      "5216/5216 [==============================] - 1s 264us/step - loss: 0.1110 - acc: 0.9571 - val_loss: 0.5967 - val_acc: 0.7500\n",
      "Epoch 18/30\n",
      "5216/5216 [==============================] - 1s 264us/step - loss: 0.1096 - acc: 0.9595 - val_loss: 0.4362 - val_acc: 0.7500\n",
      "Epoch 19/30\n",
      "5216/5216 [==============================] - 1s 271us/step - loss: 0.1092 - acc: 0.9601 - val_loss: 0.2712 - val_acc: 0.8750\n",
      "Epoch 20/30\n",
      "5216/5216 [==============================] - 1s 281us/step - loss: 0.1032 - acc: 0.9592 - val_loss: 0.4638 - val_acc: 0.7500\n",
      "Epoch 21/30\n",
      "5216/5216 [==============================] - 1s 268us/step - loss: 0.1055 - acc: 0.9586 - val_loss: 0.4933 - val_acc: 0.7500\n",
      "Epoch 22/30\n",
      "5216/5216 [==============================] - 1s 265us/step - loss: 0.1023 - acc: 0.9624 - val_loss: 0.2398 - val_acc: 0.9375\n",
      "Epoch 23/30\n",
      "5216/5216 [==============================] - 1s 281us/step - loss: 0.0997 - acc: 0.9626 - val_loss: 0.4257 - val_acc: 0.7500\n",
      "Epoch 24/30\n",
      "5216/5216 [==============================] - 1s 271us/step - loss: 0.0957 - acc: 0.9626 - val_loss: 0.6561 - val_acc: 0.6875\n",
      "Epoch 25/30\n",
      "5216/5216 [==============================] - 1s 268us/step - loss: 0.0959 - acc: 0.9630 - val_loss: 0.3649 - val_acc: 0.8125\n",
      "Epoch 26/30\n",
      "5216/5216 [==============================] - 1s 264us/step - loss: 0.0907 - acc: 0.9661 - val_loss: 1.0767 - val_acc: 0.5625\n",
      "Epoch 27/30\n",
      "5216/5216 [==============================] - 1s 262us/step - loss: 0.0981 - acc: 0.9624 - val_loss: 0.3222 - val_acc: 0.8125\n",
      "Epoch 28/30\n",
      "5216/5216 [==============================] - 1s 261us/step - loss: 0.0878 - acc: 0.9693 - val_loss: 0.7408 - val_acc: 0.6250\n",
      "Epoch 29/30\n",
      "5216/5216 [==============================] - 1s 261us/step - loss: 0.0885 - acc: 0.9661 - val_loss: 0.8534 - val_acc: 0.5625\n",
      "Epoch 30/30\n",
      "5216/5216 [==============================] - 1s 260us/step - loss: 0.0863 - acc: 0.9680 - val_loss: 0.2192 - val_acc: 0.8750\n",
      "CPU times: user 31.9 s, sys: 6.77 s, total: 38.7 s\n",
      "Wall time: 42.6 s\n"
     ]
    }
   ],
   "source": [
    "%%time\n",
    "history_2 = model_2.fit(train_images,\n",
    "                    train_y,\n",
    "                    epochs=30,\n",
    "                    batch_size=50,\n",
    "                    validation_data=(val_images, val_y))"
   ]
  },
  {
   "cell_type": "code",
   "execution_count": 21,
   "metadata": {},
   "outputs": [
    {
     "name": "stdout",
     "output_type": "stream",
     "text": [
      "624/624 [==============================] - 0s 142us/step\n"
     ]
    },
    {
     "data": {
      "text/plain": [
       "[0.5773699039067978, 0.8060897588729858]"
      ]
     },
     "execution_count": 21,
     "metadata": {},
     "output_type": "execute_result"
    }
   ],
   "source": [
    "results_test_2 = model_2.evaluate(test_images, test_y)\n",
    "results_test_2"
   ]
  },
  {
   "cell_type": "code",
   "execution_count": 22,
   "metadata": {
    "scrolled": true
   },
   "outputs": [
    {
     "name": "stdout",
     "output_type": "stream",
     "text": [
      "Final epoch loss: 0.08631596714936689\n",
      "Final epoch accuracy: 0.9679831\n"
     ]
    },
    {
     "data": {
      "image/png": "[encoded data removed]",
      "text/plain": [
       "<Figure size 864x576 with 1 Axes>"
      ]
     },
     "metadata": {
      "needs_background": "light"
     },
     "output_type": "display_data"
    }
   ],
   "source": [
    "plot_history(history_2)"
   ]
  },
  {
   "cell_type": "markdown",
   "metadata": {},
   "source": [
    "## Model 3, 64x64, Quad Filters"
   ]
  },
  {
   "cell_type": "code",
   "execution_count": 27,
   "metadata": {},
   "outputs": [],
   "source": [
    "model_3 = models.Sequential()\n",
    "model_3.add(layers.Conv2D(64, (3, 3), activation='relu', input_shape=(64, 64, 3)))\n",
    "model_3.add(layers.MaxPooling2D((2, 2)))\n",
    "\n",
    "model_3.add(layers.Conv2D(128, (4, 4), activation='relu'))\n",
    "model_3.add(layers.MaxPooling2D((2, 2)))\n",
    "\n",
    "model_3.add(layers.Conv2D(256, (3, 3), activation='relu'))\n",
    "model_3.add(layers.MaxPooling2D((2, 2)))\n",
    "\n",
    "model_3.add(layers.Flatten())\n",
    "model_3.add(layers.Dense(128, activation='relu'))\n",
    "model_3.add(layers.Dense(1, activation='sigmoid'))\n",
    "\n",
    "model_3.compile(loss='binary_crossentropy', optimizer=\"sgd\", metrics=['acc'])"
   ]
  },
  {
   "cell_type": "code",
   "execution_count": 28,
   "metadata": {
    "scrolled": true
   },
   "outputs": [
    {
     "name": "stdout",
     "output_type": "stream",
     "text": [
      "Train on 5216 samples, validate on 16 samples\n",
      "Epoch 1/30\n",
      "5216/5216 [==============================] - 3s 622us/step - loss: 0.5758 - acc: 0.7429 - val_loss: 0.7273 - val_acc: 0.5000\n",
      "Epoch 2/30\n",
      "5216/5216 [==============================] - 3s 550us/step - loss: 0.5436 - acc: 0.7429 - val_loss: 0.8460 - val_acc: 0.5000\n",
      "Epoch 3/30\n",
      "5216/5216 [==============================] - 3s 540us/step - loss: 0.4861 - acc: 0.7703 - val_loss: 0.6226 - val_acc: 0.6250\n",
      "Epoch 4/30\n",
      "5216/5216 [==============================] - 3s 541us/step - loss: 0.4210 - acc: 0.8129 - val_loss: 1.0362 - val_acc: 0.5625\n",
      "Epoch 5/30\n",
      "5216/5216 [==============================] - 3s 551us/step - loss: 0.3509 - acc: 0.8474 - val_loss: 0.6801 - val_acc: 0.6250\n",
      "Epoch 6/30\n",
      "5216/5216 [==============================] - 3s 541us/step - loss: 0.2841 - acc: 0.8817 - val_loss: 0.6877 - val_acc: 0.6250\n",
      "Epoch 7/30\n",
      "5216/5216 [==============================] - 3s 533us/step - loss: 0.2278 - acc: 0.9095 - val_loss: 0.5517 - val_acc: 0.7500\n",
      "Epoch 8/30\n",
      "5216/5216 [==============================] - 3s 535us/step - loss: 0.2044 - acc: 0.9143 - val_loss: 0.6412 - val_acc: 0.6250\n",
      "Epoch 9/30\n",
      "5216/5216 [==============================] - 3s 539us/step - loss: 0.1736 - acc: 0.9310 - val_loss: 0.7060 - val_acc: 0.5625\n",
      "Epoch 10/30\n",
      "5216/5216 [==============================] - 3s 538us/step - loss: 0.1650 - acc: 0.9344 - val_loss: 0.4683 - val_acc: 0.8125\n",
      "Epoch 11/30\n",
      "5216/5216 [==============================] - 3s 538us/step - loss: 0.1547 - acc: 0.9379 - val_loss: 0.4179 - val_acc: 0.8125\n",
      "Epoch 12/30\n",
      "5216/5216 [==============================] - 3s 535us/step - loss: 0.1452 - acc: 0.9408 - val_loss: 0.8316 - val_acc: 0.5625\n",
      "Epoch 13/30\n",
      "5216/5216 [==============================] - 3s 540us/step - loss: 0.1370 - acc: 0.9461 - val_loss: 0.9167 - val_acc: 0.5625\n",
      "Epoch 14/30\n",
      "5216/5216 [==============================] - 3s 539us/step - loss: 0.1329 - acc: 0.9479 - val_loss: 0.5842 - val_acc: 0.6875\n",
      "Epoch 15/30\n",
      "5216/5216 [==============================] - 3s 534us/step - loss: 0.1245 - acc: 0.9507 - val_loss: 0.7184 - val_acc: 0.6875\n",
      "Epoch 16/30\n",
      "5216/5216 [==============================] - 3s 539us/step - loss: 0.1295 - acc: 0.9477 - val_loss: 0.4875 - val_acc: 0.6875\n",
      "Epoch 17/30\n",
      "5216/5216 [==============================] - 3s 540us/step - loss: 0.1174 - acc: 0.9528 - val_loss: 0.6016 - val_acc: 0.7500\n",
      "Epoch 18/30\n",
      "5216/5216 [==============================] - 3s 539us/step - loss: 0.1163 - acc: 0.9571 - val_loss: 0.4864 - val_acc: 0.6875\n",
      "Epoch 19/30\n",
      "5216/5216 [==============================] - 3s 539us/step - loss: 0.1111 - acc: 0.9582 - val_loss: 0.3483 - val_acc: 0.7500\n",
      "Epoch 20/30\n",
      "5216/5216 [==============================] - 3s 538us/step - loss: 0.1147 - acc: 0.9561 - val_loss: 0.3640 - val_acc: 0.7500\n",
      "Epoch 21/30\n",
      "5216/5216 [==============================] - 3s 537us/step - loss: 0.1034 - acc: 0.9597 - val_loss: 0.3190 - val_acc: 0.8125\n",
      "Epoch 22/30\n",
      "5216/5216 [==============================] - 3s 533us/step - loss: 0.1095 - acc: 0.9555 - val_loss: 1.8267 - val_acc: 0.5625\n",
      "Epoch 23/30\n",
      "5216/5216 [==============================] - 3s 542us/step - loss: 0.0997 - acc: 0.9643 - val_loss: 0.6332 - val_acc: 0.6875\n",
      "Epoch 24/30\n",
      "5216/5216 [==============================] - 3s 539us/step - loss: 0.1012 - acc: 0.9626 - val_loss: 0.3969 - val_acc: 0.8125\n",
      "Epoch 25/30\n",
      "5216/5216 [==============================] - 3s 536us/step - loss: 0.0995 - acc: 0.9609 - val_loss: 0.2873 - val_acc: 0.8125\n",
      "Epoch 26/30\n",
      "5216/5216 [==============================] - 3s 543us/step - loss: 0.0918 - acc: 0.9663 - val_loss: 0.5724 - val_acc: 0.7500\n",
      "Epoch 27/30\n",
      "5216/5216 [==============================] - 3s 546us/step - loss: 0.0911 - acc: 0.9666 - val_loss: 0.3950 - val_acc: 0.7500\n",
      "Epoch 28/30\n",
      "5216/5216 [==============================] - 3s 536us/step - loss: 0.1012 - acc: 0.9628 - val_loss: 0.4745 - val_acc: 0.7500\n",
      "Epoch 29/30\n",
      "5216/5216 [==============================] - 3s 543us/step - loss: 0.0861 - acc: 0.9676 - val_loss: 0.4794 - val_acc: 0.7500\n",
      "Epoch 30/30\n",
      "5216/5216 [==============================] - 3s 531us/step - loss: 0.0848 - acc: 0.9699 - val_loss: 0.2131 - val_acc: 0.9375\n",
      "CPU times: user 55.1 s, sys: 16 s, total: 1min 11s\n",
      "Wall time: 1min 25s\n"
     ]
    }
   ],
   "source": [
    "%%time\n",
    "history_3 = model_3.fit(train_images,\n",
    "                    train_y,\n",
    "                    epochs=30,\n",
    "                    batch_size=50,\n",
    "                    validation_data=(val_images, val_y))"
   ]
  },
  {
   "cell_type": "code",
   "execution_count": 29,
   "metadata": {},
   "outputs": [
    {
     "name": "stdout",
     "output_type": "stream",
     "text": [
      "624/624 [==============================] - 0s 288us/step\n"
     ]
    },
    {
     "data": {
      "text/plain": [
       "[0.5247454979480841, 0.8189102411270142]"
      ]
     },
     "execution_count": 29,
     "metadata": {},
     "output_type": "execute_result"
    }
   ],
   "source": [
    "results_test_3 = model_3.evaluate(test_images, test_y)\n",
    "results_test_3"
   ]
  },
  {
   "cell_type": "code",
   "execution_count": 30,
   "metadata": {
    "scrolled": true
   },
   "outputs": [
    {
     "name": "stdout",
     "output_type": "stream",
     "text": [
      "Final epoch loss: 0.08480523987473246\n",
      "Final epoch accuracy: 0.9699003\n"
     ]
    },
    {
     "data": {
      "image/png": "[encoded data removed]",
      "text/plain": [
       "<Figure size 864x576 with 1 Axes>"
      ]
     },
     "metadata": {
      "needs_background": "light"
     },
     "output_type": "display_data"
    }
   ],
   "source": [
    "plot_history(history_3)"
   ]
  },
  {
   "cell_type": "markdown",
   "metadata": {},
   "source": [
    "### Model 4, 64x64, Additional 5x5 Layer"
   ]
  },
  {
   "cell_type": "code",
   "execution_count": null,
   "metadata": {},
   "outputs": [],
   "source": []
  },
  {
   "cell_type": "code",
   "execution_count": 23,
   "metadata": {},
   "outputs": [],
   "source": [
    "model_4 = models.Sequential()\n",
    "model_4.add(layers.Conv2D(32, (4, 4), activation='relu', input_shape=(64, 64, 3))) # kernel size increased to (4x4)\n",
    "model_4.add(layers.MaxPooling2D((2, 2)))\n",
    "\n",
    "model_4.add(layers.Conv2D(32, (5, 5), activation='relu'))               # new 5v5 convlution layer\n",
    "model_4.add(layers.MaxPooling2D((2, 2)))\n",
    "\n",
    "model_4.add(layers.Conv2D(64, (4, 4), activation='relu'))\n",
    "model_4.add(layers.MaxPooling2D((2, 2)))\n",
    "\n",
    "model_4.add(layers.Conv2D(64, (3, 3), activation='relu'))\n",
    "model_4.add(layers.MaxPooling2D((2, 2)))\n",
    "\n",
    "model_4.add(layers.Flatten())\n",
    "model_4.add(layers.Dense(64, activation='relu'))\n",
    "model_4.add(layers.Dense(1, activation='sigmoid'))\n",
    "\n",
    "model_4.compile(loss='binary_crossentropy', optimizer=\"sgd\", metrics=['acc'])"
   ]
  },
  {
   "cell_type": "code",
   "execution_count": 24,
   "metadata": {
    "scrolled": true
   },
   "outputs": [
    {
     "name": "stdout",
     "output_type": "stream",
     "text": [
      "Train on 5216 samples, validate on 16 samples\n",
      "Epoch 1/30\n",
      "5216/5216 [==============================] - 2s 302us/step - loss: 0.5835 - acc: 0.7356 - val_loss: 0.8136 - val_acc: 0.5000\n",
      "Epoch 2/30\n",
      "5216/5216 [==============================] - 1s 228us/step - loss: 0.5565 - acc: 0.7429 - val_loss: 0.8900 - val_acc: 0.5000\n",
      "Epoch 3/30\n",
      "5216/5216 [==============================] - 1s 226us/step - loss: 0.5395 - acc: 0.7429 - val_loss: 0.7677 - val_acc: 0.5000\n",
      "Epoch 4/30\n",
      "5216/5216 [==============================] - 1s 232us/step - loss: 0.5082 - acc: 0.7508 - val_loss: 0.7681 - val_acc: 0.5625\n",
      "Epoch 5/30\n",
      "5216/5216 [==============================] - 1s 228us/step - loss: 0.4821 - acc: 0.7655 - val_loss: 1.1471 - val_acc: 0.5000\n",
      "Epoch 6/30\n",
      "5216/5216 [==============================] - 1s 229us/step - loss: 0.4296 - acc: 0.8025 - val_loss: 0.5408 - val_acc: 0.8125\n",
      "Epoch 7/30\n",
      "5216/5216 [==============================] - 1s 235us/step - loss: 0.3780 - acc: 0.8319 - val_loss: 0.4919 - val_acc: 0.7500\n",
      "Epoch 8/30\n",
      "5216/5216 [==============================] - 1s 234us/step - loss: 0.3258 - acc: 0.8576 - val_loss: 0.8732 - val_acc: 0.5625\n",
      "Epoch 9/30\n",
      "5216/5216 [==============================] - 1s 233us/step - loss: 0.3069 - acc: 0.8685 - val_loss: 1.3355 - val_acc: 0.5625\n",
      "Epoch 10/30\n",
      "5216/5216 [==============================] - 1s 233us/step - loss: 0.2903 - acc: 0.8702 - val_loss: 1.2264 - val_acc: 0.5625\n",
      "Epoch 11/30\n",
      "5216/5216 [==============================] - 1s 230us/step - loss: 0.2616 - acc: 0.8865 - val_loss: 0.3837 - val_acc: 0.8125\n",
      "Epoch 12/30\n",
      "5216/5216 [==============================] - 1s 232us/step - loss: 0.2445 - acc: 0.8999 - val_loss: 0.6599 - val_acc: 0.5625\n",
      "Epoch 13/30\n",
      "5216/5216 [==============================] - 1s 234us/step - loss: 0.2327 - acc: 0.9062 - val_loss: 0.5185 - val_acc: 0.6875\n",
      "Epoch 14/30\n",
      "5216/5216 [==============================] - 1s 233us/step - loss: 0.2226 - acc: 0.9061 - val_loss: 0.8553 - val_acc: 0.5625\n",
      "Epoch 15/30\n",
      "5216/5216 [==============================] - 1s 231us/step - loss: 0.2053 - acc: 0.9158 - val_loss: 0.3220 - val_acc: 0.8750\n",
      "Epoch 16/30\n",
      "5216/5216 [==============================] - 1s 230us/step - loss: 0.1941 - acc: 0.9197 - val_loss: 2.2151 - val_acc: 0.5625\n",
      "Epoch 17/30\n",
      "5216/5216 [==============================] - 1s 236us/step - loss: 0.1971 - acc: 0.9201 - val_loss: 0.2961 - val_acc: 0.8750\n",
      "Epoch 18/30\n",
      "5216/5216 [==============================] - 1s 231us/step - loss: 0.1755 - acc: 0.9316 - val_loss: 0.3732 - val_acc: 0.7500\n",
      "Epoch 19/30\n",
      "5216/5216 [==============================] - 1s 233us/step - loss: 0.1642 - acc: 0.9348 - val_loss: 0.2787 - val_acc: 0.8750\n",
      "Epoch 20/30\n",
      "5216/5216 [==============================] - 1s 237us/step - loss: 0.1520 - acc: 0.9421 - val_loss: 0.6026 - val_acc: 0.7500\n",
      "Epoch 21/30\n",
      "5216/5216 [==============================] - 1s 230us/step - loss: 0.1424 - acc: 0.9479 - val_loss: 0.4793 - val_acc: 0.6875\n",
      "Epoch 22/30\n",
      "5216/5216 [==============================] - 1s 232us/step - loss: 0.1377 - acc: 0.9488 - val_loss: 0.3606 - val_acc: 0.6875\n",
      "Epoch 23/30\n",
      "5216/5216 [==============================] - 1s 232us/step - loss: 0.1465 - acc: 0.9467 - val_loss: 0.3535 - val_acc: 0.6875\n",
      "Epoch 24/30\n",
      "5216/5216 [==============================] - 1s 233us/step - loss: 0.1315 - acc: 0.9486 - val_loss: 0.5148 - val_acc: 0.6875\n",
      "Epoch 25/30\n",
      "5216/5216 [==============================] - 1s 235us/step - loss: 0.1153 - acc: 0.9553 - val_loss: 0.4023 - val_acc: 0.6875\n",
      "Epoch 26/30\n",
      "5216/5216 [==============================] - 1s 235us/step - loss: 0.1249 - acc: 0.9498 - val_loss: 0.7037 - val_acc: 0.6250\n",
      "Epoch 27/30\n",
      "5216/5216 [==============================] - 1s 233us/step - loss: 0.1150 - acc: 0.9569 - val_loss: 0.2941 - val_acc: 0.9375\n",
      "Epoch 28/30\n",
      "5216/5216 [==============================] - 1s 234us/step - loss: 0.1023 - acc: 0.9626 - val_loss: 0.3382 - val_acc: 0.8125\n",
      "Epoch 29/30\n",
      "5216/5216 [==============================] - 1s 230us/step - loss: 0.1092 - acc: 0.9592 - val_loss: 0.4643 - val_acc: 0.6250\n",
      "Epoch 30/30\n",
      "5216/5216 [==============================] - 1s 232us/step - loss: 0.1050 - acc: 0.9617 - val_loss: 0.8155 - val_acc: 0.6250\n",
      "CPU times: user 29.5 s, sys: 5.67 s, total: 35.2 s\n",
      "Wall time: 37.1 s\n"
     ]
    }
   ],
   "source": [
    "%%time\n",
    "history_4 = model_4.fit(train_images,\n",
    "                    train_y,\n",
    "                    epochs=30,\n",
    "                    batch_size=50,\n",
    "                    validation_data=(val_images, val_y))"
   ]
  },
  {
   "cell_type": "code",
   "execution_count": 25,
   "metadata": {
    "scrolled": true
   },
   "outputs": [
    {
     "name": "stdout",
     "output_type": "stream",
     "text": [
      "624/624 [==============================] - 0s 186us/step\n"
     ]
    },
    {
     "data": {
      "text/plain": [
       "[0.9953965896215194, 0.7163461446762085]"
      ]
     },
     "execution_count": 25,
     "metadata": {},
     "output_type": "execute_result"
    }
   ],
   "source": [
    "results_test_4 = model_4.evaluate(test_images, test_y)\n",
    "results_test_4"
   ]
  },
  {
   "cell_type": "code",
   "execution_count": 26,
   "metadata": {
    "scrolled": true
   },
   "outputs": [
    {
     "name": "stdout",
     "output_type": "stream",
     "text": [
      "Final epoch loss: 0.10499009244183959\n",
      "Final epoch accuracy: 0.96165645\n"
     ]
    },
    {
     "data": {
      "image/png": "[encoded data removed]",
      "text/plain": [
       "<Figure size 864x576 with 1 Axes>"
      ]
     },
     "metadata": {
      "needs_background": "light"
     },
     "output_type": "display_data"
    }
   ],
   "source": [
    "plot_history(history_4)"
   ]
  },
  {
   "cell_type": "markdown",
   "metadata": {},
   "source": [
    "### 64x64, An additional 4x4 layer"
   ]
  },
  {
   "cell_type": "code",
   "execution_count": 31,
   "metadata": {},
   "outputs": [],
   "source": [
    "model_5 = models.Sequential()\n",
    "model_5.add(layers.Conv2D(32, (3, 3), activation='relu', input_shape=(64, 64, 3))) # kernel size (3x3)\n",
    "model_5.add(layers.MaxPooling2D((2, 2)))\n",
    "\n",
    "model_5.add(layers.Conv2D(32, (4, 4), activation='relu'))               # new 4x4 convlution layer\n",
    "model_5.add(layers.MaxPooling2D((2, 2)))\n",
    "\n",
    "model_5.add(layers.Conv2D(64, (4, 4), activation='relu'))\n",
    "model_5.add(layers.MaxPooling2D((2, 2)))\n",
    "\n",
    "model_5.add(layers.Conv2D(64, (3, 3), activation='relu'))\n",
    "model_5.add(layers.MaxPooling2D((2, 2)))\n",
    "\n",
    "model_5.add(layers.Flatten())\n",
    "model_5.add(layers.Dense(64, activation='relu'))\n",
    "model_5.add(layers.Dense(1, activation='sigmoid'))\n",
    "\n",
    "model_5.compile(loss='binary_crossentropy', optimizer=\"sgd\", metrics=['acc'])"
   ]
  },
  {
   "cell_type": "code",
   "execution_count": 32,
   "metadata": {
    "scrolled": true
   },
   "outputs": [
    {
     "name": "stdout",
     "output_type": "stream",
     "text": [
      "Train on 5216 samples, validate on 16 samples\n",
      "Epoch 1/30\n",
      "5216/5216 [==============================] - 1s 272us/step - loss: 0.6152 - acc: 0.7366 - val_loss: 0.8128 - val_acc: 0.5000\n",
      "Epoch 2/30\n",
      "5216/5216 [==============================] - 1s 231us/step - loss: 0.5664 - acc: 0.7429 - val_loss: 0.7977 - val_acc: 0.5000\n",
      "Epoch 3/30\n",
      "5216/5216 [==============================] - 1s 236us/step - loss: 0.5599 - acc: 0.7429 - val_loss: 0.8502 - val_acc: 0.5000\n",
      "Epoch 4/30\n",
      "5216/5216 [==============================] - 1s 222us/step - loss: 0.5491 - acc: 0.7429 - val_loss: 0.7530 - val_acc: 0.5000\n",
      "Epoch 5/30\n",
      "5216/5216 [==============================] - 1s 222us/step - loss: 0.5242 - acc: 0.7429 - val_loss: 0.6789 - val_acc: 0.5625\n",
      "Epoch 6/30\n",
      "5216/5216 [==============================] - 1s 222us/step - loss: 0.4690 - acc: 0.7717 - val_loss: 0.5870 - val_acc: 0.7500\n",
      "Epoch 7/30\n",
      "5216/5216 [==============================] - 1s 222us/step - loss: 0.4264 - acc: 0.8037 - val_loss: 0.5629 - val_acc: 0.7500\n",
      "Epoch 8/30\n",
      "5216/5216 [==============================] - 1s 220us/step - loss: 0.3798 - acc: 0.8271 - val_loss: 0.8118 - val_acc: 0.5625\n",
      "Epoch 9/30\n",
      "5216/5216 [==============================] - 1s 221us/step - loss: 0.3478 - acc: 0.8455 - val_loss: 0.5143 - val_acc: 0.7500\n",
      "Epoch 10/30\n",
      "5216/5216 [==============================] - 1s 223us/step - loss: 0.3263 - acc: 0.8507 - val_loss: 0.9230 - val_acc: 0.5625\n",
      "Epoch 11/30\n",
      "5216/5216 [==============================] - 1s 223us/step - loss: 0.2924 - acc: 0.8725 - val_loss: 1.1906 - val_acc: 0.5625\n",
      "Epoch 12/30\n",
      "5216/5216 [==============================] - 1s 225us/step - loss: 0.2852 - acc: 0.8781 - val_loss: 0.8726 - val_acc: 0.5625\n",
      "Epoch 13/30\n",
      "5216/5216 [==============================] - 1s 232us/step - loss: 0.2613 - acc: 0.8850 - val_loss: 0.8038 - val_acc: 0.5625\n",
      "Epoch 14/30\n",
      "5216/5216 [==============================] - 1s 235us/step - loss: 0.2496 - acc: 0.8969 - val_loss: 0.9149 - val_acc: 0.5625\n",
      "Epoch 15/30\n",
      "5216/5216 [==============================] - 1s 229us/step - loss: 0.2439 - acc: 0.8955 - val_loss: 0.5299 - val_acc: 0.6875\n",
      "Epoch 16/30\n",
      "5216/5216 [==============================] - 1s 236us/step - loss: 0.2229 - acc: 0.9061 - val_loss: 0.4881 - val_acc: 0.6875\n",
      "Epoch 17/30\n",
      "5216/5216 [==============================] - 1s 231us/step - loss: 0.2121 - acc: 0.9139 - val_loss: 0.3628 - val_acc: 0.8125\n",
      "Epoch 18/30\n",
      "5216/5216 [==============================] - 1s 220us/step - loss: 0.2143 - acc: 0.9118 - val_loss: 0.4099 - val_acc: 0.6875\n",
      "Epoch 19/30\n",
      "5216/5216 [==============================] - 1s 220us/step - loss: 0.2067 - acc: 0.9191 - val_loss: 0.5753 - val_acc: 0.6250\n",
      "Epoch 20/30\n",
      "5216/5216 [==============================] - 1s 224us/step - loss: 0.2026 - acc: 0.9176 - val_loss: 0.7374 - val_acc: 0.6875\n",
      "Epoch 21/30\n",
      "5216/5216 [==============================] - 1s 218us/step - loss: 0.1901 - acc: 0.9212 - val_loss: 0.9697 - val_acc: 0.6250\n",
      "Epoch 22/30\n",
      "5216/5216 [==============================] - 1s 218us/step - loss: 0.1795 - acc: 0.9281 - val_loss: 0.8328 - val_acc: 0.6875\n",
      "Epoch 23/30\n",
      "5216/5216 [==============================] - 1s 222us/step - loss: 0.1904 - acc: 0.9233 - val_loss: 0.3045 - val_acc: 0.9375\n",
      "Epoch 24/30\n",
      "5216/5216 [==============================] - 1s 222us/step - loss: 0.1764 - acc: 0.9306 - val_loss: 0.4469 - val_acc: 0.6875\n",
      "Epoch 25/30\n",
      "5216/5216 [==============================] - 1s 221us/step - loss: 0.1711 - acc: 0.9323 - val_loss: 0.6996 - val_acc: 0.6875\n",
      "Epoch 26/30\n",
      "5216/5216 [==============================] - 1s 220us/step - loss: 0.1601 - acc: 0.9377 - val_loss: 0.3952 - val_acc: 0.6875\n",
      "Epoch 27/30\n",
      "5216/5216 [==============================] - 1s 221us/step - loss: 0.1532 - acc: 0.9367 - val_loss: 0.4651 - val_acc: 0.6875\n",
      "Epoch 28/30\n",
      "5216/5216 [==============================] - 1s 220us/step - loss: 0.1497 - acc: 0.9419 - val_loss: 0.3023 - val_acc: 0.9375\n",
      "Epoch 29/30\n",
      "5216/5216 [==============================] - 1s 221us/step - loss: 0.1578 - acc: 0.9392 - val_loss: 0.3717 - val_acc: 0.7500\n",
      "Epoch 30/30\n",
      "5216/5216 [==============================] - 1s 222us/step - loss: 0.1415 - acc: 0.9434 - val_loss: 0.8404 - val_acc: 0.6875\n",
      "CPU times: user 28.3 s, sys: 5.22 s, total: 33.6 s\n",
      "Wall time: 35.7 s\n"
     ]
    }
   ],
   "source": [
    "%%time\n",
    "history_5 = model_5.fit(train_images,\n",
    "                    train_y,\n",
    "                    epochs=30,\n",
    "                    batch_size=50,\n",
    "                    validation_data=(val_images, val_y))"
   ]
  },
  {
   "cell_type": "code",
   "execution_count": 33,
   "metadata": {},
   "outputs": [
    {
     "name": "stdout",
     "output_type": "stream",
     "text": [
      "624/624 [==============================] - 0s 142us/step\n"
     ]
    },
    {
     "data": {
      "text/plain": [
       "[0.8801909562868949, 0.7035256624221802]"
      ]
     },
     "execution_count": 33,
     "metadata": {},
     "output_type": "execute_result"
    }
   ],
   "source": [
    "results_test_5 = model_5.evaluate(test_images, test_y)\n",
    "results_test_5"
   ]
  },
  {
   "cell_type": "code",
   "execution_count": 34,
   "metadata": {
    "scrolled": false
   },
   "outputs": [
    {
     "name": "stdout",
     "output_type": "stream",
     "text": [
      "Final epoch loss: 0.14147452571560726\n",
      "Final epoch accuracy: 0.94344324\n"
     ]
    },
    {
     "data": {
      "image/png": "[encoded data removed]",
      "text/plain": [
       "<Figure size 864x576 with 1 Axes>"
      ]
     },
     "metadata": {
      "needs_background": "light"
     },
     "output_type": "display_data"
    }
   ],
   "source": [
    "plot_history(history_5)"
   ]
  },
  {
   "cell_type": "markdown",
   "metadata": {},
   "source": [
    "# Grayscale"
   ]
  },
  {
   "cell_type": "code",
   "execution_count": 35,
   "metadata": {},
   "outputs": [
    {
     "name": "stdout",
     "output_type": "stream",
     "text": [
      "Found 5216 images belonging to 2 classes.\n",
      "Found 624 images belonging to 2 classes.\n",
      "Found 16 images belonging to 2 classes.\n"
     ]
    }
   ],
   "source": [
    "train_generator_gs = ImageDataGenerator(rescale=1./255).flow_from_directory(train_folder, target_size=(64, 64), color_mode = 'grayscale', batch_size = 5218)\n",
    "\n",
    "test_generator_gs = ImageDataGenerator(rescale=1./255).flow_from_directory(test_folder, target_size=(64, 64), color_mode = 'grayscale', batch_size = 624)\n",
    "\n",
    "val_generator_gs = ImageDataGenerator(rescale=1./255).flow_from_directory(val_folder, target_size=(64, 64), color_mode = 'grayscale', batch_size = 18)"
   ]
  },
  {
   "cell_type": "code",
   "execution_count": 36,
   "metadata": {},
   "outputs": [],
   "source": [
    "train_images_gs, train_labels_gs = next(train_generator_gs)\n",
    "test_images_gs, test_labels_gs = next(test_generator_gs)\n",
    "val_images_gs, val_labels_gs = next(val_generator_gs)"
   ]
  },
  {
   "cell_type": "code",
   "execution_count": 37,
   "metadata": {},
   "outputs": [
    {
     "name": "stdout",
     "output_type": "stream",
     "text": [
      "train_images shape: (5216, 64, 64, 1)\n",
      "train_labels shape: (5216, 2)\n",
      "test_images shape: (624, 64, 64, 1)\n",
      "test_labels shape: (624, 2)\n",
      "val_images shape: (16, 64, 64, 1)\n",
      "val_labels shape: (16, 2)\n"
     ]
    }
   ],
   "source": [
    "print (\"train_images shape: \" + str(train_images_gs.shape))\n",
    "print (\"train_labels shape: \" + str(train_labels_gs.shape))\n",
    "print (\"test_images shape: \" + str(test_images_gs.shape))\n",
    "print (\"test_labels shape: \" + str(test_labels_gs.shape))\n",
    "print (\"val_images shape: \" + str(val_images_gs.shape))\n",
    "print (\"val_labels shape: \" + str(val_labels_gs.shape))"
   ]
  },
  {
   "cell_type": "code",
   "execution_count": 43,
   "metadata": {},
   "outputs": [],
   "source": [
    "train_y_gs = np.reshape(train_labels_gs[:,0], (5216,1))\n",
    "test_y_gs = np.reshape(test_labels_gs[:,0], (624,1))\n",
    "val_y_gs = np.reshape(val_labels_gs[:,0], (16,1))"
   ]
  },
  {
   "cell_type": "code",
   "execution_count": 44,
   "metadata": {},
   "outputs": [],
   "source": [
    "model_gs_1 = models.Sequential()\n",
    "model_gs_1.add(layers.Conv2D(32, (3, 3), activation='relu', input_shape=(64, 64, 1)))\n",
    "model_gs_1.add(layers.MaxPooling2D((2, 2)))\n",
    "\n",
    "model_gs_1.add(layers.Conv2D(32, (4, 4), activation='relu'))\n",
    "model_gs_1.add(layers.MaxPooling2D((2, 2)))\n",
    "\n",
    "model_gs_1.add(layers.Conv2D(64, (3, 3), activation='relu'))\n",
    "model_gs_1.add(layers.MaxPooling2D((2, 2)))\n",
    "\n",
    "model_gs_1.add(layers.Flatten())\n",
    "model_gs_1.add(layers.Dense(64, activation='relu'))\n",
    "model_gs_1.add(layers.Dense(1, activation='sigmoid'))\n",
    "\n",
    "model_gs_1.compile(loss='binary_crossentropy', optimizer=\"sgd\", metrics=['acc'])"
   ]
  },
  {
   "cell_type": "code",
   "execution_count": 45,
   "metadata": {
    "scrolled": true
   },
   "outputs": [
    {
     "name": "stdout",
     "output_type": "stream",
     "text": [
      "Train on 5216 samples, validate on 16 samples\n",
      "Epoch 1/30\n",
      "5216/5216 [==============================] - 1s 225us/step - loss: 0.5854 - acc: 0.7429 - val_loss: 0.8104 - val_acc: 0.5000\n",
      "Epoch 2/30\n",
      "5216/5216 [==============================] - 1s 187us/step - loss: 0.5669 - acc: 0.7429 - val_loss: 0.8121 - val_acc: 0.5000\n",
      "Epoch 3/30\n",
      "5216/5216 [==============================] - 1s 187us/step - loss: 0.5548 - acc: 0.7429 - val_loss: 0.9515 - val_acc: 0.5000\n",
      "Epoch 4/30\n",
      "5216/5216 [==============================] - 1s 194us/step - loss: 0.5348 - acc: 0.7429 - val_loss: 0.8673 - val_acc: 0.5000\n",
      "Epoch 5/30\n",
      "5216/5216 [==============================] - 1s 197us/step - loss: 0.4778 - acc: 0.7548 - val_loss: 1.0455 - val_acc: 0.5000\n",
      "Epoch 6/30\n",
      "5216/5216 [==============================] - 1s 198us/step - loss: 0.4307 - acc: 0.8100 - val_loss: 0.6622 - val_acc: 0.6250\n",
      "Epoch 7/30\n",
      "5216/5216 [==============================] - 1s 199us/step - loss: 0.3784 - acc: 0.8336 - val_loss: 1.0096 - val_acc: 0.5625\n",
      "Epoch 8/30\n",
      "5216/5216 [==============================] - 1s 203us/step - loss: 0.3131 - acc: 0.8677 - val_loss: 0.6012 - val_acc: 0.6875\n",
      "Epoch 9/30\n",
      "5216/5216 [==============================] - 1s 197us/step - loss: 0.2726 - acc: 0.8861 - val_loss: 0.8696 - val_acc: 0.6250\n",
      "Epoch 10/30\n",
      "5216/5216 [==============================] - 1s 193us/step - loss: 0.2456 - acc: 0.8976 - val_loss: 0.8663 - val_acc: 0.5625\n",
      "Epoch 11/30\n",
      "5216/5216 [==============================] - 1s 202us/step - loss: 0.2135 - acc: 0.9095 - val_loss: 1.1362 - val_acc: 0.5625\n",
      "Epoch 12/30\n",
      "5216/5216 [==============================] - 1s 204us/step - loss: 0.2029 - acc: 0.9158 - val_loss: 1.0911 - val_acc: 0.5625\n",
      "Epoch 13/30\n",
      "5216/5216 [==============================] - 1s 197us/step - loss: 0.1957 - acc: 0.9202 - val_loss: 0.9438 - val_acc: 0.5625\n",
      "Epoch 14/30\n",
      "5216/5216 [==============================] - 1s 191us/step - loss: 0.1760 - acc: 0.9289 - val_loss: 0.8281 - val_acc: 0.5625\n",
      "Epoch 15/30\n",
      "5216/5216 [==============================] - 1s 192us/step - loss: 0.1670 - acc: 0.9319 - val_loss: 1.2974 - val_acc: 0.5625\n",
      "Epoch 16/30\n",
      "5216/5216 [==============================] - 1s 190us/step - loss: 0.1565 - acc: 0.9381 - val_loss: 0.4408 - val_acc: 0.7500\n",
      "Epoch 17/30\n",
      "5216/5216 [==============================] - 1s 189us/step - loss: 0.1548 - acc: 0.9410 - val_loss: 0.4044 - val_acc: 0.8750\n",
      "Epoch 18/30\n",
      "5216/5216 [==============================] - 1s 195us/step - loss: 0.1482 - acc: 0.9394 - val_loss: 0.3905 - val_acc: 0.8125\n",
      "Epoch 19/30\n",
      "5216/5216 [==============================] - 1s 189us/step - loss: 0.1377 - acc: 0.9450 - val_loss: 0.6459 - val_acc: 0.6250\n",
      "Epoch 20/30\n",
      "5216/5216 [==============================] - 1s 192us/step - loss: 0.1340 - acc: 0.9509 - val_loss: 0.5365 - val_acc: 0.6875\n",
      "Epoch 21/30\n",
      "5216/5216 [==============================] - 1s 189us/step - loss: 0.1309 - acc: 0.9484 - val_loss: 0.3595 - val_acc: 0.8125\n",
      "Epoch 22/30\n",
      "5216/5216 [==============================] - 1s 193us/step - loss: 0.1273 - acc: 0.9484 - val_loss: 0.4347 - val_acc: 0.7500\n",
      "Epoch 23/30\n",
      "5216/5216 [==============================] - 1s 202us/step - loss: 0.1257 - acc: 0.9482 - val_loss: 0.6709 - val_acc: 0.6875\n",
      "Epoch 24/30\n",
      "5216/5216 [==============================] - 1s 196us/step - loss: 0.1220 - acc: 0.9511 - val_loss: 0.7297 - val_acc: 0.6250\n",
      "Epoch 25/30\n",
      "5216/5216 [==============================] - 1s 193us/step - loss: 0.1174 - acc: 0.9519 - val_loss: 0.4713 - val_acc: 0.6875\n",
      "Epoch 26/30\n",
      "5216/5216 [==============================] - 1s 188us/step - loss: 0.1151 - acc: 0.9549 - val_loss: 0.6738 - val_acc: 0.6875\n",
      "Epoch 27/30\n",
      "5216/5216 [==============================] - 1s 198us/step - loss: 0.1156 - acc: 0.9544 - val_loss: 0.6446 - val_acc: 0.6875\n",
      "Epoch 28/30\n",
      "5216/5216 [==============================] - 1s 194us/step - loss: 0.1114 - acc: 0.9561 - val_loss: 0.8714 - val_acc: 0.5625\n",
      "Epoch 29/30\n",
      "5216/5216 [==============================] - 1s 199us/step - loss: 0.1083 - acc: 0.9580 - val_loss: 0.7141 - val_acc: 0.6250\n",
      "Epoch 30/30\n",
      "5216/5216 [==============================] - 1s 189us/step - loss: 0.1078 - acc: 0.9590 - val_loss: 0.5528 - val_acc: 0.7500\n",
      "CPU times: user 24.4 s, sys: 4.45 s, total: 28.9 s\n",
      "Wall time: 30.9 s\n"
     ]
    }
   ],
   "source": [
    "%%time\n",
    "history_gs_1 = model_gs_1.fit(train_images_gs,\n",
    "                    train_y_gs,\n",
    "                    epochs=30,\n",
    "                    batch_size=50,\n",
    "                    validation_data=(val_images_gs, val_y_gs))"
   ]
  },
  {
   "cell_type": "code",
   "execution_count": 48,
   "metadata": {
    "scrolled": false
   },
   "outputs": [
    {
     "name": "stdout",
     "output_type": "stream",
     "text": [
      "624/624 [==============================] - 0s 146us/step\n"
     ]
    },
    {
     "data": {
      "text/plain": [
       "[0.8811382085849078, 0.7307692170143127]"
      ]
     },
     "execution_count": 48,
     "metadata": {},
     "output_type": "execute_result"
    }
   ],
   "source": [
    "results_test_gs_1 = model_gs_1.evaluate(test_images_gs, test_y_gs)\n",
    "results_test_gs_1"
   ]
  },
  {
   "cell_type": "markdown",
   "metadata": {},
   "source": [
    "# Grayscale, 256, 100 epochs"
   ]
  },
  {
   "cell_type": "code",
   "execution_count": 66,
   "metadata": {},
   "outputs": [
    {
     "name": "stdout",
     "output_type": "stream",
     "text": [
      "Found 5216 images belonging to 2 classes.\n",
      "Found 624 images belonging to 2 classes.\n",
      "Found 16 images belonging to 2 classes.\n"
     ]
    }
   ],
   "source": [
    "train_generator_gs_256 = ImageDataGenerator(rescale=1./255).flow_from_directory(train_folder, target_size=(256, 256), color_mode = 'grayscale', batch_size = 5218)\n",
    "\n",
    "test_generator_gs_256 = ImageDataGenerator(rescale=1./255).flow_from_directory(test_folder, target_size=(256, 256), color_mode = 'grayscale', batch_size = 624)\n",
    "\n",
    "val_generator_gs_256 = ImageDataGenerator(rescale=1./255).flow_from_directory(val_folder, target_size=(256, 256), color_mode = 'grayscale', batch_size = 18)"
   ]
  },
  {
   "cell_type": "code",
   "execution_count": 67,
   "metadata": {},
   "outputs": [],
   "source": [
    "train_images_gs_256, train_labels_gs_256 = next(train_generator_gs_256)\n",
    "test_images_gs_256, test_labels_gs_256 = next(test_generator_gs_256)\n",
    "val_images_gs_256, val_labels_gs_256 = next(val_generator_gs_256)"
   ]
  },
  {
   "cell_type": "code",
   "execution_count": 68,
   "metadata": {},
   "outputs": [],
   "source": [
    "train_y_gs_256 = np.reshape(train_labels_gs_256[:,0], (5216,1))\n",
    "test_y_gs_256 = np.reshape(test_labels_gs_256[:,0], (624,1))\n",
    "val_y_gs_256 = np.reshape(val_labels_gs_256[:,0], (16,1))"
   ]
  },
  {
   "cell_type": "code",
   "execution_count": 69,
   "metadata": {},
   "outputs": [],
   "source": [
    "model_gs_2 = models.Sequential()\n",
    "model_gs_2.add(layers.Conv2D(32, (3, 3), activation='relu', input_shape=(256, 256, 1)))\n",
    "model_gs_2.add(layers.MaxPooling2D((2, 2)))\n",
    "\n",
    "model_gs_2.add(layers.Conv2D(32, (4, 4), activation='relu'))\n",
    "model_gs_2.add(layers.MaxPooling2D((2, 2)))\n",
    "\n",
    "model_gs_2.add(layers.Conv2D(64, (3, 3), activation='relu'))\n",
    "model_gs_2.add(layers.MaxPooling2D((2, 2)))\n",
    "\n",
    "model_gs_2.add(layers.Flatten())\n",
    "model_gs_2.add(layers.Dense(64, activation='relu'))\n",
    "model_gs_2.add(layers.Dense(1, activation='sigmoid'))\n",
    "\n",
    "model_gs_2.compile(loss='binary_crossentropy', optimizer=\"sgd\", metrics=['acc'])"
   ]
  },
  {
   "cell_type": "code",
   "execution_count": 73,
   "metadata": {
    "scrolled": true
   },
   "outputs": [
    {
     "name": "stdout",
     "output_type": "stream",
     "text": [
      "Train on 5216 samples, validate on 16 samples\n",
      "Epoch 1/100\n",
      "5216/5216 [==============================] - 12s 2ms/step - loss: 0.1591 - acc: 0.9413 - val_loss: 0.3945 - val_acc: 0.7500\n",
      "Epoch 2/100\n",
      "5216/5216 [==============================] - 12s 2ms/step - loss: 0.1486 - acc: 0.9434 - val_loss: 0.3377 - val_acc: 0.8750\n",
      "Epoch 3/100\n",
      "5216/5216 [==============================] - 12s 2ms/step - loss: 0.1413 - acc: 0.9484 - val_loss: 0.3801 - val_acc: 0.8125\n",
      "Epoch 4/100\n",
      "5216/5216 [==============================] - 12s 2ms/step - loss: 0.1354 - acc: 0.9511 - val_loss: 1.0466 - val_acc: 0.5625\n",
      "Epoch 5/100\n",
      "5216/5216 [==============================] - 13s 2ms/step - loss: 0.1305 - acc: 0.9523 - val_loss: 0.3437 - val_acc: 0.8125\n",
      "Epoch 6/100\n",
      "5216/5216 [==============================] - 12s 2ms/step - loss: 0.1231 - acc: 0.9532 - val_loss: 0.4228 - val_acc: 0.8750\n",
      "Epoch 7/100\n",
      "5216/5216 [==============================] - 12s 2ms/step - loss: 0.1200 - acc: 0.9530 - val_loss: 0.6617 - val_acc: 0.6875\n",
      "Epoch 8/100\n",
      "5216/5216 [==============================] - 12s 2ms/step - loss: 0.1228 - acc: 0.9549 - val_loss: 0.4729 - val_acc: 0.8125\n",
      "Epoch 9/100\n",
      "5216/5216 [==============================] - 12s 2ms/step - loss: 0.1127 - acc: 0.9580 - val_loss: 0.6925 - val_acc: 0.6875\n",
      "Epoch 10/100\n",
      "5216/5216 [==============================] - 12s 2ms/step - loss: 0.1087 - acc: 0.9582 - val_loss: 0.4248 - val_acc: 0.8125\n",
      "Epoch 11/100\n",
      "5216/5216 [==============================] - 12s 2ms/step - loss: 0.1033 - acc: 0.9630 - val_loss: 0.3722 - val_acc: 0.7500\n",
      "Epoch 12/100\n",
      "5216/5216 [==============================] - 12s 2ms/step - loss: 0.1073 - acc: 0.9615 - val_loss: 0.5102 - val_acc: 0.7500\n",
      "Epoch 13/100\n",
      "5216/5216 [==============================] - 12s 2ms/step - loss: 0.0981 - acc: 0.9632 - val_loss: 1.1313 - val_acc: 0.5625\n",
      "Epoch 14/100\n",
      "5216/5216 [==============================] - 12s 2ms/step - loss: 0.0938 - acc: 0.9659 - val_loss: 0.4630 - val_acc: 0.8125\n",
      "Epoch 15/100\n",
      "5216/5216 [==============================] - 12s 2ms/step - loss: 0.0973 - acc: 0.9638 - val_loss: 1.5330 - val_acc: 0.5625\n",
      "Epoch 16/100\n",
      "5216/5216 [==============================] - 12s 2ms/step - loss: 0.0894 - acc: 0.9682 - val_loss: 0.4146 - val_acc: 0.8125\n",
      "Epoch 17/100\n",
      "5216/5216 [==============================] - 12s 2ms/step - loss: 0.0938 - acc: 0.9628 - val_loss: 0.4086 - val_acc: 0.8125\n",
      "Epoch 18/100\n",
      "5216/5216 [==============================] - 12s 2ms/step - loss: 0.0854 - acc: 0.9695 - val_loss: 0.3857 - val_acc: 0.8125\n",
      "Epoch 19/100\n",
      "5216/5216 [==============================] - 12s 2ms/step - loss: 0.0838 - acc: 0.9695 - val_loss: 0.6286 - val_acc: 0.7500\n",
      "Epoch 20/100\n",
      "5216/5216 [==============================] - 12s 2ms/step - loss: 0.0803 - acc: 0.9705 - val_loss: 0.3351 - val_acc: 0.7500\n",
      "Epoch 21/100\n",
      "5216/5216 [==============================] - 12s 2ms/step - loss: 0.0810 - acc: 0.9686 - val_loss: 1.3088 - val_acc: 0.5625\n",
      "Epoch 22/100\n",
      "5216/5216 [==============================] - 12s 2ms/step - loss: 0.0779 - acc: 0.9728 - val_loss: 1.3434 - val_acc: 0.5625\n",
      "Epoch 23/100\n",
      "5216/5216 [==============================] - 12s 2ms/step - loss: 0.0767 - acc: 0.9734 - val_loss: 1.2260 - val_acc: 0.5625\n",
      "Epoch 24/100\n",
      "5216/5216 [==============================] - 12s 2ms/step - loss: 0.0759 - acc: 0.9732 - val_loss: 0.4098 - val_acc: 0.8125\n",
      "Epoch 25/100\n",
      "5216/5216 [==============================] - 12s 2ms/step - loss: 0.0740 - acc: 0.9716 - val_loss: 0.9759 - val_acc: 0.5625\n",
      "Epoch 26/100\n",
      "5216/5216 [==============================] - 12s 2ms/step - loss: 0.0791 - acc: 0.9701 - val_loss: 0.7826 - val_acc: 0.6250\n",
      "Epoch 27/100\n",
      "5216/5216 [==============================] - 12s 2ms/step - loss: 0.0723 - acc: 0.9735 - val_loss: 0.8974 - val_acc: 0.6250\n",
      "Epoch 28/100\n",
      "5216/5216 [==============================] - 12s 2ms/step - loss: 0.0707 - acc: 0.9734 - val_loss: 0.3120 - val_acc: 0.8125\n",
      "Epoch 29/100\n",
      "5216/5216 [==============================] - 12s 2ms/step - loss: 0.0727 - acc: 0.9753 - val_loss: 0.5931 - val_acc: 0.7500\n",
      "Epoch 30/100\n",
      "5216/5216 [==============================] - 12s 2ms/step - loss: 0.0653 - acc: 0.9735 - val_loss: 0.5526 - val_acc: 0.7500\n",
      "Epoch 31/100\n",
      "5216/5216 [==============================] - 12s 2ms/step - loss: 0.0666 - acc: 0.9762 - val_loss: 0.6566 - val_acc: 0.7500\n",
      "Epoch 32/100\n",
      "5216/5216 [==============================] - 12s 2ms/step - loss: 0.0714 - acc: 0.9749 - val_loss: 0.4737 - val_acc: 0.7500\n",
      "Epoch 33/100\n",
      "5216/5216 [==============================] - 12s 2ms/step - loss: 0.0665 - acc: 0.9758 - val_loss: 0.3046 - val_acc: 0.8125\n",
      "Epoch 34/100\n",
      "5216/5216 [==============================] - 12s 2ms/step - loss: 0.0639 - acc: 0.9774 - val_loss: 0.3541 - val_acc: 0.8125\n",
      "Epoch 35/100\n",
      "5216/5216 [==============================] - 12s 2ms/step - loss: 0.0669 - acc: 0.9734 - val_loss: 0.5358 - val_acc: 0.7500\n",
      "Epoch 36/100\n",
      "5216/5216 [==============================] - 12s 2ms/step - loss: 0.0667 - acc: 0.9766 - val_loss: 0.2443 - val_acc: 0.9375\n",
      "Epoch 37/100\n",
      "5216/5216 [==============================] - 13s 2ms/step - loss: 0.0618 - acc: 0.9751 - val_loss: 0.3439 - val_acc: 0.8125\n",
      "Epoch 38/100\n",
      "5216/5216 [==============================] - 12s 2ms/step - loss: 0.0599 - acc: 0.9780 - val_loss: 0.4770 - val_acc: 0.7500\n",
      "Epoch 39/100\n",
      "5216/5216 [==============================] - 12s 2ms/step - loss: 0.0618 - acc: 0.9776 - val_loss: 0.2203 - val_acc: 0.8750\n",
      "Epoch 40/100\n",
      "5216/5216 [==============================] - 12s 2ms/step - loss: 0.0608 - acc: 0.9770 - val_loss: 0.4711 - val_acc: 0.7500\n",
      "Epoch 41/100\n",
      "5216/5216 [==============================] - 12s 2ms/step - loss: 0.0567 - acc: 0.9793 - val_loss: 0.4307 - val_acc: 0.7500\n",
      "Epoch 42/100\n",
      "5216/5216 [==============================] - 12s 2ms/step - loss: 0.0596 - acc: 0.9781 - val_loss: 0.6524 - val_acc: 0.7500\n",
      "Epoch 43/100\n",
      "5216/5216 [==============================] - 12s 2ms/step - loss: 0.0566 - acc: 0.9787 - val_loss: 0.4233 - val_acc: 0.7500\n",
      "Epoch 44/100\n",
      "5216/5216 [==============================] - 12s 2ms/step - loss: 0.0573 - acc: 0.9789 - val_loss: 0.4243 - val_acc: 0.7500\n",
      "Epoch 45/100\n",
      "5216/5216 [==============================] - 12s 2ms/step - loss: 0.0534 - acc: 0.9801 - val_loss: 0.5331 - val_acc: 0.7500\n",
      "Epoch 46/100\n",
      "5216/5216 [==============================] - 12s 2ms/step - loss: 0.0544 - acc: 0.9793 - val_loss: 0.9068 - val_acc: 0.6250\n",
      "Epoch 47/100\n",
      "5216/5216 [==============================] - 12s 2ms/step - loss: 0.0511 - acc: 0.9806 - val_loss: 1.1778 - val_acc: 0.5625\n",
      "Epoch 48/100\n",
      "5216/5216 [==============================] - 12s 2ms/step - loss: 0.0525 - acc: 0.9799 - val_loss: 1.2074 - val_acc: 0.5625\n",
      "Epoch 49/100\n",
      "5216/5216 [==============================] - 12s 2ms/step - loss: 0.0488 - acc: 0.9816 - val_loss: 0.1841 - val_acc: 0.8750\n",
      "Epoch 50/100\n",
      "5216/5216 [==============================] - 12s 2ms/step - loss: 0.0512 - acc: 0.9804 - val_loss: 0.6237 - val_acc: 0.7500\n",
      "Epoch 51/100\n",
      "5216/5216 [==============================] - 12s 2ms/step - loss: 0.0498 - acc: 0.9824 - val_loss: 1.9925 - val_acc: 0.5000\n",
      "Epoch 52/100\n",
      "5216/5216 [==============================] - 12s 2ms/step - loss: 0.0495 - acc: 0.9818 - val_loss: 0.2973 - val_acc: 0.8125\n",
      "Epoch 53/100\n",
      "5216/5216 [==============================] - 12s 2ms/step - loss: 0.0468 - acc: 0.9824 - val_loss: 0.3202 - val_acc: 0.7500\n",
      "Epoch 54/100\n",
      "5216/5216 [==============================] - 12s 2ms/step - loss: 0.0501 - acc: 0.9829 - val_loss: 0.6913 - val_acc: 0.7500\n",
      "Epoch 55/100\n",
      "5216/5216 [==============================] - 12s 2ms/step - loss: 0.0466 - acc: 0.9814 - val_loss: 1.0508 - val_acc: 0.6250\n",
      "Epoch 56/100\n",
      "5216/5216 [==============================] - 12s 2ms/step - loss: 0.0451 - acc: 0.9843 - val_loss: 0.5438 - val_acc: 0.7500\n",
      "Epoch 57/100\n",
      "5216/5216 [==============================] - 12s 2ms/step - loss: 0.0458 - acc: 0.9839 - val_loss: 1.6889 - val_acc: 0.5625\n",
      "Epoch 58/100\n",
      "5216/5216 [==============================] - 12s 2ms/step - loss: 0.0430 - acc: 0.9849 - val_loss: 0.9379 - val_acc: 0.6250\n",
      "Epoch 59/100\n",
      "5216/5216 [==============================] - 12s 2ms/step - loss: 0.0434 - acc: 0.9849 - val_loss: 0.1900 - val_acc: 0.8750\n",
      "Epoch 60/100\n",
      "5216/5216 [==============================] - 12s 2ms/step - loss: 0.0445 - acc: 0.9833 - val_loss: 0.3117 - val_acc: 0.8125\n",
      "Epoch 61/100\n",
      "5216/5216 [==============================] - 12s 2ms/step - loss: 0.0431 - acc: 0.9852 - val_loss: 0.5810 - val_acc: 0.7500\n",
      "Epoch 62/100\n",
      "5216/5216 [==============================] - 12s 2ms/step - loss: 0.0388 - acc: 0.9860 - val_loss: 0.2584 - val_acc: 0.8125\n",
      "Epoch 63/100\n",
      "5216/5216 [==============================] - 12s 2ms/step - loss: 0.0418 - acc: 0.9852 - val_loss: 0.1279 - val_acc: 1.0000\n",
      "Epoch 64/100\n",
      "5216/5216 [==============================] - 12s 2ms/step - loss: 0.0372 - acc: 0.9862 - val_loss: 0.1108 - val_acc: 0.9375\n",
      "Epoch 65/100\n",
      "5216/5216 [==============================] - 12s 2ms/step - loss: 0.0402 - acc: 0.9847 - val_loss: 0.2937 - val_acc: 0.7500\n",
      "Epoch 66/100\n",
      "5216/5216 [==============================] - 12s 2ms/step - loss: 0.0393 - acc: 0.9862 - val_loss: 1.1389 - val_acc: 0.6250\n",
      "Epoch 67/100\n",
      "5216/5216 [==============================] - 12s 2ms/step - loss: 0.0372 - acc: 0.9879 - val_loss: 0.3050 - val_acc: 0.7500\n",
      "Epoch 68/100\n",
      "5216/5216 [==============================] - 12s 2ms/step - loss: 0.0387 - acc: 0.9858 - val_loss: 0.2806 - val_acc: 0.7500\n",
      "Epoch 69/100\n",
      "5216/5216 [==============================] - 12s 2ms/step - loss: 0.0335 - acc: 0.9881 - val_loss: 0.3608 - val_acc: 0.7500\n",
      "Epoch 70/100\n",
      "5216/5216 [==============================] - 12s 2ms/step - loss: 0.0329 - acc: 0.9883 - val_loss: 0.2756 - val_acc: 0.8750\n",
      "Epoch 71/100\n",
      "5216/5216 [==============================] - 12s 2ms/step - loss: 0.0331 - acc: 0.9891 - val_loss: 0.3501 - val_acc: 0.7500\n",
      "Epoch 72/100\n",
      "5216/5216 [==============================] - 12s 2ms/step - loss: 0.0309 - acc: 0.9881 - val_loss: 0.0707 - val_acc: 1.0000\n",
      "Epoch 73/100\n",
      "5216/5216 [==============================] - 12s 2ms/step - loss: 0.0331 - acc: 0.9887 - val_loss: 0.2637 - val_acc: 0.8750\n",
      "Epoch 74/100\n",
      "5216/5216 [==============================] - 12s 2ms/step - loss: 0.0305 - acc: 0.9887 - val_loss: 0.1261 - val_acc: 0.9375\n",
      "Epoch 75/100\n",
      "5216/5216 [==============================] - 12s 2ms/step - loss: 0.0310 - acc: 0.9898 - val_loss: 0.4390 - val_acc: 0.7500\n",
      "Epoch 76/100\n",
      "5216/5216 [==============================] - 12s 2ms/step - loss: 0.0293 - acc: 0.9900 - val_loss: 0.3195 - val_acc: 0.8750\n",
      "Epoch 77/100\n",
      "5216/5216 [==============================] - 12s 2ms/step - loss: 0.0276 - acc: 0.9910 - val_loss: 0.2382 - val_acc: 0.8750\n",
      "Epoch 78/100\n",
      "5216/5216 [==============================] - 12s 2ms/step - loss: 0.0247 - acc: 0.9918 - val_loss: 0.1642 - val_acc: 0.9375\n",
      "Epoch 79/100\n",
      "5216/5216 [==============================] - 12s 2ms/step - loss: 0.0271 - acc: 0.9904 - val_loss: 0.2736 - val_acc: 0.8750\n",
      "Epoch 80/100\n",
      "5216/5216 [==============================] - 12s 2ms/step - loss: 0.0253 - acc: 0.9921 - val_loss: 0.1228 - val_acc: 0.9375\n",
      "Epoch 81/100\n",
      "5216/5216 [==============================] - 12s 2ms/step - loss: 0.0239 - acc: 0.9918 - val_loss: 0.2042 - val_acc: 0.8750\n",
      "Epoch 82/100\n",
      "5216/5216 [==============================] - 12s 2ms/step - loss: 0.0252 - acc: 0.9904 - val_loss: 0.3945 - val_acc: 0.8125\n",
      "Epoch 83/100\n",
      "5216/5216 [==============================] - 12s 2ms/step - loss: 0.0251 - acc: 0.9918 - val_loss: 0.8238 - val_acc: 0.6875\n",
      "Epoch 84/100\n",
      "5216/5216 [==============================] - 12s 2ms/step - loss: 0.0260 - acc: 0.9908 - val_loss: 0.4071 - val_acc: 0.7500\n",
      "Epoch 85/100\n",
      "5216/5216 [==============================] - 12s 2ms/step - loss: 0.0228 - acc: 0.9935 - val_loss: 0.4008 - val_acc: 0.8750\n",
      "Epoch 86/100\n",
      "5216/5216 [==============================] - 12s 2ms/step - loss: 0.0226 - acc: 0.9921 - val_loss: 0.1276 - val_acc: 0.9375\n",
      "Epoch 87/100\n",
      "5216/5216 [==============================] - 12s 2ms/step - loss: 0.0223 - acc: 0.9923 - val_loss: 1.4323 - val_acc: 0.5625\n",
      "Epoch 88/100\n",
      "5216/5216 [==============================] - 12s 2ms/step - loss: 0.0414 - acc: 0.9885 - val_loss: 0.0851 - val_acc: 0.9375\n",
      "Epoch 89/100\n",
      "5216/5216 [==============================] - 12s 2ms/step - loss: 0.0202 - acc: 0.9941 - val_loss: 0.1993 - val_acc: 0.9375\n",
      "Epoch 90/100\n",
      "5216/5216 [==============================] - 12s 2ms/step - loss: 0.0192 - acc: 0.9937 - val_loss: 0.1399 - val_acc: 0.9375\n",
      "Epoch 91/100\n",
      "5216/5216 [==============================] - 12s 2ms/step - loss: 0.0163 - acc: 0.9958 - val_loss: 0.1726 - val_acc: 0.9375\n",
      "Epoch 92/100\n",
      "5216/5216 [==============================] - 12s 2ms/step - loss: 0.0189 - acc: 0.9937 - val_loss: 0.3038 - val_acc: 0.8125\n",
      "Epoch 93/100\n",
      "5216/5216 [==============================] - 12s 2ms/step - loss: 0.0175 - acc: 0.9939 - val_loss: 0.1721 - val_acc: 0.9375\n",
      "Epoch 94/100\n",
      "5216/5216 [==============================] - 12s 2ms/step - loss: 0.0144 - acc: 0.9958 - val_loss: 0.2826 - val_acc: 0.8750\n",
      "Epoch 95/100\n",
      "5216/5216 [==============================] - 12s 2ms/step - loss: 0.0155 - acc: 0.9946 - val_loss: 0.1392 - val_acc: 0.8750\n",
      "Epoch 96/100\n",
      "5216/5216 [==============================] - 12s 2ms/step - loss: 0.0145 - acc: 0.9958 - val_loss: 0.1400 - val_acc: 0.9375\n",
      "Epoch 97/100\n",
      "5216/5216 [==============================] - 12s 2ms/step - loss: 0.0120 - acc: 0.9981 - val_loss: 0.1765 - val_acc: 0.9375\n",
      "Epoch 98/100\n",
      "5216/5216 [==============================] - 12s 2ms/step - loss: 0.0119 - acc: 0.9973 - val_loss: 0.3742 - val_acc: 0.8125\n",
      "Epoch 99/100\n",
      "5216/5216 [==============================] - 12s 2ms/step - loss: 0.0118 - acc: 0.9969 - val_loss: 0.2300 - val_acc: 0.9375\n",
      "Epoch 100/100\n",
      "5216/5216 [==============================] - 12s 2ms/step - loss: 0.0110 - acc: 0.9971 - val_loss: 0.1328 - val_acc: 0.9375\n",
      "CPU times: user 10min 38s, sys: 3min 47s, total: 14min 26s\n",
      "Wall time: 20min 23s\n"
     ]
    }
   ],
   "source": [
    "%%time\n",
    "history_gs_2 = model_gs_2.fit(train_images_gs_256,\n",
    "                    train_y_gs_256,\n",
    "                    epochs=100,\n",
    "                    batch_size=50,\n",
    "                    validation_data=(val_images_gs_256, val_y_gs_256))"
   ]
  },
  {
   "cell_type": "code",
   "execution_count": 72,
   "metadata": {},
   "outputs": [
    {
     "name": "stdout",
     "output_type": "stream",
     "text": [
      "624/624 [==============================] - 1s 1ms/step\n"
     ]
    },
    {
     "data": {
      "text/plain": [
       "[0.44146386400247234, 0.8044871687889099]"
      ]
     },
     "execution_count": 72,
     "metadata": {},
     "output_type": "execute_result"
    }
   ],
   "source": [
    "results_test_gs_2 = model_gs_2.evaluate(test_images_gs_256, test_y_gs_256)\n",
    "results_test_gs_2"
   ]
  },
  {
   "cell_type": "markdown",
   "metadata": {},
   "source": [
    "# Model 5: 128x128"
   ]
  },
  {
   "cell_type": "code",
   "execution_count": 21,
   "metadata": {
    "scrolled": true
   },
   "outputs": [
    {
     "name": "stdout",
     "output_type": "stream",
     "text": [
      "Found 5216 images belonging to 2 classes.\n",
      "Found 624 images belonging to 2 classes.\n",
      "Found 16 images belonging to 2 classes.\n"
     ]
    }
   ],
   "source": [
    "train_generator_5 = ImageDataGenerator(rescale=1./255).flow_from_directory(train_folder, target_size=(128, 128), batch_size=5218)\n",
    "\n",
    "test_generator_5 = ImageDataGenerator(rescale=1./255).flow_from_directory(test_folder, target_size=(128, 128), batch_size = 624) \n",
    "\n",
    "val_generator_5 = ImageDataGenerator(rescale=1./255).flow_from_directory(val_folder, target_size=(128, 128), batch_size = 18)"
   ]
  },
  {
   "cell_type": "code",
   "execution_count": 22,
   "metadata": {},
   "outputs": [],
   "source": [
    "train_images_5, train_labels_5 = next(train_generator_5)\n",
    "test_images_5, test_labels_5 = next(test_generator_5)\n",
    "val_images_5, val_labels_5 = next(val_generator_5)"
   ]
  },
  {
   "cell_type": "code",
   "execution_count": 23,
   "metadata": {},
   "outputs": [
    {
     "name": "stdout",
     "output_type": "stream",
     "text": [
      "train_images shape: (5216, 128, 128, 3)\n",
      "train_labels shape: (5216, 2)\n"
     ]
    }
   ],
   "source": [
    "print (\"train_images shape: \" + str(train_images_5.shape))\n",
    "print (\"train_labels shape: \" + str(train_labels_5.shape))"
   ]
  },
  {
   "cell_type": "code",
   "execution_count": 24,
   "metadata": {},
   "outputs": [],
   "source": [
    "train_y_5 = np.reshape(train_labels_5[:,0], (5216,1))\n",
    "test_y_5 = np.reshape(test_labels_5[:,0], (624,1))\n",
    "val_y_5 = np.reshape(val_labels_5[:,0], (16,1))"
   ]
  },
  {
   "cell_type": "code",
   "execution_count": 25,
   "metadata": {},
   "outputs": [
    {
     "name": "stdout",
     "output_type": "stream",
     "text": [
      "train_labels shape: (5216, 1)\n"
     ]
    }
   ],
   "source": [
    "print (\"train_labels shape: \" + str(train_y_5.shape))"
   ]
  },
  {
   "cell_type": "code",
   "execution_count": 26,
   "metadata": {},
   "outputs": [],
   "source": [
    "model_5 = models.Sequential()\n",
    "model_5.add(layers.Conv2D(32, (3, 3), activation='relu', input_shape=(128, 128, 3)))\n",
    "model_5.add(layers.MaxPooling2D((2, 2)))\n",
    "\n",
    "model_5.add(layers.Conv2D(32, (4, 4), activation='relu'))\n",
    "model_5.add(layers.MaxPooling2D((2, 2)))\n",
    "\n",
    "model_5.add(layers.Conv2D(64, (3, 3), activation='relu'))\n",
    "model_5.add(layers.MaxPooling2D((2, 2)))\n",
    "\n",
    "model_5.add(layers.Flatten())\n",
    "model_5.add(layers.Dense(64, activation='relu'))\n",
    "model_5.add(layers.Dense(1, activation='sigmoid'))\n",
    "\n",
    "model_5.compile(loss='binary_crossentropy',\n",
    "              optimizer=\"sgd\",\n",
    "              metrics=['acc'])"
   ]
  },
  {
   "cell_type": "code",
   "execution_count": 27,
   "metadata": {
    "scrolled": true
   },
   "outputs": [
    {
     "name": "stdout",
     "output_type": "stream",
     "text": [
      "Train on 5216 samples, validate on 16 samples\n",
      "Epoch 1/30\n",
      "5216/5216 [==============================] - 4s 786us/step - loss: 0.5730 - acc: 0.7429 - val_loss: 0.8375 - val_acc: 0.5000\n",
      "Epoch 2/30\n",
      "5216/5216 [==============================] - 4s 709us/step - loss: 0.5029 - acc: 0.7625 - val_loss: 0.5958 - val_acc: 0.6250\n",
      "Epoch 3/30\n",
      "5216/5216 [==============================] - 4s 711us/step - loss: 0.4178 - acc: 0.8192 - val_loss: 0.6097 - val_acc: 0.7500\n",
      "Epoch 4/30\n",
      "5216/5216 [==============================] - 4s 705us/step - loss: 0.3384 - acc: 0.8629 - val_loss: 0.7561 - val_acc: 0.6250\n",
      "Epoch 5/30\n",
      "5216/5216 [==============================] - 4s 705us/step - loss: 0.2690 - acc: 0.8905 - val_loss: 0.5224 - val_acc: 0.8125\n",
      "Epoch 6/30\n",
      "5216/5216 [==============================] - 4s 702us/step - loss: 0.2235 - acc: 0.9114 - val_loss: 1.6592 - val_acc: 0.5625\n",
      "Epoch 7/30\n",
      "5216/5216 [==============================] - 4s 701us/step - loss: 0.1910 - acc: 0.9248 - val_loss: 1.0187 - val_acc: 0.5625\n",
      "Epoch 8/30\n",
      "5216/5216 [==============================] - 4s 703us/step - loss: 0.1804 - acc: 0.9331 - val_loss: 0.6919 - val_acc: 0.6875\n",
      "Epoch 9/30\n",
      "5216/5216 [==============================] - 4s 700us/step - loss: 0.1643 - acc: 0.9350 - val_loss: 0.5590 - val_acc: 0.7500\n",
      "Epoch 10/30\n",
      "5216/5216 [==============================] - 4s 702us/step - loss: 0.1448 - acc: 0.9425 - val_loss: 0.4471 - val_acc: 0.8125\n",
      "Epoch 11/30\n",
      "5216/5216 [==============================] - 4s 705us/step - loss: 0.1455 - acc: 0.9467 - val_loss: 0.3971 - val_acc: 0.8125\n",
      "Epoch 12/30\n",
      "5216/5216 [==============================] - 4s 707us/step - loss: 0.1326 - acc: 0.9490 - val_loss: 0.6634 - val_acc: 0.6250\n",
      "Epoch 13/30\n",
      "5216/5216 [==============================] - 4s 701us/step - loss: 0.1262 - acc: 0.9507 - val_loss: 0.5184 - val_acc: 0.6875\n",
      "Epoch 14/30\n",
      "5216/5216 [==============================] - 4s 704us/step - loss: 0.1159 - acc: 0.9565 - val_loss: 0.2984 - val_acc: 0.9375\n",
      "Epoch 15/30\n",
      "5216/5216 [==============================] - 4s 713us/step - loss: 0.1129 - acc: 0.9586 - val_loss: 0.3298 - val_acc: 0.9375\n",
      "Epoch 16/30\n",
      "5216/5216 [==============================] - 4s 726us/step - loss: 0.1094 - acc: 0.9588 - val_loss: 0.4694 - val_acc: 0.7500\n",
      "Epoch 17/30\n",
      "5216/5216 [==============================] - 4s 706us/step - loss: 0.1043 - acc: 0.9624 - val_loss: 0.7827 - val_acc: 0.6250\n",
      "Epoch 18/30\n",
      "5216/5216 [==============================] - 4s 708us/step - loss: 0.1026 - acc: 0.9597 - val_loss: 0.2728 - val_acc: 0.8750\n",
      "Epoch 19/30\n",
      "5216/5216 [==============================] - 4s 705us/step - loss: 0.0936 - acc: 0.9657 - val_loss: 0.3549 - val_acc: 0.8750\n",
      "Epoch 20/30\n",
      "5216/5216 [==============================] - 4s 708us/step - loss: 0.0977 - acc: 0.9636 - val_loss: 0.1993 - val_acc: 0.9375\n",
      "Epoch 21/30\n",
      "5216/5216 [==============================] - 4s 719us/step - loss: 0.0899 - acc: 0.9647 - val_loss: 1.2051 - val_acc: 0.5625\n",
      "Epoch 22/30\n",
      "5216/5216 [==============================] - 4s 718us/step - loss: 0.0892 - acc: 0.9686 - val_loss: 0.1699 - val_acc: 0.9375\n",
      "Epoch 23/30\n",
      "5216/5216 [==============================] - 4s 711us/step - loss: 0.0840 - acc: 0.9691 - val_loss: 0.6418 - val_acc: 0.6875\n",
      "Epoch 24/30\n",
      "5216/5216 [==============================] - 4s 707us/step - loss: 0.0797 - acc: 0.9699 - val_loss: 0.1497 - val_acc: 1.0000\n",
      "Epoch 25/30\n",
      "5216/5216 [==============================] - 4s 707us/step - loss: 0.0752 - acc: 0.9722 - val_loss: 0.9004 - val_acc: 0.6250\n",
      "Epoch 26/30\n",
      "5216/5216 [==============================] - 4s 714us/step - loss: 0.0756 - acc: 0.9728 - val_loss: 0.1431 - val_acc: 1.0000\n",
      "Epoch 27/30\n",
      "5216/5216 [==============================] - 4s 705us/step - loss: 0.0761 - acc: 0.9730 - val_loss: 1.1867 - val_acc: 0.5625\n",
      "Epoch 28/30\n",
      "5216/5216 [==============================] - 4s 707us/step - loss: 0.0698 - acc: 0.9749 - val_loss: 1.3430 - val_acc: 0.5625\n",
      "Epoch 29/30\n",
      "5216/5216 [==============================] - 4s 708us/step - loss: 0.0720 - acc: 0.9737 - val_loss: 0.3357 - val_acc: 0.8125\n",
      "Epoch 30/30\n",
      "5216/5216 [==============================] - 4s 710us/step - loss: 0.0653 - acc: 0.9747 - val_loss: 0.2964 - val_acc: 0.8125\n"
     ]
    }
   ],
   "source": [
    "history_5 = model_5.fit(train_images_5,\n",
    "                    train_y_5,\n",
    "                    epochs=30,\n",
    "                    batch_size=50,\n",
    "                    validation_data=(val_images_5, val_y_5))"
   ]
  },
  {
   "cell_type": "code",
   "execution_count": 28,
   "metadata": {
    "scrolled": true
   },
   "outputs": [
    {
     "name": "stdout",
     "output_type": "stream",
     "text": [
      "624/624 [==============================] - 0s 413us/step\n"
     ]
    },
    {
     "data": {
      "text/plain": [
       "[0.9768585501573025, 0.7644230723381042]"
      ]
     },
     "execution_count": 28,
     "metadata": {},
     "output_type": "execute_result"
    }
   ],
   "source": [
    "results_5 = model_5.evaluate(test_images_5, test_y_5)\n",
    "results_5"
   ]
  },
  {
   "cell_type": "code",
   "execution_count": 30,
   "metadata": {
    "scrolled": true
   },
   "outputs": [
    {
     "name": "stdout",
     "output_type": "stream",
     "text": [
      "Final epoch loss: 0.06533017391560347\n",
      "Final epoch accuracy: 0.97469324\n"
     ]
    },
    {
     "data": {
      "image/png": "[encoded data removed]",
      "text/plain": [
       "<Figure size 864x576 with 1 Axes>"
      ]
     },
     "metadata": {
      "needs_background": "light"
     },
     "output_type": "display_data"
    }
   ],
   "source": [
    "plot_history(history_5)"
   ]
  },
  {
   "cell_type": "markdown",
   "metadata": {},
   "source": [
    "# Model 6: 256x256"
   ]
  },
  {
   "cell_type": "code",
   "execution_count": 76,
   "metadata": {},
   "outputs": [
    {
     "name": "stdout",
     "output_type": "stream",
     "text": [
      "Found 5216 images belonging to 2 classes.\n",
      "Found 624 images belonging to 2 classes.\n",
      "Found 16 images belonging to 2 classes.\n"
     ]
    }
   ],
   "source": [
    "train_generator_6 = ImageDataGenerator(rescale=1./255).flow_from_directory(train_folder, target_size=(256, 256), batch_size= 5218)\n",
    "\n",
    "test_generator_6 = ImageDataGenerator(rescale=1./255).flow_from_directory(test_folder, target_size=(256, 256), batch_size = 624) \n",
    "\n",
    "val_generator_6 = ImageDataGenerator(rescale=1./255).flow_from_directory(val_folder, target_size=(256, 256), batch_size = 18)"
   ]
  },
  {
   "cell_type": "code",
   "execution_count": 77,
   "metadata": {},
   "outputs": [],
   "source": [
    "train_images_6, train_labels_6 = next(train_generator_6)\n",
    "test_images_6, test_labels_6 = next(test_generator_6)\n",
    "val_images_6, val_labels_6 = next(val_generator_6)"
   ]
  },
  {
   "cell_type": "code",
   "execution_count": 78,
   "metadata": {},
   "outputs": [],
   "source": [
    "train_y_6 = np.reshape(train_labels_6[:,0], (5216,1))\n",
    "test_y_6 = np.reshape(test_labels_6[:,0], (624,1))\n",
    "val_y_6 = np.reshape(val_labels_6[:,0], (16,1))"
   ]
  },
  {
   "cell_type": "code",
   "execution_count": 34,
   "metadata": {},
   "outputs": [],
   "source": [
    "model_6 = models.Sequential()\n",
    "model_6.add(layers.Conv2D(32, (3, 3), activation='relu', input_shape=(256, 256, 3)))\n",
    "model_6.add(layers.MaxPooling2D((2, 2)))\n",
    "\n",
    "model_6.add(layers.Conv2D(32, (4, 4), activation='relu'))\n",
    "model_6.add(layers.MaxPooling2D((2, 2)))\n",
    "\n",
    "model_6.add(layers.Conv2D(64, (3, 3), activation='relu'))\n",
    "model_6.add(layers.MaxPooling2D((2, 2)))\n",
    "\n",
    "model_6.add(layers.Flatten())\n",
    "model_6.add(layers.Dense(64, activation='relu'))\n",
    "model_6.add(layers.Dense(1, activation='sigmoid'))\n",
    "\n",
    "model_6.compile(loss='binary_crossentropy',\n",
    "              optimizer=\"sgd\",\n",
    "              metrics=['acc'])"
   ]
  },
  {
   "cell_type": "code",
   "execution_count": 37,
   "metadata": {
    "scrolled": true
   },
   "outputs": [
    {
     "name": "stdout",
     "output_type": "stream",
     "text": [
      "Train on 5216 samples, validate on 16 samples\n",
      "Epoch 1/30\n",
      "5216/5216 [==============================] - 15s 3ms/step - loss: 0.5372 - acc: 0.7402 - val_loss: 0.6388 - val_acc: 0.6250\n",
      "Epoch 2/30\n",
      "5216/5216 [==============================] - 14s 3ms/step - loss: 0.4158 - acc: 0.8098 - val_loss: 0.5777 - val_acc: 0.7500\n",
      "Epoch 3/30\n",
      "5216/5216 [==============================] - 14s 3ms/step - loss: 0.3113 - acc: 0.8735 - val_loss: 0.6393 - val_acc: 0.7500\n",
      "Epoch 4/30\n",
      "5216/5216 [==============================] - 14s 3ms/step - loss: 0.2366 - acc: 0.9057 - val_loss: 1.0655 - val_acc: 0.6250\n",
      "Epoch 5/30\n",
      "5216/5216 [==============================] - 14s 3ms/step - loss: 0.1838 - acc: 0.9275 - val_loss: 0.5573 - val_acc: 0.8125\n",
      "Epoch 6/30\n",
      "5216/5216 [==============================] - 14s 3ms/step - loss: 0.1579 - acc: 0.9394 - val_loss: 0.6698 - val_acc: 0.7500\n",
      "Epoch 7/30\n",
      "5216/5216 [==============================] - 14s 3ms/step - loss: 0.1421 - acc: 0.9452 - val_loss: 0.8658 - val_acc: 0.5625\n",
      "Epoch 8/30\n",
      "5216/5216 [==============================] - 14s 3ms/step - loss: 0.1379 - acc: 0.9459 - val_loss: 1.1263 - val_acc: 0.5625\n",
      "Epoch 9/30\n",
      "5216/5216 [==============================] - 14s 3ms/step - loss: 0.1241 - acc: 0.9538 - val_loss: 0.8697 - val_acc: 0.6250\n",
      "Epoch 10/30\n",
      "5216/5216 [==============================] - 14s 3ms/step - loss: 0.1247 - acc: 0.9546 - val_loss: 0.7065 - val_acc: 0.6250\n",
      "Epoch 11/30\n",
      "5216/5216 [==============================] - 14s 3ms/step - loss: 0.1211 - acc: 0.9572 - val_loss: 0.9110 - val_acc: 0.5625\n",
      "Epoch 12/30\n",
      "5216/5216 [==============================] - 14s 3ms/step - loss: 0.1092 - acc: 0.9601 - val_loss: 0.3054 - val_acc: 0.8750\n",
      "Epoch 13/30\n",
      "5216/5216 [==============================] - 14s 3ms/step - loss: 0.1027 - acc: 0.9626 - val_loss: 0.3504 - val_acc: 0.9375\n",
      "Epoch 14/30\n",
      "5216/5216 [==============================] - 14s 3ms/step - loss: 0.1078 - acc: 0.9584 - val_loss: 0.4043 - val_acc: 0.8125\n",
      "Epoch 15/30\n",
      "5216/5216 [==============================] - 14s 3ms/step - loss: 0.0990 - acc: 0.9626 - val_loss: 0.2672 - val_acc: 0.8750\n",
      "Epoch 16/30\n",
      "5216/5216 [==============================] - 14s 3ms/step - loss: 0.0937 - acc: 0.9649 - val_loss: 0.5755 - val_acc: 0.6875\n",
      "Epoch 17/30\n",
      "5216/5216 [==============================] - 14s 3ms/step - loss: 0.0955 - acc: 0.9670 - val_loss: 0.5216 - val_acc: 0.7500\n",
      "Epoch 18/30\n",
      "5216/5216 [==============================] - 14s 3ms/step - loss: 0.0906 - acc: 0.9651 - val_loss: 0.3924 - val_acc: 0.8125\n",
      "Epoch 19/30\n",
      "5216/5216 [==============================] - 14s 3ms/step - loss: 0.0895 - acc: 0.9666 - val_loss: 0.4640 - val_acc: 0.7500\n",
      "Epoch 20/30\n",
      "5216/5216 [==============================] - 14s 3ms/step - loss: 0.0844 - acc: 0.9703 - val_loss: 0.6463 - val_acc: 0.7500\n",
      "Epoch 21/30\n",
      "5216/5216 [==============================] - 14s 3ms/step - loss: 0.0805 - acc: 0.9672 - val_loss: 0.2719 - val_acc: 0.9375\n",
      "Epoch 22/30\n",
      "5216/5216 [==============================] - 14s 3ms/step - loss: 0.0779 - acc: 0.9701 - val_loss: 0.3946 - val_acc: 0.8750\n",
      "Epoch 23/30\n",
      "5216/5216 [==============================] - 14s 3ms/step - loss: 0.0889 - acc: 0.9682 - val_loss: 0.4023 - val_acc: 0.8125\n",
      "Epoch 24/30\n",
      "5216/5216 [==============================] - 14s 3ms/step - loss: 0.0747 - acc: 0.9720 - val_loss: 0.2827 - val_acc: 0.9375\n",
      "Epoch 25/30\n",
      "5216/5216 [==============================] - 14s 3ms/step - loss: 0.0745 - acc: 0.9714 - val_loss: 0.2099 - val_acc: 0.9375\n",
      "Epoch 26/30\n",
      "5216/5216 [==============================] - 14s 3ms/step - loss: 0.0713 - acc: 0.9739 - val_loss: 2.5415 - val_acc: 0.5625\n",
      "Epoch 27/30\n",
      "5216/5216 [==============================] - 14s 3ms/step - loss: 0.0739 - acc: 0.9732 - val_loss: 0.2251 - val_acc: 0.9375\n",
      "Epoch 28/30\n",
      "5216/5216 [==============================] - 14s 3ms/step - loss: 0.0676 - acc: 0.9757 - val_loss: 0.8114 - val_acc: 0.6875\n",
      "Epoch 29/30\n",
      "5216/5216 [==============================] - 14s 3ms/step - loss: 0.0660 - acc: 0.9758 - val_loss: 0.2338 - val_acc: 0.9375\n",
      "Epoch 30/30\n",
      "5216/5216 [==============================] - 14s 3ms/step - loss: 0.0694 - acc: 0.9737 - val_loss: 0.2827 - val_acc: 0.8750\n"
     ]
    }
   ],
   "source": [
    "history_6 = model_6.fit(train_images_6,\n",
    "                    train_y_6,\n",
    "                    epochs=30,\n",
    "                    batch_size=50,\n",
    "                    validation_data=(val_images_6, val_y_6))"
   ]
  },
  {
   "cell_type": "code",
   "execution_count": 38,
   "metadata": {
    "scrolled": true
   },
   "outputs": [
    {
     "name": "stdout",
     "output_type": "stream",
     "text": [
      "624/624 [==============================] - 1s 1ms/step\n"
     ]
    },
    {
     "data": {
      "text/plain": [
       "[0.7227326111915784, 0.8108974099159241]"
      ]
     },
     "execution_count": 38,
     "metadata": {},
     "output_type": "execute_result"
    }
   ],
   "source": [
    "results_6 = model_6.evaluate(test_images_6, test_y_6)\n",
    "results_6"
   ]
  },
  {
   "cell_type": "code",
   "execution_count": 39,
   "metadata": {
    "scrolled": true
   },
   "outputs": [
    {
     "name": "stdout",
     "output_type": "stream",
     "text": [
      "Final epoch loss: 0.0693910542584133\n",
      "Final epoch accuracy: 0.9737347\n"
     ]
    },
    {
     "data": {
      "image/png": "[encoded data removed]",
      "text/plain": [
       "<Figure size 864x576 with 1 Axes>"
      ]
     },
     "metadata": {
      "needs_background": "light"
     },
     "output_type": "display_data"
    }
   ],
   "source": [
    "plot_history(history_6)"
   ]
  },
  {
   "cell_type": "markdown",
   "metadata": {},
   "source": [
    "### 256, color, 100 epochs"
   ]
  },
  {
   "cell_type": "code",
   "execution_count": 74,
   "metadata": {},
   "outputs": [],
   "source": [
    "model_17 = models.Sequential()\n",
    "model_17.add(layers.Conv2D(32, (3, 3), activation='relu', input_shape=(256, 256, 3)))\n",
    "model_17.add(layers.MaxPooling2D((2, 2)))\n",
    "\n",
    "model_17.add(layers.Conv2D(32, (4, 4), activation='relu'))\n",
    "model_17.add(layers.MaxPooling2D((2, 2)))\n",
    "\n",
    "model_17.add(layers.Conv2D(64, (3, 3), activation='relu'))\n",
    "model_17.add(layers.MaxPooling2D((2, 2)))\n",
    "\n",
    "model_17.add(layers.Flatten())\n",
    "model_17.add(layers.Dense(64, activation='relu'))\n",
    "model_17.add(layers.Dense(1, activation='sigmoid'))\n",
    "\n",
    "model_17.compile(loss='binary_crossentropy',\n",
    "              optimizer=\"sgd\",\n",
    "              metrics=['acc'])"
   ]
  },
  {
   "cell_type": "code",
   "execution_count": 79,
   "metadata": {},
   "outputs": [
    {
     "name": "stdout",
     "output_type": "stream",
     "text": [
      "Train on 5216 samples, validate on 16 samples\n",
      "Epoch 1/100\n",
      "5216/5216 [==============================] - 15s 3ms/step - loss: 0.5442 - acc: 0.7529 - val_loss: 0.6737 - val_acc: 0.5625\n",
      "Epoch 2/100\n",
      "5216/5216 [==============================] - 15s 3ms/step - loss: 0.3912 - acc: 0.8315 - val_loss: 1.2547 - val_acc: 0.6250\n",
      "Epoch 3/100\n",
      "5216/5216 [==============================] - 15s 3ms/step - loss: 0.2744 - acc: 0.8915 - val_loss: 0.4012 - val_acc: 0.8125\n",
      "Epoch 4/100\n",
      "5216/5216 [==============================] - 15s 3ms/step - loss: 0.1966 - acc: 0.9218 - val_loss: 0.7611 - val_acc: 0.5625\n",
      "Epoch 5/100\n",
      "5216/5216 [==============================] - 15s 3ms/step - loss: 0.1613 - acc: 0.9404 - val_loss: 0.9406 - val_acc: 0.5625\n",
      "Epoch 6/100\n",
      "5216/5216 [==============================] - 15s 3ms/step - loss: 0.1397 - acc: 0.9444 - val_loss: 0.6870 - val_acc: 0.6250\n",
      "Epoch 7/100\n",
      "5216/5216 [==============================] - 15s 3ms/step - loss: 0.1338 - acc: 0.9515 - val_loss: 0.3977 - val_acc: 0.8750\n",
      "Epoch 8/100\n",
      "5216/5216 [==============================] - 15s 3ms/step - loss: 0.1238 - acc: 0.9534 - val_loss: 0.7807 - val_acc: 0.6250\n",
      "Epoch 9/100\n",
      "5216/5216 [==============================] - 15s 3ms/step - loss: 0.1302 - acc: 0.9528 - val_loss: 0.9927 - val_acc: 0.5625\n",
      "Epoch 10/100\n",
      "5216/5216 [==============================] - 15s 3ms/step - loss: 0.1138 - acc: 0.9572 - val_loss: 0.8329 - val_acc: 0.5625\n",
      "Epoch 11/100\n",
      "5216/5216 [==============================] - 15s 3ms/step - loss: 0.1134 - acc: 0.9572 - val_loss: 0.5090 - val_acc: 0.7500\n",
      "Epoch 12/100\n",
      "5216/5216 [==============================] - 15s 3ms/step - loss: 0.1000 - acc: 0.9649 - val_loss: 0.4285 - val_acc: 0.8125\n",
      "Epoch 13/100\n",
      "5216/5216 [==============================] - 15s 3ms/step - loss: 0.0994 - acc: 0.9626 - val_loss: 0.7320 - val_acc: 0.6250\n",
      "Epoch 14/100\n",
      "5216/5216 [==============================] - 15s 3ms/step - loss: 0.0927 - acc: 0.9668 - val_loss: 0.7673 - val_acc: 0.6250\n",
      "Epoch 15/100\n",
      "5216/5216 [==============================] - 15s 3ms/step - loss: 0.0954 - acc: 0.9617 - val_loss: 0.2636 - val_acc: 0.8750\n",
      "Epoch 16/100\n",
      "5216/5216 [==============================] - 15s 3ms/step - loss: 0.0894 - acc: 0.9676 - val_loss: 0.3020 - val_acc: 0.9375\n",
      "Epoch 17/100\n",
      "5216/5216 [==============================] - 15s 3ms/step - loss: 0.0881 - acc: 0.9670 - val_loss: 0.5913 - val_acc: 0.6875\n",
      "Epoch 18/100\n",
      "5216/5216 [==============================] - 15s 3ms/step - loss: 0.0877 - acc: 0.9651 - val_loss: 0.2298 - val_acc: 0.9375\n",
      "Epoch 19/100\n",
      "5216/5216 [==============================] - 16s 3ms/step - loss: 0.0810 - acc: 0.9699 - val_loss: 0.2918 - val_acc: 0.9375\n",
      "Epoch 20/100\n",
      "5216/5216 [==============================] - 16s 3ms/step - loss: 0.0806 - acc: 0.9695 - val_loss: 0.3136 - val_acc: 0.8750\n",
      "Epoch 21/100\n",
      "5216/5216 [==============================] - 15s 3ms/step - loss: 0.0760 - acc: 0.9707 - val_loss: 0.7093 - val_acc: 0.6250\n",
      "Epoch 22/100\n",
      "5216/5216 [==============================] - 15s 3ms/step - loss: 0.0764 - acc: 0.9724 - val_loss: 0.6781 - val_acc: 0.6875\n",
      "Epoch 23/100\n",
      "5216/5216 [==============================] - 15s 3ms/step - loss: 0.0766 - acc: 0.9718 - val_loss: 0.2198 - val_acc: 0.9375\n",
      "Epoch 24/100\n",
      "5216/5216 [==============================] - 15s 3ms/step - loss: 0.0757 - acc: 0.9720 - val_loss: 0.3693 - val_acc: 0.8125\n",
      "Epoch 25/100\n",
      "5216/5216 [==============================] - 15s 3ms/step - loss: 0.0738 - acc: 0.9720 - val_loss: 0.2953 - val_acc: 0.8750\n",
      "Epoch 26/100\n",
      "5216/5216 [==============================] - 15s 3ms/step - loss: 0.0731 - acc: 0.9743 - val_loss: 0.7964 - val_acc: 0.6250\n",
      "Epoch 27/100\n",
      "5216/5216 [==============================] - 15s 3ms/step - loss: 0.0707 - acc: 0.9747 - val_loss: 0.3370 - val_acc: 0.8125\n",
      "Epoch 28/100\n",
      "5216/5216 [==============================] - 15s 3ms/step - loss: 0.0715 - acc: 0.9722 - val_loss: 0.2053 - val_acc: 0.9375\n",
      "Epoch 29/100\n",
      "5216/5216 [==============================] - 15s 3ms/step - loss: 0.0631 - acc: 0.9776 - val_loss: 0.1528 - val_acc: 0.9375\n",
      "Epoch 30/100\n",
      "5216/5216 [==============================] - 15s 3ms/step - loss: 0.0639 - acc: 0.9766 - val_loss: 0.3979 - val_acc: 0.8125\n",
      "Epoch 31/100\n",
      "5216/5216 [==============================] - 15s 3ms/step - loss: 0.0626 - acc: 0.9776 - val_loss: 0.1641 - val_acc: 0.9375\n",
      "Epoch 32/100\n",
      "5216/5216 [==============================] - 15s 3ms/step - loss: 0.0619 - acc: 0.9762 - val_loss: 0.5244 - val_acc: 0.7500\n",
      "Epoch 33/100\n",
      "5216/5216 [==============================] - 15s 3ms/step - loss: 0.0590 - acc: 0.9793 - val_loss: 0.3072 - val_acc: 0.9375\n",
      "Epoch 34/100\n",
      "5216/5216 [==============================] - 16s 3ms/step - loss: 0.0577 - acc: 0.9795 - val_loss: 0.4824 - val_acc: 0.7500\n",
      "Epoch 35/100\n",
      "5216/5216 [==============================] - 15s 3ms/step - loss: 0.0597 - acc: 0.9783 - val_loss: 0.2751 - val_acc: 0.9375\n",
      "Epoch 36/100\n",
      "5216/5216 [==============================] - 15s 3ms/step - loss: 0.0554 - acc: 0.9785 - val_loss: 0.1089 - val_acc: 0.9375\n",
      "Epoch 37/100\n",
      "5216/5216 [==============================] - 15s 3ms/step - loss: 0.0526 - acc: 0.9814 - val_loss: 0.2812 - val_acc: 0.8750\n",
      "Epoch 38/100\n",
      "5216/5216 [==============================] - 15s 3ms/step - loss: 0.0547 - acc: 0.9799 - val_loss: 0.4450 - val_acc: 0.7500\n",
      "Epoch 39/100\n",
      "5216/5216 [==============================] - 15s 3ms/step - loss: 0.0519 - acc: 0.9818 - val_loss: 0.2137 - val_acc: 0.9375\n",
      "Epoch 40/100\n",
      "5216/5216 [==============================] - 16s 3ms/step - loss: 0.0493 - acc: 0.9816 - val_loss: 0.1026 - val_acc: 1.0000\n",
      "Epoch 41/100\n",
      "5216/5216 [==============================] - 15s 3ms/step - loss: 0.0519 - acc: 0.9803 - val_loss: 0.1386 - val_acc: 0.9375\n",
      "Epoch 42/100\n",
      "5216/5216 [==============================] - 16s 3ms/step - loss: 0.0472 - acc: 0.9839 - val_loss: 0.1417 - val_acc: 0.9375\n",
      "Epoch 43/100\n",
      "5216/5216 [==============================] - 16s 3ms/step - loss: 0.0436 - acc: 0.9833 - val_loss: 0.5906 - val_acc: 0.6875\n",
      "Epoch 44/100\n",
      "5216/5216 [==============================] - 16s 3ms/step - loss: 0.0488 - acc: 0.9810 - val_loss: 1.5263 - val_acc: 0.5625\n",
      "Epoch 45/100\n",
      "5216/5216 [==============================] - 15s 3ms/step - loss: 0.0439 - acc: 0.9843 - val_loss: 0.2130 - val_acc: 0.9375\n",
      "Epoch 46/100\n",
      "5216/5216 [==============================] - 16s 3ms/step - loss: 0.0429 - acc: 0.9862 - val_loss: 0.2227 - val_acc: 0.8750\n",
      "Epoch 47/100\n",
      "5216/5216 [==============================] - 16s 3ms/step - loss: 0.0424 - acc: 0.9847 - val_loss: 0.1042 - val_acc: 1.0000\n",
      "Epoch 48/100\n",
      "5216/5216 [==============================] - 16s 3ms/step - loss: 0.0408 - acc: 0.9858 - val_loss: 0.0817 - val_acc: 1.0000\n",
      "Epoch 49/100\n",
      "5216/5216 [==============================] - 16s 3ms/step - loss: 0.0383 - acc: 0.9866 - val_loss: 0.1442 - val_acc: 0.9375\n",
      "Epoch 50/100\n",
      "5216/5216 [==============================] - 16s 3ms/step - loss: 0.0393 - acc: 0.9864 - val_loss: 0.1562 - val_acc: 0.8750\n",
      "Epoch 51/100\n",
      "5216/5216 [==============================] - 16s 3ms/step - loss: 0.0372 - acc: 0.9862 - val_loss: 0.1188 - val_acc: 0.9375\n",
      "Epoch 52/100\n",
      "5216/5216 [==============================] - 16s 3ms/step - loss: 0.0357 - acc: 0.9864 - val_loss: 0.0565 - val_acc: 1.0000\n",
      "Epoch 53/100\n",
      "5216/5216 [==============================] - 16s 3ms/step - loss: 0.0342 - acc: 0.9883 - val_loss: 0.2488 - val_acc: 0.8125\n",
      "Epoch 54/100\n",
      "5216/5216 [==============================] - 16s 3ms/step - loss: 0.0347 - acc: 0.9875 - val_loss: 0.5327 - val_acc: 0.6875\n",
      "Epoch 55/100\n",
      "5216/5216 [==============================] - 16s 3ms/step - loss: 0.0313 - acc: 0.9895 - val_loss: 0.2444 - val_acc: 0.8125\n",
      "Epoch 56/100\n",
      "5216/5216 [==============================] - 16s 3ms/step - loss: 0.0304 - acc: 0.9889 - val_loss: 0.1100 - val_acc: 0.9375\n",
      "Epoch 57/100\n",
      "5216/5216 [==============================] - 16s 3ms/step - loss: 0.0310 - acc: 0.9885 - val_loss: 0.1662 - val_acc: 0.9375\n",
      "Epoch 58/100\n",
      "5216/5216 [==============================] - 16s 3ms/step - loss: 0.0251 - acc: 0.9931 - val_loss: 0.2095 - val_acc: 0.9375\n",
      "Epoch 59/100\n",
      "5216/5216 [==============================] - 16s 3ms/step - loss: 0.0297 - acc: 0.9891 - val_loss: 0.2526 - val_acc: 0.7500\n",
      "Epoch 60/100\n",
      "5216/5216 [==============================] - 16s 3ms/step - loss: 0.0270 - acc: 0.9916 - val_loss: 0.5953 - val_acc: 0.6875\n",
      "Epoch 61/100\n",
      "5216/5216 [==============================] - 16s 3ms/step - loss: 0.0250 - acc: 0.9910 - val_loss: 0.2377 - val_acc: 0.8750\n",
      "Epoch 62/100\n",
      "5216/5216 [==============================] - 16s 3ms/step - loss: 0.0226 - acc: 0.9937 - val_loss: 0.2561 - val_acc: 0.8125\n",
      "Epoch 63/100\n",
      "5216/5216 [==============================] - 16s 3ms/step - loss: 0.0269 - acc: 0.9923 - val_loss: 0.0842 - val_acc: 1.0000\n",
      "Epoch 64/100\n",
      "5216/5216 [==============================] - 16s 3ms/step - loss: 0.0216 - acc: 0.9931 - val_loss: 0.0745 - val_acc: 1.0000\n",
      "Epoch 65/100\n",
      "5216/5216 [==============================] - 16s 3ms/step - loss: 0.0239 - acc: 0.9918 - val_loss: 0.1814 - val_acc: 0.8750\n",
      "Epoch 66/100\n",
      "5216/5216 [==============================] - 16s 3ms/step - loss: 0.0208 - acc: 0.9939 - val_loss: 0.4918 - val_acc: 0.6875\n",
      "Epoch 67/100\n",
      "5216/5216 [==============================] - 16s 3ms/step - loss: 0.0190 - acc: 0.9937 - val_loss: 0.0519 - val_acc: 1.0000\n",
      "Epoch 68/100\n",
      "5216/5216 [==============================] - 16s 3ms/step - loss: 0.0183 - acc: 0.9937 - val_loss: 0.1733 - val_acc: 0.8750\n",
      "Epoch 69/100\n",
      "5216/5216 [==============================] - 16s 3ms/step - loss: 0.0169 - acc: 0.9941 - val_loss: 0.1258 - val_acc: 0.9375\n",
      "Epoch 70/100\n",
      "5216/5216 [==============================] - 16s 3ms/step - loss: 0.0171 - acc: 0.9939 - val_loss: 0.0580 - val_acc: 0.9375\n",
      "Epoch 71/100\n",
      "5216/5216 [==============================] - 16s 3ms/step - loss: 0.0169 - acc: 0.9946 - val_loss: 0.4117 - val_acc: 0.7500\n",
      "Epoch 72/100\n",
      "5216/5216 [==============================] - 16s 3ms/step - loss: 0.0140 - acc: 0.9965 - val_loss: 0.1221 - val_acc: 0.9375\n",
      "Epoch 73/100\n",
      "5216/5216 [==============================] - 16s 3ms/step - loss: 0.0156 - acc: 0.9964 - val_loss: 0.1499 - val_acc: 0.9375\n",
      "Epoch 74/100\n",
      "5216/5216 [==============================] - 16s 3ms/step - loss: 0.0156 - acc: 0.9960 - val_loss: 0.1727 - val_acc: 0.8750\n",
      "Epoch 75/100\n",
      "5216/5216 [==============================] - 16s 3ms/step - loss: 0.0144 - acc: 0.9958 - val_loss: 1.5174 - val_acc: 0.5625\n",
      "Epoch 76/100\n",
      "5216/5216 [==============================] - 16s 3ms/step - loss: 0.0147 - acc: 0.9960 - val_loss: 0.1164 - val_acc: 1.0000\n",
      "Epoch 77/100\n",
      "5216/5216 [==============================] - 16s 3ms/step - loss: 0.0099 - acc: 0.9977 - val_loss: 0.0464 - val_acc: 1.0000\n",
      "Epoch 78/100\n",
      "5216/5216 [==============================] - 16s 3ms/step - loss: 0.0101 - acc: 0.9979 - val_loss: 0.0936 - val_acc: 0.9375\n",
      "Epoch 79/100\n",
      "5216/5216 [==============================] - 16s 3ms/step - loss: 0.0088 - acc: 0.9983 - val_loss: 0.0702 - val_acc: 0.9375\n",
      "Epoch 80/100\n",
      "5216/5216 [==============================] - 16s 3ms/step - loss: 0.0105 - acc: 0.9977 - val_loss: 0.0482 - val_acc: 1.0000\n",
      "Epoch 81/100\n",
      "5216/5216 [==============================] - 16s 3ms/step - loss: 0.0067 - acc: 0.9994 - val_loss: 0.1246 - val_acc: 0.9375\n",
      "Epoch 82/100\n",
      "5216/5216 [==============================] - 16s 3ms/step - loss: 0.0076 - acc: 0.9987 - val_loss: 0.0927 - val_acc: 1.0000\n",
      "Epoch 83/100\n",
      "5216/5216 [==============================] - 16s 3ms/step - loss: 0.0080 - acc: 0.9981 - val_loss: 0.2517 - val_acc: 0.8750\n",
      "Epoch 84/100\n",
      "5216/5216 [==============================] - 16s 3ms/step - loss: 0.0067 - acc: 0.9988 - val_loss: 0.0746 - val_acc: 1.0000\n",
      "Epoch 85/100\n",
      "5216/5216 [==============================] - 16s 3ms/step - loss: 0.0054 - acc: 0.9994 - val_loss: 0.3092 - val_acc: 0.8750\n",
      "Epoch 86/100\n",
      "5216/5216 [==============================] - 16s 3ms/step - loss: 0.0062 - acc: 0.9987 - val_loss: 0.0914 - val_acc: 0.9375\n",
      "Epoch 87/100\n",
      "5216/5216 [==============================] - 16s 3ms/step - loss: 0.0048 - acc: 0.9996 - val_loss: 0.0700 - val_acc: 1.0000\n",
      "Epoch 88/100\n",
      "5216/5216 [==============================] - 16s 3ms/step - loss: 0.0056 - acc: 0.9996 - val_loss: 0.3909 - val_acc: 0.8125\n",
      "Epoch 89/100\n",
      "5216/5216 [==============================] - 16s 3ms/step - loss: 0.0057 - acc: 0.9990 - val_loss: 0.1450 - val_acc: 0.9375\n",
      "Epoch 90/100\n",
      "5216/5216 [==============================] - 16s 3ms/step - loss: 0.0046 - acc: 0.9990 - val_loss: 0.0865 - val_acc: 0.9375\n",
      "Epoch 91/100\n",
      "5216/5216 [==============================] - 16s 3ms/step - loss: 0.0044 - acc: 0.9996 - val_loss: 0.0561 - val_acc: 1.0000\n",
      "Epoch 92/100\n",
      "5216/5216 [==============================] - 16s 3ms/step - loss: 0.0035 - acc: 0.9996 - val_loss: 0.1179 - val_acc: 0.9375\n",
      "Epoch 93/100\n",
      "5216/5216 [==============================] - 16s 3ms/step - loss: 0.0045 - acc: 0.9992 - val_loss: 0.0602 - val_acc: 1.0000\n",
      "Epoch 94/100\n",
      "5216/5216 [==============================] - 16s 3ms/step - loss: 0.0028 - acc: 1.0000 - val_loss: 0.0564 - val_acc: 1.0000\n",
      "Epoch 95/100\n",
      "5216/5216 [==============================] - 16s 3ms/step - loss: 0.0029 - acc: 1.0000 - val_loss: 0.1552 - val_acc: 0.8750\n",
      "Epoch 96/100\n",
      "5216/5216 [==============================] - 16s 3ms/step - loss: 0.0028 - acc: 1.0000 - val_loss: 0.0896 - val_acc: 0.9375\n",
      "Epoch 97/100\n",
      "5216/5216 [==============================] - 16s 3ms/step - loss: 0.0024 - acc: 1.0000 - val_loss: 0.1047 - val_acc: 0.9375\n",
      "Epoch 98/100\n",
      "5216/5216 [==============================] - 16s 3ms/step - loss: 0.0023 - acc: 1.0000 - val_loss: 0.0668 - val_acc: 0.9375\n",
      "Epoch 99/100\n",
      "5216/5216 [==============================] - 16s 3ms/step - loss: 0.0023 - acc: 1.0000 - val_loss: 0.0361 - val_acc: 1.0000\n",
      "Epoch 100/100\n",
      "5216/5216 [==============================] - 16s 3ms/step - loss: 0.0023 - acc: 1.0000 - val_loss: 0.0675 - val_acc: 1.0000\n"
     ]
    }
   ],
   "source": [
    "history_17 = model_17.fit(train_images_6,\n",
    "                    train_y_6,\n",
    "                    epochs=100,\n",
    "                    batch_size=50,\n",
    "                    validation_data=(val_images_6, val_y_6))"
   ]
  },
  {
   "cell_type": "code",
   "execution_count": 80,
   "metadata": {},
   "outputs": [
    {
     "name": "stdout",
     "output_type": "stream",
     "text": [
      "624/624 [==============================] - 1s 1ms/step\n"
     ]
    },
    {
     "data": {
      "text/plain": [
       "[2.3551576840571866, 0.7580128312110901]"
      ]
     },
     "execution_count": 80,
     "metadata": {},
     "output_type": "execute_result"
    }
   ],
   "source": [
    "results_17 = model_17.evaluate(test_images_6, test_y_6)\n",
    "results_17"
   ]
  },
  {
   "cell_type": "markdown",
   "metadata": {},
   "source": [
    "# Model 7: 512  (Too big, doesn't run)"
   ]
  },
  {
   "cell_type": "code",
   "execution_count": 4,
   "metadata": {},
   "outputs": [
    {
     "name": "stdout",
     "output_type": "stream",
     "text": [
      "Found 5216 images belonging to 2 classes.\n",
      "Found 624 images belonging to 2 classes.\n",
      "Found 16 images belonging to 2 classes.\n"
     ]
    }
   ],
   "source": [
    "train_generator_7 = ImageDataGenerator(rescale=1./255).flow_from_directory(train_folder, target_size=(512, 512), batch_size= 5218)\n",
    "\n",
    "test_generator_7 = ImageDataGenerator(rescale=1./255).flow_from_directory(test_folder, target_size=(512, 512), batch_size = 624) \n",
    "\n",
    "val_generator_7 = ImageDataGenerator(rescale=1./255).flow_from_directory(val_folder, target_size=(512, 512), batch_size = 18)"
   ]
  },
  {
   "cell_type": "code",
   "execution_count": 5,
   "metadata": {},
   "outputs": [],
   "source": [
    "train_images_7, train_labels_7 = next(train_generator_7)\n",
    "test_images_7, test_labels_7 = next(test_generator_7)\n",
    "val_images_7, val_labels_7 = next(val_generator_7)"
   ]
  },
  {
   "cell_type": "code",
   "execution_count": 6,
   "metadata": {},
   "outputs": [],
   "source": [
    "train_y_7 = np.reshape(train_labels_7[:,0], (5216,1))\n",
    "test_y_7 = np.reshape(test_labels_7[:,0], (624,1))\n",
    "val_y_7 = np.reshape(val_labels_7[:,0], (16,1))"
   ]
  },
  {
   "cell_type": "code",
   "execution_count": 11,
   "metadata": {},
   "outputs": [],
   "source": [
    "model_7 = models.Sequential()\n",
    "model_7.add(layers.Conv2D(32, (3, 3), activation='relu', input_shape=(512, 512, 3)))\n",
    "model_7.add(layers.MaxPooling2D((2, 2)))\n",
    "\n",
    "model_7.add(layers.Conv2D(32, (4, 4), activation='relu'))\n",
    "model_7.add(layers.MaxPooling2D((2, 2)))\n",
    "\n",
    "model_7.add(layers.Conv2D(64, (3, 3), activation='relu'))\n",
    "model_7.add(layers.MaxPooling2D((2, 2)))\n",
    "\n",
    "model_7.add(layers.Flatten())\n",
    "model_7.add(layers.Dense(64, activation='relu'))\n",
    "model_7.add(layers.Dense(1, activation='sigmoid'))\n",
    "\n",
    "model_7.compile(loss='binary_crossentropy',\n",
    "              optimizer=\"sgd\",\n",
    "              metrics=['acc'])"
   ]
  },
  {
   "cell_type": "code",
   "execution_count": 12,
   "metadata": {},
   "outputs": [
    {
     "name": "stdout",
     "output_type": "stream",
     "text": [
      "Train on 5216 samples, validate on 16 samples\n",
      "Epoch 1/30\n"
     ]
    },
    {
     "ename": "ResourceExhaustedError",
     "evalue": " OOM when allocating tensor with shape[50,32,510,510] and type float on /job:localhost/replica:0/task:0/device:GPU:0 by allocator GPU_0_bfc\n\t [[node conv2d_4/convolution (defined at /.local/lib/python3.6/site-packages/keras/backend/tensorflow_backend.py:3009) ]]\nHint: If you want to see a list of allocated tensors when OOM happens, add report_tensor_allocations_upon_oom to RunOptions for current allocation info.\n [Op:__inference_keras_scratch_graph_1709]\n\nFunction call stack:\nkeras_scratch_graph\n",
     "output_type": "error",
     "traceback": [
      "\u001b[0;31m---------------------------------------------------------------------------\u001b[0m",
      "\u001b[0;31mResourceExhaustedError\u001b[0m                    Traceback (most recent call last)",
      "\u001b[0;32m<ipython-input-12-359f6fdff650>\u001b[0m in \u001b[0;36m<module>\u001b[0;34m\u001b[0m\n\u001b[1;32m      3\u001b[0m                     \u001b[0mepochs\u001b[0m\u001b[0;34m=\u001b[0m\u001b[0;36m30\u001b[0m\u001b[0;34m,\u001b[0m\u001b[0;34m\u001b[0m\u001b[0;34m\u001b[0m\u001b[0m\n\u001b[1;32m      4\u001b[0m                     \u001b[0mbatch_size\u001b[0m\u001b[0;34m=\u001b[0m\u001b[0;36m50\u001b[0m\u001b[0;34m,\u001b[0m\u001b[0;34m\u001b[0m\u001b[0;34m\u001b[0m\u001b[0m\n\u001b[0;32m----> 5\u001b[0;31m                     validation_data=(val_images_7, val_y_7))\n\u001b[0m",
      "\u001b[0;32m~.local/lib/python3.6/site-packages/keras/engine/training.py\u001b[0m in \u001b[0;36mfit\u001b[0;34m(self, x, y, batch_size, epochs, verbose, callbacks, validation_split, validation_data, shuffle, class_weight, sample_weight, initial_epoch, steps_per_epoch, validation_steps, validation_freq, max_queue_size, workers, use_multiprocessing, **kwargs)\u001b[0m\n\u001b[1;32m   1237\u001b[0m                                         \u001b[0msteps_per_epoch\u001b[0m\u001b[0;34m=\u001b[0m\u001b[0msteps_per_epoch\u001b[0m\u001b[0;34m,\u001b[0m\u001b[0;34m\u001b[0m\u001b[0;34m\u001b[0m\u001b[0m\n\u001b[1;32m   1238\u001b[0m                                         \u001b[0mvalidation_steps\u001b[0m\u001b[0;34m=\u001b[0m\u001b[0mvalidation_steps\u001b[0m\u001b[0;34m,\u001b[0m\u001b[0;34m\u001b[0m\u001b[0;34m\u001b[0m\u001b[0m\n\u001b[0;32m-> 1239\u001b[0;31m                                         validation_freq=validation_freq)\n\u001b[0m\u001b[1;32m   1240\u001b[0m \u001b[0;34m\u001b[0m\u001b[0m\n\u001b[1;32m   1241\u001b[0m     def evaluate(self,\n",
      "\u001b[0;32m~.local/lib/python3.6/site-packages/keras/engine/training_arrays.py\u001b[0m in \u001b[0;36mfit_loop\u001b[0;34m(model, fit_function, fit_inputs, out_labels, batch_size, epochs, verbose, callbacks, val_function, val_inputs, shuffle, initial_epoch, steps_per_epoch, validation_steps, validation_freq)\u001b[0m\n\u001b[1;32m    194\u001b[0m                     \u001b[0mins_batch\u001b[0m\u001b[0;34m[\u001b[0m\u001b[0mi\u001b[0m\u001b[0;34m]\u001b[0m \u001b[0;34m=\u001b[0m \u001b[0mins_batch\u001b[0m\u001b[0;34m[\u001b[0m\u001b[0mi\u001b[0m\u001b[0;34m]\u001b[0m\u001b[0;34m.\u001b[0m\u001b[0mtoarray\u001b[0m\u001b[0;34m(\u001b[0m\u001b[0;34m)\u001b[0m\u001b[0;34m\u001b[0m\u001b[0;34m\u001b[0m\u001b[0m\n\u001b[1;32m    195\u001b[0m \u001b[0;34m\u001b[0m\u001b[0m\n\u001b[0;32m--> 196\u001b[0;31m                 \u001b[0mouts\u001b[0m \u001b[0;34m=\u001b[0m \u001b[0mfit_function\u001b[0m\u001b[0;34m(\u001b[0m\u001b[0mins_batch\u001b[0m\u001b[0;34m)\u001b[0m\u001b[0;34m\u001b[0m\u001b[0;34m\u001b[0m\u001b[0m\n\u001b[0m\u001b[1;32m    197\u001b[0m                 \u001b[0mouts\u001b[0m \u001b[0;34m=\u001b[0m \u001b[0mto_list\u001b[0m\u001b[0;34m(\u001b[0m\u001b[0mouts\u001b[0m\u001b[0;34m)\u001b[0m\u001b[0;34m\u001b[0m\u001b[0;34m\u001b[0m\u001b[0m\n\u001b[1;32m    198\u001b[0m                 \u001b[0;32mfor\u001b[0m \u001b[0ml\u001b[0m\u001b[0;34m,\u001b[0m \u001b[0mo\u001b[0m \u001b[0;32min\u001b[0m \u001b[0mzip\u001b[0m\u001b[0;34m(\u001b[0m\u001b[0mout_labels\u001b[0m\u001b[0;34m,\u001b[0m \u001b[0mouts\u001b[0m\u001b[0;34m)\u001b[0m\u001b[0;34m:\u001b[0m\u001b[0;34m\u001b[0m\u001b[0;34m\u001b[0m\u001b[0m\n",
      "\u001b[0;32m~usr/local/lib/python3.6/dist-packages/tensorflow_core/python/keras/backend.py\u001b[0m in \u001b[0;36m__call__\u001b[0;34m(self, inputs)\u001b[0m\n\u001b[1;32m   3725\u001b[0m         \u001b[0mvalue\u001b[0m \u001b[0;34m=\u001b[0m \u001b[0mmath_ops\u001b[0m\u001b[0;34m.\u001b[0m\u001b[0mcast\u001b[0m\u001b[0;34m(\u001b[0m\u001b[0mvalue\u001b[0m\u001b[0;34m,\u001b[0m \u001b[0mtensor\u001b[0m\u001b[0;34m.\u001b[0m\u001b[0mdtype\u001b[0m\u001b[0;34m)\u001b[0m\u001b[0;34m\u001b[0m\u001b[0;34m\u001b[0m\u001b[0m\n\u001b[1;32m   3726\u001b[0m       \u001b[0mconverted_inputs\u001b[0m\u001b[0;34m.\u001b[0m\u001b[0mappend\u001b[0m\u001b[0;34m(\u001b[0m\u001b[0mvalue\u001b[0m\u001b[0;34m)\u001b[0m\u001b[0;34m\u001b[0m\u001b[0;34m\u001b[0m\u001b[0m\n\u001b[0;32m-> 3727\u001b[0;31m     \u001b[0moutputs\u001b[0m \u001b[0;34m=\u001b[0m \u001b[0mself\u001b[0m\u001b[0;34m.\u001b[0m\u001b[0m_graph_fn\u001b[0m\u001b[0;34m(\u001b[0m\u001b[0;34m*\u001b[0m\u001b[0mconverted_inputs\u001b[0m\u001b[0;34m)\u001b[0m\u001b[0;34m\u001b[0m\u001b[0;34m\u001b[0m\u001b[0m\n\u001b[0m\u001b[1;32m   3728\u001b[0m \u001b[0;34m\u001b[0m\u001b[0m\n\u001b[1;32m   3729\u001b[0m     \u001b[0;31m# EagerTensor.numpy() will often make a copy to ensure memory safety.\u001b[0m\u001b[0;34m\u001b[0m\u001b[0;34m\u001b[0m\u001b[0;34m\u001b[0m\u001b[0m\n",
      "\u001b[0;32m~usr/local/lib/python3.6/dist-packages/tensorflow_core/python/eager/function.py\u001b[0m in \u001b[0;36m__call__\u001b[0;34m(self, *args, **kwargs)\u001b[0m\n\u001b[1;32m   1549\u001b[0m       \u001b[0mTypeError\u001b[0m\u001b[0;34m:\u001b[0m \u001b[0mFor\u001b[0m \u001b[0minvalid\u001b[0m \u001b[0mpositional\u001b[0m\u001b[0;34m/\u001b[0m\u001b[0mkeyword\u001b[0m \u001b[0margument\u001b[0m \u001b[0mcombinations\u001b[0m\u001b[0;34m.\u001b[0m\u001b[0;34m\u001b[0m\u001b[0;34m\u001b[0m\u001b[0m\n\u001b[1;32m   1550\u001b[0m     \"\"\"\n\u001b[0;32m-> 1551\u001b[0;31m     \u001b[0;32mreturn\u001b[0m \u001b[0mself\u001b[0m\u001b[0;34m.\u001b[0m\u001b[0m_call_impl\u001b[0m\u001b[0;34m(\u001b[0m\u001b[0margs\u001b[0m\u001b[0;34m,\u001b[0m \u001b[0mkwargs\u001b[0m\u001b[0;34m)\u001b[0m\u001b[0;34m\u001b[0m\u001b[0;34m\u001b[0m\u001b[0m\n\u001b[0m\u001b[1;32m   1552\u001b[0m \u001b[0;34m\u001b[0m\u001b[0m\n\u001b[1;32m   1553\u001b[0m   \u001b[0;32mdef\u001b[0m \u001b[0m_call_impl\u001b[0m\u001b[0;34m(\u001b[0m\u001b[0mself\u001b[0m\u001b[0;34m,\u001b[0m \u001b[0margs\u001b[0m\u001b[0;34m,\u001b[0m \u001b[0mkwargs\u001b[0m\u001b[0;34m,\u001b[0m \u001b[0mcancellation_manager\u001b[0m\u001b[0;34m=\u001b[0m\u001b[0;32mNone\u001b[0m\u001b[0;34m)\u001b[0m\u001b[0;34m:\u001b[0m\u001b[0;34m\u001b[0m\u001b[0;34m\u001b[0m\u001b[0m\n",
      "\u001b[0;32m~usr/local/lib/python3.6/dist-packages/tensorflow_core/python/eager/function.py\u001b[0m in \u001b[0;36m_call_impl\u001b[0;34m(self, args, kwargs, cancellation_manager)\u001b[0m\n\u001b[1;32m   1589\u001b[0m       raise TypeError(\"Keyword arguments {} unknown. Expected {}.\".format(\n\u001b[1;32m   1590\u001b[0m           list(kwargs.keys()), list(self._arg_keywords)))\n\u001b[0;32m-> 1591\u001b[0;31m     \u001b[0;32mreturn\u001b[0m \u001b[0mself\u001b[0m\u001b[0;34m.\u001b[0m\u001b[0m_call_flat\u001b[0m\u001b[0;34m(\u001b[0m\u001b[0margs\u001b[0m\u001b[0;34m,\u001b[0m \u001b[0mself\u001b[0m\u001b[0;34m.\u001b[0m\u001b[0mcaptured_inputs\u001b[0m\u001b[0;34m,\u001b[0m \u001b[0mcancellation_manager\u001b[0m\u001b[0;34m)\u001b[0m\u001b[0;34m\u001b[0m\u001b[0;34m\u001b[0m\u001b[0m\n\u001b[0m\u001b[1;32m   1592\u001b[0m \u001b[0;34m\u001b[0m\u001b[0m\n\u001b[1;32m   1593\u001b[0m   \u001b[0;32mdef\u001b[0m \u001b[0m_filtered_call\u001b[0m\u001b[0;34m(\u001b[0m\u001b[0mself\u001b[0m\u001b[0;34m,\u001b[0m \u001b[0margs\u001b[0m\u001b[0;34m,\u001b[0m \u001b[0mkwargs\u001b[0m\u001b[0;34m)\u001b[0m\u001b[0;34m:\u001b[0m\u001b[0;34m\u001b[0m\u001b[0;34m\u001b[0m\u001b[0m\n",
      "\u001b[0;32m~usr/local/lib/python3.6/dist-packages/tensorflow_core/python/eager/function.py\u001b[0m in \u001b[0;36m_call_flat\u001b[0;34m(self, args, captured_inputs, cancellation_manager)\u001b[0m\n\u001b[1;32m   1690\u001b[0m       \u001b[0;31m# No tape is watching; skip to running the function.\u001b[0m\u001b[0;34m\u001b[0m\u001b[0;34m\u001b[0m\u001b[0;34m\u001b[0m\u001b[0m\n\u001b[1;32m   1691\u001b[0m       return self._build_call_outputs(self._inference_function.call(\n\u001b[0;32m-> 1692\u001b[0;31m           ctx, args, cancellation_manager=cancellation_manager))\n\u001b[0m\u001b[1;32m   1693\u001b[0m     forward_backward = self._select_forward_and_backward_functions(\n\u001b[1;32m   1694\u001b[0m         \u001b[0margs\u001b[0m\u001b[0;34m,\u001b[0m\u001b[0;34m\u001b[0m\u001b[0;34m\u001b[0m\u001b[0m\n",
      "\u001b[0;32m~usr/local/lib/python3.6/dist-packages/tensorflow_core/python/eager/function.py\u001b[0m in \u001b[0;36mcall\u001b[0;34m(self, ctx, args, cancellation_manager)\u001b[0m\n\u001b[1;32m    543\u001b[0m               \u001b[0minputs\u001b[0m\u001b[0;34m=\u001b[0m\u001b[0margs\u001b[0m\u001b[0;34m,\u001b[0m\u001b[0;34m\u001b[0m\u001b[0;34m\u001b[0m\u001b[0m\n\u001b[1;32m    544\u001b[0m               \u001b[0mattrs\u001b[0m\u001b[0;34m=\u001b[0m\u001b[0;34m(\u001b[0m\u001b[0;34m\"executor_type\"\u001b[0m\u001b[0;34m,\u001b[0m \u001b[0mexecutor_type\u001b[0m\u001b[0;34m,\u001b[0m \u001b[0;34m\"config_proto\"\u001b[0m\u001b[0;34m,\u001b[0m \u001b[0mconfig\u001b[0m\u001b[0;34m)\u001b[0m\u001b[0;34m,\u001b[0m\u001b[0;34m\u001b[0m\u001b[0;34m\u001b[0m\u001b[0m\n\u001b[0;32m--> 545\u001b[0;31m               ctx=ctx)\n\u001b[0m\u001b[1;32m    546\u001b[0m         \u001b[0;32melse\u001b[0m\u001b[0;34m:\u001b[0m\u001b[0;34m\u001b[0m\u001b[0;34m\u001b[0m\u001b[0m\n\u001b[1;32m    547\u001b[0m           outputs = execute.execute_with_cancellation(\n",
      "\u001b[0;32m~usr/local/lib/python3.6/dist-packages/tensorflow_core/python/eager/execute.py\u001b[0m in \u001b[0;36mquick_execute\u001b[0;34m(op_name, num_outputs, inputs, attrs, ctx, name)\u001b[0m\n\u001b[1;32m     65\u001b[0m     \u001b[0;32melse\u001b[0m\u001b[0;34m:\u001b[0m\u001b[0;34m\u001b[0m\u001b[0;34m\u001b[0m\u001b[0m\n\u001b[1;32m     66\u001b[0m       \u001b[0mmessage\u001b[0m \u001b[0;34m=\u001b[0m \u001b[0me\u001b[0m\u001b[0;34m.\u001b[0m\u001b[0mmessage\u001b[0m\u001b[0;34m\u001b[0m\u001b[0;34m\u001b[0m\u001b[0m\n\u001b[0;32m---> 67\u001b[0;31m     \u001b[0msix\u001b[0m\u001b[0;34m.\u001b[0m\u001b[0mraise_from\u001b[0m\u001b[0;34m(\u001b[0m\u001b[0mcore\u001b[0m\u001b[0;34m.\u001b[0m\u001b[0m_status_to_exception\u001b[0m\u001b[0;34m(\u001b[0m\u001b[0me\u001b[0m\u001b[0;34m.\u001b[0m\u001b[0mcode\u001b[0m\u001b[0;34m,\u001b[0m \u001b[0mmessage\u001b[0m\u001b[0;34m)\u001b[0m\u001b[0;34m,\u001b[0m \u001b[0;32mNone\u001b[0m\u001b[0;34m)\u001b[0m\u001b[0;34m\u001b[0m\u001b[0;34m\u001b[0m\u001b[0m\n\u001b[0m\u001b[1;32m     68\u001b[0m   \u001b[0;32mexcept\u001b[0m \u001b[0mTypeError\u001b[0m \u001b[0;32mas\u001b[0m \u001b[0me\u001b[0m\u001b[0;34m:\u001b[0m\u001b[0;34m\u001b[0m\u001b[0;34m\u001b[0m\u001b[0m\n\u001b[1;32m     69\u001b[0m     keras_symbolic_tensors = [\n",
      "\u001b[0;32m~usr/local/lib/python3.6/dist-packages/six.py\u001b[0m in \u001b[0;36mraise_from\u001b[0;34m(value, from_value)\u001b[0m\n",
      "\u001b[0;31mResourceExhaustedError\u001b[0m:  OOM when allocating tensor with shape[50,32,510,510] and type float on /job:localhost/replica:0/task:0/device:GPU:0 by allocator GPU_0_bfc\n\t [[node conv2d_4/convolution (defined at /.local/lib/python3.6/site-packages/keras/backend/tensorflow_backend.py:3009) ]]\nHint: If you want to see a list of allocated tensors when OOM happens, add report_tensor_allocations_upon_oom to RunOptions for current allocation info.\n [Op:__inference_keras_scratch_graph_1709]\n\nFunction call stack:\nkeras_scratch_graph\n"
     ]
    }
   ],
   "source": [
    "history_7 = model_7.fit(train_images_7,\n",
    "                    train_y_7,\n",
    "                    epochs=30,\n",
    "                    batch_size=50,\n",
    "                    validation_data=(val_images_7, val_y_7))"
   ]
  },
  {
   "cell_type": "code",
   "execution_count": null,
   "metadata": {},
   "outputs": [],
   "source": [
    "results_7 = model_7.evaluate(test_images_7, test_y_7)\n",
    "results_7"
   ]
  },
  {
   "cell_type": "code",
   "execution_count": null,
   "metadata": {},
   "outputs": [],
   "source": [
    "plot_history(history_7)"
   ]
  },
  {
   "cell_type": "markdown",
   "metadata": {},
   "source": [
    "### End Augmentation-Free Models"
   ]
  },
  {
   "cell_type": "code",
   "execution_count": 31,
   "metadata": {},
   "outputs": [
    {
     "name": "stdout",
     "output_type": "stream",
     "text": [
      "CPU times: user 46 µs, sys: 4 µs, total: 50 µs\n",
      "Wall time: 56.3 µs\n"
     ]
    }
   ],
   "source": [
    "%%time\n",
    "train_datagen = ImageDataGenerator(rescale=1./255, \n",
    "                                   rotation_range=40, \n",
    "                                   width_shift_range=0.2, \n",
    "                                   height_shift_range=0.2, \n",
    "                                   shear_range=0.3, \n",
    "                                   zoom_range=0.1, \n",
    "                                   horizontal_flip=False)"
   ]
  },
  {
   "cell_type": "code",
   "execution_count": 80,
   "metadata": {},
   "outputs": [
    {
     "name": "stdout",
     "output_type": "stream",
     "text": [
      "Found 5216 images belonging to 2 classes.\n",
      "Found 624 images belonging to 2 classes.\n",
      "Found 16 images belonging to 2 classes.\n"
     ]
    }
   ],
   "source": [
    "train_generator_2 = train_datagen.flow_from_directory(\n",
    "        train_folder, \n",
    "        target_size=(64, 64), \n",
    "        batch_size = 32, \n",
    "        class_mode='binary')\n",
    "\n",
    "test_generator_2 = ImageDataGenerator(rescale=1./255).flow_from_directory(\n",
    "        test_folder, \n",
    "        target_size=(64, 64), \n",
    "        batch_size = 32,\n",
    "        class_mode='binary') \n",
    "\n",
    "val_generator_2 = ImageDataGenerator(rescale=1./255).flow_from_directory(\n",
    "        val_folder, \n",
    "        target_size=(64, 64),\n",
    "        batch_size = 32,\n",
    "        class_mode='binary')\n"
   ]
  },
  {
   "cell_type": "code",
   "execution_count": 81,
   "metadata": {},
   "outputs": [],
   "source": [
    "model_2 = models.Sequential()\n",
    "model_2.add(layers.Conv2D(32, (3, 3), activation='relu',\n",
    "                        input_shape=(64, 64, 3)))\n",
    "model_2.add(layers.MaxPooling2D((2, 2)))\n",
    "\n",
    "model_2.add(layers.Conv2D(32, (4, 4), activation='relu'))\n",
    "model_2.add(layers.MaxPooling2D((2, 2)))\n",
    "\n",
    "model_2.add(layers.Conv2D(64, (3, 3), activation='relu'))\n",
    "model_2.add(layers.MaxPooling2D((2, 2)))\n",
    "\n",
    "model_2.add(layers.Flatten())\n",
    "model_2.add(layers.Dense(64, activation='relu'))\n",
    "model_2.add(layers.Dense(1, activation='sigmoid'))\n",
    "\n",
    "model_2.compile(loss='binary_crossentropy',\n",
    "              optimizer= 'sgd',\n",
    "              metrics=['acc'])"
   ]
  },
  {
   "cell_type": "code",
   "execution_count": 82,
   "metadata": {
    "scrolled": true
   },
   "outputs": [
    {
     "name": "stdout",
     "output_type": "stream",
     "text": [
      "Epoch 1/30\n",
      "25/25 [==============================] - 12s 487ms/step - loss: 0.5942 - acc: 0.7400 - val_loss: 0.8696 - val_acc: 0.5000\n",
      "Epoch 2/30\n",
      "25/25 [==============================] - 9s 358ms/step - loss: 0.5817 - acc: 0.7400 - val_loss: 0.8673 - val_acc: 0.5000\n",
      "Epoch 3/30\n",
      "25/25 [==============================] - 9s 369ms/step - loss: 0.5665 - acc: 0.7525 - val_loss: 0.8774 - val_acc: 0.5000\n",
      "Epoch 4/30\n",
      "25/25 [==============================] - 9s 365ms/step - loss: 0.5925 - acc: 0.7275 - val_loss: 0.8063 - val_acc: 0.5000\n",
      "Epoch 5/30\n",
      "25/25 [==============================] - 9s 369ms/step - loss: 0.5876 - acc: 0.7250 - val_loss: 0.8318 - val_acc: 0.5000\n",
      "Epoch 6/30\n",
      "25/25 [==============================] - 9s 361ms/step - loss: 0.5759 - acc: 0.7437 - val_loss: 0.8303 - val_acc: 0.5000\n",
      "Epoch 7/30\n",
      "25/25 [==============================] - 9s 362ms/step - loss: 0.5635 - acc: 0.7538 - val_loss: 0.8201 - val_acc: 0.5000\n",
      "Epoch 8/30\n",
      "25/25 [==============================] - 9s 369ms/step - loss: 0.5878 - acc: 0.7262 - val_loss: 0.7844 - val_acc: 0.5000\n",
      "Epoch 9/30\n",
      "25/25 [==============================] - 9s 353ms/step - loss: 0.5853 - acc: 0.7262 - val_loss: 0.7575 - val_acc: 0.5000\n",
      "Epoch 10/30\n",
      "25/25 [==============================] - 9s 361ms/step - loss: 0.5585 - acc: 0.7550 - val_loss: 0.8589 - val_acc: 0.5000\n",
      "Epoch 11/30\n",
      "25/25 [==============================] - 9s 362ms/step - loss: 0.5578 - acc: 0.7513 - val_loss: 0.8921 - val_acc: 0.5000\n",
      "Epoch 12/30\n",
      "25/25 [==============================] - 9s 366ms/step - loss: 0.5652 - acc: 0.7475 - val_loss: 0.8730 - val_acc: 0.5000\n",
      "Epoch 13/30\n",
      "25/25 [==============================] - 9s 369ms/step - loss: 0.5585 - acc: 0.7513 - val_loss: 0.8453 - val_acc: 0.5000\n",
      "Epoch 14/30\n",
      "25/25 [==============================] - 12s 473ms/step - loss: 0.5619 - acc: 0.7412 - val_loss: 0.8015 - val_acc: 0.5000\n",
      "Epoch 15/30\n",
      "25/25 [==============================] - 9s 358ms/step - loss: 0.5554 - acc: 0.7513 - val_loss: 0.8107 - val_acc: 0.5000\n",
      "Epoch 16/30\n",
      "25/25 [==============================] - 9s 350ms/step - loss: 0.5349 - acc: 0.7650 - val_loss: 0.9142 - val_acc: 0.5000\n",
      "Epoch 17/30\n",
      "25/25 [==============================] - 9s 363ms/step - loss: 0.5784 - acc: 0.7287 - val_loss: 0.7574 - val_acc: 0.5000\n",
      "Epoch 18/30\n",
      "25/25 [==============================] - 9s 362ms/step - loss: 0.5749 - acc: 0.7287 - val_loss: 0.8145 - val_acc: 0.5000\n",
      "Epoch 19/30\n",
      "25/25 [==============================] - 9s 353ms/step - loss: 0.5561 - acc: 0.7487 - val_loss: 0.7539 - val_acc: 0.5000\n",
      "Epoch 20/30\n",
      "25/25 [==============================] - 9s 367ms/step - loss: 0.5633 - acc: 0.7350 - val_loss: 0.8171 - val_acc: 0.5000\n",
      "Epoch 21/30\n",
      "25/25 [==============================] - 9s 357ms/step - loss: 0.5537 - acc: 0.7425 - val_loss: 0.8212 - val_acc: 0.5000\n",
      "Epoch 22/30\n",
      "25/25 [==============================] - 9s 371ms/step - loss: 0.5551 - acc: 0.7425 - val_loss: 0.8102 - val_acc: 0.5000\n",
      "Epoch 23/30\n",
      "25/25 [==============================] - 9s 350ms/step - loss: 0.5397 - acc: 0.7462 - val_loss: 0.8416 - val_acc: 0.5000\n",
      "Epoch 24/30\n",
      "25/25 [==============================] - 9s 370ms/step - loss: 0.5519 - acc: 0.7400 - val_loss: 0.6728 - val_acc: 0.5625\n",
      "Epoch 25/30\n",
      "25/25 [==============================] - 9s 358ms/step - loss: 0.5425 - acc: 0.7600 - val_loss: 0.7075 - val_acc: 0.5000\n",
      "Epoch 26/30\n",
      "25/25 [==============================] - 9s 362ms/step - loss: 0.5578 - acc: 0.7212 - val_loss: 0.8650 - val_acc: 0.5000\n",
      "Epoch 27/30\n",
      "25/25 [==============================] - 12s 477ms/step - loss: 0.5587 - acc: 0.7262 - val_loss: 0.7340 - val_acc: 0.5000\n",
      "Epoch 28/30\n",
      "25/25 [==============================] - 9s 358ms/step - loss: 0.5304 - acc: 0.7550 - val_loss: 0.7462 - val_acc: 0.5000\n",
      "Epoch 29/30\n",
      "25/25 [==============================] - 9s 361ms/step - loss: 0.5429 - acc: 0.7487 - val_loss: 0.7937 - val_acc: 0.5000\n",
      "Epoch 30/30\n",
      "25/25 [==============================] - 9s 358ms/step - loss: 0.5422 - acc: 0.7350 - val_loss: 0.7738 - val_acc: 0.5000\n"
     ]
    }
   ],
   "source": [
    "history_2 = model_2.fit_generator(train_generator_2, \n",
    "                                steps_per_epoch=25, \n",
    "                                epochs=30, \n",
    "                                validation_data=val_generator_2, \n",
    "                                validation_steps=25)"
   ]
  },
  {
   "cell_type": "code",
   "execution_count": 83,
   "metadata": {
    "scrolled": false
   },
   "outputs": [
    {
     "name": "stdout",
     "output_type": "stream",
     "text": [
      "Final epoch loss: 0.5422494590282441\n",
      "Final epoch accuracy: 0.735\n"
     ]
    },
    {
     "data": {
      "image/png": "[encoded data removed]",
      "text/plain": [
       "<Figure size 864x576 with 1 Axes>"
      ]
     },
     "metadata": {
      "needs_background": "light"
     },
     "output_type": "display_data"
    }
   ],
   "source": [
    "plot_history(history_2)"
   ]
  },
  {
   "cell_type": "code",
   "execution_count": 85,
   "metadata": {
    "scrolled": false
   },
   "outputs": [
    {
     "name": "stdout",
     "output_type": "stream",
     "text": [
      "20/20 [==============================] - 4s 221ms/step\n"
     ]
    }
   ],
   "source": [
    "results_test_2 = model_2.evaluate(test_generator_2)"
   ]
  },
  {
   "cell_type": "code",
   "execution_count": 94,
   "metadata": {},
   "outputs": [
    {
     "data": {
      "text/plain": [
       "[1.0270255345564623, 0.375]"
      ]
     },
     "execution_count": 94,
     "metadata": {},
     "output_type": "execute_result"
    }
   ],
   "source": [
    "results_test_2"
   ]
  },
  {
   "cell_type": "code",
   "execution_count": 93,
   "metadata": {},
   "outputs": [
    {
     "name": "stdout",
     "output_type": "stream",
     "text": [
      "624/624 [==============================] - 0s 133us/step\n"
     ]
    }
   ],
   "source": [
    "results_test_2 = model_2.evaluate(test_images, test_y)"
   ]
  },
  {
   "cell_type": "code",
   "execution_count": 36,
   "metadata": {
    "scrolled": true
   },
   "outputs": [
    {
     "data": {
      "image/png": "[encoded data removed]",
      "text/plain": [
       "<Figure size 576x360 with 1 Axes>"
      ]
     },
     "metadata": {
      "needs_background": "light"
     },
     "output_type": "display_data"
    }
   ],
   "source": [
    "fig = plt.figure(figsize=(8,5))\n",
    "ax = fig.gca()\n",
    "ax.scatter(range(1,31), history_2.history['acc'], label = 'Accuracy')\n",
    "ax.scatter(range(1,31), history_2.history['loss'], label = 'Loss')\n",
    "ax.legend();"
   ]
  },
  {
   "cell_type": "code",
   "execution_count": 37,
   "metadata": {},
   "outputs": [],
   "source": [
    "# one extra hidden layer, increasing the biggest convolution to 5x5\n",
    "model_3 = models.Sequential()\n",
    "model_3.add(layers.Conv2D(32, (3, 3), activation='relu',\n",
    "                        input_shape=(64 ,64,  3)))\n",
    "model_3.add(layers.MaxPooling2D((2, 2)))\n",
    "\n",
    "model_3.add(layers.Conv2D(32, (5, 5), activation='relu'))\n",
    "model_3.add(layers.MaxPooling2D((2, 2)))\n",
    "\n",
    "model_3.add(layers.Conv2D(64, (4, 4), activation='relu'))\n",
    "model_3.add(layers.MaxPooling2D((2, 2)))\n",
    "\n",
    "model_3.add(layers.Conv2D(64, (3, 3), activation='relu'))\n",
    "model_3.add(layers.MaxPooling2D((2, 2)))\n",
    "\n",
    "model_3.add(layers.Flatten())\n",
    "model_3.add(layers.Dense(64, activation='relu'))\n",
    "model_3.add(layers.Dense(1, activation='sigmoid'))\n",
    "\n",
    "model_3.compile(loss='binary_crossentropy',\n",
    "              optimizer= 'sgd',\n",
    "              metrics=['acc'])"
   ]
  },
  {
   "cell_type": "code",
   "execution_count": 38,
   "metadata": {
    "scrolled": true
   },
   "outputs": [
    {
     "name": "stdout",
     "output_type": "stream",
     "text": [
      "Epoch 1/30\n",
      "25/25 [==============================] - 12s 475ms/step - loss: 0.6348 - acc: 0.7700 - val_loss: 0.7330 - val_acc: 0.5000\n",
      "Epoch 2/30\n",
      "25/25 [==============================] - 9s 362ms/step - loss: 0.6089 - acc: 0.7138 - val_loss: 0.7790 - val_acc: 0.5000\n",
      "Epoch 3/30\n",
      "25/25 [==============================] - 9s 341ms/step - loss: 0.5739 - acc: 0.7437 - val_loss: 0.8380 - val_acc: 0.5000\n",
      "Epoch 4/30\n",
      "25/25 [==============================] - 9s 358ms/step - loss: 0.5937 - acc: 0.7237 - val_loss: 0.8055 - val_acc: 0.5000\n",
      "Epoch 5/30\n",
      "25/25 [==============================] - 9s 358ms/step - loss: 0.5526 - acc: 0.7625 - val_loss: 0.8363 - val_acc: 0.5000\n",
      "Epoch 6/30\n",
      "25/25 [==============================] - 9s 350ms/step - loss: 0.5868 - acc: 0.7287 - val_loss: 0.8396 - val_acc: 0.5000\n",
      "Epoch 7/30\n",
      "25/25 [==============================] - 9s 361ms/step - loss: 0.5512 - acc: 0.7613 - val_loss: 0.8297 - val_acc: 0.5000\n",
      "Epoch 8/30\n",
      "25/25 [==============================] - 9s 350ms/step - loss: 0.5793 - acc: 0.7350 - val_loss: 0.8107 - val_acc: 0.5000\n",
      "Epoch 9/30\n",
      "25/25 [==============================] - 9s 354ms/step - loss: 0.5937 - acc: 0.7225 - val_loss: 0.8001 - val_acc: 0.5000\n",
      "Epoch 10/30\n",
      "25/25 [==============================] - 9s 349ms/step - loss: 0.5670 - acc: 0.7462 - val_loss: 0.8272 - val_acc: 0.5000\n",
      "Epoch 11/30\n",
      "25/25 [==============================] - 9s 350ms/step - loss: 0.5455 - acc: 0.7663 - val_loss: 0.8701 - val_acc: 0.5000\n",
      "Epoch 12/30\n",
      "25/25 [==============================] - 9s 358ms/step - loss: 0.5582 - acc: 0.7525 - val_loss: 0.8310 - val_acc: 0.5000\n",
      "Epoch 13/30\n",
      "25/25 [==============================] - 9s 354ms/step - loss: 0.5851 - acc: 0.7262 - val_loss: 0.7981 - val_acc: 0.5000\n",
      "Epoch 14/30\n",
      "25/25 [==============================] - 11s 450ms/step - loss: 0.5281 - acc: 0.7825 - val_loss: 0.8820 - val_acc: 0.5000\n",
      "Epoch 15/30\n",
      "25/25 [==============================] - 9s 358ms/step - loss: 0.5794 - acc: 0.7300 - val_loss: 0.7903 - val_acc: 0.5000\n",
      "Epoch 16/30\n",
      "25/25 [==============================] - 9s 350ms/step - loss: 0.5589 - acc: 0.7525 - val_loss: 0.8544 - val_acc: 0.5000\n",
      "Epoch 17/30\n",
      "25/25 [==============================] - 9s 358ms/step - loss: 0.5813 - acc: 0.7300 - val_loss: 0.8054 - val_acc: 0.5000\n",
      "Epoch 18/30\n",
      "25/25 [==============================] - 9s 354ms/step - loss: 0.5602 - acc: 0.7500 - val_loss: 0.7925 - val_acc: 0.5000\n",
      "Epoch 19/30\n",
      "25/25 [==============================] - 9s 357ms/step - loss: 0.5932 - acc: 0.7150 - val_loss: 0.7985 - val_acc: 0.5000\n",
      "Epoch 20/30\n",
      "25/25 [==============================] - 9s 362ms/step - loss: 0.5700 - acc: 0.7387 - val_loss: 0.8002 - val_acc: 0.5000\n",
      "Epoch 21/30\n",
      "25/25 [==============================] - 9s 349ms/step - loss: 0.5869 - acc: 0.7200 - val_loss: 0.8141 - val_acc: 0.5000\n",
      "Epoch 22/30\n",
      "25/25 [==============================] - 9s 354ms/step - loss: 0.5369 - acc: 0.7675 - val_loss: 0.8333 - val_acc: 0.5000\n",
      "Epoch 23/30\n",
      "25/25 [==============================] - 9s 350ms/step - loss: 0.5601 - acc: 0.7513 - val_loss: 0.8564 - val_acc: 0.5000\n",
      "Epoch 24/30\n",
      "25/25 [==============================] - 9s 346ms/step - loss: 0.5910 - acc: 0.7175 - val_loss: 0.8630 - val_acc: 0.5000\n",
      "Epoch 25/30\n",
      "25/25 [==============================] - 9s 349ms/step - loss: 0.5440 - acc: 0.7613 - val_loss: 0.8592 - val_acc: 0.5000\n",
      "Epoch 26/30\n",
      "25/25 [==============================] - 9s 346ms/step - loss: 0.5589 - acc: 0.7475 - val_loss: 0.8561 - val_acc: 0.5000\n",
      "Epoch 27/30\n",
      "25/25 [==============================] - 11s 458ms/step - loss: 0.5651 - acc: 0.7375 - val_loss: 0.8336 - val_acc: 0.5000\n",
      "Epoch 28/30\n",
      "25/25 [==============================] - 9s 354ms/step - loss: 0.5701 - acc: 0.7325 - val_loss: 0.7873 - val_acc: 0.5000\n",
      "Epoch 29/30\n",
      "25/25 [==============================] - 9s 361ms/step - loss: 0.5782 - acc: 0.7262 - val_loss: 0.7768 - val_acc: 0.5000\n",
      "Epoch 30/30\n",
      "25/25 [==============================] - 9s 354ms/step - loss: 0.5651 - acc: 0.7400 - val_loss: 0.8272 - val_acc: 0.5000\n"
     ]
    }
   ],
   "source": [
    "history_3 = model_3.fit_generator(train_generator, \n",
    "                                steps_per_epoch=25, \n",
    "                                epochs=30, \n",
    "                                validation_data=val_generator, \n",
    "                                validation_steps=25)"
   ]
  },
  {
   "cell_type": "code",
   "execution_count": 39,
   "metadata": {},
   "outputs": [
    {
     "data": {
      "image/png": "[encoded data removed]",
      "text/plain": [
       "<Figure size 576x360 with 1 Axes>"
      ]
     },
     "metadata": {
      "needs_background": "light"
     },
     "output_type": "display_data"
    }
   ],
   "source": [
    "fig = plt.figure(figsize=(8,5))\n",
    "ax = fig.gca()\n",
    "ax.scatter(range(1,31), history_3.history['acc'], label = 'Accuracy')\n",
    "ax.scatter(range(1,31), history_3.history['loss'], label = 'Loss')\n",
    "ax.legend();"
   ]
  },
  {
   "cell_type": "code",
   "execution_count": 43,
   "metadata": {
    "scrolled": true
   },
   "outputs": [
    {
     "data": {
      "text/plain": [
       "0.74"
      ]
     },
     "execution_count": 43,
     "metadata": {},
     "output_type": "execute_result"
    }
   ],
   "source": [
    "history_3.history['acc'][29]"
   ]
  },
  {
   "cell_type": "code",
   "execution_count": 44,
   "metadata": {},
   "outputs": [
    {
     "data": {
      "text/plain": [
       "0.745"
      ]
     },
     "execution_count": 44,
     "metadata": {},
     "output_type": "execute_result"
    }
   ],
   "source": [
    "history_2.history['acc'][29]"
   ]
  },
  {
   "cell_type": "code",
   "execution_count": 48,
   "metadata": {},
   "outputs": [
    {
     "data": {
      "text/plain": [
       "0.745"
      ]
     },
     "execution_count": 48,
     "metadata": {},
     "output_type": "execute_result"
    }
   ],
   "source": [
    "history_2.history['acc'][-1]"
   ]
  },
  {
   "cell_type": "code",
   "execution_count": 47,
   "metadata": {
    "scrolled": true
   },
   "outputs": [
    {
     "data": {
      "text/plain": [
       "[0.8393405,\n",
       " 0.87097394,\n",
       " 0.8934049,\n",
       " 0.9118098,\n",
       " 0.91890335,\n",
       " 0.92197084,\n",
       " 0.9302147,\n",
       " 0.9350077,\n",
       " 0.9355828,\n",
       " 0.9407592,\n",
       " 0.9422929,\n",
       " 0.9459356,\n",
       " 0.9467025,\n",
       " 0.94823617,\n",
       " 0.94996166,\n",
       " 0.9522623,\n",
       " 0.953796,\n",
       " 0.9557132,\n",
       " 0.9559049,\n",
       " 0.9608896,\n",
       " 0.9578221,\n",
       " 0.9622316,\n",
       " 0.9631902,\n",
       " 0.96491563,\n",
       " 0.9651074,\n",
       " 0.9664494,\n",
       " 0.9666411,\n",
       " 0.9662577,\n",
       " 0.9695169,\n",
       " 0.9685583]"
      ]
     },
     "execution_count": 47,
     "metadata": {},
     "output_type": "execute_result"
    }
   ],
   "source": [
    "history.history['acc']"
   ]
  },
  {
   "cell_type": "code",
   "execution_count": 58,
   "metadata": {},
   "outputs": [
    {
     "data": {
      "text/plain": [
       "30"
      ]
     },
     "execution_count": 58,
     "metadata": {},
     "output_type": "execute_result"
    }
   ],
   "source": [
    "len(history_3.history['acc'])"
   ]
  },
  {
   "cell_type": "code",
   "execution_count": 16,
   "metadata": {},
   "outputs": [],
   "source": [
    "def plot_history(history):\n",
    "    fig = plt.figure(figsize=(12,8))\n",
    "    ax = fig.gca()\n",
    "    ax.scatter(range(1,len(history.history['acc']) + 1), history.history['acc'], label = 'Accuracy')\n",
    "    ax.scatter(range(1,len(history.history['loss']) + 1), history.history['loss'], label = 'Loss')\n",
    "    ax.legend()\n",
    "    ax.set_xlabel('Epoch')\n",
    "    ax.set_ylabel('Percentage');\n",
    "    print('Final epoch loss:', history.history['loss'][-1])\n",
    "    print('Final epoch accuracy:', history.history['acc'][-1])\n"
   ]
  },
  {
   "cell_type": "code",
   "execution_count": 62,
   "metadata": {
    "scrolled": true
   },
   "outputs": [
    {
     "name": "stdout",
     "output_type": "stream",
     "text": [
      "Final epoch loss: 0.5650657665729523\n",
      "Final epoch accuracy: 0.74\n"
     ]
    },
    {
     "data": {
      "image/png": "[encoded data removed]",
      "text/plain": [
       "<Figure size 864x576 with 1 Axes>"
      ]
     },
     "metadata": {
      "needs_background": "light"
     },
     "output_type": "display_data"
    }
   ],
   "source": [
    "plot_history(history_3)"
   ]
  },
  {
   "cell_type": "code",
   "execution_count": 98,
   "metadata": {
    "scrolled": true
   },
   "outputs": [
    {
     "name": "stdout",
     "output_type": "stream",
     "text": [
      "624/624 [==============================] - 0s 132us/step\n"
     ]
    }
   ],
   "source": [
    "results_test_3 = model_3.evaluate(test_images, test_y)"
   ]
  },
  {
   "cell_type": "code",
   "execution_count": 99,
   "metadata": {},
   "outputs": [
    {
     "data": {
      "text/plain": [
       "[0.9876789496495173, 0.375]"
      ]
     },
     "execution_count": 99,
     "metadata": {},
     "output_type": "execute_result"
    }
   ],
   "source": [
    "results_test_3"
   ]
  },
  {
   "cell_type": "code",
   "execution_count": 77,
   "metadata": {},
   "outputs": [
    {
     "name": "stdout",
     "output_type": "stream",
     "text": [
      "624/624 [==============================] - 0s 135us/step\n",
      "Loss: 0.9876789496495173\n",
      "Accuracy: 0.375\n"
     ]
    }
   ],
   "source": [
    "evaluate_test(model_3, test_images, test_y)"
   ]
  },
  {
   "cell_type": "code",
   "execution_count": null,
   "metadata": {},
   "outputs": [],
   "source": []
  }
 ],
 "metadata": {
  "kernelspec": {
   "display_name": "Python 3",
   "language": "python",
   "name": "python3"
  },
  "language_info": {
   "codemirror_mode": {
    "name": "ipython",
    "version": 3
   },
   "file_extension": ".py",
   "mimetype": "text/x-python",
   "name": "python",
   "nbconvert_exporter": "python",
   "pygments_lexer": "ipython3",
   "version": "3.7.4"
  }
 },
 "nbformat": 4,
 "nbformat_minor": 4
}
